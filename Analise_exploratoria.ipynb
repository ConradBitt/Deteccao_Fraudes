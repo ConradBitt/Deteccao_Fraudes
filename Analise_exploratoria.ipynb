{
 "cells": [
  {
   "cell_type": "markdown",
   "id": "7955c665-f576-4318-a859-685cb9e4e06b",
   "metadata": {},
   "source": [
    "# Introdução\n",
    "\n",
    "Bom no notebook [Análise Exploratória](https://github.com/ConradBitt/Deteccao_Fraudes/blob/master/Analise_Exploratoria.ipynb) realizamos uma análise exploratória e alguns pré processamentos nos dados, a fim de identificar a região de cada IP em cada transação financeira. Com certeza esse passo foi importante para uma análise mais descritiva e categórica, entretanto não é o único. Agora vamos aos próximos passos, dado que temos dados de transações e seus países vamos definir algumas hipótesesa para serem testadas."
   ]
  },
  {
   "cell_type": "code",
   "execution_count": 1,
   "id": "0de4a559-9415-41cc-bcf6-6b510f98141d",
   "metadata": {},
   "outputs": [],
   "source": [
    "import numpy as np \n",
    "import pandas as pd \n",
    "import seaborn as sns \n",
    "import matplotlib as mpl\n",
    "import scipy \n",
    "import itertools\n",
    "import datetime\n",
    "\n",
    "\n",
    "from matplotlib import pyplot as plt\n",
    "from scipy import special\n",
    "from datetime import timedelta"
   ]
  },
  {
   "cell_type": "code",
   "execution_count": 2,
   "id": "fc5b8738-f5bf-41c8-912a-736c55a59bab",
   "metadata": {},
   "outputs": [
    {
     "name": "stdout",
     "output_type": "stream",
     "text": [
      "~~ Versão Python ~~\n",
      "Python 3.7.9\n",
      "\n",
      "\n",
      "~~ Versões Módulos ~~\n",
      "numpy: 1.20.1\n",
      "pandas: 1.2.4\n",
      "seaborn: 0.11.1\n",
      "matplotlib: 3.3.4\n",
      "scipy: 1.6.2\n"
     ]
    }
   ],
   "source": [
    "print('~~ Versão Python ~~')\n",
    "!python --version\n",
    "\n",
    "print('\\n\\n~~ Versões Módulos ~~')\n",
    "\n",
    "print(f'numpy: {np.__version__}')\n",
    "print(f'pandas: {pd.__version__}')\n",
    "print(f'seaborn: {sns.__version__}')\n",
    "print(f'matplotlib: {mpl.__version__}')\n",
    "print(f'scipy: {scipy.__version__}')"
   ]
  },
  {
   "cell_type": "code",
   "execution_count": 3,
   "id": "4595d896-7917-41c3-927e-613e3b1761a0",
   "metadata": {},
   "outputs": [],
   "source": [
    "plt.style.use('bmh')\n",
    "sns.set_context('talk')"
   ]
  },
  {
   "cell_type": "markdown",
   "id": "1c6eeb45-300d-4091-8738-15ca9088e00e",
   "metadata": {},
   "source": [
    "# Importando os dados"
   ]
  },
  {
   "cell_type": "code",
   "execution_count": 4,
   "id": "2f036fb2-7429-448e-b2d5-44ecace9eb40",
   "metadata": {},
   "outputs": [],
   "source": [
    "transacoes = pd.read_csv('./dados/Transacoes_Fraudes.csv', header = 0)"
   ]
  },
  {
   "cell_type": "code",
   "execution_count": 5,
   "id": "a8e49c8f-6e4e-4d44-9dac-05410100580a",
   "metadata": {},
   "outputs": [
    {
     "data": {
      "text/html": [
       "<div>\n",
       "<style scoped>\n",
       "    .dataframe tbody tr th:only-of-type {\n",
       "        vertical-align: middle;\n",
       "    }\n",
       "\n",
       "    .dataframe tbody tr th {\n",
       "        vertical-align: top;\n",
       "    }\n",
       "\n",
       "    .dataframe thead th {\n",
       "        text-align: right;\n",
       "    }\n",
       "</style>\n",
       "<table border=\"1\" class=\"dataframe\">\n",
       "  <thead>\n",
       "    <tr style=\"text-align: right;\">\n",
       "      <th></th>\n",
       "      <th>id</th>\n",
       "      <th>cadastro</th>\n",
       "      <th>compra</th>\n",
       "      <th>valor</th>\n",
       "      <th>id_dispositivo</th>\n",
       "      <th>fonte</th>\n",
       "      <th>browser</th>\n",
       "      <th>genero</th>\n",
       "      <th>idade</th>\n",
       "      <th>ip</th>\n",
       "      <th>fraude</th>\n",
       "      <th>pais</th>\n",
       "    </tr>\n",
       "  </thead>\n",
       "  <tbody>\n",
       "    <tr>\n",
       "      <th>0</th>\n",
       "      <td>22058</td>\n",
       "      <td>2015-02-24 22:55:49</td>\n",
       "      <td>2015-04-18 02:47:11</td>\n",
       "      <td>34</td>\n",
       "      <td>QVPSPJUOCKZAR</td>\n",
       "      <td>SEO</td>\n",
       "      <td>Chrome</td>\n",
       "      <td>M</td>\n",
       "      <td>39</td>\n",
       "      <td>7.327584e+08</td>\n",
       "      <td>0</td>\n",
       "      <td>Japan</td>\n",
       "    </tr>\n",
       "    <tr>\n",
       "      <th>1</th>\n",
       "      <td>333320</td>\n",
       "      <td>2015-06-07 20:39:50</td>\n",
       "      <td>2015-06-08 01:38:54</td>\n",
       "      <td>16</td>\n",
       "      <td>EOGFQPIZPYXFZ</td>\n",
       "      <td>Ads</td>\n",
       "      <td>Chrome</td>\n",
       "      <td>F</td>\n",
       "      <td>53</td>\n",
       "      <td>3.503114e+08</td>\n",
       "      <td>0</td>\n",
       "      <td>United States</td>\n",
       "    </tr>\n",
       "    <tr>\n",
       "      <th>2</th>\n",
       "      <td>1359</td>\n",
       "      <td>2015-01-01 18:52:44</td>\n",
       "      <td>2015-01-01 18:52:45</td>\n",
       "      <td>15</td>\n",
       "      <td>YSSKYOSJHPPLJ</td>\n",
       "      <td>SEO</td>\n",
       "      <td>Opera</td>\n",
       "      <td>M</td>\n",
       "      <td>53</td>\n",
       "      <td>2.621474e+09</td>\n",
       "      <td>1</td>\n",
       "      <td>United States</td>\n",
       "    </tr>\n",
       "    <tr>\n",
       "      <th>3</th>\n",
       "      <td>150084</td>\n",
       "      <td>2015-04-28 21:13:25</td>\n",
       "      <td>2015-05-04 13:54:50</td>\n",
       "      <td>44</td>\n",
       "      <td>ATGTXKYKUDUQN</td>\n",
       "      <td>SEO</td>\n",
       "      <td>Safari</td>\n",
       "      <td>M</td>\n",
       "      <td>41</td>\n",
       "      <td>3.840542e+09</td>\n",
       "      <td>0</td>\n",
       "      <td>missing_country</td>\n",
       "    </tr>\n",
       "    <tr>\n",
       "      <th>4</th>\n",
       "      <td>221365</td>\n",
       "      <td>2015-07-21 07:09:52</td>\n",
       "      <td>2015-09-09 18:40:53</td>\n",
       "      <td>39</td>\n",
       "      <td>NAUITBZFJKHWW</td>\n",
       "      <td>Ads</td>\n",
       "      <td>Safari</td>\n",
       "      <td>M</td>\n",
       "      <td>45</td>\n",
       "      <td>4.155831e+08</td>\n",
       "      <td>0</td>\n",
       "      <td>United States</td>\n",
       "    </tr>\n",
       "    <tr>\n",
       "      <th>5</th>\n",
       "      <td>159135</td>\n",
       "      <td>2015-05-21 06:03:03</td>\n",
       "      <td>2015-07-09 08:05:14</td>\n",
       "      <td>42</td>\n",
       "      <td>ALEYXFXINSXLZ</td>\n",
       "      <td>Ads</td>\n",
       "      <td>Chrome</td>\n",
       "      <td>M</td>\n",
       "      <td>18</td>\n",
       "      <td>2.809315e+09</td>\n",
       "      <td>0</td>\n",
       "      <td>Canada</td>\n",
       "    </tr>\n",
       "    <tr>\n",
       "      <th>6</th>\n",
       "      <td>50116</td>\n",
       "      <td>2015-08-01 22:40:52</td>\n",
       "      <td>2015-08-27 03:37:57</td>\n",
       "      <td>11</td>\n",
       "      <td>IWKVZHJOCLPUR</td>\n",
       "      <td>Ads</td>\n",
       "      <td>Chrome</td>\n",
       "      <td>F</td>\n",
       "      <td>19</td>\n",
       "      <td>3.987484e+09</td>\n",
       "      <td>0</td>\n",
       "      <td>missing_country</td>\n",
       "    </tr>\n",
       "    <tr>\n",
       "      <th>7</th>\n",
       "      <td>360585</td>\n",
       "      <td>2015-04-06 07:35:45</td>\n",
       "      <td>2015-05-25 17:21:14</td>\n",
       "      <td>27</td>\n",
       "      <td>HPUCUYLMJBYFW</td>\n",
       "      <td>Ads</td>\n",
       "      <td>Opera</td>\n",
       "      <td>M</td>\n",
       "      <td>34</td>\n",
       "      <td>1.692459e+09</td>\n",
       "      <td>0</td>\n",
       "      <td>United States</td>\n",
       "    </tr>\n",
       "    <tr>\n",
       "      <th>8</th>\n",
       "      <td>159045</td>\n",
       "      <td>2015-04-21 23:38:34</td>\n",
       "      <td>2015-06-02 14:01:54</td>\n",
       "      <td>30</td>\n",
       "      <td>ILXYDOZIHOOHT</td>\n",
       "      <td>SEO</td>\n",
       "      <td>IE</td>\n",
       "      <td>F</td>\n",
       "      <td>43</td>\n",
       "      <td>3.719094e+09</td>\n",
       "      <td>0</td>\n",
       "      <td>China</td>\n",
       "    </tr>\n",
       "    <tr>\n",
       "      <th>9</th>\n",
       "      <td>182338</td>\n",
       "      <td>2015-01-25 17:49:49</td>\n",
       "      <td>2015-03-23 23:05:42</td>\n",
       "      <td>62</td>\n",
       "      <td>NRFFPPHZYFUVC</td>\n",
       "      <td>Ads</td>\n",
       "      <td>IE</td>\n",
       "      <td>M</td>\n",
       "      <td>31</td>\n",
       "      <td>3.416747e+08</td>\n",
       "      <td>0</td>\n",
       "      <td>United States</td>\n",
       "    </tr>\n",
       "  </tbody>\n",
       "</table>\n",
       "</div>"
      ],
      "text/plain": [
       "       id             cadastro               compra  valor id_dispositivo  \\\n",
       "0   22058  2015-02-24 22:55:49  2015-04-18 02:47:11     34  QVPSPJUOCKZAR   \n",
       "1  333320  2015-06-07 20:39:50  2015-06-08 01:38:54     16  EOGFQPIZPYXFZ   \n",
       "2    1359  2015-01-01 18:52:44  2015-01-01 18:52:45     15  YSSKYOSJHPPLJ   \n",
       "3  150084  2015-04-28 21:13:25  2015-05-04 13:54:50     44  ATGTXKYKUDUQN   \n",
       "4  221365  2015-07-21 07:09:52  2015-09-09 18:40:53     39  NAUITBZFJKHWW   \n",
       "5  159135  2015-05-21 06:03:03  2015-07-09 08:05:14     42  ALEYXFXINSXLZ   \n",
       "6   50116  2015-08-01 22:40:52  2015-08-27 03:37:57     11  IWKVZHJOCLPUR   \n",
       "7  360585  2015-04-06 07:35:45  2015-05-25 17:21:14     27  HPUCUYLMJBYFW   \n",
       "8  159045  2015-04-21 23:38:34  2015-06-02 14:01:54     30  ILXYDOZIHOOHT   \n",
       "9  182338  2015-01-25 17:49:49  2015-03-23 23:05:42     62  NRFFPPHZYFUVC   \n",
       "\n",
       "  fonte browser genero  idade            ip  fraude             pais  \n",
       "0   SEO  Chrome      M     39  7.327584e+08       0            Japan  \n",
       "1   Ads  Chrome      F     53  3.503114e+08       0    United States  \n",
       "2   SEO   Opera      M     53  2.621474e+09       1    United States  \n",
       "3   SEO  Safari      M     41  3.840542e+09       0  missing_country  \n",
       "4   Ads  Safari      M     45  4.155831e+08       0    United States  \n",
       "5   Ads  Chrome      M     18  2.809315e+09       0           Canada  \n",
       "6   Ads  Chrome      F     19  3.987484e+09       0  missing_country  \n",
       "7   Ads   Opera      M     34  1.692459e+09       0    United States  \n",
       "8   SEO      IE      F     43  3.719094e+09       0            China  \n",
       "9   Ads      IE      M     31  3.416747e+08       0    United States  "
      ]
     },
     "execution_count": 5,
     "metadata": {},
     "output_type": "execute_result"
    }
   ],
   "source": [
    "transacoes.head(10)"
   ]
  },
  {
   "cell_type": "markdown",
   "id": "e9477b7c-33ed-41fd-9654-ce0e96447b97",
   "metadata": {},
   "source": [
    "# Análise exploratória"
   ]
  },
  {
   "cell_type": "markdown",
   "id": "0192ebe8-7fa2-4c27-8a17-65535e26e580",
   "metadata": {},
   "source": [
    "Podemos verificar que as variáveis são:"
   ]
  },
  {
   "cell_type": "code",
   "execution_count": 6,
   "id": "babb7507-987f-4433-bd53-3d8d7b0878e4",
   "metadata": {},
   "outputs": [
    {
     "data": {
      "text/plain": [
       "Index(['id', 'cadastro', 'compra', 'valor', 'id_dispositivo', 'fonte',\n",
       "       'browser', 'genero', 'idade', 'ip', 'fraude', 'pais'],\n",
       "      dtype='object')"
      ]
     },
     "execution_count": 6,
     "metadata": {},
     "output_type": "execute_result"
    }
   ],
   "source": [
    "transacoes.columns"
   ]
  },
  {
   "cell_type": "markdown",
   "id": "2b692a8b-4776-4297-8fa9-34c765710289",
   "metadata": {},
   "source": [
    "Um ponto importante é que temos uma variável chamada `id`, que provavelmente é um identificador. Outras delas são qualitativas, oustras quantitativas, existem até variáveis pessoais como por exemplo `sexo` e `idade`. Então tendo em vista esses dados, vou analisar algumas caracteristicas de cada uma dessas variáveis.\n"
   ]
  },
  {
   "cell_type": "markdown",
   "id": "6154688d-51ab-4831-a21c-4ff8d81bc81c",
   "metadata": {},
   "source": [
    "## Mudando tipo do da variavel cadastro"
   ]
  },
  {
   "cell_type": "code",
   "execution_count": 7,
   "id": "606eb948-e5eb-47f4-bcac-ddf59b17a172",
   "metadata": {},
   "outputs": [
    {
     "name": "stdout",
     "output_type": "stream",
     "text": [
      "<class 'pandas.core.frame.DataFrame'>\n",
      "RangeIndex: 151112 entries, 0 to 151111\n",
      "Data columns (total 12 columns):\n",
      " #   Column          Non-Null Count   Dtype         \n",
      "---  ------          --------------   -----         \n",
      " 0   id              151112 non-null  int64         \n",
      " 1   cadastro        151112 non-null  datetime64[ns]\n",
      " 2   compra          151112 non-null  object        \n",
      " 3   valor           151112 non-null  int64         \n",
      " 4   id_dispositivo  151112 non-null  object        \n",
      " 5   fonte           151112 non-null  object        \n",
      " 6   browser         151112 non-null  object        \n",
      " 7   genero          151112 non-null  object        \n",
      " 8   idade           151112 non-null  int64         \n",
      " 9   ip              151112 non-null  float64       \n",
      " 10  fraude          151112 non-null  int64         \n",
      " 11  pais            151112 non-null  object        \n",
      "dtypes: datetime64[ns](1), float64(1), int64(4), object(6)\n",
      "memory usage: 13.8+ MB\n"
     ]
    }
   ],
   "source": [
    "transacoes.cadastro = pd.to_datetime(transacoes.cadastro)\n",
    "transacoes.info()"
   ]
  },
  {
   "cell_type": "markdown",
   "id": "9e5263c2-a7da-4ed8-a324-d9f29fa80f36",
   "metadata": {},
   "source": [
    "## Mudando tipo do da variavel compra"
   ]
  },
  {
   "cell_type": "code",
   "execution_count": 8,
   "id": "913518a9-f4c5-47fa-b36c-0dbf455fbc05",
   "metadata": {},
   "outputs": [
    {
     "name": "stdout",
     "output_type": "stream",
     "text": [
      "<class 'pandas.core.frame.DataFrame'>\n",
      "RangeIndex: 151112 entries, 0 to 151111\n",
      "Data columns (total 12 columns):\n",
      " #   Column          Non-Null Count   Dtype         \n",
      "---  ------          --------------   -----         \n",
      " 0   id              151112 non-null  int64         \n",
      " 1   cadastro        151112 non-null  datetime64[ns]\n",
      " 2   compra          151112 non-null  datetime64[ns]\n",
      " 3   valor           151112 non-null  int64         \n",
      " 4   id_dispositivo  151112 non-null  object        \n",
      " 5   fonte           151112 non-null  object        \n",
      " 6   browser         151112 non-null  object        \n",
      " 7   genero          151112 non-null  object        \n",
      " 8   idade           151112 non-null  int64         \n",
      " 9   ip              151112 non-null  float64       \n",
      " 10  fraude          151112 non-null  int64         \n",
      " 11  pais            151112 non-null  object        \n",
      "dtypes: datetime64[ns](2), float64(1), int64(4), object(5)\n",
      "memory usage: 13.8+ MB\n"
     ]
    }
   ],
   "source": [
    "transacoes.compra = pd.to_datetime(transacoes.compra)\n",
    "transacoes.info()"
   ]
  },
  {
   "cell_type": "markdown",
   "id": "870ae747-4663-4b87-ac88-62146d495f11",
   "metadata": {},
   "source": [
    "## Analisando valores das transações\n",
    "\n",
    "### Distribuição dos valores "
   ]
  },
  {
   "cell_type": "code",
   "execution_count": 9,
   "id": "64a483df-e62b-4f61-b609-98973ee30784",
   "metadata": {},
   "outputs": [
    {
     "data": {
      "image/png": "[encoded data removed]",
      "text/plain": [
       "<Figure size 720x432 with 1 Axes>"
      ]
     },
     "metadata": {
      "needs_background": "light"
     },
     "output_type": "display_data"
    }
   ],
   "source": [
    "plt.figure(figsize=(10,6))\n",
    "plt.title('Distribuição dos valores das transações', fontsize=20, pad=20)\n",
    "ax = sns.histplot(x = 'valor', data=transacoes, kde=True);"
   ]
  },
  {
   "cell_type": "markdown",
   "id": "4e9f088e-6cc1-4c4b-a04c-dc16aebe6d5a",
   "metadata": {},
   "source": [
    "> É possível verificar que a distribuição dos valores gastos não é uma distribuição conhecida."
   ]
  },
  {
   "cell_type": "markdown",
   "id": "b698608f-7a3d-47ae-a648-9bb68633c4b8",
   "metadata": {},
   "source": [
    "### Distribuição dos valores por fraude"
   ]
  },
  {
   "cell_type": "code",
   "execution_count": 10,
   "id": "1f5bb91b-a801-4da3-80a6-d8f29b111bb1",
   "metadata": {},
   "outputs": [
    {
     "data": {
      "image/png": "[encoded data removed]",
      "text/plain": [
       "<Figure size 720x432 with 1 Axes>"
      ]
     },
     "metadata": {
      "needs_background": "light"
     },
     "output_type": "display_data"
    }
   ],
   "source": [
    "plt.figure(figsize=(10,6))\n",
    "plt.title('Distribuição dos valores das transações', fontsize=20, pad=20)\n",
    "ax = sns.histplot(x = 'valor', hue='fraude', data=transacoes, kde=True);"
   ]
  },
  {
   "cell_type": "markdown",
   "id": "95e7e95e-60bf-4fc8-a494-c3e62961196d",
   "metadata": {},
   "source": [
    "> Note que a proporção de fraudes perante perante a quantidade de transações reais é muito menor."
   ]
  },
  {
   "cell_type": "code",
   "execution_count": 11,
   "id": "5e981cd4-474b-4267-a1ef-285fb4b60a5e",
   "metadata": {},
   "outputs": [
    {
     "data": {
      "image/png": "[encoded data removed]",
      "text/plain": [
       "<Figure size 576x360 with 1 Axes>"
      ]
     },
     "metadata": {
      "needs_background": "light"
     },
     "output_type": "display_data"
    }
   ],
   "source": [
    "plt.figure(figsize=(8,5))\n",
    "plt.title('Comparação entre valor médio de compra', fontsize=20, pad=20)\n",
    "ax = sns.pointplot(x='fraude', y='valor', data=transacoes)\n",
    "plt.ylabel('Mediana das transações')\n",
    "plt.xlabel('')\n",
    "\n",
    "ax.set_xticklabels(['Não fraude', 'Fraude'])\n",
    "ax.grid()\n",
    "ax;"
   ]
  },
  {
   "cell_type": "markdown",
   "id": "f35dba89-7677-460f-8251-180b70bc424e",
   "metadata": {},
   "source": [
    "> Note que a dispersão dos valores de transações fraudulentas são muito maiores do que a dispersão das transações reais, entretanto a mediano dos valores de compra das transações é relativamente proximo, não varia nem R$0,10."
   ]
  },
  {
   "cell_type": "markdown",
   "id": "064b8d2b-0e42-4914-88f1-df9a9b57b94b",
   "metadata": {},
   "source": [
    "## Histograma da variável `fonte`"
   ]
  },
  {
   "cell_type": "code",
   "execution_count": 12,
   "id": "29db21ff-4372-490a-a7cb-c9eb6cc6206d",
   "metadata": {},
   "outputs": [
    {
     "data": {
      "image/png": "[encoded data removed]",
      "text/plain": [
       "<Figure size 576x360 with 1 Axes>"
      ]
     },
     "metadata": {
      "needs_background": "light"
     },
     "output_type": "display_data"
    },
    {
     "name": "stdout",
     "output_type": "stream",
     "text": [
      "Tabela cruzada Fraude de\n",
      "acordo com fonte da transação (%)\n",
      "\n"
     ]
    },
    {
     "data": {
      "text/html": [
       "<div>\n",
       "<style scoped>\n",
       "    .dataframe tbody tr th:only-of-type {\n",
       "        vertical-align: middle;\n",
       "    }\n",
       "\n",
       "    .dataframe tbody tr th {\n",
       "        vertical-align: top;\n",
       "    }\n",
       "\n",
       "    .dataframe thead th {\n",
       "        text-align: right;\n",
       "    }\n",
       "</style>\n",
       "<table border=\"1\" class=\"dataframe\">\n",
       "  <thead>\n",
       "    <tr style=\"text-align: right;\">\n",
       "      <th>fonte</th>\n",
       "      <th>Ads</th>\n",
       "      <th>Direct</th>\n",
       "      <th>SEO</th>\n",
       "    </tr>\n",
       "    <tr>\n",
       "      <th>fraude</th>\n",
       "      <th></th>\n",
       "      <th></th>\n",
       "      <th></th>\n",
       "    </tr>\n",
       "  </thead>\n",
       "  <tbody>\n",
       "    <tr>\n",
       "      <th>0</th>\n",
       "      <td>90.79</td>\n",
       "      <td>89.46</td>\n",
       "      <td>91.07</td>\n",
       "    </tr>\n",
       "    <tr>\n",
       "      <th>1</th>\n",
       "      <td>9.21</td>\n",
       "      <td>10.54</td>\n",
       "      <td>8.93</td>\n",
       "    </tr>\n",
       "  </tbody>\n",
       "</table>\n",
       "</div>"
      ],
      "text/plain": [
       "fonte     Ads  Direct    SEO\n",
       "fraude                      \n",
       "0       90.79   89.46  91.07\n",
       "1        9.21   10.54   8.93"
      ]
     },
     "metadata": {},
     "output_type": "display_data"
    },
    {
     "name": "stdout",
     "output_type": "stream",
     "text": [
      "*Normalizado pela fonte.\n",
      "\n"
     ]
    }
   ],
   "source": [
    "plt.figure(figsize=(8,5))\n",
    "plt.title('Fonte da transação', fontsize=20, pad=20)\n",
    "ax = sns.countplot(y='fonte', hue='fraude', data=transacoes)\n",
    "ax.set_ylabel('Fonte')\n",
    "ax.set_xlabel('Transações')\n",
    "plt.xticks(rotation=40)\n",
    "plt.show()\n",
    "\n",
    "\n",
    "print('Tabela cruzada Fraude de\\nacordo com fonte da transação (%)\\n')\n",
    "display((pd.crosstab(transacoes.fraude, transacoes.fonte, normalize='columns') * 100).round(2))\n",
    "print('*Normalizado pela fonte.\\n')\n"
   ]
  },
  {
   "cell_type": "markdown",
   "id": "50770c9f-92f7-433e-ae93-d1d5bde0ea13",
   "metadata": {},
   "source": [
    "> Podemos inferir que visualmente não faz diferença a fonte da transação real ou fraudulenta. Abaixo coloquei uma tabela indicando a fonte da transação e a proporção de transações reais e falsas. É possível verificar que das transações cuja fonte é `Direct` 89.46% é real e 10.54% é falsa."
   ]
  },
  {
   "cell_type": "markdown",
   "id": "a356c5fb-57f2-479d-b93d-2bfe42e2561e",
   "metadata": {},
   "source": [
    "## Histrograma dos `browsers`"
   ]
  },
  {
   "cell_type": "code",
   "execution_count": 13,
   "id": "0bb23cf7-9587-45bb-aeaa-bbc663863c55",
   "metadata": {},
   "outputs": [
    {
     "data": {
      "image/png": "[encoded data removed]",
      "text/plain": [
       "<Figure size 576x360 with 1 Axes>"
      ]
     },
     "metadata": {
      "needs_background": "light"
     },
     "output_type": "display_data"
    },
    {
     "name": "stdout",
     "output_type": "stream",
     "text": [
      "Tabela cruzada Fraude de\n",
      "acordo com o browser (%)\n",
      "\n"
     ]
    },
    {
     "data": {
      "text/html": [
       "<div>\n",
       "<style scoped>\n",
       "    .dataframe tbody tr th:only-of-type {\n",
       "        vertical-align: middle;\n",
       "    }\n",
       "\n",
       "    .dataframe tbody tr th {\n",
       "        vertical-align: top;\n",
       "    }\n",
       "\n",
       "    .dataframe thead th {\n",
       "        text-align: right;\n",
       "    }\n",
       "</style>\n",
       "<table border=\"1\" class=\"dataframe\">\n",
       "  <thead>\n",
       "    <tr style=\"text-align: right;\">\n",
       "      <th>browser</th>\n",
       "      <th>Chrome</th>\n",
       "      <th>FireFox</th>\n",
       "      <th>IE</th>\n",
       "      <th>Opera</th>\n",
       "      <th>Safari</th>\n",
       "    </tr>\n",
       "    <tr>\n",
       "      <th>fraude</th>\n",
       "      <th></th>\n",
       "      <th></th>\n",
       "      <th></th>\n",
       "      <th></th>\n",
       "      <th></th>\n",
       "    </tr>\n",
       "  </thead>\n",
       "  <tbody>\n",
       "    <tr>\n",
       "      <th>0</th>\n",
       "      <td>90.12</td>\n",
       "      <td>90.48</td>\n",
       "      <td>91.32</td>\n",
       "      <td>91.08</td>\n",
       "      <td>90.98</td>\n",
       "    </tr>\n",
       "    <tr>\n",
       "      <th>1</th>\n",
       "      <td>9.88</td>\n",
       "      <td>9.52</td>\n",
       "      <td>8.68</td>\n",
       "      <td>8.92</td>\n",
       "      <td>9.02</td>\n",
       "    </tr>\n",
       "  </tbody>\n",
       "</table>\n",
       "</div>"
      ],
      "text/plain": [
       "browser  Chrome  FireFox     IE  Opera  Safari\n",
       "fraude                                        \n",
       "0         90.12    90.48  91.32  91.08   90.98\n",
       "1          9.88     9.52   8.68   8.92    9.02"
      ]
     },
     "metadata": {},
     "output_type": "display_data"
    },
    {
     "name": "stdout",
     "output_type": "stream",
     "text": [
      "*Normalizado pelo tipo do browser\n"
     ]
    }
   ],
   "source": [
    "plt.figure(figsize=(8,5))\n",
    "plt.title('Browser da transação', fontsize=20, pad=20)\n",
    "ax = sns.countplot(y='browser', hue='fraude', data=transacoes)\n",
    "ax.set_ylabel('Browser')\n",
    "ax.set_xlabel('Transações')\n",
    "plt.xticks(rotation=40)\n",
    "plt.grid()\n",
    "plt.show()\n",
    "\n",
    "print('Tabela cruzada Fraude de\\nacordo com o browser (%)\\n')\n",
    "display((pd.crosstab(transacoes.fraude, transacoes.browser, normalize='columns') * 100).round(2))\n",
    "print('*Normalizado pelo tipo do browser')\n"
   ]
  },
  {
   "cell_type": "markdown",
   "id": "26708116-d086-4c3d-ab38-6ea04cc5f80d",
   "metadata": {},
   "source": [
    "> Novamente, a proporção entre fraude e transações reais se mantém. Geralmente 10% das transações são falsas e outro 90% são transações reais, independente do navegador (browser) utilizado."
   ]
  },
  {
   "cell_type": "markdown",
   "id": "e1823716-f5bc-4dcc-b922-a0272fed8c2d",
   "metadata": {},
   "source": [
    "## Fraudes por gênero "
   ]
  },
  {
   "cell_type": "code",
   "execution_count": 14,
   "id": "b70291c5-e828-4762-a2bf-2cbc00ebb1d1",
   "metadata": {},
   "outputs": [
    {
     "data": {
      "image/png": "[encoded data removed]",
      "text/plain": [
       "<Figure size 576x360 with 1 Axes>"
      ]
     },
     "metadata": {
      "needs_background": "light"
     },
     "output_type": "display_data"
    },
    {
     "name": "stdout",
     "output_type": "stream",
     "text": [
      "Tabela cruzada Fraude de\n",
      "acordo com gênero informado (%)\n",
      "\n"
     ]
    },
    {
     "data": {
      "text/html": [
       "<div>\n",
       "<style scoped>\n",
       "    .dataframe tbody tr th:only-of-type {\n",
       "        vertical-align: middle;\n",
       "    }\n",
       "\n",
       "    .dataframe tbody tr th {\n",
       "        vertical-align: top;\n",
       "    }\n",
       "\n",
       "    .dataframe thead th {\n",
       "        text-align: right;\n",
       "    }\n",
       "</style>\n",
       "<table border=\"1\" class=\"dataframe\">\n",
       "  <thead>\n",
       "    <tr style=\"text-align: right;\">\n",
       "      <th>genero</th>\n",
       "      <th>F</th>\n",
       "      <th>M</th>\n",
       "    </tr>\n",
       "    <tr>\n",
       "      <th>fraude</th>\n",
       "      <th></th>\n",
       "      <th></th>\n",
       "    </tr>\n",
       "  </thead>\n",
       "  <tbody>\n",
       "    <tr>\n",
       "      <th>0</th>\n",
       "      <td>90.9</td>\n",
       "      <td>90.45</td>\n",
       "    </tr>\n",
       "    <tr>\n",
       "      <th>1</th>\n",
       "      <td>9.1</td>\n",
       "      <td>9.55</td>\n",
       "    </tr>\n",
       "  </tbody>\n",
       "</table>\n",
       "</div>"
      ],
      "text/plain": [
       "genero     F      M\n",
       "fraude             \n",
       "0       90.9  90.45\n",
       "1        9.1   9.55"
      ]
     },
     "metadata": {},
     "output_type": "display_data"
    },
    {
     "name": "stdout",
     "output_type": "stream",
     "text": [
      "*Normalizado pelo gênero informado\n"
     ]
    }
   ],
   "source": [
    "plt.figure(figsize=(8,5))\n",
    "plt.title('Fraudes nas transações de acordo com o gênero informado', fontsize=18, pad=20)\n",
    "ax = sns.countplot(x='genero', hue='fraude', data=transacoes)\n",
    "ax.legend(['Não', 'Sim'])\n",
    "plt.show()\n",
    "\n",
    "print('Tabela cruzada Fraude de\\nacordo com gênero informado (%)\\n')\n",
    "display((pd.crosstab(transacoes.fraude, transacoes.genero, normalize='columns') * 100).round(2))\n",
    "print('*Normalizado pelo gênero informado')"
   ]
  },
  {
   "cell_type": "markdown",
   "id": "d2c12074-127d-473e-94a1-8a65b972f6a0",
   "metadata": {},
   "source": [
    "> Podemos ver que a quantidade de trnsações realizada por homens é maior do que a realizada por mulheres, entretanto de forma visual parece que a quantidade de fraudes não depende do sexo.\n",
    "\n",
    "> Por isso fiz uma tabela cruzada, entre genero e fraude, onde é possível concluir que, do gênero F 90.9% das transações são reais e 9.1% são fraudes, já no gênero M 90.45% das transações são reais e 9.55% são fraudes. \n",
    "\n",
    "> Logo, aproximadamente de 9% de todas as transações são fraudes."
   ]
  },
  {
   "cell_type": "markdown",
   "id": "4933638d-aebb-4347-85d4-bf8bd7484fb3",
   "metadata": {},
   "source": [
    "## Transações por país\n"
   ]
  },
  {
   "cell_type": "code",
   "execution_count": 15,
   "id": "2c168af8-08e2-434d-90c3-854589451672",
   "metadata": {},
   "outputs": [
    {
     "data": {
      "image/png": "[encoded data removed]",
      "text/plain": [
       "<Figure size 720x576 with 1 Axes>"
      ]
     },
     "metadata": {
      "needs_background": "light"
     },
     "output_type": "display_data"
    }
   ],
   "source": [
    "from matplotlib import ticker\n",
    "\n",
    "paises_10_maiores_transacoes = transacoes.pais.value_counts(ascending=False, \n",
    "                                                            normalize=True).drop('missing_country',\n",
    "                                                                                 axis=0).to_frame()[:10]*100\n",
    "\n",
    "plt.figure(figsize=(10,8))\n",
    "plt.title('Top 10 países com mais transações', fontsize=20, pad=20)\n",
    "ax = sns.barplot(x='pais', y = paises_10_maiores_transacoes.index,  data=paises_10_maiores_transacoes, palette='tab10')\n",
    "ax.set_xlabel('Transações',)\n",
    "ax.xaxis.set_major_formatter(ticker.PercentFormatter())\n",
    "ax;"
   ]
  },
  {
   "cell_type": "markdown",
   "id": "36607acf-dcf5-412e-8e7f-163ead6accfa",
   "metadata": {},
   "source": [
    "> É possível verificar que mais de 35% das transações acontecem nos Estados Unidos. Entretanto, **não podemos utilizar isso como um fator determinante para classificar se uma transação é fraude ou não**, precisamos dar um jeito de \"padronizar\" para que as variáveis fiquem proporcionais."
   ]
  },
  {
   "cell_type": "markdown",
   "id": "a256b2db-26f7-4356-8269-b2b4f2d7b47a",
   "metadata": {},
   "source": [
    "# Analises entre variáveis\n",
    "## Análise de ID e IP \n",
    "\n",
    "Agora que fizemos algumas visualizações e consideraçoes nos dados sem altera-los propriamente dito, vamos fazer algumas manipulações para correlacionar variaveis. \n",
    "\n",
    "Primeiramente vou avaliar os usuários que estão relacionados à apena um endereço de IP\n",
    "\n",
    "> **objetivo**: contar o número fraudes para cada dispositivo e ip"
   ]
  },
  {
   "cell_type": "code",
   "execution_count": 16,
   "id": "c9a56a17-dbaf-4fee-b16f-9dab839f20c1",
   "metadata": {},
   "outputs": [],
   "source": [
    "fraude_por_dispositivo_ip = pd.DataFrame(columns=['fraude','id_por_dispositivo','id_por_ip'])"
   ]
  },
  {
   "cell_type": "markdown",
   "id": "a751194d-665f-4c52-887a-4d9c16b32b6c",
   "metadata": {},
   "source": [
    "Para o número de fraudes temos:"
   ]
  },
  {
   "cell_type": "code",
   "execution_count": 17,
   "id": "e1f9011b-8b3a-4812-93c0-2ef48c8c09f2",
   "metadata": {},
   "outputs": [
    {
     "data": {
      "text/html": [
       "<div>\n",
       "<style scoped>\n",
       "    .dataframe tbody tr th:only-of-type {\n",
       "        vertical-align: middle;\n",
       "    }\n",
       "\n",
       "    .dataframe tbody tr th {\n",
       "        vertical-align: top;\n",
       "    }\n",
       "\n",
       "    .dataframe thead th {\n",
       "        text-align: right;\n",
       "    }\n",
       "</style>\n",
       "<table border=\"1\" class=\"dataframe\">\n",
       "  <thead>\n",
       "    <tr style=\"text-align: right;\">\n",
       "      <th></th>\n",
       "      <th>fraude</th>\n",
       "      <th>id_por_dispositivo</th>\n",
       "      <th>id_por_ip</th>\n",
       "    </tr>\n",
       "  </thead>\n",
       "  <tbody>\n",
       "    <tr>\n",
       "      <th>0</th>\n",
       "      <td>0</td>\n",
       "      <td>NaN</td>\n",
       "      <td>NaN</td>\n",
       "    </tr>\n",
       "    <tr>\n",
       "      <th>1</th>\n",
       "      <td>0</td>\n",
       "      <td>NaN</td>\n",
       "      <td>NaN</td>\n",
       "    </tr>\n",
       "    <tr>\n",
       "      <th>2</th>\n",
       "      <td>1</td>\n",
       "      <td>NaN</td>\n",
       "      <td>NaN</td>\n",
       "    </tr>\n",
       "    <tr>\n",
       "      <th>3</th>\n",
       "      <td>0</td>\n",
       "      <td>NaN</td>\n",
       "      <td>NaN</td>\n",
       "    </tr>\n",
       "    <tr>\n",
       "      <th>4</th>\n",
       "      <td>0</td>\n",
       "      <td>NaN</td>\n",
       "      <td>NaN</td>\n",
       "    </tr>\n",
       "  </tbody>\n",
       "</table>\n",
       "</div>"
      ],
      "text/plain": [
       "   fraude id_por_dispositivo id_por_ip\n",
       "0       0                NaN       NaN\n",
       "1       0                NaN       NaN\n",
       "2       1                NaN       NaN\n",
       "3       0                NaN       NaN\n",
       "4       0                NaN       NaN"
      ]
     },
     "execution_count": 17,
     "metadata": {},
     "output_type": "execute_result"
    }
   ],
   "source": [
    "fraude_por_dispositivo_ip['fraude'] = transacoes['fraude']\n",
    "fraude_por_dispositivo_ip.head()"
   ]
  },
  {
   "cell_type": "markdown",
   "id": "390ac13d-c3ec-4953-b833-0e27099b8130",
   "metadata": {},
   "source": [
    "Para o numero de dispositivos por id temos:"
   ]
  },
  {
   "cell_type": "code",
   "execution_count": 18,
   "id": "e01d7927-d446-4885-b962-4d21123e87ec",
   "metadata": {},
   "outputs": [
    {
     "data": {
      "text/plain": [
       "id_dispositivo\n",
       "AAALBGNHHVMKG     1\n",
       "AAAWIHVCQELTP     1\n",
       "AAAXJHWCLISKY     1\n",
       "AAAXXOZJRZRAO    11\n",
       "AABFGRPBQHWFQ     1\n",
       "Name: id, dtype: int64"
      ]
     },
     "execution_count": 18,
     "metadata": {},
     "output_type": "execute_result"
    }
   ],
   "source": [
    "# Agrupa por dispositivos e count() na variável id\n",
    "id_por_dispositivos = transacoes.groupby('id_dispositivo').id.count()\n",
    "id_por_dispositivos.head()"
   ]
  },
  {
   "cell_type": "markdown",
   "id": "dcaf2fb4-2eba-46a5-b390-88250484371a",
   "metadata": {},
   "source": [
    "Veja que um único dispositivo tem 11 `id`. Então agora para cada dispositivo em `transações` vamos adicionar a quantidade de `id` que esse dispositivo tem no dataframe `fraude_por_dispositivo_ip`:"
   ]
  },
  {
   "cell_type": "code",
   "execution_count": 19,
   "id": "ad1dd043-25f0-496a-988c-922798557592",
   "metadata": {},
   "outputs": [
    {
     "data": {
      "text/plain": [
       "11"
      ]
     },
     "execution_count": 19,
     "metadata": {},
     "output_type": "execute_result"
    }
   ],
   "source": [
    "def retorta_id_por_dispositivo(id_dispositivo):\n",
    "    quantidade_id = id_por_dispositivos.loc[id_dispositivo]\n",
    "    return quantidade_id\n",
    "\n",
    "# testando\n",
    "retorta_id_por_dispositivo('AAAXXOZJRZRAO')"
   ]
  },
  {
   "cell_type": "markdown",
   "id": "f5e5f62a-3565-4133-a010-97cca1b51235",
   "metadata": {},
   "source": [
    "Deu certo, agora vamos aplicar definitivamente"
   ]
  },
  {
   "cell_type": "code",
   "execution_count": 20,
   "id": "66a16c1f-1370-47c9-b5d1-e2a9045dd5b3",
   "metadata": {},
   "outputs": [
    {
     "data": {
      "text/html": [
       "<div>\n",
       "<style scoped>\n",
       "    .dataframe tbody tr th:only-of-type {\n",
       "        vertical-align: middle;\n",
       "    }\n",
       "\n",
       "    .dataframe tbody tr th {\n",
       "        vertical-align: top;\n",
       "    }\n",
       "\n",
       "    .dataframe thead th {\n",
       "        text-align: right;\n",
       "    }\n",
       "</style>\n",
       "<table border=\"1\" class=\"dataframe\">\n",
       "  <thead>\n",
       "    <tr style=\"text-align: right;\">\n",
       "      <th></th>\n",
       "      <th>fraude</th>\n",
       "      <th>id_por_dispositivo</th>\n",
       "      <th>id_por_ip</th>\n",
       "    </tr>\n",
       "  </thead>\n",
       "  <tbody>\n",
       "    <tr>\n",
       "      <th>0</th>\n",
       "      <td>0</td>\n",
       "      <td>1</td>\n",
       "      <td>NaN</td>\n",
       "    </tr>\n",
       "    <tr>\n",
       "      <th>1</th>\n",
       "      <td>0</td>\n",
       "      <td>1</td>\n",
       "      <td>NaN</td>\n",
       "    </tr>\n",
       "    <tr>\n",
       "      <th>2</th>\n",
       "      <td>1</td>\n",
       "      <td>12</td>\n",
       "      <td>NaN</td>\n",
       "    </tr>\n",
       "    <tr>\n",
       "      <th>3</th>\n",
       "      <td>0</td>\n",
       "      <td>1</td>\n",
       "      <td>NaN</td>\n",
       "    </tr>\n",
       "    <tr>\n",
       "      <th>4</th>\n",
       "      <td>0</td>\n",
       "      <td>1</td>\n",
       "      <td>NaN</td>\n",
       "    </tr>\n",
       "  </tbody>\n",
       "</table>\n",
       "</div>"
      ],
      "text/plain": [
       "   fraude  id_por_dispositivo id_por_ip\n",
       "0       0                   1       NaN\n",
       "1       0                   1       NaN\n",
       "2       1                  12       NaN\n",
       "3       0                   1       NaN\n",
       "4       0                   1       NaN"
      ]
     },
     "execution_count": 20,
     "metadata": {},
     "output_type": "execute_result"
    }
   ],
   "source": [
    "fraude_por_dispositivo_ip['id_por_dispositivo'] = transacoes.id_dispositivo.apply(retorta_id_por_dispositivo)\n",
    "fraude_por_dispositivo_ip.head()"
   ]
  },
  {
   "cell_type": "markdown",
   "id": "7bd19e0f-57b8-4759-a58e-025287d082a2",
   "metadata": {},
   "source": [
    "Veja que deu certo, um único dispositivo tem 12 `id` e a classificação dele é de fraude. \n",
    "\n",
    "Agora vamos contar quantos `id` tem cada `ip` agrupando pelo numero de `ip` e contando quandos `id` estão associados a ele:"
   ]
  },
  {
   "cell_type": "code",
   "execution_count": 21,
   "id": "ea519413-82a8-4889-9d3b-394260af636a",
   "metadata": {},
   "outputs": [
    {
     "data": {
      "text/plain": [
       "ip\n",
       "5.209350e+04    1\n",
       "9.344714e+04    1\n",
       "1.058185e+05    1\n",
       "1.175667e+05    1\n",
       "1.314238e+05    1\n",
       "               ..\n",
       "4.294674e+09    1\n",
       "4.294715e+09    1\n",
       "4.294720e+09    1\n",
       "4.294822e+09    1\n",
       "4.294850e+09    1\n",
       "Name: id, Length: 143512, dtype: int64"
      ]
     },
     "execution_count": 21,
     "metadata": {},
     "output_type": "execute_result"
    }
   ],
   "source": [
    "id_por_ips = transacoes.groupby('ip').id.count()\n",
    "id_por_ips"
   ]
  },
  {
   "cell_type": "code",
   "execution_count": 22,
   "id": "005715d3-d56e-4fa1-a7fa-86a7379a72b6",
   "metadata": {},
   "outputs": [
    {
     "data": {
      "text/plain": [
       "1"
      ]
     },
     "execution_count": 22,
     "metadata": {},
     "output_type": "execute_result"
    }
   ],
   "source": [
    "def retorna_id_por_ip(ip):\n",
    "    quantidade_id = id_por_ips[ip]\n",
    "    return quantidade_id\n",
    "\n",
    "# testando\n",
    "retorna_id_por_ip(transacoes.ip.iloc[50])"
   ]
  },
  {
   "cell_type": "markdown",
   "id": "7b97f11d-fa2d-4aef-af72-ee7a747ff717",
   "metadata": {},
   "source": [
    ">**observação**: O fato do IP ser um int pode dificultar ao chamar ele através do índex de uma `Series` ou `DataFrame`.\n",
    "\n",
    "\n",
    "Agora vamos aplicar para cada `ip` em `transacoes` ver quantos `id` estão associados:"
   ]
  },
  {
   "cell_type": "code",
   "execution_count": 23,
   "id": "42432613-956f-42fa-ae99-8d96ebb96312",
   "metadata": {},
   "outputs": [
    {
     "data": {
      "text/html": [
       "<div>\n",
       "<style scoped>\n",
       "    .dataframe tbody tr th:only-of-type {\n",
       "        vertical-align: middle;\n",
       "    }\n",
       "\n",
       "    .dataframe tbody tr th {\n",
       "        vertical-align: top;\n",
       "    }\n",
       "\n",
       "    .dataframe thead th {\n",
       "        text-align: right;\n",
       "    }\n",
       "</style>\n",
       "<table border=\"1\" class=\"dataframe\">\n",
       "  <thead>\n",
       "    <tr style=\"text-align: right;\">\n",
       "      <th></th>\n",
       "      <th>fraude</th>\n",
       "      <th>id_por_dispositivo</th>\n",
       "      <th>id_por_ip</th>\n",
       "    </tr>\n",
       "  </thead>\n",
       "  <tbody>\n",
       "    <tr>\n",
       "      <th>0</th>\n",
       "      <td>0</td>\n",
       "      <td>1</td>\n",
       "      <td>1</td>\n",
       "    </tr>\n",
       "    <tr>\n",
       "      <th>1</th>\n",
       "      <td>0</td>\n",
       "      <td>1</td>\n",
       "      <td>1</td>\n",
       "    </tr>\n",
       "    <tr>\n",
       "      <th>2</th>\n",
       "      <td>1</td>\n",
       "      <td>12</td>\n",
       "      <td>12</td>\n",
       "    </tr>\n",
       "    <tr>\n",
       "      <th>3</th>\n",
       "      <td>0</td>\n",
       "      <td>1</td>\n",
       "      <td>1</td>\n",
       "    </tr>\n",
       "    <tr>\n",
       "      <th>4</th>\n",
       "      <td>0</td>\n",
       "      <td>1</td>\n",
       "      <td>1</td>\n",
       "    </tr>\n",
       "    <tr>\n",
       "      <th>...</th>\n",
       "      <td>...</td>\n",
       "      <td>...</td>\n",
       "      <td>...</td>\n",
       "    </tr>\n",
       "    <tr>\n",
       "      <th>151107</th>\n",
       "      <td>1</td>\n",
       "      <td>2</td>\n",
       "      <td>1</td>\n",
       "    </tr>\n",
       "    <tr>\n",
       "      <th>151108</th>\n",
       "      <td>0</td>\n",
       "      <td>1</td>\n",
       "      <td>1</td>\n",
       "    </tr>\n",
       "    <tr>\n",
       "      <th>151109</th>\n",
       "      <td>0</td>\n",
       "      <td>1</td>\n",
       "      <td>1</td>\n",
       "    </tr>\n",
       "    <tr>\n",
       "      <th>151110</th>\n",
       "      <td>0</td>\n",
       "      <td>2</td>\n",
       "      <td>1</td>\n",
       "    </tr>\n",
       "    <tr>\n",
       "      <th>151111</th>\n",
       "      <td>0</td>\n",
       "      <td>1</td>\n",
       "      <td>1</td>\n",
       "    </tr>\n",
       "  </tbody>\n",
       "</table>\n",
       "<p>151112 rows × 3 columns</p>\n",
       "</div>"
      ],
      "text/plain": [
       "        fraude  id_por_dispositivo  id_por_ip\n",
       "0            0                   1          1\n",
       "1            0                   1          1\n",
       "2            1                  12         12\n",
       "3            0                   1          1\n",
       "4            0                   1          1\n",
       "...        ...                 ...        ...\n",
       "151107       1                   2          1\n",
       "151108       0                   1          1\n",
       "151109       0                   1          1\n",
       "151110       0                   2          1\n",
       "151111       0                   1          1\n",
       "\n",
       "[151112 rows x 3 columns]"
      ]
     },
     "execution_count": 23,
     "metadata": {},
     "output_type": "execute_result"
    }
   ],
   "source": [
    "fraude_por_dispositivo_ip['id_por_ip'] = transacoes.ip.apply(retorna_id_por_ip)\n",
    "fraude_por_dispositivo_ip"
   ]
  },
  {
   "cell_type": "code",
   "execution_count": 24,
   "id": "c4d5d681-26cd-49c6-a905-7c8b63ad4ac5",
   "metadata": {},
   "outputs": [
    {
     "data": {
      "image/png": "[encoded data removed]",
      "text/plain": [
       "<Figure size 1080x432 with 2 Axes>"
      ]
     },
     "metadata": {
      "needs_background": "light"
     },
     "output_type": "display_data"
    }
   ],
   "source": [
    "plt.figure(figsize=(15,6))\n",
    "plt.subplot(121)\n",
    "plt.title('ID por dispositivo', fontsize=20, pad=20)\n",
    "ax1 = sns.pointplot(data = fraude_por_dispositivo_ip, x = 'fraude', y = 'id_por_dispositivo')\n",
    "ax1.set_xticklabels(['Não fraude', 'Fraude'])\n",
    "ax1.set_xlabel('')\n",
    "ax1.set_ylabel('ID médio por dispositivo', fontsize=14)\n",
    "\n",
    "\n",
    "plt.subplot(122)\n",
    "plt.title('ID por endereço IP', fontsize=20, pad=20)\n",
    "ax2 = sns.pointplot(data = fraude_por_dispositivo_ip, x = 'fraude', y = 'id_por_ip')\n",
    "ax2.set_xlabel('')\n",
    "ax2.set_xticklabels(['Não fraude', 'Fraude'])\n",
    "ax2.set_ylabel('ID médio por endereço IP', fontsize=14)\n",
    "\n",
    "plt.show()"
   ]
  },
  {
   "cell_type": "markdown",
   "id": "8a42a994-a098-4c98-9f1b-655e75f01a52",
   "metadata": {},
   "source": [
    "### Comentário sobre análise de ID e IP por dispositivo\n",
    "\n",
    "> É possivel verificar que **a média de ID por dispositivo é um** na primeira imagem onde indica transações reais, acontece que para **transações classificadas como fraude a média é de 7 id por dispositivos**. Ou seja, a quantidade de `id_por_dispositivo` é importante para decidir se as transações são fraudes ou não.\n",
    "\n",
    "> Para o caso de ID por endereços de IP acontece algo parecido, em geral **transações reais tem em média um IP por IP** já as **transações fraudulentas tem em média 7 ID's por endereços IP**. Portanto, a quantidade de IP por dispositivo também é um indicador de fraude nestes dados."
   ]
  },
  {
   "cell_type": "markdown",
   "id": "7ca77920-d1a2-42d2-b8b4-e1ee25edfe9c",
   "metadata": {},
   "source": [
    "## Análise de inscrição e tempo de compra\n",
    "\n",
    "Dado que temos disponíveis informações sobre cadastro e hora de transação, podemos fazer algumas análises referênte a essa variação entre cadastro e compra.\n",
    "\n",
    "A nova variável sera a diferença entre o tempo de compra e o cadastro:"
   ]
  },
  {
   "cell_type": "code",
   "execution_count": 25,
   "id": "112b9d7f-0fa7-44b2-ba6f-7443d9ba0e4a",
   "metadata": {},
   "outputs": [
    {
     "data": {
      "text/plain": [
       "0        52 days 03:51:22\n",
       "1         0 days 04:59:04\n",
       "2         0 days 00:00:01\n",
       "3         5 days 16:41:25\n",
       "4        50 days 11:31:01\n",
       "               ...       \n",
       "151107   60 days 21:27:13\n",
       "151108   10 days 18:41:10\n",
       "151109   77 days 08:00:16\n",
       "151110   59 days 13:28:39\n",
       "151111   40 days 19:01:33\n",
       "Length: 151112, dtype: timedelta64[ns]"
      ]
     },
     "execution_count": 25,
     "metadata": {},
     "output_type": "execute_result"
    }
   ],
   "source": [
    "transacoes['compra'] - transacoes['cadastro']"
   ]
  },
  {
   "cell_type": "markdown",
   "id": "69b7618c-c905-494d-86cb-b309201aabd6",
   "metadata": {},
   "source": [
    "Note que essa diferença é dada em dias, podemos converte-la em segundos através do atributo `datetime.seconds` de cada elemento do objeto `datetime`:"
   ]
  },
  {
   "cell_type": "code",
   "execution_count": 26,
   "id": "f77782c7-787b-410c-8282-26eba9921a6c",
   "metadata": {},
   "outputs": [
    {
     "data": {
      "text/plain": [
       "0         13882\n",
       "1         17944\n",
       "2             1\n",
       "3         60085\n",
       "4         41461\n",
       "          ...  \n",
       "151107    77233\n",
       "151108    67270\n",
       "151109    28816\n",
       "151110    48519\n",
       "151111    68493\n",
       "Name: tempo, Length: 151112, dtype: int64"
      ]
     },
     "execution_count": 26,
     "metadata": {},
     "output_type": "execute_result"
    }
   ],
   "source": [
    "transacoes['tempo'] = (transacoes['compra'] - transacoes['cadastro']).apply(lambda delta_tempo: delta_tempo.seconds)\n",
    "transacoes['tempo']"
   ]
  },
  {
   "cell_type": "markdown",
   "id": "687eb214-4193-47e3-916e-7a57e402d869",
   "metadata": {},
   "source": [
    "Agora temos a quantidade em segundos e podemos verificar se este valor tem alguma correlação entre as fraudes:"
   ]
  },
  {
   "cell_type": "code",
   "execution_count": 27,
   "id": "4516c2ae-3671-49da-9f45-2fb53a6469c5",
   "metadata": {},
   "outputs": [
    {
     "data": {
      "image/png": "[encoded data removed]",
      "text/plain": [
       "<Figure size 576x360 with 1 Axes>"
      ]
     },
     "metadata": {
      "needs_background": "light"
     },
     "output_type": "display_data"
    }
   ],
   "source": [
    "plt.title('Tempo de compra')\n",
    "ax = sns.pointplot(data = transacoes, x = 'fraude', y = 'tempo')\n",
    "ax.figure.set_size_inches(8,5)\n",
    "ax.set_ylabel('Tempo médio até primeira compra', fontsize=15)\n",
    "ax.set_xlabel('')\n",
    "ax.set_xticklabels(['Não fraude','Faude'], fontsize=18)\n",
    "ax.yaxis.set_major_formatter(lambda x, pos: f'{(x / 10000)}x10⁴s')\n",
    "ax;"
   ]
  },
  {
   "cell_type": "markdown",
   "id": "eeb3d049-50b4-405a-ae66-4702c1eb648f",
   "metadata": {},
   "source": [
    "### Comentário sobre o tempo de compra\n",
    "\n",
    "> Note que as **transações reais geralmente demoram algum tempo para que seja feita alguma compra**, diferente das **transações fraudulentas que geralmente tem um tempo menor**. Portanto, pode ser o caso de existir uma correlação inversa: Quanto maior o tempo até a primeira compra, menor a chance de ser uma fraude.\n",
    "\n",
    "É possível analisar também em que horas as fraudes costumam à acontecer:"
   ]
  },
  {
   "cell_type": "code",
   "execution_count": 28,
   "id": "20b10682-1659-43cd-86bb-b16a69b63c82",
   "metadata": {},
   "outputs": [
    {
     "data": {
      "image/png": "[encoded data removed]",
      "text/plain": [
       "<Figure size 1080x432 with 2 Axes>"
      ]
     },
     "metadata": {
      "needs_background": "light"
     },
     "output_type": "display_data"
    }
   ],
   "source": [
    "\n",
    "plt.figure(figsize=(15,6))\n",
    "ax1 = plt.subplot(121)\n",
    "ax1.set_title('Hora de cadastro das\\ntransações fraudulentas')\n",
    "ax1 = transacoes[transacoes.fraude == 1 ].cadastro.apply(lambda x: x.hour).hist()\n",
    "ax1.set_xlabel('Hora cadastro')\n",
    "\n",
    "ax2 = plt.subplot(122)\n",
    "ax2.set_title('Dia da semana dos cadastros\\ndas transações fraudulentas')\n",
    "ax2 = transacoes[transacoes.fraude == 1 ].cadastro.apply(lambda x: x.dayofweek).hist()\n",
    "ax2.set_xlabel('Dia da Semana')\n",
    "\n",
    "plt.show()"
   ]
  },
  {
   "cell_type": "markdown",
   "id": "41ab028e-5ab6-420f-bcf4-a8cadafd2edb",
   "metadata": {},
   "source": [
    "Podemos verificar também se ocorrem fraudes ao longo das semanas do ano, uma hipotese:\n",
    "\n",
    "> **Aumentam as fraudes em semanas de eventos festivos/liquidações**"
   ]
  },
  {
   "cell_type": "code",
   "execution_count": 29,
   "id": "830c68c5-1cb6-4606-9b9d-5e9bc2e21ef5",
   "metadata": {},
   "outputs": [
    {
     "data": {
      "image/png": "[encoded data removed]",
      "text/plain": [
       "<Figure size 720x432 with 1 Axes>"
      ]
     },
     "metadata": {
      "needs_background": "light"
     },
     "output_type": "display_data"
    }
   ],
   "source": [
    "plt.figure(figsize=(10,6))\n",
    "ax = transacoes[transacoes.fraude == 1 ].cadastro.apply(lambda x: x.week).hist()\n",
    "ax.set_xlabel('Semanas do ano')\n",
    "\n",
    "ax;"
   ]
  },
  {
   "cell_type": "markdown",
   "id": "1c44ef12-76cd-4adf-b742-978d5a23bbf1",
   "metadata": {},
   "source": [
    "### Comentário sobre as fraudes em função das semanas do ano\n",
    "\n",
    "> Note que a quantidade de fraudes nas três primeiras semanas do ano são bem maiores do que as outras, ou seja, as semanas de cadastros de contas podem ser um indicador de fraudes, entretanto não sabemos se é um critério definitivo, porque é possível que mais pessoas criem contas neste período por causa de \"sobras de natal e ano novo\". Então o melhor a se fazer é indicar ao setor de segurança quê **durante o primeiro mês do ano, mais precisamente durante as três primeiras semanas, a quantidade de fraudes aumenta vertiginosamente, logo é importante reforçar o atendimento ao cliente e sistemas de segurança neste periogo**"
   ]
  },
  {
   "cell_type": "markdown",
   "id": "d7023ec8-e3b1-4149-9824-f538273bbe5d",
   "metadata": {},
   "source": [
    "# Engenhearia de recursos/variáveis\n",
    "\n",
    "Depois de verificar quais variáveis são mais importantes do que outras, em alguns casos é provável que tenha que se criar variáveis a partir das informações que a gente tem. Por exemplo, criamos duas variáveis, a quantidade de ID por dispositivos e a quantidade de IP por ID, em que essas são bons indicadores de fraude, entretanto são dados que estão correlacionados.\n",
    "\n",
    "Para evitar multicolinearidade vou produzir apenas um recurso que vai ser a média do número de ID por dispositivos ou a média de ID por IP "
   ]
  },
  {
   "cell_type": "code",
   "execution_count": 30,
   "id": "243aa563-633d-4096-8136-c0fc3110f44d",
   "metadata": {},
   "outputs": [],
   "source": [
    "def retorta_id_por_dispositivo(id_dispositivo):\n",
    "    quantidade_id = id_por_dispositivos.loc[id_dispositivo]\n",
    "    return quantidade_id\n",
    "\n",
    "def retorta_id_por_ip(ip):\n",
    "    quantidade_id = id_por_ip.loc[ip]\n",
    "    return quantidade_id\n",
    "\n",
    "id_por_dispositivos = transacoes.groupby('id_dispositivo').id.count()\n",
    "id_por_ip = transacoes.groupby('ip').id.count()\n",
    "\n",
    "\n",
    "transacoes['id_por_dispositivo'] = transacoes.id_dispositivo.apply(retorta_id_por_dispositivo)\n",
    "transacoes['id_por_ip'] = transacoes.ip.apply(retorta_id_por_ip)"
   ]
  },
  {
   "cell_type": "code",
   "execution_count": 31,
   "id": "d545fa8d-59e4-43c5-960d-5b36851fa5b0",
   "metadata": {},
   "outputs": [
    {
     "data": {
      "text/html": [
       "<div>\n",
       "<style scoped>\n",
       "    .dataframe tbody tr th:only-of-type {\n",
       "        vertical-align: middle;\n",
       "    }\n",
       "\n",
       "    .dataframe tbody tr th {\n",
       "        vertical-align: top;\n",
       "    }\n",
       "\n",
       "    .dataframe thead th {\n",
       "        text-align: right;\n",
       "    }\n",
       "</style>\n",
       "<table border=\"1\" class=\"dataframe\">\n",
       "  <thead>\n",
       "    <tr style=\"text-align: right;\">\n",
       "      <th></th>\n",
       "      <th>id</th>\n",
       "      <th>cadastro</th>\n",
       "      <th>compra</th>\n",
       "      <th>valor</th>\n",
       "      <th>id_dispositivo</th>\n",
       "      <th>fonte</th>\n",
       "      <th>browser</th>\n",
       "      <th>genero</th>\n",
       "      <th>idade</th>\n",
       "      <th>ip</th>\n",
       "      <th>fraude</th>\n",
       "      <th>pais</th>\n",
       "      <th>tempo</th>\n",
       "      <th>id_por_dispositivo</th>\n",
       "      <th>id_por_ip</th>\n",
       "    </tr>\n",
       "  </thead>\n",
       "  <tbody>\n",
       "    <tr>\n",
       "      <th>0</th>\n",
       "      <td>22058</td>\n",
       "      <td>2015-02-24 22:55:49</td>\n",
       "      <td>2015-04-18 02:47:11</td>\n",
       "      <td>34</td>\n",
       "      <td>QVPSPJUOCKZAR</td>\n",
       "      <td>SEO</td>\n",
       "      <td>Chrome</td>\n",
       "      <td>M</td>\n",
       "      <td>39</td>\n",
       "      <td>7.327584e+08</td>\n",
       "      <td>0</td>\n",
       "      <td>Japan</td>\n",
       "      <td>13882</td>\n",
       "      <td>1</td>\n",
       "      <td>1</td>\n",
       "    </tr>\n",
       "    <tr>\n",
       "      <th>1</th>\n",
       "      <td>333320</td>\n",
       "      <td>2015-06-07 20:39:50</td>\n",
       "      <td>2015-06-08 01:38:54</td>\n",
       "      <td>16</td>\n",
       "      <td>EOGFQPIZPYXFZ</td>\n",
       "      <td>Ads</td>\n",
       "      <td>Chrome</td>\n",
       "      <td>F</td>\n",
       "      <td>53</td>\n",
       "      <td>3.503114e+08</td>\n",
       "      <td>0</td>\n",
       "      <td>United States</td>\n",
       "      <td>17944</td>\n",
       "      <td>1</td>\n",
       "      <td>1</td>\n",
       "    </tr>\n",
       "    <tr>\n",
       "      <th>2</th>\n",
       "      <td>1359</td>\n",
       "      <td>2015-01-01 18:52:44</td>\n",
       "      <td>2015-01-01 18:52:45</td>\n",
       "      <td>15</td>\n",
       "      <td>YSSKYOSJHPPLJ</td>\n",
       "      <td>SEO</td>\n",
       "      <td>Opera</td>\n",
       "      <td>M</td>\n",
       "      <td>53</td>\n",
       "      <td>2.621474e+09</td>\n",
       "      <td>1</td>\n",
       "      <td>United States</td>\n",
       "      <td>1</td>\n",
       "      <td>12</td>\n",
       "      <td>12</td>\n",
       "    </tr>\n",
       "    <tr>\n",
       "      <th>3</th>\n",
       "      <td>150084</td>\n",
       "      <td>2015-04-28 21:13:25</td>\n",
       "      <td>2015-05-04 13:54:50</td>\n",
       "      <td>44</td>\n",
       "      <td>ATGTXKYKUDUQN</td>\n",
       "      <td>SEO</td>\n",
       "      <td>Safari</td>\n",
       "      <td>M</td>\n",
       "      <td>41</td>\n",
       "      <td>3.840542e+09</td>\n",
       "      <td>0</td>\n",
       "      <td>missing_country</td>\n",
       "      <td>60085</td>\n",
       "      <td>1</td>\n",
       "      <td>1</td>\n",
       "    </tr>\n",
       "    <tr>\n",
       "      <th>4</th>\n",
       "      <td>221365</td>\n",
       "      <td>2015-07-21 07:09:52</td>\n",
       "      <td>2015-09-09 18:40:53</td>\n",
       "      <td>39</td>\n",
       "      <td>NAUITBZFJKHWW</td>\n",
       "      <td>Ads</td>\n",
       "      <td>Safari</td>\n",
       "      <td>M</td>\n",
       "      <td>45</td>\n",
       "      <td>4.155831e+08</td>\n",
       "      <td>0</td>\n",
       "      <td>United States</td>\n",
       "      <td>41461</td>\n",
       "      <td>1</td>\n",
       "      <td>1</td>\n",
       "    </tr>\n",
       "    <tr>\n",
       "      <th>...</th>\n",
       "      <td>...</td>\n",
       "      <td>...</td>\n",
       "      <td>...</td>\n",
       "      <td>...</td>\n",
       "      <td>...</td>\n",
       "      <td>...</td>\n",
       "      <td>...</td>\n",
       "      <td>...</td>\n",
       "      <td>...</td>\n",
       "      <td>...</td>\n",
       "      <td>...</td>\n",
       "      <td>...</td>\n",
       "      <td>...</td>\n",
       "      <td>...</td>\n",
       "      <td>...</td>\n",
       "    </tr>\n",
       "    <tr>\n",
       "      <th>151107</th>\n",
       "      <td>345170</td>\n",
       "      <td>2015-01-27 03:03:34</td>\n",
       "      <td>2015-03-29 00:30:47</td>\n",
       "      <td>43</td>\n",
       "      <td>XPSKTWGPWINLR</td>\n",
       "      <td>SEO</td>\n",
       "      <td>Chrome</td>\n",
       "      <td>M</td>\n",
       "      <td>28</td>\n",
       "      <td>3.451155e+09</td>\n",
       "      <td>1</td>\n",
       "      <td>United States</td>\n",
       "      <td>77233</td>\n",
       "      <td>2</td>\n",
       "      <td>1</td>\n",
       "    </tr>\n",
       "    <tr>\n",
       "      <th>151108</th>\n",
       "      <td>274471</td>\n",
       "      <td>2015-05-15 17:43:29</td>\n",
       "      <td>2015-05-26 12:24:39</td>\n",
       "      <td>35</td>\n",
       "      <td>LYSFABUCPCGBA</td>\n",
       "      <td>SEO</td>\n",
       "      <td>Safari</td>\n",
       "      <td>M</td>\n",
       "      <td>32</td>\n",
       "      <td>2.439047e+09</td>\n",
       "      <td>0</td>\n",
       "      <td>Netherlands</td>\n",
       "      <td>67270</td>\n",
       "      <td>1</td>\n",
       "      <td>1</td>\n",
       "    </tr>\n",
       "    <tr>\n",
       "      <th>151109</th>\n",
       "      <td>368416</td>\n",
       "      <td>2015-03-03 23:07:31</td>\n",
       "      <td>2015-05-20 07:07:47</td>\n",
       "      <td>40</td>\n",
       "      <td>MEQHCSJUBRBFE</td>\n",
       "      <td>SEO</td>\n",
       "      <td>IE</td>\n",
       "      <td>F</td>\n",
       "      <td>26</td>\n",
       "      <td>2.748471e+09</td>\n",
       "      <td>0</td>\n",
       "      <td>Japan</td>\n",
       "      <td>28816</td>\n",
       "      <td>1</td>\n",
       "      <td>1</td>\n",
       "    </tr>\n",
       "    <tr>\n",
       "      <th>151110</th>\n",
       "      <td>207709</td>\n",
       "      <td>2015-07-09 20:06:07</td>\n",
       "      <td>2015-09-07 09:34:46</td>\n",
       "      <td>46</td>\n",
       "      <td>CMCXFGRHYSTVJ</td>\n",
       "      <td>SEO</td>\n",
       "      <td>Chrome</td>\n",
       "      <td>M</td>\n",
       "      <td>37</td>\n",
       "      <td>3.601175e+09</td>\n",
       "      <td>0</td>\n",
       "      <td>United States</td>\n",
       "      <td>48519</td>\n",
       "      <td>2</td>\n",
       "      <td>1</td>\n",
       "    </tr>\n",
       "    <tr>\n",
       "      <th>151111</th>\n",
       "      <td>138208</td>\n",
       "      <td>2015-06-10 07:02:20</td>\n",
       "      <td>2015-07-21 02:03:53</td>\n",
       "      <td>20</td>\n",
       "      <td>ZINIADFCLHYPG</td>\n",
       "      <td>Direct</td>\n",
       "      <td>IE</td>\n",
       "      <td>M</td>\n",
       "      <td>38</td>\n",
       "      <td>4.103825e+09</td>\n",
       "      <td>0</td>\n",
       "      <td>missing_country</td>\n",
       "      <td>68493</td>\n",
       "      <td>1</td>\n",
       "      <td>1</td>\n",
       "    </tr>\n",
       "  </tbody>\n",
       "</table>\n",
       "<p>151112 rows × 15 columns</p>\n",
       "</div>"
      ],
      "text/plain": [
       "            id            cadastro              compra  valor id_dispositivo  \\\n",
       "0        22058 2015-02-24 22:55:49 2015-04-18 02:47:11     34  QVPSPJUOCKZAR   \n",
       "1       333320 2015-06-07 20:39:50 2015-06-08 01:38:54     16  EOGFQPIZPYXFZ   \n",
       "2         1359 2015-01-01 18:52:44 2015-01-01 18:52:45     15  YSSKYOSJHPPLJ   \n",
       "3       150084 2015-04-28 21:13:25 2015-05-04 13:54:50     44  ATGTXKYKUDUQN   \n",
       "4       221365 2015-07-21 07:09:52 2015-09-09 18:40:53     39  NAUITBZFJKHWW   \n",
       "...        ...                 ...                 ...    ...            ...   \n",
       "151107  345170 2015-01-27 03:03:34 2015-03-29 00:30:47     43  XPSKTWGPWINLR   \n",
       "151108  274471 2015-05-15 17:43:29 2015-05-26 12:24:39     35  LYSFABUCPCGBA   \n",
       "151109  368416 2015-03-03 23:07:31 2015-05-20 07:07:47     40  MEQHCSJUBRBFE   \n",
       "151110  207709 2015-07-09 20:06:07 2015-09-07 09:34:46     46  CMCXFGRHYSTVJ   \n",
       "151111  138208 2015-06-10 07:02:20 2015-07-21 02:03:53     20  ZINIADFCLHYPG   \n",
       "\n",
       "         fonte browser genero  idade            ip  fraude             pais  \\\n",
       "0          SEO  Chrome      M     39  7.327584e+08       0            Japan   \n",
       "1          Ads  Chrome      F     53  3.503114e+08       0    United States   \n",
       "2          SEO   Opera      M     53  2.621474e+09       1    United States   \n",
       "3          SEO  Safari      M     41  3.840542e+09       0  missing_country   \n",
       "4          Ads  Safari      M     45  4.155831e+08       0    United States   \n",
       "...        ...     ...    ...    ...           ...     ...              ...   \n",
       "151107     SEO  Chrome      M     28  3.451155e+09       1    United States   \n",
       "151108     SEO  Safari      M     32  2.439047e+09       0      Netherlands   \n",
       "151109     SEO      IE      F     26  2.748471e+09       0            Japan   \n",
       "151110     SEO  Chrome      M     37  3.601175e+09       0    United States   \n",
       "151111  Direct      IE      M     38  4.103825e+09       0  missing_country   \n",
       "\n",
       "        tempo  id_por_dispositivo  id_por_ip  \n",
       "0       13882                   1          1  \n",
       "1       17944                   1          1  \n",
       "2           1                  12         12  \n",
       "3       60085                   1          1  \n",
       "4       41461                   1          1  \n",
       "...       ...                 ...        ...  \n",
       "151107  77233                   2          1  \n",
       "151108  67270                   1          1  \n",
       "151109  28816                   1          1  \n",
       "151110  48519                   2          1  \n",
       "151111  68493                   1          1  \n",
       "\n",
       "[151112 rows x 15 columns]"
      ]
     },
     "execution_count": 31,
     "metadata": {},
     "output_type": "execute_result"
    }
   ],
   "source": [
    "transacoes"
   ]
  },
  {
   "cell_type": "markdown",
   "id": "e35bbfba-7ca7-4123-b744-dfa2b269114b",
   "metadata": {},
   "source": [
    "Agora que temos as duas variáveis no dataframe `transacoes` vou criar outra variável:\n",
    "\n",
    "$$\\text{media id} = \\frac{\\text{id por dispositivo }+\\text{ id por IP}}{2}$$"
   ]
  },
  {
   "cell_type": "code",
   "execution_count": 32,
   "id": "048783a7-9b9b-4402-be79-1599f126fada",
   "metadata": {},
   "outputs": [],
   "source": [
    "transacoes['media_id'] = (transacoes['id_por_dispositivo'] + transacoes['id_por_ip']) / 2"
   ]
  },
  {
   "cell_type": "code",
   "execution_count": 33,
   "id": "e3e59abe-4565-400c-a788-3544ed148c25",
   "metadata": {},
   "outputs": [
    {
     "data": {
      "text/html": [
       "<div>\n",
       "<style scoped>\n",
       "    .dataframe tbody tr th:only-of-type {\n",
       "        vertical-align: middle;\n",
       "    }\n",
       "\n",
       "    .dataframe tbody tr th {\n",
       "        vertical-align: top;\n",
       "    }\n",
       "\n",
       "    .dataframe thead th {\n",
       "        text-align: right;\n",
       "    }\n",
       "</style>\n",
       "<table border=\"1\" class=\"dataframe\">\n",
       "  <thead>\n",
       "    <tr style=\"text-align: right;\">\n",
       "      <th></th>\n",
       "      <th>id</th>\n",
       "      <th>cadastro</th>\n",
       "      <th>compra</th>\n",
       "      <th>valor</th>\n",
       "      <th>id_dispositivo</th>\n",
       "      <th>fonte</th>\n",
       "      <th>browser</th>\n",
       "      <th>genero</th>\n",
       "      <th>idade</th>\n",
       "      <th>ip</th>\n",
       "      <th>fraude</th>\n",
       "      <th>pais</th>\n",
       "      <th>tempo</th>\n",
       "      <th>id_por_dispositivo</th>\n",
       "      <th>id_por_ip</th>\n",
       "      <th>media_id</th>\n",
       "    </tr>\n",
       "  </thead>\n",
       "  <tbody>\n",
       "    <tr>\n",
       "      <th>0</th>\n",
       "      <td>22058</td>\n",
       "      <td>2015-02-24 22:55:49</td>\n",
       "      <td>2015-04-18 02:47:11</td>\n",
       "      <td>34</td>\n",
       "      <td>QVPSPJUOCKZAR</td>\n",
       "      <td>SEO</td>\n",
       "      <td>Chrome</td>\n",
       "      <td>M</td>\n",
       "      <td>39</td>\n",
       "      <td>7.327584e+08</td>\n",
       "      <td>0</td>\n",
       "      <td>Japan</td>\n",
       "      <td>13882</td>\n",
       "      <td>1</td>\n",
       "      <td>1</td>\n",
       "      <td>1.0</td>\n",
       "    </tr>\n",
       "    <tr>\n",
       "      <th>1</th>\n",
       "      <td>333320</td>\n",
       "      <td>2015-06-07 20:39:50</td>\n",
       "      <td>2015-06-08 01:38:54</td>\n",
       "      <td>16</td>\n",
       "      <td>EOGFQPIZPYXFZ</td>\n",
       "      <td>Ads</td>\n",
       "      <td>Chrome</td>\n",
       "      <td>F</td>\n",
       "      <td>53</td>\n",
       "      <td>3.503114e+08</td>\n",
       "      <td>0</td>\n",
       "      <td>United States</td>\n",
       "      <td>17944</td>\n",
       "      <td>1</td>\n",
       "      <td>1</td>\n",
       "      <td>1.0</td>\n",
       "    </tr>\n",
       "    <tr>\n",
       "      <th>2</th>\n",
       "      <td>1359</td>\n",
       "      <td>2015-01-01 18:52:44</td>\n",
       "      <td>2015-01-01 18:52:45</td>\n",
       "      <td>15</td>\n",
       "      <td>YSSKYOSJHPPLJ</td>\n",
       "      <td>SEO</td>\n",
       "      <td>Opera</td>\n",
       "      <td>M</td>\n",
       "      <td>53</td>\n",
       "      <td>2.621474e+09</td>\n",
       "      <td>1</td>\n",
       "      <td>United States</td>\n",
       "      <td>1</td>\n",
       "      <td>12</td>\n",
       "      <td>12</td>\n",
       "      <td>12.0</td>\n",
       "    </tr>\n",
       "    <tr>\n",
       "      <th>3</th>\n",
       "      <td>150084</td>\n",
       "      <td>2015-04-28 21:13:25</td>\n",
       "      <td>2015-05-04 13:54:50</td>\n",
       "      <td>44</td>\n",
       "      <td>ATGTXKYKUDUQN</td>\n",
       "      <td>SEO</td>\n",
       "      <td>Safari</td>\n",
       "      <td>M</td>\n",
       "      <td>41</td>\n",
       "      <td>3.840542e+09</td>\n",
       "      <td>0</td>\n",
       "      <td>missing_country</td>\n",
       "      <td>60085</td>\n",
       "      <td>1</td>\n",
       "      <td>1</td>\n",
       "      <td>1.0</td>\n",
       "    </tr>\n",
       "    <tr>\n",
       "      <th>4</th>\n",
       "      <td>221365</td>\n",
       "      <td>2015-07-21 07:09:52</td>\n",
       "      <td>2015-09-09 18:40:53</td>\n",
       "      <td>39</td>\n",
       "      <td>NAUITBZFJKHWW</td>\n",
       "      <td>Ads</td>\n",
       "      <td>Safari</td>\n",
       "      <td>M</td>\n",
       "      <td>45</td>\n",
       "      <td>4.155831e+08</td>\n",
       "      <td>0</td>\n",
       "      <td>United States</td>\n",
       "      <td>41461</td>\n",
       "      <td>1</td>\n",
       "      <td>1</td>\n",
       "      <td>1.0</td>\n",
       "    </tr>\n",
       "    <tr>\n",
       "      <th>...</th>\n",
       "      <td>...</td>\n",
       "      <td>...</td>\n",
       "      <td>...</td>\n",
       "      <td>...</td>\n",
       "      <td>...</td>\n",
       "      <td>...</td>\n",
       "      <td>...</td>\n",
       "      <td>...</td>\n",
       "      <td>...</td>\n",
       "      <td>...</td>\n",
       "      <td>...</td>\n",
       "      <td>...</td>\n",
       "      <td>...</td>\n",
       "      <td>...</td>\n",
       "      <td>...</td>\n",
       "      <td>...</td>\n",
       "    </tr>\n",
       "    <tr>\n",
       "      <th>151107</th>\n",
       "      <td>345170</td>\n",
       "      <td>2015-01-27 03:03:34</td>\n",
       "      <td>2015-03-29 00:30:47</td>\n",
       "      <td>43</td>\n",
       "      <td>XPSKTWGPWINLR</td>\n",
       "      <td>SEO</td>\n",
       "      <td>Chrome</td>\n",
       "      <td>M</td>\n",
       "      <td>28</td>\n",
       "      <td>3.451155e+09</td>\n",
       "      <td>1</td>\n",
       "      <td>United States</td>\n",
       "      <td>77233</td>\n",
       "      <td>2</td>\n",
       "      <td>1</td>\n",
       "      <td>1.5</td>\n",
       "    </tr>\n",
       "    <tr>\n",
       "      <th>151108</th>\n",
       "      <td>274471</td>\n",
       "      <td>2015-05-15 17:43:29</td>\n",
       "      <td>2015-05-26 12:24:39</td>\n",
       "      <td>35</td>\n",
       "      <td>LYSFABUCPCGBA</td>\n",
       "      <td>SEO</td>\n",
       "      <td>Safari</td>\n",
       "      <td>M</td>\n",
       "      <td>32</td>\n",
       "      <td>2.439047e+09</td>\n",
       "      <td>0</td>\n",
       "      <td>Netherlands</td>\n",
       "      <td>67270</td>\n",
       "      <td>1</td>\n",
       "      <td>1</td>\n",
       "      <td>1.0</td>\n",
       "    </tr>\n",
       "    <tr>\n",
       "      <th>151109</th>\n",
       "      <td>368416</td>\n",
       "      <td>2015-03-03 23:07:31</td>\n",
       "      <td>2015-05-20 07:07:47</td>\n",
       "      <td>40</td>\n",
       "      <td>MEQHCSJUBRBFE</td>\n",
       "      <td>SEO</td>\n",
       "      <td>IE</td>\n",
       "      <td>F</td>\n",
       "      <td>26</td>\n",
       "      <td>2.748471e+09</td>\n",
       "      <td>0</td>\n",
       "      <td>Japan</td>\n",
       "      <td>28816</td>\n",
       "      <td>1</td>\n",
       "      <td>1</td>\n",
       "      <td>1.0</td>\n",
       "    </tr>\n",
       "    <tr>\n",
       "      <th>151110</th>\n",
       "      <td>207709</td>\n",
       "      <td>2015-07-09 20:06:07</td>\n",
       "      <td>2015-09-07 09:34:46</td>\n",
       "      <td>46</td>\n",
       "      <td>CMCXFGRHYSTVJ</td>\n",
       "      <td>SEO</td>\n",
       "      <td>Chrome</td>\n",
       "      <td>M</td>\n",
       "      <td>37</td>\n",
       "      <td>3.601175e+09</td>\n",
       "      <td>0</td>\n",
       "      <td>United States</td>\n",
       "      <td>48519</td>\n",
       "      <td>2</td>\n",
       "      <td>1</td>\n",
       "      <td>1.5</td>\n",
       "    </tr>\n",
       "    <tr>\n",
       "      <th>151111</th>\n",
       "      <td>138208</td>\n",
       "      <td>2015-06-10 07:02:20</td>\n",
       "      <td>2015-07-21 02:03:53</td>\n",
       "      <td>20</td>\n",
       "      <td>ZINIADFCLHYPG</td>\n",
       "      <td>Direct</td>\n",
       "      <td>IE</td>\n",
       "      <td>M</td>\n",
       "      <td>38</td>\n",
       "      <td>4.103825e+09</td>\n",
       "      <td>0</td>\n",
       "      <td>missing_country</td>\n",
       "      <td>68493</td>\n",
       "      <td>1</td>\n",
       "      <td>1</td>\n",
       "      <td>1.0</td>\n",
       "    </tr>\n",
       "  </tbody>\n",
       "</table>\n",
       "<p>151112 rows × 16 columns</p>\n",
       "</div>"
      ],
      "text/plain": [
       "            id            cadastro              compra  valor id_dispositivo  \\\n",
       "0        22058 2015-02-24 22:55:49 2015-04-18 02:47:11     34  QVPSPJUOCKZAR   \n",
       "1       333320 2015-06-07 20:39:50 2015-06-08 01:38:54     16  EOGFQPIZPYXFZ   \n",
       "2         1359 2015-01-01 18:52:44 2015-01-01 18:52:45     15  YSSKYOSJHPPLJ   \n",
       "3       150084 2015-04-28 21:13:25 2015-05-04 13:54:50     44  ATGTXKYKUDUQN   \n",
       "4       221365 2015-07-21 07:09:52 2015-09-09 18:40:53     39  NAUITBZFJKHWW   \n",
       "...        ...                 ...                 ...    ...            ...   \n",
       "151107  345170 2015-01-27 03:03:34 2015-03-29 00:30:47     43  XPSKTWGPWINLR   \n",
       "151108  274471 2015-05-15 17:43:29 2015-05-26 12:24:39     35  LYSFABUCPCGBA   \n",
       "151109  368416 2015-03-03 23:07:31 2015-05-20 07:07:47     40  MEQHCSJUBRBFE   \n",
       "151110  207709 2015-07-09 20:06:07 2015-09-07 09:34:46     46  CMCXFGRHYSTVJ   \n",
       "151111  138208 2015-06-10 07:02:20 2015-07-21 02:03:53     20  ZINIADFCLHYPG   \n",
       "\n",
       "         fonte browser genero  idade            ip  fraude             pais  \\\n",
       "0          SEO  Chrome      M     39  7.327584e+08       0            Japan   \n",
       "1          Ads  Chrome      F     53  3.503114e+08       0    United States   \n",
       "2          SEO   Opera      M     53  2.621474e+09       1    United States   \n",
       "3          SEO  Safari      M     41  3.840542e+09       0  missing_country   \n",
       "4          Ads  Safari      M     45  4.155831e+08       0    United States   \n",
       "...        ...     ...    ...    ...           ...     ...              ...   \n",
       "151107     SEO  Chrome      M     28  3.451155e+09       1    United States   \n",
       "151108     SEO  Safari      M     32  2.439047e+09       0      Netherlands   \n",
       "151109     SEO      IE      F     26  2.748471e+09       0            Japan   \n",
       "151110     SEO  Chrome      M     37  3.601175e+09       0    United States   \n",
       "151111  Direct      IE      M     38  4.103825e+09       0  missing_country   \n",
       "\n",
       "        tempo  id_por_dispositivo  id_por_ip  media_id  \n",
       "0       13882                   1          1       1.0  \n",
       "1       17944                   1          1       1.0  \n",
       "2           1                  12         12      12.0  \n",
       "3       60085                   1          1       1.0  \n",
       "4       41461                   1          1       1.0  \n",
       "...       ...                 ...        ...       ...  \n",
       "151107  77233                   2          1       1.5  \n",
       "151108  67270                   1          1       1.0  \n",
       "151109  28816                   1          1       1.0  \n",
       "151110  48519                   2          1       1.5  \n",
       "151111  68493                   1          1       1.0  \n",
       "\n",
       "[151112 rows x 16 columns]"
      ]
     },
     "execution_count": 33,
     "metadata": {},
     "output_type": "execute_result"
    }
   ],
   "source": [
    "transacoes"
   ]
  },
  {
   "cell_type": "markdown",
   "id": "f6c50202-91ea-4937-8dc7-7cd8186941b0",
   "metadata": {},
   "source": [
    "## Quebrar a variável `pais` em varias variaveis\n",
    "\n",
    "Precisamos fazer um processo de \"pivot\" na variável `pais` ou o processo *dummies*, que é basicamente transformar cada uma das categorias (paises) em uma variável, isso irá gerar uma matriz esparsa, veja, vou transformar países em uma variável:"
   ]
  },
  {
   "cell_type": "code",
   "execution_count": 34,
   "id": "392fcde7-ca29-43a1-8b8a-09e4ed89947d",
   "metadata": {},
   "outputs": [
    {
     "data": {
      "text/html": [
       "<div>\n",
       "<style scoped>\n",
       "    .dataframe tbody tr th:only-of-type {\n",
       "        vertical-align: middle;\n",
       "    }\n",
       "\n",
       "    .dataframe tbody tr th {\n",
       "        vertical-align: top;\n",
       "    }\n",
       "\n",
       "    .dataframe thead th {\n",
       "        text-align: right;\n",
       "    }\n",
       "</style>\n",
       "<table border=\"1\" class=\"dataframe\">\n",
       "  <thead>\n",
       "    <tr style=\"text-align: right;\">\n",
       "      <th></th>\n",
       "      <th>pais_Afghanistan</th>\n",
       "      <th>pais_Albania</th>\n",
       "      <th>pais_Algeria</th>\n",
       "      <th>pais_Angola</th>\n",
       "      <th>pais_Antigua and Barbuda</th>\n",
       "      <th>pais_Argentina</th>\n",
       "      <th>pais_Armenia</th>\n",
       "      <th>pais_Australia</th>\n",
       "      <th>pais_Austria</th>\n",
       "      <th>pais_Azerbaijan</th>\n",
       "      <th>...</th>\n",
       "      <th>pais_Uruguay</th>\n",
       "      <th>pais_Uzbekistan</th>\n",
       "      <th>pais_Vanuatu</th>\n",
       "      <th>pais_Venezuela</th>\n",
       "      <th>pais_Viet Nam</th>\n",
       "      <th>pais_Virgin Islands (U.S.)</th>\n",
       "      <th>pais_Yemen</th>\n",
       "      <th>pais_Zambia</th>\n",
       "      <th>pais_Zimbabwe</th>\n",
       "      <th>pais_missing_country</th>\n",
       "    </tr>\n",
       "  </thead>\n",
       "  <tbody>\n",
       "    <tr>\n",
       "      <th>0</th>\n",
       "      <td>0</td>\n",
       "      <td>0</td>\n",
       "      <td>0</td>\n",
       "      <td>0</td>\n",
       "      <td>0</td>\n",
       "      <td>0</td>\n",
       "      <td>0</td>\n",
       "      <td>0</td>\n",
       "      <td>0</td>\n",
       "      <td>0</td>\n",
       "      <td>...</td>\n",
       "      <td>0</td>\n",
       "      <td>0</td>\n",
       "      <td>0</td>\n",
       "      <td>0</td>\n",
       "      <td>0</td>\n",
       "      <td>0</td>\n",
       "      <td>0</td>\n",
       "      <td>0</td>\n",
       "      <td>0</td>\n",
       "      <td>0</td>\n",
       "    </tr>\n",
       "    <tr>\n",
       "      <th>1</th>\n",
       "      <td>0</td>\n",
       "      <td>0</td>\n",
       "      <td>0</td>\n",
       "      <td>0</td>\n",
       "      <td>0</td>\n",
       "      <td>0</td>\n",
       "      <td>0</td>\n",
       "      <td>0</td>\n",
       "      <td>0</td>\n",
       "      <td>0</td>\n",
       "      <td>...</td>\n",
       "      <td>0</td>\n",
       "      <td>0</td>\n",
       "      <td>0</td>\n",
       "      <td>0</td>\n",
       "      <td>0</td>\n",
       "      <td>0</td>\n",
       "      <td>0</td>\n",
       "      <td>0</td>\n",
       "      <td>0</td>\n",
       "      <td>0</td>\n",
       "    </tr>\n",
       "    <tr>\n",
       "      <th>2</th>\n",
       "      <td>0</td>\n",
       "      <td>0</td>\n",
       "      <td>0</td>\n",
       "      <td>0</td>\n",
       "      <td>0</td>\n",
       "      <td>0</td>\n",
       "      <td>0</td>\n",
       "      <td>0</td>\n",
       "      <td>0</td>\n",
       "      <td>0</td>\n",
       "      <td>...</td>\n",
       "      <td>0</td>\n",
       "      <td>0</td>\n",
       "      <td>0</td>\n",
       "      <td>0</td>\n",
       "      <td>0</td>\n",
       "      <td>0</td>\n",
       "      <td>0</td>\n",
       "      <td>0</td>\n",
       "      <td>0</td>\n",
       "      <td>0</td>\n",
       "    </tr>\n",
       "    <tr>\n",
       "      <th>3</th>\n",
       "      <td>0</td>\n",
       "      <td>0</td>\n",
       "      <td>0</td>\n",
       "      <td>0</td>\n",
       "      <td>0</td>\n",
       "      <td>0</td>\n",
       "      <td>0</td>\n",
       "      <td>0</td>\n",
       "      <td>0</td>\n",
       "      <td>0</td>\n",
       "      <td>...</td>\n",
       "      <td>0</td>\n",
       "      <td>0</td>\n",
       "      <td>0</td>\n",
       "      <td>0</td>\n",
       "      <td>0</td>\n",
       "      <td>0</td>\n",
       "      <td>0</td>\n",
       "      <td>0</td>\n",
       "      <td>0</td>\n",
       "      <td>1</td>\n",
       "    </tr>\n",
       "    <tr>\n",
       "      <th>4</th>\n",
       "      <td>0</td>\n",
       "      <td>0</td>\n",
       "      <td>0</td>\n",
       "      <td>0</td>\n",
       "      <td>0</td>\n",
       "      <td>0</td>\n",
       "      <td>0</td>\n",
       "      <td>0</td>\n",
       "      <td>0</td>\n",
       "      <td>0</td>\n",
       "      <td>...</td>\n",
       "      <td>0</td>\n",
       "      <td>0</td>\n",
       "      <td>0</td>\n",
       "      <td>0</td>\n",
       "      <td>0</td>\n",
       "      <td>0</td>\n",
       "      <td>0</td>\n",
       "      <td>0</td>\n",
       "      <td>0</td>\n",
       "      <td>0</td>\n",
       "    </tr>\n",
       "    <tr>\n",
       "      <th>...</th>\n",
       "      <td>...</td>\n",
       "      <td>...</td>\n",
       "      <td>...</td>\n",
       "      <td>...</td>\n",
       "      <td>...</td>\n",
       "      <td>...</td>\n",
       "      <td>...</td>\n",
       "      <td>...</td>\n",
       "      <td>...</td>\n",
       "      <td>...</td>\n",
       "      <td>...</td>\n",
       "      <td>...</td>\n",
       "      <td>...</td>\n",
       "      <td>...</td>\n",
       "      <td>...</td>\n",
       "      <td>...</td>\n",
       "      <td>...</td>\n",
       "      <td>...</td>\n",
       "      <td>...</td>\n",
       "      <td>...</td>\n",
       "      <td>...</td>\n",
       "    </tr>\n",
       "    <tr>\n",
       "      <th>151107</th>\n",
       "      <td>0</td>\n",
       "      <td>0</td>\n",
       "      <td>0</td>\n",
       "      <td>0</td>\n",
       "      <td>0</td>\n",
       "      <td>0</td>\n",
       "      <td>0</td>\n",
       "      <td>0</td>\n",
       "      <td>0</td>\n",
       "      <td>0</td>\n",
       "      <td>...</td>\n",
       "      <td>0</td>\n",
       "      <td>0</td>\n",
       "      <td>0</td>\n",
       "      <td>0</td>\n",
       "      <td>0</td>\n",
       "      <td>0</td>\n",
       "      <td>0</td>\n",
       "      <td>0</td>\n",
       "      <td>0</td>\n",
       "      <td>0</td>\n",
       "    </tr>\n",
       "    <tr>\n",
       "      <th>151108</th>\n",
       "      <td>0</td>\n",
       "      <td>0</td>\n",
       "      <td>0</td>\n",
       "      <td>0</td>\n",
       "      <td>0</td>\n",
       "      <td>0</td>\n",
       "      <td>0</td>\n",
       "      <td>0</td>\n",
       "      <td>0</td>\n",
       "      <td>0</td>\n",
       "      <td>...</td>\n",
       "      <td>0</td>\n",
       "      <td>0</td>\n",
       "      <td>0</td>\n",
       "      <td>0</td>\n",
       "      <td>0</td>\n",
       "      <td>0</td>\n",
       "      <td>0</td>\n",
       "      <td>0</td>\n",
       "      <td>0</td>\n",
       "      <td>0</td>\n",
       "    </tr>\n",
       "    <tr>\n",
       "      <th>151109</th>\n",
       "      <td>0</td>\n",
       "      <td>0</td>\n",
       "      <td>0</td>\n",
       "      <td>0</td>\n",
       "      <td>0</td>\n",
       "      <td>0</td>\n",
       "      <td>0</td>\n",
       "      <td>0</td>\n",
       "      <td>0</td>\n",
       "      <td>0</td>\n",
       "      <td>...</td>\n",
       "      <td>0</td>\n",
       "      <td>0</td>\n",
       "      <td>0</td>\n",
       "      <td>0</td>\n",
       "      <td>0</td>\n",
       "      <td>0</td>\n",
       "      <td>0</td>\n",
       "      <td>0</td>\n",
       "      <td>0</td>\n",
       "      <td>0</td>\n",
       "    </tr>\n",
       "    <tr>\n",
       "      <th>151110</th>\n",
       "      <td>0</td>\n",
       "      <td>0</td>\n",
       "      <td>0</td>\n",
       "      <td>0</td>\n",
       "      <td>0</td>\n",
       "      <td>0</td>\n",
       "      <td>0</td>\n",
       "      <td>0</td>\n",
       "      <td>0</td>\n",
       "      <td>0</td>\n",
       "      <td>...</td>\n",
       "      <td>0</td>\n",
       "      <td>0</td>\n",
       "      <td>0</td>\n",
       "      <td>0</td>\n",
       "      <td>0</td>\n",
       "      <td>0</td>\n",
       "      <td>0</td>\n",
       "      <td>0</td>\n",
       "      <td>0</td>\n",
       "      <td>0</td>\n",
       "    </tr>\n",
       "    <tr>\n",
       "      <th>151111</th>\n",
       "      <td>0</td>\n",
       "      <td>0</td>\n",
       "      <td>0</td>\n",
       "      <td>0</td>\n",
       "      <td>0</td>\n",
       "      <td>0</td>\n",
       "      <td>0</td>\n",
       "      <td>0</td>\n",
       "      <td>0</td>\n",
       "      <td>0</td>\n",
       "      <td>...</td>\n",
       "      <td>0</td>\n",
       "      <td>0</td>\n",
       "      <td>0</td>\n",
       "      <td>0</td>\n",
       "      <td>0</td>\n",
       "      <td>0</td>\n",
       "      <td>0</td>\n",
       "      <td>0</td>\n",
       "      <td>0</td>\n",
       "      <td>1</td>\n",
       "    </tr>\n",
       "  </tbody>\n",
       "</table>\n",
       "<p>151112 rows × 182 columns</p>\n",
       "</div>"
      ],
      "text/plain": [
       "        pais_Afghanistan  pais_Albania  pais_Algeria  pais_Angola  \\\n",
       "0                      0             0             0            0   \n",
       "1                      0             0             0            0   \n",
       "2                      0             0             0            0   \n",
       "3                      0             0             0            0   \n",
       "4                      0             0             0            0   \n",
       "...                  ...           ...           ...          ...   \n",
       "151107                 0             0             0            0   \n",
       "151108                 0             0             0            0   \n",
       "151109                 0             0             0            0   \n",
       "151110                 0             0             0            0   \n",
       "151111                 0             0             0            0   \n",
       "\n",
       "        pais_Antigua and Barbuda  pais_Argentina  pais_Armenia  \\\n",
       "0                              0               0             0   \n",
       "1                              0               0             0   \n",
       "2                              0               0             0   \n",
       "3                              0               0             0   \n",
       "4                              0               0             0   \n",
       "...                          ...             ...           ...   \n",
       "151107                         0               0             0   \n",
       "151108                         0               0             0   \n",
       "151109                         0               0             0   \n",
       "151110                         0               0             0   \n",
       "151111                         0               0             0   \n",
       "\n",
       "        pais_Australia  pais_Austria  pais_Azerbaijan  ...  pais_Uruguay  \\\n",
       "0                    0             0                0  ...             0   \n",
       "1                    0             0                0  ...             0   \n",
       "2                    0             0                0  ...             0   \n",
       "3                    0             0                0  ...             0   \n",
       "4                    0             0                0  ...             0   \n",
       "...                ...           ...              ...  ...           ...   \n",
       "151107               0             0                0  ...             0   \n",
       "151108               0             0                0  ...             0   \n",
       "151109               0             0                0  ...             0   \n",
       "151110               0             0                0  ...             0   \n",
       "151111               0             0                0  ...             0   \n",
       "\n",
       "        pais_Uzbekistan  pais_Vanuatu  pais_Venezuela  pais_Viet Nam  \\\n",
       "0                     0             0               0              0   \n",
       "1                     0             0               0              0   \n",
       "2                     0             0               0              0   \n",
       "3                     0             0               0              0   \n",
       "4                     0             0               0              0   \n",
       "...                 ...           ...             ...            ...   \n",
       "151107                0             0               0              0   \n",
       "151108                0             0               0              0   \n",
       "151109                0             0               0              0   \n",
       "151110                0             0               0              0   \n",
       "151111                0             0               0              0   \n",
       "\n",
       "        pais_Virgin Islands (U.S.)  pais_Yemen  pais_Zambia  pais_Zimbabwe  \\\n",
       "0                                0           0            0              0   \n",
       "1                                0           0            0              0   \n",
       "2                                0           0            0              0   \n",
       "3                                0           0            0              0   \n",
       "4                                0           0            0              0   \n",
       "...                            ...         ...          ...            ...   \n",
       "151107                           0           0            0              0   \n",
       "151108                           0           0            0              0   \n",
       "151109                           0           0            0              0   \n",
       "151110                           0           0            0              0   \n",
       "151111                           0           0            0              0   \n",
       "\n",
       "        pais_missing_country  \n",
       "0                          0  \n",
       "1                          0  \n",
       "2                          0  \n",
       "3                          1  \n",
       "4                          0  \n",
       "...                      ...  \n",
       "151107                     0  \n",
       "151108                     0  \n",
       "151109                     0  \n",
       "151110                     0  \n",
       "151111                     1  \n",
       "\n",
       "[151112 rows x 182 columns]"
      ]
     },
     "execution_count": 34,
     "metadata": {},
     "output_type": "execute_result"
    }
   ],
   "source": [
    "paises = pd.get_dummies(transacoes.pais, prefix='pais')\n",
    "paises"
   ]
  },
  {
   "cell_type": "markdown",
   "id": "9f6c3b4a-098d-41c2-8a33-95b12d467073",
   "metadata": {},
   "source": [
    "Agora o que é preciso fazer é concatenar as variaveis `paises` com as `transacoes`:"
   ]
  },
  {
   "cell_type": "code",
   "execution_count": 35,
   "id": "73ecca0f-f15e-4e62-8520-0d9ef6adf8cb",
   "metadata": {},
   "outputs": [],
   "source": [
    "transacoes = pd.concat([transacoes, paises], axis=1)"
   ]
  },
  {
   "cell_type": "code",
   "execution_count": 36,
   "id": "8988cce7-b602-4459-b8cb-f27c68b8ade6",
   "metadata": {},
   "outputs": [
    {
     "data": {
      "text/html": [
       "<div>\n",
       "<style scoped>\n",
       "    .dataframe tbody tr th:only-of-type {\n",
       "        vertical-align: middle;\n",
       "    }\n",
       "\n",
       "    .dataframe tbody tr th {\n",
       "        vertical-align: top;\n",
       "    }\n",
       "\n",
       "    .dataframe thead th {\n",
       "        text-align: right;\n",
       "    }\n",
       "</style>\n",
       "<table border=\"1\" class=\"dataframe\">\n",
       "  <thead>\n",
       "    <tr style=\"text-align: right;\">\n",
       "      <th></th>\n",
       "      <th>id</th>\n",
       "      <th>cadastro</th>\n",
       "      <th>compra</th>\n",
       "      <th>valor</th>\n",
       "      <th>id_dispositivo</th>\n",
       "      <th>fonte</th>\n",
       "      <th>browser</th>\n",
       "      <th>genero</th>\n",
       "      <th>idade</th>\n",
       "      <th>ip</th>\n",
       "      <th>...</th>\n",
       "      <th>pais_Uruguay</th>\n",
       "      <th>pais_Uzbekistan</th>\n",
       "      <th>pais_Vanuatu</th>\n",
       "      <th>pais_Venezuela</th>\n",
       "      <th>pais_Viet Nam</th>\n",
       "      <th>pais_Virgin Islands (U.S.)</th>\n",
       "      <th>pais_Yemen</th>\n",
       "      <th>pais_Zambia</th>\n",
       "      <th>pais_Zimbabwe</th>\n",
       "      <th>pais_missing_country</th>\n",
       "    </tr>\n",
       "  </thead>\n",
       "  <tbody>\n",
       "    <tr>\n",
       "      <th>0</th>\n",
       "      <td>22058</td>\n",
       "      <td>2015-02-24 22:55:49</td>\n",
       "      <td>2015-04-18 02:47:11</td>\n",
       "      <td>34</td>\n",
       "      <td>QVPSPJUOCKZAR</td>\n",
       "      <td>SEO</td>\n",
       "      <td>Chrome</td>\n",
       "      <td>M</td>\n",
       "      <td>39</td>\n",
       "      <td>7.327584e+08</td>\n",
       "      <td>...</td>\n",
       "      <td>0</td>\n",
       "      <td>0</td>\n",
       "      <td>0</td>\n",
       "      <td>0</td>\n",
       "      <td>0</td>\n",
       "      <td>0</td>\n",
       "      <td>0</td>\n",
       "      <td>0</td>\n",
       "      <td>0</td>\n",
       "      <td>0</td>\n",
       "    </tr>\n",
       "    <tr>\n",
       "      <th>1</th>\n",
       "      <td>333320</td>\n",
       "      <td>2015-06-07 20:39:50</td>\n",
       "      <td>2015-06-08 01:38:54</td>\n",
       "      <td>16</td>\n",
       "      <td>EOGFQPIZPYXFZ</td>\n",
       "      <td>Ads</td>\n",
       "      <td>Chrome</td>\n",
       "      <td>F</td>\n",
       "      <td>53</td>\n",
       "      <td>3.503114e+08</td>\n",
       "      <td>...</td>\n",
       "      <td>0</td>\n",
       "      <td>0</td>\n",
       "      <td>0</td>\n",
       "      <td>0</td>\n",
       "      <td>0</td>\n",
       "      <td>0</td>\n",
       "      <td>0</td>\n",
       "      <td>0</td>\n",
       "      <td>0</td>\n",
       "      <td>0</td>\n",
       "    </tr>\n",
       "    <tr>\n",
       "      <th>2</th>\n",
       "      <td>1359</td>\n",
       "      <td>2015-01-01 18:52:44</td>\n",
       "      <td>2015-01-01 18:52:45</td>\n",
       "      <td>15</td>\n",
       "      <td>YSSKYOSJHPPLJ</td>\n",
       "      <td>SEO</td>\n",
       "      <td>Opera</td>\n",
       "      <td>M</td>\n",
       "      <td>53</td>\n",
       "      <td>2.621474e+09</td>\n",
       "      <td>...</td>\n",
       "      <td>0</td>\n",
       "      <td>0</td>\n",
       "      <td>0</td>\n",
       "      <td>0</td>\n",
       "      <td>0</td>\n",
       "      <td>0</td>\n",
       "      <td>0</td>\n",
       "      <td>0</td>\n",
       "      <td>0</td>\n",
       "      <td>0</td>\n",
       "    </tr>\n",
       "    <tr>\n",
       "      <th>3</th>\n",
       "      <td>150084</td>\n",
       "      <td>2015-04-28 21:13:25</td>\n",
       "      <td>2015-05-04 13:54:50</td>\n",
       "      <td>44</td>\n",
       "      <td>ATGTXKYKUDUQN</td>\n",
       "      <td>SEO</td>\n",
       "      <td>Safari</td>\n",
       "      <td>M</td>\n",
       "      <td>41</td>\n",
       "      <td>3.840542e+09</td>\n",
       "      <td>...</td>\n",
       "      <td>0</td>\n",
       "      <td>0</td>\n",
       "      <td>0</td>\n",
       "      <td>0</td>\n",
       "      <td>0</td>\n",
       "      <td>0</td>\n",
       "      <td>0</td>\n",
       "      <td>0</td>\n",
       "      <td>0</td>\n",
       "      <td>1</td>\n",
       "    </tr>\n",
       "    <tr>\n",
       "      <th>4</th>\n",
       "      <td>221365</td>\n",
       "      <td>2015-07-21 07:09:52</td>\n",
       "      <td>2015-09-09 18:40:53</td>\n",
       "      <td>39</td>\n",
       "      <td>NAUITBZFJKHWW</td>\n",
       "      <td>Ads</td>\n",
       "      <td>Safari</td>\n",
       "      <td>M</td>\n",
       "      <td>45</td>\n",
       "      <td>4.155831e+08</td>\n",
       "      <td>...</td>\n",
       "      <td>0</td>\n",
       "      <td>0</td>\n",
       "      <td>0</td>\n",
       "      <td>0</td>\n",
       "      <td>0</td>\n",
       "      <td>0</td>\n",
       "      <td>0</td>\n",
       "      <td>0</td>\n",
       "      <td>0</td>\n",
       "      <td>0</td>\n",
       "    </tr>\n",
       "  </tbody>\n",
       "</table>\n",
       "<p>5 rows × 198 columns</p>\n",
       "</div>"
      ],
      "text/plain": [
       "       id            cadastro              compra  valor id_dispositivo fonte  \\\n",
       "0   22058 2015-02-24 22:55:49 2015-04-18 02:47:11     34  QVPSPJUOCKZAR   SEO   \n",
       "1  333320 2015-06-07 20:39:50 2015-06-08 01:38:54     16  EOGFQPIZPYXFZ   Ads   \n",
       "2    1359 2015-01-01 18:52:44 2015-01-01 18:52:45     15  YSSKYOSJHPPLJ   SEO   \n",
       "3  150084 2015-04-28 21:13:25 2015-05-04 13:54:50     44  ATGTXKYKUDUQN   SEO   \n",
       "4  221365 2015-07-21 07:09:52 2015-09-09 18:40:53     39  NAUITBZFJKHWW   Ads   \n",
       "\n",
       "  browser genero  idade            ip  ...  pais_Uruguay pais_Uzbekistan  \\\n",
       "0  Chrome      M     39  7.327584e+08  ...             0               0   \n",
       "1  Chrome      F     53  3.503114e+08  ...             0               0   \n",
       "2   Opera      M     53  2.621474e+09  ...             0               0   \n",
       "3  Safari      M     41  3.840542e+09  ...             0               0   \n",
       "4  Safari      M     45  4.155831e+08  ...             0               0   \n",
       "\n",
       "   pais_Vanuatu  pais_Venezuela  pais_Viet Nam  pais_Virgin Islands (U.S.)  \\\n",
       "0             0               0              0                           0   \n",
       "1             0               0              0                           0   \n",
       "2             0               0              0                           0   \n",
       "3             0               0              0                           0   \n",
       "4             0               0              0                           0   \n",
       "\n",
       "   pais_Yemen  pais_Zambia  pais_Zimbabwe  pais_missing_country  \n",
       "0           0            0              0                     0  \n",
       "1           0            0              0                     0  \n",
       "2           0            0              0                     0  \n",
       "3           0            0              0                     1  \n",
       "4           0            0              0                     0  \n",
       "\n",
       "[5 rows x 198 columns]"
      ]
     },
     "execution_count": 36,
     "metadata": {},
     "output_type": "execute_result"
    }
   ],
   "source": [
    "transacoes.head()"
   ]
  },
  {
   "cell_type": "markdown",
   "id": "40c931b9-1cb9-427d-be3f-0ffe79f6244f",
   "metadata": {},
   "source": [
    "Note que agora temos 198 colunas... E diferente do problema anterior precisamos de alguma forma condensar ou remover algumas counas.\n",
    "\n",
    "A principo vou utilizar a função drop para remover algumas variáveis, por exemplo a `pais`. As variáveis a serem removidas são todas as analisadas na Análise exploratória exceto `media_id` que construimos:\n",
    "\n",
    "\n"
   ]
  },
  {
   "cell_type": "code",
   "execution_count": 37,
   "id": "29b61b5f-828d-4e50-8203-9e1bdcc4929c",
   "metadata": {},
   "outputs": [
    {
     "data": {
      "text/html": [
       "<div>\n",
       "<style scoped>\n",
       "    .dataframe tbody tr th:only-of-type {\n",
       "        vertical-align: middle;\n",
       "    }\n",
       "\n",
       "    .dataframe tbody tr th {\n",
       "        vertical-align: top;\n",
       "    }\n",
       "\n",
       "    .dataframe thead th {\n",
       "        text-align: right;\n",
       "    }\n",
       "</style>\n",
       "<table border=\"1\" class=\"dataframe\">\n",
       "  <thead>\n",
       "    <tr style=\"text-align: right;\">\n",
       "      <th></th>\n",
       "      <th>fraude</th>\n",
       "      <th>tempo</th>\n",
       "      <th>media_id</th>\n",
       "      <th>pais_Afghanistan</th>\n",
       "      <th>pais_Albania</th>\n",
       "      <th>pais_Algeria</th>\n",
       "      <th>pais_Angola</th>\n",
       "      <th>pais_Antigua and Barbuda</th>\n",
       "      <th>pais_Argentina</th>\n",
       "      <th>pais_Armenia</th>\n",
       "      <th>...</th>\n",
       "      <th>pais_Uruguay</th>\n",
       "      <th>pais_Uzbekistan</th>\n",
       "      <th>pais_Vanuatu</th>\n",
       "      <th>pais_Venezuela</th>\n",
       "      <th>pais_Viet Nam</th>\n",
       "      <th>pais_Virgin Islands (U.S.)</th>\n",
       "      <th>pais_Yemen</th>\n",
       "      <th>pais_Zambia</th>\n",
       "      <th>pais_Zimbabwe</th>\n",
       "      <th>pais_missing_country</th>\n",
       "    </tr>\n",
       "  </thead>\n",
       "  <tbody>\n",
       "    <tr>\n",
       "      <th>0</th>\n",
       "      <td>0</td>\n",
       "      <td>13882</td>\n",
       "      <td>1.0</td>\n",
       "      <td>0</td>\n",
       "      <td>0</td>\n",
       "      <td>0</td>\n",
       "      <td>0</td>\n",
       "      <td>0</td>\n",
       "      <td>0</td>\n",
       "      <td>0</td>\n",
       "      <td>...</td>\n",
       "      <td>0</td>\n",
       "      <td>0</td>\n",
       "      <td>0</td>\n",
       "      <td>0</td>\n",
       "      <td>0</td>\n",
       "      <td>0</td>\n",
       "      <td>0</td>\n",
       "      <td>0</td>\n",
       "      <td>0</td>\n",
       "      <td>0</td>\n",
       "    </tr>\n",
       "    <tr>\n",
       "      <th>1</th>\n",
       "      <td>0</td>\n",
       "      <td>17944</td>\n",
       "      <td>1.0</td>\n",
       "      <td>0</td>\n",
       "      <td>0</td>\n",
       "      <td>0</td>\n",
       "      <td>0</td>\n",
       "      <td>0</td>\n",
       "      <td>0</td>\n",
       "      <td>0</td>\n",
       "      <td>...</td>\n",
       "      <td>0</td>\n",
       "      <td>0</td>\n",
       "      <td>0</td>\n",
       "      <td>0</td>\n",
       "      <td>0</td>\n",
       "      <td>0</td>\n",
       "      <td>0</td>\n",
       "      <td>0</td>\n",
       "      <td>0</td>\n",
       "      <td>0</td>\n",
       "    </tr>\n",
       "    <tr>\n",
       "      <th>2</th>\n",
       "      <td>1</td>\n",
       "      <td>1</td>\n",
       "      <td>12.0</td>\n",
       "      <td>0</td>\n",
       "      <td>0</td>\n",
       "      <td>0</td>\n",
       "      <td>0</td>\n",
       "      <td>0</td>\n",
       "      <td>0</td>\n",
       "      <td>0</td>\n",
       "      <td>...</td>\n",
       "      <td>0</td>\n",
       "      <td>0</td>\n",
       "      <td>0</td>\n",
       "      <td>0</td>\n",
       "      <td>0</td>\n",
       "      <td>0</td>\n",
       "      <td>0</td>\n",
       "      <td>0</td>\n",
       "      <td>0</td>\n",
       "      <td>0</td>\n",
       "    </tr>\n",
       "    <tr>\n",
       "      <th>3</th>\n",
       "      <td>0</td>\n",
       "      <td>60085</td>\n",
       "      <td>1.0</td>\n",
       "      <td>0</td>\n",
       "      <td>0</td>\n",
       "      <td>0</td>\n",
       "      <td>0</td>\n",
       "      <td>0</td>\n",
       "      <td>0</td>\n",
       "      <td>0</td>\n",
       "      <td>...</td>\n",
       "      <td>0</td>\n",
       "      <td>0</td>\n",
       "      <td>0</td>\n",
       "      <td>0</td>\n",
       "      <td>0</td>\n",
       "      <td>0</td>\n",
       "      <td>0</td>\n",
       "      <td>0</td>\n",
       "      <td>0</td>\n",
       "      <td>1</td>\n",
       "    </tr>\n",
       "    <tr>\n",
       "      <th>4</th>\n",
       "      <td>0</td>\n",
       "      <td>41461</td>\n",
       "      <td>1.0</td>\n",
       "      <td>0</td>\n",
       "      <td>0</td>\n",
       "      <td>0</td>\n",
       "      <td>0</td>\n",
       "      <td>0</td>\n",
       "      <td>0</td>\n",
       "      <td>0</td>\n",
       "      <td>...</td>\n",
       "      <td>0</td>\n",
       "      <td>0</td>\n",
       "      <td>0</td>\n",
       "      <td>0</td>\n",
       "      <td>0</td>\n",
       "      <td>0</td>\n",
       "      <td>0</td>\n",
       "      <td>0</td>\n",
       "      <td>0</td>\n",
       "      <td>0</td>\n",
       "    </tr>\n",
       "  </tbody>\n",
       "</table>\n",
       "<p>5 rows × 185 columns</p>\n",
       "</div>"
      ],
      "text/plain": [
       "   fraude  tempo  media_id  pais_Afghanistan  pais_Albania  pais_Algeria  \\\n",
       "0       0  13882       1.0                 0             0             0   \n",
       "1       0  17944       1.0                 0             0             0   \n",
       "2       1      1      12.0                 0             0             0   \n",
       "3       0  60085       1.0                 0             0             0   \n",
       "4       0  41461       1.0                 0             0             0   \n",
       "\n",
       "   pais_Angola  pais_Antigua and Barbuda  pais_Argentina  pais_Armenia  ...  \\\n",
       "0            0                         0               0             0  ...   \n",
       "1            0                         0               0             0  ...   \n",
       "2            0                         0               0             0  ...   \n",
       "3            0                         0               0             0  ...   \n",
       "4            0                         0               0             0  ...   \n",
       "\n",
       "   pais_Uruguay  pais_Uzbekistan  pais_Vanuatu  pais_Venezuela  pais_Viet Nam  \\\n",
       "0             0                0             0               0              0   \n",
       "1             0                0             0               0              0   \n",
       "2             0                0             0               0              0   \n",
       "3             0                0             0               0              0   \n",
       "4             0                0             0               0              0   \n",
       "\n",
       "   pais_Virgin Islands (U.S.)  pais_Yemen  pais_Zambia  pais_Zimbabwe  \\\n",
       "0                           0           0            0              0   \n",
       "1                           0           0            0              0   \n",
       "2                           0           0            0              0   \n",
       "3                           0           0            0              0   \n",
       "4                           0           0            0              0   \n",
       "\n",
       "   pais_missing_country  \n",
       "0                     0  \n",
       "1                     0  \n",
       "2                     0  \n",
       "3                     1  \n",
       "4                     0  \n",
       "\n",
       "[5 rows x 185 columns]"
      ]
     },
     "execution_count": 37,
     "metadata": {},
     "output_type": "execute_result"
    }
   ],
   "source": [
    "transacoes = transacoes.drop(['id','cadastro','compra','valor','fonte',\n",
    "                             'browser', 'genero','idade', 'id_dispositivo','ip','id_por_dispositivo',\n",
    "                             'id_por_ip', 'pais'], axis=1)\n",
    "transacoes.head()"
   ]
  },
  {
   "cell_type": "markdown",
   "id": "670d887b-4d1c-451d-bfff-294b4d3d298d",
   "metadata": {},
   "source": [
    "## Distribuições de variáveis gaussianas\n",
    "### Analise de fraudes e transações reais"
   ]
  },
  {
   "cell_type": "markdown",
   "id": "66534d36-8155-4585-a0f7-d61d4adcb148",
   "metadata": {},
   "source": [
    "Os modelos geralmente se ajustam melhor a variáveis que se distribuiem normalmente, podemos verificar que algumas das variáveis são bimodais, por exemplo a `media_id`, isso porque tem uma média associada aos valores de fraude e outra média associada aos valores reais."
   ]
  },
  {
   "cell_type": "code",
   "execution_count": 38,
   "id": "163ab432-305a-4557-aec9-0aa2ed93699f",
   "metadata": {},
   "outputs": [
    {
     "name": "stdout",
     "output_type": "stream",
     "text": [
      "Media Fraude:\t\t 1.0865757405392775\n",
      "Media Transações reais:  7.034167196664547\n"
     ]
    }
   ],
   "source": [
    "transacoes_reais = transacoes.query('fraude == 0')\n",
    "transacoes_fraude = transacoes.query('fraude == 1')\n",
    "\n",
    "print('Media Fraude:\\t\\t',transacoes_reais['media_id'].mean())\n",
    "print('Media Transações reais: ',transacoes_fraude['media_id'].mean())"
   ]
  },
  {
   "cell_type": "markdown",
   "id": "79dd18c0-6936-4b64-91f8-61c27b544059",
   "metadata": {},
   "source": [
    "Isso pode ser visualizado mais facilmente com dois histogramas:"
   ]
  },
  {
   "cell_type": "code",
   "execution_count": 39,
   "id": "95570c16-e6e8-4334-973e-8b1d2cc20c6c",
   "metadata": {},
   "outputs": [
    {
     "data": {
      "image/png": "[encoded data removed]",
      "text/plain": [
       "<Figure size 1080x432 with 2 Axes>"
      ]
     },
     "metadata": {
      "needs_background": "light"
     },
     "output_type": "display_data"
    }
   ],
   "source": [
    "plt.figure(figsize=(15,6))\n",
    "plt.subplot(121)\n",
    "plt.title('Fraudes', fontsize=20, pad=20)\n",
    "ax = sns.histplot(data = transacoes_fraude, x='media_id', kde=True, stat='probability')\n",
    "ax.set_xlabel('Média ID', fontsize=18)\n",
    "ax.set_ylabel('Probabilidade')\n",
    "\n",
    "plt.subplot(122)\n",
    "plt.title('Transações Reais', fontsize=20, pad=20)\n",
    "ax = sns.histplot(data = transacoes_reais, x='media_id', kde=True, stat='probability')\n",
    "ax.set_xlabel('Média ID', fontsize=18)\n",
    "ax.set_ylabel('Probabilidade')\n",
    "\n",
    "\n",
    "plt.show()"
   ]
  },
  {
   "cell_type": "markdown",
   "id": "4b25fd75-bbd3-4000-8b54-d5c720c5c1a2",
   "metadata": {},
   "source": [
    "> Note que a diferença entre as distribuições é bem diferente. Aliás, a distribuição da média dos ID em casos de fraude é nitidamente bimodal. Não tem muito o que se possa fazer a respeito disso a não ser normalizar esta variável."
   ]
  },
  {
   "cell_type": "markdown",
   "id": "bf6ddd2c-489b-4a16-8391-9fe1ebe1fb10",
   "metadata": {},
   "source": [
    "### Analise do `tempo`"
   ]
  },
  {
   "cell_type": "markdown",
   "id": "659f0208-9b76-48c0-bc89-2894c957815b",
   "metadata": {},
   "source": [
    "O que podemos fazer também é analisar o tempo que é a diferença entre o momento de compra e o momento de cadastro"
   ]
  },
  {
   "cell_type": "code",
   "execution_count": 40,
   "id": "8a14f80a-c64d-4c85-a84f-6667431cea8b",
   "metadata": {},
   "outputs": [
    {
     "data": {
      "image/png": "[encoded data removed]",
      "text/plain": [
       "<Figure size 720x432 with 1 Axes>"
      ]
     },
     "metadata": {
      "needs_background": "light"
     },
     "output_type": "display_data"
    }
   ],
   "source": [
    "plt.figure(figsize=(10,6))\n",
    "plt.title('Tempo de compra desde a inscrição', fontsize=20, pad=20 )\n",
    "ax = sns.histplot(data = transacoes, x='tempo', stat='density', kde=True, color='orange', alpha=0.9)\n",
    "ax.set_ylabel('Densidade Probabilidade')\n",
    "ax.set_xlabel(r'$\\Delta t$')\n",
    "\n",
    "ax;"
   ]
  },
  {
   "cell_type": "markdown",
   "id": "ced32bd2-a114-4a6d-8363-5ea68b80e4e1",
   "metadata": {},
   "source": [
    "> Note que o tempo é igualmente distribuido ao longo do tempo, pode-se dizer até que o tempo é uma variável aleatória pois é igualmente provavel para qualquer transação descartando-se as transações onde houve fraude."
   ]
  },
  {
   "cell_type": "markdown",
   "id": "ef6e9dc7-9c31-4139-8957-63efd276950d",
   "metadata": {},
   "source": [
    "### Transformando a variável tempo"
   ]
  },
  {
   "cell_type": "markdown",
   "id": "c8f70e70-112e-42d2-b0d4-609473270fa4",
   "metadata": {},
   "source": [
    "Dado que temos uma variável alteatória, isto é distribuida uniformamente, queremos transforma-la em uma distribuição normal de probabilidades. Como fazer isso? \n",
    "\n",
    "Bom, existem várias transformações aplicada a variáveis para transformalas em distribuições normais, a mais comum é a: \n",
    "\n",
    "$$X = \\sqrt{2} \\text{erf}^{-1} (2\\Phi -1),$$\n",
    "\n",
    "onde $X$ é a variável aleatória que desejamos tal que $X \\sim N(\\mu, \\sigma^2)$ (se distribui normalmente), $\\text{erf}^{-1}$ a função inversa do erro e $\\Phi$ a variável original que deve estar no intervalo $[0,1]$, no nosso caso $\\Phi$ é o $\\Delta t$. Essa transformação pode ser encontrada nos artigos: \n",
    "\n",
    "> [ROSENBLATT, Murray. Remarks on a multivariate transformation. The annals of mathematical statistics, 1952, 23.3: 470-472.](https://www.jstor.org/stable/2236692?seq=1)\n",
    "\n",
    "> [VAN ALBADA, Sacha Jennifer; ROBINSON, Peter A. Transformation of arbitrary distributions to the normal distribution with application to EEG test–retest reliability. Journal of neuroscience methods, v. 161, n. 2, p. 205-211, 2007.](http://dx.doi.org/10.1016/j.jneumeth.2006.11.004)\n",
    "\n",
    "\n",
    "**Esta etapa não é obrigatória**, entretanto os modelos se tornam mais fáceis, mais rapidos e diminuem o erro, portanto, é sempre bom fazer."
   ]
  },
  {
   "cell_type": "code",
   "execution_count": 41,
   "id": "c8cef081-d39b-4872-8b27-4bc80ecc79ea",
   "metadata": {},
   "outputs": [],
   "source": [
    "def min_max_scale(series):\n",
    "    # 1e-5 é pra dar uma margem de erro ao min_max_scaler\n",
    "    min_series = series.min() - 1e-5\n",
    "    max_series = series.max() + 1e-5\n",
    "    new_series = (series - min_series) / (max_series - min_series)\n",
    "    return new_series\n",
    "\n",
    "\n",
    "def rescale_series(serie): \n",
    "    serie_MinMax_Scaler = min_max_scale(serie)\n",
    "    nova_serie = serie_MinMax_Scaler.apply(lambda phi: np.sqrt(2) * special.erfinv( 2 * phi - 1))\n",
    "    return nova_serie"
   ]
  },
  {
   "cell_type": "markdown",
   "id": "cf9c433b-6d4b-4983-975c-5eb3feced572",
   "metadata": {},
   "source": [
    "Esse processo de deixar a variável $\\Phi$ entre $[0,1]$ através dos valores mínimos e máximos é chamado de *Min Max Scaler* e da para ser feito através do Sci-kit Learn\n",
    "\n",
    "> https://scikit-learn.org/stable/modules/generated/sklearn.preprocessing.MinMaxScaler.html\n",
    "\n",
    "Vamos ao processo de normalização gaussiano e reexibir o histograma:"
   ]
  },
  {
   "cell_type": "code",
   "execution_count": 42,
   "id": "55a09847-b343-47f5-b172-29a9a92be170",
   "metadata": {},
   "outputs": [],
   "source": [
    "transacoes.tempo = rescale_series(transacoes.tempo)"
   ]
  },
  {
   "cell_type": "code",
   "execution_count": 43,
   "id": "93386b73-6f11-49d2-a84c-6bf546664eaf",
   "metadata": {},
   "outputs": [
    {
     "data": {
      "image/png": "[encoded data removed]",
      "text/plain": [
       "<Figure size 720x432 with 1 Axes>"
      ]
     },
     "metadata": {
      "needs_background": "light"
     },
     "output_type": "display_data"
    }
   ],
   "source": [
    "plt.figure(figsize=(10,6))\n",
    "plt.title('Tempo de compra desde a inscrição', fontsize=20, pad=20 )\n",
    "ax = sns.histplot(data = transacoes, x='tempo', stat='density', kde=True, color='orange', alpha=0.9)\n",
    "ax.set_ylabel('Densidade Probabilidade')\n",
    "ax.set_xlabel(r'$\\Delta t$')\n",
    "\n",
    "ax;"
   ]
  },
  {
   "cell_type": "markdown",
   "id": "c55a46b2-7050-41b8-b9f8-586b1142a795",
   "metadata": {},
   "source": [
    "Agora vamos selecionar todas as variáveis que não são `pais` e `fraude`:\n"
   ]
  },
  {
   "cell_type": "code",
   "execution_count": 44,
   "id": "1ef9793f-b6ea-46d8-a1b4-2984bbce643d",
   "metadata": {},
   "outputs": [
    {
     "data": {
      "text/plain": [
       "['tempo', 'media_id']"
      ]
     },
     "execution_count": 44,
     "metadata": {},
     "output_type": "execute_result"
    }
   ],
   "source": [
    "one_hot_encoded = [feature for feature in transacoes.columns if 'pais' not in feature and feature != 'fraude']\n",
    "one_hot_encoded\n"
   ]
  },
  {
   "cell_type": "code",
   "execution_count": 45,
   "id": "07504589-ce9c-4ac7-bcf1-a2bd3c5b05f1",
   "metadata": {},
   "outputs": [],
   "source": [
    "for variavel in one_hot_encoded:\n",
    "    transacoes[variavel] = min_max_scale(transacoes[variavel])\n",
    "    "
   ]
  },
  {
   "cell_type": "markdown",
   "id": "d65a810e-8d56-4d55-b284-16a5d2e5a7a0",
   "metadata": {},
   "source": [
    "Definindo variaveis de interesse:"
   ]
  },
  {
   "cell_type": "code",
   "execution_count": 46,
   "id": "e9b1cda0-d417-47e5-84a7-766144bf480c",
   "metadata": {},
   "outputs": [],
   "source": [
    "x = transacoes[[variavel for variavel in transacoes.columns if variavel != 'fraude']]\n",
    "y = transacoes['fraude']"
   ]
  },
  {
   "cell_type": "code",
   "execution_count": 47,
   "id": "e4e7d448-6a53-4d06-b490-d8bc3b6315bf",
   "metadata": {},
   "outputs": [],
   "source": [
    "x.to_csv('./dados/features.csv', index=False)\n",
    "y.to_csv('./dados/target.csv', index=False)"
   ]
  },
  {
   "cell_type": "markdown",
   "id": "caf88cc6-79d0-4232-9243-8af917f1fda7",
   "metadata": {},
   "source": [
    "# Feature importance \n",
    "\n",
    "Agora vou fazer uma seleção através de um algorítmo de extração de variáveis do Sci-kit Learn chamada `ExtraTressClassifier`\n",
    "\n",
    "```python\n",
    "sklearn.ensemble.ExtraTreesClassifier(n_estimators=100, *, criterion='gini', max_depth=None, min_samples_split=2, min_samples_leaf=1, min_weight_fraction_leaf=0.0, max_features='auto', max_leaf_nodes=None, min_impurity_decrease=0.0, min_impurity_split=None, bootstrap=False, oob_score=False, n_jobs=None, random_state=None, verbose=0, warm_start=False, class_weight=None, ccp_alpha=0.0, max_samples=None)\n",
    "```\n",
    "\n",
    "> An extra-trees classifier. This class implements a meta estimator that fits a number of randomized decision trees (a.k.a. extra-trees) on various sub-samples of the dataset and uses averaging to improve the predictive accuracy and control over-fitting."
   ]
  },
  {
   "cell_type": "code",
   "execution_count": 48,
   "id": "d59a85b0-aca4-4e76-8383-b9c3f273de0b",
   "metadata": {},
   "outputs": [],
   "source": [
    "from sklearn.ensemble import ExtraTreesClassifier"
   ]
  },
  {
   "cell_type": "code",
   "execution_count": 49,
   "id": "16bbbdb3-c05e-4afa-9a42-2dcdbcb37392",
   "metadata": {},
   "outputs": [
    {
     "name": "stdout",
     "output_type": "stream",
     "text": [
      "CPU times: user 1min 19s, sys: 426 ms, total: 1min 19s\n",
      "Wall time: 1min 19s\n"
     ]
    }
   ],
   "source": [
    "%%time\n",
    "\n",
    "# isntancia o estimador\n",
    "extra_trees_classifier = ExtraTreesClassifier()\n",
    "\n",
    "# ajusta o estimador\n",
    "_ = extra_trees_classifier.fit(x,y)\n",
    "\n",
    "resultados_extra_trees_classifier = pd.DataFrame()\n",
    "\n",
    "# Adicionando os resultados num dataframe\n",
    "resultados_extra_trees_classifier['features'] = x.columns\n",
    "resultados_extra_trees_classifier['importancia'] = extra_trees_classifier.feature_importances_\n",
    "\n"
   ]
  },
  {
   "cell_type": "code",
   "execution_count": 50,
   "id": "9597707a-07a3-40e2-b94a-36394a6b0abe",
   "metadata": {},
   "outputs": [
    {
     "data": {
      "text/html": [
       "<div>\n",
       "<style scoped>\n",
       "    .dataframe tbody tr th:only-of-type {\n",
       "        vertical-align: middle;\n",
       "    }\n",
       "\n",
       "    .dataframe tbody tr th {\n",
       "        vertical-align: top;\n",
       "    }\n",
       "\n",
       "    .dataframe thead th {\n",
       "        text-align: right;\n",
       "    }\n",
       "</style>\n",
       "<table border=\"1\" class=\"dataframe\">\n",
       "  <thead>\n",
       "    <tr style=\"text-align: right;\">\n",
       "      <th></th>\n",
       "      <th>features</th>\n",
       "      <th>importancia</th>\n",
       "    </tr>\n",
       "  </thead>\n",
       "  <tbody>\n",
       "    <tr>\n",
       "      <th>0</th>\n",
       "      <td>tempo</td>\n",
       "      <td>0.703624</td>\n",
       "    </tr>\n",
       "    <tr>\n",
       "      <th>1</th>\n",
       "      <td>media_id</td>\n",
       "      <td>0.290628</td>\n",
       "    </tr>\n",
       "  </tbody>\n",
       "</table>\n",
       "</div>"
      ],
      "text/plain": [
       "   features  importancia\n",
       "0     tempo     0.703624\n",
       "1  media_id     0.290628"
      ]
     },
     "execution_count": 50,
     "metadata": {},
     "output_type": "execute_result"
    }
   ],
   "source": [
    "# Aqui será selecionadas as variaveis cuja importancia é acima da média\n",
    "resultados_extra_trees_classifier[\n",
    "    resultados_extra_trees_classifier.importancia > np.mean(resultados_extra_trees_classifier.importancia)\n",
    "].sort_values(by='importancia', ascending=False)"
   ]
  },
  {
   "cell_type": "markdown",
   "id": "031098ce-19cc-4087-937f-95f77b9c4374",
   "metadata": {},
   "source": [
    "Dessa forma podemos concluir que numericamente as features mais importantes sãa `tempo` e `media_id`."
   ]
  },
  {
   "cell_type": "code",
   "execution_count": 51,
   "id": "f25eb3ad-6b25-43e3-9fa3-0b90f74b20cc",
   "metadata": {},
   "outputs": [
    {
     "data": {
      "text/html": [
       "<div>\n",
       "<style scoped>\n",
       "    .dataframe tbody tr th:only-of-type {\n",
       "        vertical-align: middle;\n",
       "    }\n",
       "\n",
       "    .dataframe tbody tr th {\n",
       "        vertical-align: top;\n",
       "    }\n",
       "\n",
       "    .dataframe thead th {\n",
       "        text-align: right;\n",
       "    }\n",
       "</style>\n",
       "<table border=\"1\" class=\"dataframe\">\n",
       "  <thead>\n",
       "    <tr style=\"text-align: right;\">\n",
       "      <th></th>\n",
       "      <th>tempo</th>\n",
       "      <th>media_id</th>\n",
       "    </tr>\n",
       "  </thead>\n",
       "  <tbody>\n",
       "    <tr>\n",
       "      <th>0</th>\n",
       "      <td>4.217734e-01</td>\n",
       "      <td>5.263152e-07</td>\n",
       "    </tr>\n",
       "    <tr>\n",
       "      <th>1</th>\n",
       "      <td>4.357532e-01</td>\n",
       "      <td>5.263152e-07</td>\n",
       "    </tr>\n",
       "    <tr>\n",
       "      <th>2</th>\n",
       "      <td>7.887854e-07</td>\n",
       "      <td>5.789473e-01</td>\n",
       "    </tr>\n",
       "    <tr>\n",
       "      <th>3</th>\n",
       "      <td>5.403313e-01</td>\n",
       "      <td>5.263152e-07</td>\n",
       "    </tr>\n",
       "    <tr>\n",
       "      <th>4</th>\n",
       "      <td>4.960187e-01</td>\n",
       "      <td>5.263152e-07</td>\n",
       "    </tr>\n",
       "  </tbody>\n",
       "</table>\n",
       "</div>"
      ],
      "text/plain": [
       "          tempo      media_id\n",
       "0  4.217734e-01  5.263152e-07\n",
       "1  4.357532e-01  5.263152e-07\n",
       "2  7.887854e-07  5.789473e-01\n",
       "3  5.403313e-01  5.263152e-07\n",
       "4  4.960187e-01  5.263152e-07"
      ]
     },
     "execution_count": 51,
     "metadata": {},
     "output_type": "execute_result"
    }
   ],
   "source": [
    "x = transacoes[['tempo','media_id']]\n",
    "x.head()"
   ]
  },
  {
   "cell_type": "markdown",
   "id": "3367e9b3-0018-4012-9f40-ef5ad37a5b5b",
   "metadata": {},
   "source": [
    "# Métricas de avaliação\n",
    "\n",
    "## Matriz de Confusão\n",
    "\n",
    "Existem 4 métricas importantes de avaliação, *precisão ou valor preditivo positivo, revocação (recall) ou sensibilidade, F1 e acurácia*. Esses conceitos são mais fáceis de entender utilizando uma matriz chamada **matriz de confusão**, ela tem a seguinte forma:\n",
    "\n",
    "$$\\begin{bmatrix}\n",
    "    a_{00} & a_{01} \\\\\n",
    "    a_{10} & a_{11} \\\\\n",
    "\\end{bmatrix} = \n",
    "\\begin{bmatrix}\n",
    "    \\color{blue}{TN} & \\color{darkorange}{FN} \\\\\n",
    "    \\color{darkorange}{FP} & \\color{blue}{TP} \\\\\n",
    "\\end{bmatrix}\n",
    "$$\n",
    "\n",
    "Quando falamos de precisão e revocação existem alguns termos que precisam ser definidos:\n",
    "\n",
    "> **Verdadeiro Negativo** ($\\color{blue}{TN}$): Predição correta, dado que o valor verdadeiro é negativo. (elemento $a_{00}$)\n",
    "\n",
    "> **Verdadeiro Positivo** ($\\color{blue}{TP}$): Predição correta, dado que o valor verdadeiro é positivo. (elemento $a_{11}$)\n",
    "\n",
    "> **Falso positivo** ($\\color{darkorange}{FP}$): Predição errada, dado o valor verdadeiro que é positivo. (elemento $a_{10}$)\n",
    "\n",
    "> **Falso Negativo** ($\\color{darkorange}{FN}$): Predição errada, dado o valor verdadeiro que é negativo. (elemento $a_{01}$)\n",
    "\n",
    "A métrica mais conhecida é a acurrácia, **indica dentre todas amostras quantas o modelo fez uma predição correta**, pode ser calculada através da expreção: \n",
    "\n",
    "$$\\text{Acurácia } = \\frac{\\color{blue}{\\text{Verdadeiro Positivo} + \\text{Verdadeiro Negativo}}}{\\color{blue}{\\text{Verdadeiro Positivo}} +\\color{darkorange}{\\text{Falso Positivo}} + \\color{blue}{\\text{Verdadeiro Negativo}} +\\color{darkorange}{\\text{Falso Negativo}}},$$\n",
    "\n",
    "não se preocupe em decorar a formula, o ponto chave é entender de forma ampla o quanto o modelo se saiu bem, pois geralmente quando a acurácia de um modelo já esta ruim é um forte indicador de que as outras métricas estão falhando.\n",
    "\n",
    "A **precisão é um indicador da capacidade do modelo acertar, ou seja, de não rotular um como positivo algo que é negativo** e para calcular a precisão usamos a relação:\n",
    "\n",
    "$$\\text{Precisão} = \\frac{\\color{blue}{\\text{Verdadeiro Positivo}}}{\\color{blue}{\\text{Verdadeiro Positivo}}+\\color{darkorange}{\\text{Falso Positivo}}}$$\n",
    "\n",
    "**Ja o Recall ou sensiblidade é um indicador da capacidade do modelo não rotular como falso algo que é positivo** e pode ser calculado através da relação:\n",
    "\n",
    "$$\\text{Sensiblidade} = \\frac{\\color{blue}{\\text{Verdadeiro Positivo}}}{\\color{blue}{\\text{Verdadeiro Positivo}}+\\color{darkorange}{\\text{Falso Negativo}}}$$\n",
    "\n",
    "\n",
    "**A métrica chamada de $F1$-Score é uma média harmônica entre a precisão e a sensbilidade do modelo**. A vantagem dela é que consegue ponderar quando as duas métricas estão boas e tende a ser deslocada pra baixo quando a precisão ou a sensiblidade estão ruins. Pode ser calculada através da expressão:\n",
    "\n",
    "$$\\text{F1-Score} = 2\\Big(\\frac{\\text{Precisão }\\times\\text{ Sensiblidade}}{\\text{ Precisão } + \\text{ Sensiblidade}}\\Big)$$\n",
    "\n",
    "## Curva ROC e área AUC\n",
    "\n",
    "A curva ROC (*Receiver operating characteristic*) ou curva característica é representação da razão TPR(True Positive Rate) em função da razão TNR (True Negative Rate), para vários valores do limiar de classificação. As expressões são:\n",
    "\n",
    "$$ TPR = \\frac{TP}{TP+FN} $$\n",
    "\n",
    "$$TNR = \\frac{TN}{TN+FP}$$\n",
    " \n",
    "O TPR é também conhecido como sensibilidade (ou taxa de verdadeiros positivos), e TNR a especificidade ou taxa de falsos positivos.\n",
    "\n",
    "Como foi dito ROC é uma curva, e geralmente não é intuitivo trabalhar com linhas, então surje a área sob uma curva chadama de AUC (*Area Under Curve*) que é um valor escalar e mede o desempenho geral de um classificador binário segundo [Hanley e McNeil (1982)](https://doi.org/10.1148/radiology.143.1.7063747).\n",
    "\n",
    "**O valor de AUC está dentro do intervalo $[0.5,1.0]$, onde o valor mínimo representa o desempenho de um classificador aleatório e o valor máximo corresponderia a um classificador perfeito (por exemplo, com uma taxa de erro de classificação equivalente a zero).**\n",
    "\n",
    "O AUC é uma medida geral bem robusta para avaliar o desempenho dos classificadores de pontuação porque seu cálculo se baseia na curva ROC completa e, portanto, envolve todos os limites de classificação possíveis. A AUC é normalmente calculada adicionando áreas trapezoidais sucessivas abaixo da curva ROC. A abaixo mostra as curvas ROC para dois classificadores de pontuação A e B. Neste exemplo, o classificador A tem um valor de AUC maior do que o classificador B, justamente porque a curva se aproxima do eixo *True Positive Rate* logo ela  tem uma sensibilidade maior das quantidades de falsos positivos e falsos negativos:\n",
    "\n",
    "<img src='https://media.springernature.com/lw785/springer-static/image/prt%3A978-1-4419-9863-7%2F1/MediaObjects/978-1-4419-9863-7_1_Part_Fig1-209_HTML.gif'>\n",
    "\n",
    "> Referência da imagem: https://link.springer.com/referenceworkentry/10.1007%2F978-1-4419-9863-7_209\n",
    "\n",
    "Ou seja, **a métrica AUC seŕa o nosso indicador de qualidade e quanto maior o AUC mais capaz de identificar os falsos positivos e falsos negativos o modelo será**. A métrica ROC é equivalente a aplicar o teste não paramétrico de Mann-Whitney-U às probabilidades de classificar os eventos que realmente ocorreram com aqueles que não ocorreram, como demonstram os pesquisadores S. J. Mason e N. E. Graham em [*Areas beneath the relative operating characteristics (ROC) and relative operating levels (ROL) curves: Statistical significance and interpretation*](https://doi.org/10.1256/003590002320603584)\n",
    "\n",
    "\n",
    "## Forma de obter as métricas e gráficos \n",
    "\n",
    "\n",
    "O módulo `SKlearn` tem uma função que executa uma rotina para o cálculo a curva ROC e consequentemente o cálculo da área AUC e também tem uma função chamada [classification_report()](https://scikit-learn.org/stable/modules/generated/sklearn.metrics.classification_report.html?highlight=classification_report#sklearn.metrics.classification_report) que retornar a precisão e a revocação, além de algumas informações extras como [F1-score](https://en.wikipedia.org/wiki/F-score). \n",
    "\n",
    "Caso você esteja interessado em alguma métrica específica pode consultar o módulo metrics do Sci-kit Learn:\n",
    "\n",
    "> `sklearn.metrics`: https://scikit-learn.org/stable/modules/classes.html#module-sklearn.metrics"
   ]
  },
  {
   "cell_type": "markdown",
   "id": "41dbc5f3-4230-400e-b1c3-0e456ec18f30",
   "metadata": {},
   "source": [
    "# Algortímos de detecção de anomalias\n",
    "\n",
    "Existem duas formas de abordar a **detecção de anomalias**, a primeira é a forma supervisionada e a segunda é a não supervisionada. Mas antes de usar o algorítmo vou importar alguns módulos importantesm. O `RobustScaler` que faz uma seleção robusta de amostras descartando alguns outliers, `train_test_split` para fazer a seleção entre dados de treino e teste, `GridSearchCV` é uma tecnica de variar hiperparâmetros de um modelo através de uma grade com o objetivo de encontrar o modelo mais ajustado ao problema. As métricas de avaliação são `classification_report` que indica precisão, revocação e f1-score, `roc_auc_score` e a `roc_curve` metricas já explicadas anteriormente.\n"
   ]
  },
  {
   "cell_type": "code",
   "execution_count": 52,
   "id": "bb8af158-ebcb-47f6-92a4-597dceed5145",
   "metadata": {},
   "outputs": [],
   "source": [
    "from sklearn.preprocessing import RobustScaler\n",
    "from sklearn.model_selection import train_test_split\n",
    "from sklearn.model_selection import GridSearchCV\n",
    "from sklearn.metrics import classification_report, roc_auc_score, roc_curve \n",
    "from sklearn.metrics import f1_score"
   ]
  },
  {
   "cell_type": "markdown",
   "id": "7a826c1f-5cb1-470a-bba5-0a25a9a55eb7",
   "metadata": {},
   "source": [
    "## Definindo semente aleatória\n",
    "```python\n",
    ">>> np.random.randint(0, 2**32)\n",
    "613844336\n",
    "```"
   ]
  },
  {
   "cell_type": "code",
   "execution_count": 53,
   "id": "3d40cee8-5ef4-4948-816c-b2a02d378835",
   "metadata": {},
   "outputs": [],
   "source": [
    "semente = 613844336"
   ]
  },
  {
   "cell_type": "markdown",
   "id": "e2596f5c-2b1c-48fb-a013-43d630e4ec81",
   "metadata": {},
   "source": [
    "## Dividindo dados em treito e teste"
   ]
  },
  {
   "cell_type": "code",
   "execution_count": 54,
   "id": "14a9d477-8484-4b03-841b-95b3865cd730",
   "metadata": {},
   "outputs": [],
   "source": [
    "x_treino, x_teste, y_treino, y_teste = train_test_split(x, y, train_size = 0.75, random_state = semente)"
   ]
  },
  {
   "cell_type": "markdown",
   "id": "edb1f1c7-d68f-43fe-a609-18a4b6dbee12",
   "metadata": {},
   "source": [
    "## Algorítmo supervisionado\n",
    "\n",
    "O algorítmo supervisionado é o `IsolationForest`, ele basicamente vai criar um conjunto de 100 estimadores onde irá isolar algumas observações e selecionaraá aleatoriamente uma variável e, em seguida, selecionar aleatoriamente um valor de divisão entre os valores máximo e mínimo da variável selecionado. Este algorítmo retorna $1$ quando a operação é considerada normal e $-1$ quando é considerada anômala, então precisamos transformar nossos targets onde $0$ é uma transação normal e $1$ uma transação fraudulenta.\n",
    "\n",
    "\n"
   ]
  },
  {
   "cell_type": "code",
   "execution_count": 55,
   "id": "84490235-4be9-490d-87c0-53c4519fdfd3",
   "metadata": {},
   "outputs": [
    {
     "name": "stdout",
     "output_type": "stream",
     "text": [
      "Antes da mudança de target:  [0 1]\n",
      "Depois da mudança de target:  [ 1 -1]\n"
     ]
    }
   ],
   "source": [
    "print('Antes da mudança de target: ',y_treino.unique())\n",
    "y_treino = y_treino.apply(lambda x: 1 if x == 0 else -1)\n",
    "print('Depois da mudança de target: ',y_treino.unique())"
   ]
  },
  {
   "cell_type": "code",
   "execution_count": 56,
   "id": "0ca3c3bc-79b2-4967-aff4-2520541fd257",
   "metadata": {},
   "outputs": [
    {
     "name": "stdout",
     "output_type": "stream",
     "text": [
      "Antes da mudança de target:  [1 0]\n",
      "Depois da mudança de target:  [-1  1]\n"
     ]
    }
   ],
   "source": [
    "print('Antes da mudança de target: ',y_teste.unique())\n",
    "y_teste = y_teste.apply(lambda x: 1 if x == 0 else -1)\n",
    "print('Depois da mudança de target: ',y_teste.unique())"
   ]
  },
  {
   "cell_type": "markdown",
   "id": "6fd334e1-18da-4ed4-b66e-3a3785d38fd3",
   "metadata": {},
   "source": [
    "Agora vamos instanciar o modelo "
   ]
  },
  {
   "cell_type": "code",
   "execution_count": 57,
   "id": "2b25c6c6-1b2a-47d3-805d-bc46915fb0cf",
   "metadata": {},
   "outputs": [],
   "source": [
    "from sklearn.ensemble import IsolationForest"
   ]
  },
  {
   "cell_type": "code",
   "execution_count": 58,
   "id": "28b7e2c9-61cd-4736-88a7-5f66d999fe2a",
   "metadata": {},
   "outputs": [],
   "source": [
    "isolation_forest = IsolationForest(max_samples='auto', contamination= 0.095, random_state = semente)"
   ]
  },
  {
   "cell_type": "markdown",
   "id": "1cdad882-6c6e-4a4b-921c-4592cba3bb5b",
   "metadata": {},
   "source": [
    "Como eu já disse anteriormente será definido uma grade de hiperparâmetros para ser fornecida ao `GridSearchCV`:"
   ]
  },
  {
   "cell_type": "code",
   "execution_count": 59,
   "id": "0ec2daca-f527-4168-8fd3-a9080d4ae9d9",
   "metadata": {},
   "outputs": [],
   "source": [
    "params_grid = {\n",
    "    'n_estimators' : [100, 150, 200, 250, 300, 350, 400, 450, 500]\n",
    "}"
   ]
  },
  {
   "cell_type": "markdown",
   "id": "98e53172-3e03-4e87-865a-8cc9e0127400",
   "metadata": {},
   "source": [
    "Agora vamos utilizar o GridSearchCV efetivamente:"
   ]
  },
  {
   "cell_type": "code",
   "execution_count": 60,
   "id": "12fc64ce-822d-4a4d-b3dd-451326acdf6e",
   "metadata": {},
   "outputs": [],
   "source": [
    "grid_search_estimators = GridSearchCV(isolation_forest, param_grid = params_grid,\n",
    "                             cv = 5, n_jobs = 10, scoring='f1', verbose=10)"
   ]
  },
  {
   "cell_type": "markdown",
   "id": "44065c31-625b-47d9-a718-bf5e08896f96",
   "metadata": {},
   "source": [
    "Agora vamos ajustar o modelo aos dados de treino e teste, **esse processo pode demorar**, por isso eu vou salvar apenas o output e salva-lo com o `pickle`"
   ]
  },
  {
   "cell_type": "code",
   "execution_count": 61,
   "id": "a94f6e7f-9846-459f-8a26-c8b13b4989bb",
   "metadata": {},
   "outputs": [
    {
     "name": "stdout",
     "output_type": "stream",
     "text": [
      "Fitting 5 folds for each of 9 candidates, totalling 45 fits\n",
      "CPU times: user 12.4 s, sys: 385 ms, total: 12.8 s\n",
      "Wall time: 3min 36s\n"
     ]
    }
   ],
   "source": [
    "%%time\n",
    "_ = grid_search_estimators.fit(x_treino, y_treino)"
   ]
  },
  {
   "cell_type": "markdown",
   "id": "c5b616bd-75e6-406e-85c2-94859dd4a288",
   "metadata": {},
   "source": [
    "```python\n",
    ">>> _ = classificador.fit(x_treino, y_treino)\n",
    "Fitting 5 folds for each of 9 candidates, totalling 45 fits\n",
    "\n",
    "[Parallel(n_jobs=10)]: Using backend LokyBackend with 10 concurrent workers.\n",
    "[Parallel(n_jobs=10)]: Done   5 tasks      | elapsed:  1.1min\n",
    "[Parallel(n_jobs=10)]: Done  12 tasks      | elapsed:  5.5min\n",
    "[Parallel(n_jobs=10)]: Done  21 tasks      | elapsed: 11.9min\n",
    "[Parallel(n_jobs=10)]: Done  31 out of  45 | elapsed: 20.4min remaining:  9.2min\n",
    "[Parallel(n_jobs=10)]: Done  36 out of  45 | elapsed: 27.3min remaining:  6.8min\n",
    "[Parallel(n_jobs=10)]: Done  41 out of  45 | elapsed: 29.0min remaining:  2.8min\n",
    "[Parallel(n_jobs=10)]: Done  45 out of  45 | elapsed: 29.1min finished\n",
    "\n",
    "CPU times: user 1min 26s, sys: 1.83 s, total: 1min 27s\n",
    "Wall time: 30min 26s\n",
    "```"
   ]
  },
  {
   "cell_type": "markdown",
   "id": "749a2974-543f-452d-9521-135aeb2ee506",
   "metadata": {},
   "source": [
    "```python\n",
    "import pickle\n",
    "\n",
    "# Salvando objeto\n",
    "with open('./modelos_treinados/isolation_forest_cls.pkl', 'wb') as file:\n",
    "    pickle.dump(classificador, file)\n",
    "```"
   ]
  },
  {
   "cell_type": "markdown",
   "id": "2b508134-c7ba-4071-ad60-c56431134f96",
   "metadata": {},
   "source": [
    "```python\n",
    "# Importando classificadores\n",
    "arq_classificador = open('./modelos_treinados/isolation_forest_cls.pkl', 'rb')\n",
    "classificador = pickle.load(arq_classificador)\n",
    "\n",
    "```"
   ]
  },
  {
   "cell_type": "markdown",
   "id": "8f8d9965-d8b9-4e2a-b2d0-399b5c910443",
   "metadata": {},
   "source": [
    "Note que o objeto `classificador` foi lido através do pickle."
   ]
  },
  {
   "cell_type": "code",
   "execution_count": 62,
   "id": "6633d96a-5a7e-4b45-94ac-10ec8bfd4935",
   "metadata": {},
   "outputs": [
    {
     "data": {
      "text/plain": [
       "GridSearchCV(cv=5,\n",
       "             estimator=IsolationForest(contamination=0.095,\n",
       "                                       random_state=613844336),\n",
       "             n_jobs=10,\n",
       "             param_grid={'n_estimators': [100, 150, 200, 250, 300, 350, 400,\n",
       "                                          450, 500]},\n",
       "             scoring='f1', verbose=10)"
      ]
     },
     "execution_count": 62,
     "metadata": {},
     "output_type": "execute_result"
    }
   ],
   "source": [
    "grid_search_estimators"
   ]
  },
  {
   "cell_type": "markdown",
   "id": "ce660a3f-308d-4289-9154-050ea69e639d",
   "metadata": {},
   "source": [
    "Podemos selecionar o melhor estimador encontrado pelo GridSearchCV, através do parâmetro `classificador.best_estimator_`"
   ]
  },
  {
   "cell_type": "code",
   "execution_count": 63,
   "id": "7d9ea257-27f2-485b-b26d-5424eb583822",
   "metadata": {},
   "outputs": [
    {
     "data": {
      "text/plain": [
       "IsolationForest(contamination=0.095, n_estimators=400, random_state=613844336)"
      ]
     },
     "execution_count": 63,
     "metadata": {},
     "output_type": "execute_result"
    }
   ],
   "source": [
    "isolation_forest_best = grid_search_estimators.best_estimator_\n",
    "isolation_forest_best"
   ]
  },
  {
   "cell_type": "markdown",
   "id": "1b8b2a74-d189-4395-a290-81693e20d4cb",
   "metadata": {},
   "source": [
    "Agora que temos o melhor estimador vamos as métricas de avaliação tentando predizer valores através dos `x_teste`:"
   ]
  },
  {
   "cell_type": "code",
   "execution_count": 64,
   "id": "aeec8de4-43ae-4ac1-aa40-af42868f2dc5",
   "metadata": {},
   "outputs": [],
   "source": [
    "y_predito = isolation_forest_best.predict(x_teste)"
   ]
  },
  {
   "cell_type": "markdown",
   "id": "533e28fb-3ca6-429a-93ac-80ad49f1028a",
   "metadata": {},
   "source": [
    "### ROC/AUC"
   ]
  },
  {
   "cell_type": "code",
   "execution_count": 65,
   "id": "6d9ed214-2b81-4f4e-a31c-73ab02b3f4cb",
   "metadata": {},
   "outputs": [
    {
     "data": {
      "text/plain": [
       "0.7755555641861804"
      ]
     },
     "execution_count": 65,
     "metadata": {},
     "output_type": "execute_result"
    }
   ],
   "source": [
    "roc_auc_IF = roc_auc_score(y_teste, y_predito)\n",
    "roc_auc_IF"
   ]
  },
  {
   "cell_type": "markdown",
   "id": "1d786fa4-c483-4741-8e31-9df13dd6bddf",
   "metadata": {},
   "source": [
    "Área sobre a curva"
   ]
  },
  {
   "cell_type": "code",
   "execution_count": 66,
   "id": "2e544566-00c3-48b0-8c76-912fdd326eb6",
   "metadata": {},
   "outputs": [],
   "source": [
    "y_predito_probs = isolation_forest_best.decision_function(x_teste)\n",
    "fpr, tpr, thresold = roc_curve(y_teste, y_predito_probs)"
   ]
  },
  {
   "cell_type": "markdown",
   "id": "d5d17170-99b9-47ff-a6ad-f3cb75bd4cec",
   "metadata": {},
   "source": [
    "Classification report:"
   ]
  },
  {
   "cell_type": "code",
   "execution_count": 67,
   "id": "503b4bb4-a0aa-4e83-b5c1-c43f6a0c3066",
   "metadata": {},
   "outputs": [],
   "source": [
    "classification_report_IF = classification_report(y_teste, y_predito, target_names=['Anomalo','Normal'], output_dict=True)\n",
    "classification_report_IF = pd.DataFrame(classification_report_IF).T\n"
   ]
  },
  {
   "cell_type": "markdown",
   "id": "acfeb1c6-288d-4d82-aa2d-2b76c903d0d7",
   "metadata": {},
   "source": [
    "Exibindo a curva:"
   ]
  },
  {
   "cell_type": "code",
   "execution_count": 68,
   "id": "07d10a9a-637e-4071-acf0-abe0835232dc",
   "metadata": {},
   "outputs": [
    {
     "data": {
      "image/png": "[encoded data removed]",
      "text/plain": [
       "<Figure size 576x432 with 1 Axes>"
      ]
     },
     "metadata": {
      "needs_background": "light"
     },
     "output_type": "display_data"
    },
    {
     "data": {
      "text/html": [
       "<style  type=\"text/css\" >\n",
       "</style><table id=\"T_68bce_\" ><caption>Classification Report IsolationForest</caption><thead>    <tr>        <th class=\"blank level0\" ></th>        <th class=\"col_heading level0 col0\" >precision</th>        <th class=\"col_heading level0 col1\" >recall</th>        <th class=\"col_heading level0 col2\" >f1-score</th>        <th class=\"col_heading level0 col3\" >support</th>    </tr></thead><tbody>\n",
       "                <tr>\n",
       "                        <th id=\"T_68bce_level0_row0\" class=\"row_heading level0 row0\" >Anomalo</th>\n",
       "                        <td id=\"T_68bce_row0_col0\" class=\"data row0 col0\" >0.574889</td>\n",
       "                        <td id=\"T_68bce_row0_col1\" class=\"data row0 col1\" >0.595616</td>\n",
       "                        <td id=\"T_68bce_row0_col2\" class=\"data row0 col2\" >0.585069</td>\n",
       "                        <td id=\"T_68bce_row0_col3\" class=\"data row0 col3\" >3467.000000</td>\n",
       "            </tr>\n",
       "            <tr>\n",
       "                        <th id=\"T_68bce_level0_row1\" class=\"row_heading level0 row1\" >Normal</th>\n",
       "                        <td id=\"T_68bce_row1_col0\" class=\"data row1 col0\" >0.958989</td>\n",
       "                        <td id=\"T_68bce_row1_col1\" class=\"data row1 col1\" >0.955495</td>\n",
       "                        <td id=\"T_68bce_row1_col2\" class=\"data row1 col2\" >0.957239</td>\n",
       "                        <td id=\"T_68bce_row1_col3\" class=\"data row1 col3\" >34311.000000</td>\n",
       "            </tr>\n",
       "            <tr>\n",
       "                        <th id=\"T_68bce_level0_row2\" class=\"row_heading level0 row2\" >accuracy</th>\n",
       "                        <td id=\"T_68bce_row2_col0\" class=\"data row2 col0\" >0.922468</td>\n",
       "                        <td id=\"T_68bce_row2_col1\" class=\"data row2 col1\" >0.922468</td>\n",
       "                        <td id=\"T_68bce_row2_col2\" class=\"data row2 col2\" >0.922468</td>\n",
       "                        <td id=\"T_68bce_row2_col3\" class=\"data row2 col3\" >0.922468</td>\n",
       "            </tr>\n",
       "            <tr>\n",
       "                        <th id=\"T_68bce_level0_row3\" class=\"row_heading level0 row3\" >macro avg</th>\n",
       "                        <td id=\"T_68bce_row3_col0\" class=\"data row3 col0\" >0.766939</td>\n",
       "                        <td id=\"T_68bce_row3_col1\" class=\"data row3 col1\" >0.775556</td>\n",
       "                        <td id=\"T_68bce_row3_col2\" class=\"data row3 col2\" >0.771154</td>\n",
       "                        <td id=\"T_68bce_row3_col3\" class=\"data row3 col3\" >37778.000000</td>\n",
       "            </tr>\n",
       "            <tr>\n",
       "                        <th id=\"T_68bce_level0_row4\" class=\"row_heading level0 row4\" >weighted avg</th>\n",
       "                        <td id=\"T_68bce_row4_col0\" class=\"data row4 col0\" >0.923739</td>\n",
       "                        <td id=\"T_68bce_row4_col1\" class=\"data row4 col1\" >0.922468</td>\n",
       "                        <td id=\"T_68bce_row4_col2\" class=\"data row4 col2\" >0.923084</td>\n",
       "                        <td id=\"T_68bce_row4_col3\" class=\"data row4 col3\" >37778.000000</td>\n",
       "            </tr>\n",
       "    </tbody></table>"
      ],
      "text/plain": [
       "<pandas.io.formats.style.Styler at 0x7f68140c7d50>"
      ]
     },
     "metadata": {},
     "output_type": "display_data"
    }
   ],
   "source": [
    "\n",
    "plt.figure(figsize=(8,6))\n",
    "plt.title(f'Curva ROC com AUC = {roc_auc_IF:.2f}', fontsize=20, pad=20)\n",
    "plt.plot(fpr, tpr, lw = 1, label='ROC', color='blue')\n",
    "plt.plot([0,1], [0,1],'--', color='red', label='dummy')\n",
    "plt.xlim([-0.05, 1.05])\n",
    "plt.ylim([-0.05, 1.05])\n",
    "\n",
    "plt.xlabel('Taxa de positivos falsos', fontsize=15)\n",
    "plt.ylabel('Taxa de positivos verdadeiros', fontsize=15)\n",
    "plt.legend()\n",
    "plt.show()\n",
    "\n",
    "\n",
    "display(classification_report_IF.style.set_caption('Classification Report IsolationForest'))"
   ]
  },
  {
   "cell_type": "markdown",
   "id": "640e337e-1af8-4209-91e3-abef545bfce0",
   "metadata": {},
   "source": [
    "**Comentário sobre modelo Isolation Forest**\n",
    "> É possível verificar a precisão, revocação e o f1-score do melhor modelo. Além disso `macro avg` indica uma média da precisão e o `weighted avg` indica uma média ponderada da acurácia. Note que o **recall** ou sensibilidade é de 0.75 que é aproximadamente o valor de **AUC**, isso indica que de todas as classes com rótulo Anomalo/Normal o modelo acertou 75% delas."
   ]
  },
  {
   "cell_type": "markdown",
   "id": "e8799b2f-bf2b-4b20-906b-293cb599ad40",
   "metadata": {},
   "source": [
    "### Matriz de confusão"
   ]
  },
  {
   "cell_type": "code",
   "execution_count": 69,
   "id": "d0f168dd-8051-49e6-89fc-3b2572c7fb6a",
   "metadata": {},
   "outputs": [],
   "source": [
    "from sklearn.metrics import confusion_matrix, plot_confusion_matrix"
   ]
  },
  {
   "cell_type": "code",
   "execution_count": 70,
   "id": "2c4f703c-017d-4181-b7a8-a8f547ab91ef",
   "metadata": {},
   "outputs": [
    {
     "data": {
      "text/plain": [
       "array([[ 2065,  1402],\n",
       "       [ 1527, 32784]])"
      ]
     },
     "execution_count": 70,
     "metadata": {},
     "output_type": "execute_result"
    }
   ],
   "source": [
    "cnf_matrix_if = confusion_matrix(y_teste, y_predito)\n",
    "cnf_matrix_if"
   ]
  },
  {
   "cell_type": "code",
   "execution_count": 71,
   "id": "24f6e57e-c287-45b0-bd02-089b8683cd6c",
   "metadata": {},
   "outputs": [],
   "source": [
    "cnf_matrix_if = confusion_matrix(y_teste, y_predito, normalize='true')"
   ]
  },
  {
   "cell_type": "markdown",
   "id": "6afa6630-b389-4416-950b-e08e5957d150",
   "metadata": {},
   "source": [
    "Essa matriz é a mesma indicada lá na etapa de descrição de métricas.\n",
    "\n",
    "Uma forma mais fácil de identifica-la é através de um plot:"
   ]
  },
  {
   "cell_type": "code",
   "execution_count": 72,
   "id": "7ec41281-06fe-442e-a2ff-8d31495ca516",
   "metadata": {},
   "outputs": [
    {
     "data": {
      "image/png": "[encoded data removed]",
      "text/plain": [
       "<Figure size 576x432 with 2 Axes>"
      ]
     },
     "metadata": {
      "needs_background": "light"
     },
     "output_type": "display_data"
    }
   ],
   "source": [
    "plt.figure(figsize=(8,6))\n",
    "plt.title('Matriz confusão', fontsize=20, pad=20)\n",
    "ax = sns.heatmap(cnf_matrix_if, annot=True, fmt='.4f')\n",
    "ax.set_ylabel('Verdadeiro')\n",
    "ax.set_xlabel('Predito')\n",
    "#ax.set_yticklabels(labels=['Neg','Pos'])\n",
    "#ax.set_xticklabels(labels=['Neg','Pos'])\n",
    "ax;"
   ]
  },
  {
   "cell_type": "markdown",
   "id": "60094b74-d6e6-4624-8c36-14f61d89003b",
   "metadata": {},
   "source": [
    "**Comentário Matriz de confusão**\n",
    "> Este grafico se lê das linhas em relação às colunas, isso porque a matriz esta normalizada pela linha e nelas estão indicados os valores reais e nas colunas os valores preditos. Por exemplo, de todos os rótulos que não são fraudes (primeira linha) o modelo estimou corretamente 59.56%, mas em 40.44% das vezes classificou que eram fraudes quando não eram. Já de todas as fraudes o modelo classificou corretamente 96.55%, mas 4.45% eram fraudes e ele classificou que não são.\n",
    "\n",
    "É importante analisar a matriz de confusão pois ela consegue ilustra bem qual a relação entre os rótulos reais e os preditos pelo modelo. Nela podemos aplicar as regras de negocio e ver qual métrica faz mais sentido, **no caso de detecção de fraude, a consequencia comercial de uma predição falso positiva, classisificar como não é fraude quando é, tem um impacto muito maior do que uma predição falsa negativa, classificar como fraude quando não é**. Nos casos de falsos negativos podemos enviar algum token para confirmação de transação ou algo do tipo, ao passo que numa situação de falso positivo pode gerar um dano irreparável em alguns casos."
   ]
  },
  {
   "cell_type": "markdown",
   "id": "91094535-91c9-4588-972a-236d33703c00",
   "metadata": {},
   "source": [
    "### Organizando dados de teste e validação\n",
    "\n",
    "Diferente do Isolation Forest algorítmos não supervisionados funcionam um pouco diferente, consistem em fornecer dados de transações normais apenas e qualquer transação fora deste padrão é considerada anômala.\n",
    "\n"
   ]
  },
  {
   "cell_type": "markdown",
   "id": "88bad873-6135-46d2-a3f4-21cd7e1ef577",
   "metadata": {},
   "source": [
    "Primeiro vamos adicionar os rótulos novamente às features, lembrando que são os rótulos [0,1] não os [-1,1] do isolation forest:"
   ]
  },
  {
   "cell_type": "code",
   "execution_count": 73,
   "id": "f1ef70f9-7f40-480b-8e87-ae06cbabbd80",
   "metadata": {},
   "outputs": [
    {
     "data": {
      "text/html": [
       "<div>\n",
       "<style scoped>\n",
       "    .dataframe tbody tr th:only-of-type {\n",
       "        vertical-align: middle;\n",
       "    }\n",
       "\n",
       "    .dataframe tbody tr th {\n",
       "        vertical-align: top;\n",
       "    }\n",
       "\n",
       "    .dataframe thead th {\n",
       "        text-align: right;\n",
       "    }\n",
       "</style>\n",
       "<table border=\"1\" class=\"dataframe\">\n",
       "  <thead>\n",
       "    <tr style=\"text-align: right;\">\n",
       "      <th></th>\n",
       "      <th>tempo</th>\n",
       "      <th>media_id</th>\n",
       "      <th>fraude</th>\n",
       "    </tr>\n",
       "  </thead>\n",
       "  <tbody>\n",
       "    <tr>\n",
       "      <th>0</th>\n",
       "      <td>4.217734e-01</td>\n",
       "      <td>5.263152e-07</td>\n",
       "      <td>0</td>\n",
       "    </tr>\n",
       "    <tr>\n",
       "      <th>1</th>\n",
       "      <td>4.357532e-01</td>\n",
       "      <td>5.263152e-07</td>\n",
       "      <td>0</td>\n",
       "    </tr>\n",
       "    <tr>\n",
       "      <th>2</th>\n",
       "      <td>7.887854e-07</td>\n",
       "      <td>5.789473e-01</td>\n",
       "      <td>1</td>\n",
       "    </tr>\n",
       "    <tr>\n",
       "      <th>3</th>\n",
       "      <td>5.403313e-01</td>\n",
       "      <td>5.263152e-07</td>\n",
       "      <td>0</td>\n",
       "    </tr>\n",
       "    <tr>\n",
       "      <th>4</th>\n",
       "      <td>4.960187e-01</td>\n",
       "      <td>5.263152e-07</td>\n",
       "      <td>0</td>\n",
       "    </tr>\n",
       "  </tbody>\n",
       "</table>\n",
       "</div>"
      ],
      "text/plain": [
       "          tempo      media_id  fraude\n",
       "0  4.217734e-01  5.263152e-07       0\n",
       "1  4.357532e-01  5.263152e-07       0\n",
       "2  7.887854e-07  5.789473e-01       1\n",
       "3  5.403313e-01  5.263152e-07       0\n",
       "4  4.960187e-01  5.263152e-07       0"
      ]
     },
     "execution_count": 73,
     "metadata": {},
     "output_type": "execute_result"
    }
   ],
   "source": [
    "dataset_nao_supervisionado = pd.concat([x,y], axis=1)\n",
    "dataset_nao_supervisionado.head()"
   ]
  },
  {
   "cell_type": "code",
   "execution_count": 74,
   "id": "f0f00486-14f5-467a-9a2a-acbdf2442dab",
   "metadata": {},
   "outputs": [
    {
     "data": {
      "text/html": [
       "<div>\n",
       "<style scoped>\n",
       "    .dataframe tbody tr th:only-of-type {\n",
       "        vertical-align: middle;\n",
       "    }\n",
       "\n",
       "    .dataframe tbody tr th {\n",
       "        vertical-align: top;\n",
       "    }\n",
       "\n",
       "    .dataframe thead th {\n",
       "        text-align: right;\n",
       "    }\n",
       "</style>\n",
       "<table border=\"1\" class=\"dataframe\">\n",
       "  <thead>\n",
       "    <tr style=\"text-align: right;\">\n",
       "      <th></th>\n",
       "      <th>tempo</th>\n",
       "      <th>media_id</th>\n",
       "      <th>fraude</th>\n",
       "    </tr>\n",
       "  </thead>\n",
       "  <tbody>\n",
       "    <tr>\n",
       "      <th>2</th>\n",
       "      <td>7.887854e-07</td>\n",
       "      <td>5.789473e-01</td>\n",
       "      <td>1</td>\n",
       "    </tr>\n",
       "    <tr>\n",
       "      <th>24</th>\n",
       "      <td>7.887854e-07</td>\n",
       "      <td>3.684212e-01</td>\n",
       "      <td>1</td>\n",
       "    </tr>\n",
       "    <tr>\n",
       "      <th>25</th>\n",
       "      <td>4.040505e-01</td>\n",
       "      <td>2.631629e-02</td>\n",
       "      <td>1</td>\n",
       "    </tr>\n",
       "    <tr>\n",
       "      <th>29</th>\n",
       "      <td>7.887854e-07</td>\n",
       "      <td>5.263158e-01</td>\n",
       "      <td>1</td>\n",
       "    </tr>\n",
       "    <tr>\n",
       "      <th>59</th>\n",
       "      <td>3.943004e-01</td>\n",
       "      <td>5.263152e-07</td>\n",
       "      <td>1</td>\n",
       "    </tr>\n",
       "  </tbody>\n",
       "</table>\n",
       "</div>"
      ],
      "text/plain": [
       "           tempo      media_id  fraude\n",
       "2   7.887854e-07  5.789473e-01       1\n",
       "24  7.887854e-07  3.684212e-01       1\n",
       "25  4.040505e-01  2.631629e-02       1\n",
       "29  7.887854e-07  5.263158e-01       1\n",
       "59  3.943004e-01  5.263152e-07       1"
      ]
     },
     "metadata": {},
     "output_type": "display_data"
    },
    {
     "data": {
      "text/html": [
       "<div>\n",
       "<style scoped>\n",
       "    .dataframe tbody tr th:only-of-type {\n",
       "        vertical-align: middle;\n",
       "    }\n",
       "\n",
       "    .dataframe tbody tr th {\n",
       "        vertical-align: top;\n",
       "    }\n",
       "\n",
       "    .dataframe thead th {\n",
       "        text-align: right;\n",
       "    }\n",
       "</style>\n",
       "<table border=\"1\" class=\"dataframe\">\n",
       "  <thead>\n",
       "    <tr style=\"text-align: right;\">\n",
       "      <th></th>\n",
       "      <th>tempo</th>\n",
       "      <th>media_id</th>\n",
       "      <th>fraude</th>\n",
       "    </tr>\n",
       "  </thead>\n",
       "  <tbody>\n",
       "    <tr>\n",
       "      <th>0</th>\n",
       "      <td>0.421773</td>\n",
       "      <td>5.263152e-07</td>\n",
       "      <td>0</td>\n",
       "    </tr>\n",
       "    <tr>\n",
       "      <th>1</th>\n",
       "      <td>0.435753</td>\n",
       "      <td>5.263152e-07</td>\n",
       "      <td>0</td>\n",
       "    </tr>\n",
       "    <tr>\n",
       "      <th>3</th>\n",
       "      <td>0.540331</td>\n",
       "      <td>5.263152e-07</td>\n",
       "      <td>0</td>\n",
       "    </tr>\n",
       "    <tr>\n",
       "      <th>4</th>\n",
       "      <td>0.496019</td>\n",
       "      <td>5.263152e-07</td>\n",
       "      <td>0</td>\n",
       "    </tr>\n",
       "    <tr>\n",
       "      <th>5</th>\n",
       "      <td>0.391681</td>\n",
       "      <td>5.263152e-07</td>\n",
       "      <td>0</td>\n",
       "    </tr>\n",
       "  </tbody>\n",
       "</table>\n",
       "</div>"
      ],
      "text/plain": [
       "      tempo      media_id  fraude\n",
       "0  0.421773  5.263152e-07       0\n",
       "1  0.435753  5.263152e-07       0\n",
       "3  0.540331  5.263152e-07       0\n",
       "4  0.496019  5.263152e-07       0\n",
       "5  0.391681  5.263152e-07       0"
      ]
     },
     "metadata": {},
     "output_type": "display_data"
    }
   ],
   "source": [
    "dados_anomalos = dataset_nao_supervisionado.query('fraude == 1 ')\n",
    "dados_normais = dataset_nao_supervisionado.query('fraude == 0 ')\n",
    "\n",
    "display(dados_anomalos.head())\n",
    "display(dados_normais.head())"
   ]
  },
  {
   "cell_type": "markdown",
   "id": "1f52885e-d6d5-4d4e-bf47-cbe42fc7b4ef",
   "metadata": {},
   "source": [
    "Agora com os dados normais e anômalos vou armazenar os seus index para conseguir chama-los no futuro para fornecer ao modelo amostras para treinar transações normais:"
   ]
  },
  {
   "cell_type": "code",
   "execution_count": 75,
   "id": "8e507e3c-5dc1-41b5-956b-70810d779b2d",
   "metadata": {},
   "outputs": [
    {
     "data": {
      "text/plain": [
       "Int64Index([112076,  41302,  95079,   1286,  34878,  58125, 115988,  96962,\n",
       "             64166,  56121,\n",
       "            ...\n",
       "             63592, 147527,  40043,  50269, 144774, 106225, 115924, 137868,\n",
       "             81651,  20151],\n",
       "           dtype='int64', length=95873)"
      ]
     },
     "execution_count": 75,
     "metadata": {},
     "output_type": "execute_result"
    }
   ],
   "source": [
    "treino_index = dados_normais.sample(frac = 0.7,random_state=semente).index\n",
    "treino_index"
   ]
  },
  {
   "cell_type": "markdown",
   "id": "433f55c9-d619-444f-81eb-5ad0569374d9",
   "metadata": {},
   "source": [
    "Agora que temos os indices de amostras de transações normais, construimos os dados de treino e teste **com base nos `dados_normais` não nos `dados_anomalos`**"
   ]
  },
  {
   "cell_type": "code",
   "execution_count": 76,
   "id": "fb298222-a059-4a6d-aae7-99369d40999c",
   "metadata": {},
   "outputs": [],
   "source": [
    "dados_treino = dados_normais.loc[treino_index]\n",
    "dados_teste = dados_normais.drop(treino_index)"
   ]
  },
  {
   "cell_type": "markdown",
   "id": "374f700b-6d16-467e-adb5-0c659742efe0",
   "metadata": {},
   "source": [
    "Agora o que será feito, **é concatenar os dados anômalos com os dados de teste** isso porque o modelo vai treinar com dados normais e na hora de testar vamos testar com algumas transações falsas para verificar se ele consegue classificar corretamente."
   ]
  },
  {
   "cell_type": "code",
   "execution_count": 77,
   "id": "4052e4ef-0efb-4f02-bef5-2466a4b3c529",
   "metadata": {},
   "outputs": [
    {
     "data": {
      "text/html": [
       "<div>\n",
       "<style scoped>\n",
       "    .dataframe tbody tr th:only-of-type {\n",
       "        vertical-align: middle;\n",
       "    }\n",
       "\n",
       "    .dataframe tbody tr th {\n",
       "        vertical-align: top;\n",
       "    }\n",
       "\n",
       "    .dataframe thead th {\n",
       "        text-align: right;\n",
       "    }\n",
       "</style>\n",
       "<table border=\"1\" class=\"dataframe\">\n",
       "  <thead>\n",
       "    <tr style=\"text-align: right;\">\n",
       "      <th></th>\n",
       "      <th>tempo</th>\n",
       "      <th>media_id</th>\n",
       "      <th>fraude</th>\n",
       "    </tr>\n",
       "  </thead>\n",
       "  <tbody>\n",
       "    <tr>\n",
       "      <th>108531</th>\n",
       "      <td>0.461210</td>\n",
       "      <td>2.631629e-02</td>\n",
       "      <td>1</td>\n",
       "    </tr>\n",
       "    <tr>\n",
       "      <th>60781</th>\n",
       "      <td>0.458727</td>\n",
       "      <td>5.263152e-07</td>\n",
       "      <td>0</td>\n",
       "    </tr>\n",
       "    <tr>\n",
       "      <th>25772</th>\n",
       "      <td>0.459703</td>\n",
       "      <td>5.263152e-07</td>\n",
       "      <td>0</td>\n",
       "    </tr>\n",
       "    <tr>\n",
       "      <th>132295</th>\n",
       "      <td>0.580809</td>\n",
       "      <td>5.263152e-07</td>\n",
       "      <td>0</td>\n",
       "    </tr>\n",
       "    <tr>\n",
       "      <th>10465</th>\n",
       "      <td>0.614727</td>\n",
       "      <td>5.263152e-07</td>\n",
       "      <td>0</td>\n",
       "    </tr>\n",
       "  </tbody>\n",
       "</table>\n",
       "</div>"
      ],
      "text/plain": [
       "           tempo      media_id  fraude\n",
       "108531  0.461210  2.631629e-02       1\n",
       "60781   0.458727  5.263152e-07       0\n",
       "25772   0.459703  5.263152e-07       0\n",
       "132295  0.580809  5.263152e-07       0\n",
       "10465   0.614727  5.263152e-07       0"
      ]
     },
     "execution_count": 77,
     "metadata": {},
     "output_type": "execute_result"
    }
   ],
   "source": [
    "dados_teste = pd.concat([dados_teste, dados_anomalos], axis=0).sample(frac=1, random_state=semente)\n",
    "dados_teste.head()"
   ]
  },
  {
   "cell_type": "markdown",
   "id": "2d6e4cfe-018d-4a38-9fa6-42ff3e465aa6",
   "metadata": {},
   "source": [
    "Agora temos os dados de treino e teste. Basta separar as features de treino e teste, e os targets de treino e teste: "
   ]
  },
  {
   "cell_type": "code",
   "execution_count": 78,
   "id": "2bcdce80-8201-47fe-bbdb-1a20411817b9",
   "metadata": {},
   "outputs": [],
   "source": [
    "x_para_treino = dados_treino[['tempo','media_id']]\n",
    "y_para_treino = dados_treino['fraude']\n",
    "\n",
    "x_treino, x_teste, y_treino, y_teste = train_test_split(x_para_treino, y_para_treino,\n",
    "                                                        train_size = 0.7, random_state= semente)"
   ]
  },
  {
   "cell_type": "markdown",
   "id": "6480d177-5dd8-4803-82fb-798aaca4b085",
   "metadata": {},
   "source": [
    "Agora, como vamos aplicar a validação cruzada foi preciso separar em x_treino, x_teste, y_treino e y_teste e ai os dados de validação serão usados para validar a anomalia."
   ]
  },
  {
   "cell_type": "code",
   "execution_count": 79,
   "id": "2379104a-43ac-4d8b-9cdf-766089ce8953",
   "metadata": {},
   "outputs": [],
   "source": [
    "x_validacao = dados_teste[['tempo','media_id']]\n",
    "y_validacao = dados_teste['fraude']"
   ]
  },
  {
   "cell_type": "markdown",
   "id": "3fcd82e5-f7dd-414d-8879-3a1854bbb031",
   "metadata": {},
   "source": [
    "É preciso também fazer a alteração de -1 para fraude e 1 para transações normais."
   ]
  },
  {
   "cell_type": "code",
   "execution_count": 80,
   "id": "ef95bf63-f48e-432d-9762-51ddfa358d3d",
   "metadata": {},
   "outputs": [],
   "source": [
    "y_treino = y_treino.apply(lambda x: 1 if x == 0 else -1)\n",
    "y_teste = y_teste.apply(lambda x: 1 if x == 0 else -1)\n",
    "\n",
    "y_validacao = y_validacao.apply(lambda x: 1 if x == 0 else -1)"
   ]
  },
  {
   "cell_type": "code",
   "execution_count": 81,
   "id": "12c9587d-600c-47c7-bc01-a8aa62c27d6a",
   "metadata": {},
   "outputs": [
    {
     "data": {
      "text/plain": [
       "108531   -1\n",
       "60781     1\n",
       "25772     1\n",
       "132295    1\n",
       "10465     1\n",
       "Name: fraude, dtype: int64"
      ]
     },
     "execution_count": 81,
     "metadata": {},
     "output_type": "execute_result"
    }
   ],
   "source": [
    "y_validacao.head()"
   ]
  },
  {
   "cell_type": "markdown",
   "id": "dfd60a51-6c2b-44d2-a3dc-59a76f93afc4",
   "metadata": {},
   "source": [
    "É importante **não confundir, 1 indica transação normal e -1 transação fraudulenta**. Os datasets de treino e teste não devem ter dados fraudulentos, podemos verificar isso através do método `unique()`:"
   ]
  },
  {
   "cell_type": "code",
   "execution_count": 82,
   "id": "1218c212-2c5f-4f70-8118-17e4c5cb2a33",
   "metadata": {},
   "outputs": [
    {
     "name": "stdout",
     "output_type": "stream",
     "text": [
      "[1]\n",
      "[1]\n"
     ]
    }
   ],
   "source": [
    "print(y_treino.unique())\n",
    "print(y_teste.unique())"
   ]
  },
  {
   "cell_type": "markdown",
   "id": "6aa34b74-e74a-4042-a06d-4302a0ad5512",
   "metadata": {},
   "source": [
    "Como é possível verificar só tem transações verdadeiras, diferente dos dados de validação."
   ]
  },
  {
   "cell_type": "code",
   "execution_count": 83,
   "id": "fa1f7b10-383b-48f2-800e-b0f471418f64",
   "metadata": {},
   "outputs": [
    {
     "name": "stdout",
     "output_type": "stream",
     "text": [
      "[-1  1]\n"
     ]
    }
   ],
   "source": [
    "print(y_validacao.unique())"
   ]
  },
  {
   "cell_type": "markdown",
   "id": "78f0da59-7252-4685-9648-b58e8cb139ab",
   "metadata": {},
   "source": [
    "Em outras palavras, o modelo não supervisionado consiste em forçar um **overfitting** com transações verdadeiras e todas as transações que forem um pouco diferente, serão acionadas como fraudulentas."
   ]
  },
  {
   "cell_type": "markdown",
   "id": "d824b271-bdda-4f52-95b9-35cf5d04358f",
   "metadata": {},
   "source": [
    "## Algortítmo não supervisionado\n",
    "\n",
    "Agora vamos implementar o pipeline do algorítmo não supervisionado propriamente dito, mas antes vamos definir hiper parâmetros do modelo **SVM**. O SVM é uma sigla pra Support Vector Machine, basicamente consiste em desenhar um hiper plano em um espaço n-dimensional que diferencia os dados em duas classes (transações normais e transações falsas)\n",
    "\n",
    "É possível ler mais sobre o SVM na documentação do Sci-kit Learn: \n",
    "\n",
    "> https://scikit-learn.org/stable/modules/svm.html\n",
    "\n",
    "O tipo de algorítmo SVM que vamos utilizar é o **OneClassSVM**, é um algorítmo para detecção de outliers\n",
    "\n",
    "> https://scikit-learn.org/stable/modules/generated/sklearn.svm.OneClassSVM.html?highlight=oneclasssvm#sklearn.svm.OneClassSVM\n",
    "\n",
    "vamos definir os hiperparâmetros do One Class SVM:\n",
    "\n",
    "```python\n",
    "sklearn.svm.OneClassSVM(*, kernel='rbf', degree=3, gamma='scale', coef0=0.0, tol=0.001, nu=0.5, shrinking=True, cache_size=200, verbose=False, max_iter=- 1)\n",
    "```"
   ]
  },
  {
   "cell_type": "code",
   "execution_count": 84,
   "id": "1b1cb07f-5fdc-4758-b951-8b7d0cdf20b1",
   "metadata": {},
   "outputs": [
    {
     "data": {
      "text/html": [
       "<div>\n",
       "<style scoped>\n",
       "    .dataframe tbody tr th:only-of-type {\n",
       "        vertical-align: middle;\n",
       "    }\n",
       "\n",
       "    .dataframe tbody tr th {\n",
       "        vertical-align: top;\n",
       "    }\n",
       "\n",
       "    .dataframe thead th {\n",
       "        text-align: right;\n",
       "    }\n",
       "</style>\n",
       "<table border=\"1\" class=\"dataframe\">\n",
       "  <thead>\n",
       "    <tr style=\"text-align: right;\">\n",
       "      <th></th>\n",
       "      <th>nu</th>\n",
       "      <th>gamma</th>\n",
       "    </tr>\n",
       "  </thead>\n",
       "  <tbody>\n",
       "    <tr>\n",
       "      <th>0</th>\n",
       "      <td>0.00100</td>\n",
       "      <td>0.01</td>\n",
       "    </tr>\n",
       "    <tr>\n",
       "      <th>1</th>\n",
       "      <td>0.00100</td>\n",
       "      <td>0.03</td>\n",
       "    </tr>\n",
       "    <tr>\n",
       "      <th>2</th>\n",
       "      <td>0.00100</td>\n",
       "      <td>0.10</td>\n",
       "    </tr>\n",
       "    <tr>\n",
       "      <th>3</th>\n",
       "      <td>0.00100</td>\n",
       "      <td>0.30</td>\n",
       "    </tr>\n",
       "    <tr>\n",
       "      <th>4</th>\n",
       "      <td>0.02575</td>\n",
       "      <td>0.01</td>\n",
       "    </tr>\n",
       "  </tbody>\n",
       "</table>\n",
       "</div>"
      ],
      "text/plain": [
       "        nu  gamma\n",
       "0  0.00100   0.01\n",
       "1  0.00100   0.03\n",
       "2  0.00100   0.10\n",
       "3  0.00100   0.30\n",
       "4  0.02575   0.01"
      ]
     },
     "execution_count": 84,
     "metadata": {},
     "output_type": "execute_result"
    }
   ],
   "source": [
    "params_grid = {\n",
    "    'nu':np.linspace(0.001,0.1, 5),\n",
    "    'gamma': [0.01, 0.03, 0.1, 0.3]\n",
    "}\n",
    "\n",
    "param_list = list(itertools.product(params_grid['nu'],\n",
    "                                    params_grid['gamma']\n",
    "                                   )\n",
    "                 )\n",
    "param_list = pd.DataFrame(param_list, columns=params_grid.keys())\n",
    "param_list.head()"
   ]
  },
  {
   "cell_type": "markdown",
   "id": "58bc48e8-5bbe-4caf-8455-8a85ae775ba0",
   "metadata": {},
   "source": [
    "Agora vamos efetivamente fazer o uso do GridSearchCV:"
   ]
  },
  {
   "cell_type": "code",
   "execution_count": 85,
   "id": "801d1fbe-b0a4-49ac-95ee-197f1fd8e9e1",
   "metadata": {},
   "outputs": [],
   "source": [
    "from sklearn.svm import OneClassSVM\n",
    "\n",
    "def random_grid_search(param_list, n_samples, x_treino, x_teste, y_teste):\n",
    "    \n",
    "    f1_max = 0\n",
    "    param_list = param_list.sample(n_samples, random_state = semente).values\n",
    "    \n",
    "    remainings_fits = n_samples \n",
    "    \n",
    "    for params in param_list:\n",
    "        nu, gamma = params \n",
    "        OCSVM = OneClassSVM(kernel = 'rbf',\n",
    "                            nu = nu,\n",
    "                            gamma = gamma,)\n",
    "        \n",
    "        print(f'~~ Ajustando modelo ~~\\n\\tCom: Nu = {nu:.4f} | Gamma: {gamma:.2f}')\n",
    "        OCSVM.fit(x_treino)\n",
    "        cv_predict = OCSVM.predict(x_teste)\n",
    "        \n",
    "        f1 = f1_score(y_teste.values,\n",
    "                      cv_predict,\n",
    "                      average='binary')\n",
    "        \n",
    "        # Otimização\n",
    "        if f1 > f1_max: \n",
    "            f1_max = f1\n",
    "            OCSVM_best = OCSVM\n",
    "            remainings_fits -= 1 \n",
    "            print(f'\\tDelta F1-Score: {f1 - f1_max:.4f}| Remainings fits: {remainings_fits}')    \n",
    "    return f1_max, OCSVM_best \n",
    "            \n",
    "        \n",
    "    "
   ]
  },
  {
   "cell_type": "code",
   "execution_count": 86,
   "id": "339a757e-f063-4c37-a90b-ca8f6a7c729d",
   "metadata": {},
   "outputs": [
    {
     "name": "stdout",
     "output_type": "stream",
     "text": [
      "~~ Ajustando modelo ~~\n",
      "\tCom: Nu = 0.1000 | Gamma: 0.01\n",
      "\tDelta F1-Score: 0.0000| Remainings fits: 9\n",
      "~~ Ajustando modelo ~~\n",
      "\tCom: Nu = 0.0010 | Gamma: 0.30\n",
      "\tDelta F1-Score: 0.0000| Remainings fits: 8\n",
      "~~ Ajustando modelo ~~\n",
      "\tCom: Nu = 0.0258 | Gamma: 0.30\n",
      "~~ Ajustando modelo ~~\n",
      "\tCom: Nu = 0.0010 | Gamma: 0.10\n",
      "\tDelta F1-Score: 0.0000| Remainings fits: 7\n",
      "~~ Ajustando modelo ~~\n",
      "\tCom: Nu = 0.0258 | Gamma: 0.01\n",
      "~~ Ajustando modelo ~~\n",
      "\tCom: Nu = 0.1000 | Gamma: 0.10\n",
      "~~ Ajustando modelo ~~\n",
      "\tCom: Nu = 0.1000 | Gamma: 0.03\n",
      "~~ Ajustando modelo ~~\n",
      "\tCom: Nu = 0.0505 | Gamma: 0.01\n",
      "~~ Ajustando modelo ~~\n",
      "\tCom: Nu = 0.0753 | Gamma: 0.30\n",
      "~~ Ajustando modelo ~~\n",
      "\tCom: Nu = 0.0753 | Gamma: 0.10\n",
      "CPU times: user 6min 16s, sys: 839 ms, total: 6min 17s\n",
      "Wall time: 6min 17s\n"
     ]
    }
   ],
   "source": [
    "%%time\n",
    "f1_max, OCSVM_best = random_grid_search(param_list, 10, x_treino, x_teste, y_teste)"
   ]
  },
  {
   "cell_type": "markdown",
   "id": "1217eee3-f823-473e-bbea-186592a88d2e",
   "metadata": {},
   "source": [
    "### O melhor modelo tem os hiperparâmetros:"
   ]
  },
  {
   "cell_type": "code",
   "execution_count": 87,
   "id": "e35380cc-9891-4a1e-87d9-fe35c69349a9",
   "metadata": {},
   "outputs": [
    {
     "name": "stdout",
     "output_type": "stream",
     "text": [
      "f1-score: 0.9994434008209838\n",
      "Best Estimator: OneClassSVM(gamma=0.1, nu=0.001)\n"
     ]
    }
   ],
   "source": [
    "print(f'f1-score: {f1_max}\\nBest Estimator: {OCSVM_best}')"
   ]
  },
  {
   "cell_type": "markdown",
   "id": "311b2090-07c1-48ed-bdd8-9a7b035ed8bd",
   "metadata": {},
   "source": [
    "Agora vamos verificar as predições com base nos dados de validação:"
   ]
  },
  {
   "cell_type": "code",
   "execution_count": 88,
   "id": "e86f5cd3-a68e-44a7-ac9f-c06e7e802247",
   "metadata": {},
   "outputs": [],
   "source": [
    "\n",
    "# Ajustando modelo aos dados de treino\n",
    "OCSVM_best.fit(x_treino)\n",
    "\n",
    "# predizendo com base nos dados de validação\n",
    "y_predito = OCSVM_best.predict(x_validacao)\n",
    "\n",
    "# calculando metrica ROC_AUC\n",
    "roc_auc_score_ocsvm = roc_auc_score(y_validacao, y_predito)\n",
    "\n",
    "# Classification Report\n",
    "classification_report_ocsvm = classification_report(y_validacao, y_predito,\n",
    "                                                    target_names=['anormais','normais'],\n",
    "                                                   output_dict=True)\n",
    "classification_report_ocsvm = pd.DataFrame(classification_report_ocsvm).T\n",
    "\n",
    "# predizendo probabilisticamente \n",
    "y_predito_probs = OCSVM_best.decision_function(x_validacao)\n",
    "fpr, tpr, thresold = roc_curve(y_validacao, y_predito_probs)"
   ]
  },
  {
   "cell_type": "markdown",
   "id": "5951d01e-da45-411b-bb43-f7682ef26793",
   "metadata": {},
   "source": [
    "### Exibindo a curva ROC"
   ]
  },
  {
   "cell_type": "code",
   "execution_count": 89,
   "id": "efe3c2bd-10c9-4b40-bf0e-899ea1faa797",
   "metadata": {},
   "outputs": [
    {
     "data": {
      "image/png": "[encoded data removed]",
      "text/plain": [
       "<Figure size 576x432 with 1 Axes>"
      ]
     },
     "metadata": {
      "needs_background": "light"
     },
     "output_type": "display_data"
    },
    {
     "data": {
      "text/html": [
       "<style  type=\"text/css\" >\n",
       "</style><table id=\"T_a23c1_\" ><caption>Classification Report One Class SVM</caption><thead>    <tr>        <th class=\"blank level0\" ></th>        <th class=\"col_heading level0 col0\" >precision</th>        <th class=\"col_heading level0 col1\" >recall</th>        <th class=\"col_heading level0 col2\" >f1-score</th>        <th class=\"col_heading level0 col3\" >support</th>    </tr></thead><tbody>\n",
       "                <tr>\n",
       "                        <th id=\"T_a23c1_level0_row0\" class=\"row_heading level0 row0\" >anormais</th>\n",
       "                        <td id=\"T_a23c1_row0_col0\" class=\"data row0 col0\" >0.993599</td>\n",
       "                        <td id=\"T_a23c1_row0_col1\" class=\"data row0 col1\" >0.537489</td>\n",
       "                        <td id=\"T_a23c1_row0_col2\" class=\"data row0 col2\" >0.697606</td>\n",
       "                        <td id=\"T_a23c1_row0_col3\" class=\"data row0 col3\" >14151.000000</td>\n",
       "            </tr>\n",
       "            <tr>\n",
       "                        <th id=\"T_a23c1_level0_row1\" class=\"row_heading level0 row1\" >normais</th>\n",
       "                        <td id=\"T_a23c1_row1_col0\" class=\"data row1 col0\" >0.862454</td>\n",
       "                        <td id=\"T_a23c1_row1_col1\" class=\"data row1 col1\" >0.998807</td>\n",
       "                        <td id=\"T_a23c1_row1_col2\" class=\"data row1 col2\" >0.925636</td>\n",
       "                        <td id=\"T_a23c1_row1_col3\" class=\"data row1 col3\" >41088.000000</td>\n",
       "            </tr>\n",
       "            <tr>\n",
       "                        <th id=\"T_a23c1_level0_row2\" class=\"row_heading level0 row2\" >accuracy</th>\n",
       "                        <td id=\"T_a23c1_row2_col0\" class=\"data row2 col0\" >0.880628</td>\n",
       "                        <td id=\"T_a23c1_row2_col1\" class=\"data row2 col1\" >0.880628</td>\n",
       "                        <td id=\"T_a23c1_row2_col2\" class=\"data row2 col2\" >0.880628</td>\n",
       "                        <td id=\"T_a23c1_row2_col3\" class=\"data row2 col3\" >0.880628</td>\n",
       "            </tr>\n",
       "            <tr>\n",
       "                        <th id=\"T_a23c1_level0_row3\" class=\"row_heading level0 row3\" >macro avg</th>\n",
       "                        <td id=\"T_a23c1_row3_col0\" class=\"data row3 col0\" >0.928026</td>\n",
       "                        <td id=\"T_a23c1_row3_col1\" class=\"data row3 col1\" >0.768148</td>\n",
       "                        <td id=\"T_a23c1_row3_col2\" class=\"data row3 col2\" >0.811621</td>\n",
       "                        <td id=\"T_a23c1_row3_col3\" class=\"data row3 col3\" >55239.000000</td>\n",
       "            </tr>\n",
       "            <tr>\n",
       "                        <th id=\"T_a23c1_level0_row4\" class=\"row_heading level0 row4\" >weighted avg</th>\n",
       "                        <td id=\"T_a23c1_row4_col0\" class=\"data row4 col0\" >0.896050</td>\n",
       "                        <td id=\"T_a23c1_row4_col1\" class=\"data row4 col1\" >0.880628</td>\n",
       "                        <td id=\"T_a23c1_row4_col2\" class=\"data row4 col2\" >0.867220</td>\n",
       "                        <td id=\"T_a23c1_row4_col3\" class=\"data row4 col3\" >55239.000000</td>\n",
       "            </tr>\n",
       "    </tbody></table>"
      ],
      "text/plain": [
       "<pandas.io.formats.style.Styler at 0x7f680cc83510>"
      ]
     },
     "metadata": {},
     "output_type": "display_data"
    }
   ],
   "source": [
    "\n",
    "plt.figure(figsize=(8,6))\n",
    "plt.title(f'Curva ROC com AUC = {roc_auc_score_ocsvm:.2f}', fontsize=20, pad=20)\n",
    "plt.plot(fpr, tpr, lw = 1, label='ROC', color='blue')\n",
    "plt.plot([0,1], [0,1],'--', color='red', label='dummy')\n",
    "plt.xlim([-0.05, 1.05])\n",
    "plt.ylim([-0.05, 1.05])\n",
    "\n",
    "plt.xlabel('Taxa de positivos falsos', fontsize=15)\n",
    "plt.ylabel('Taxa de positivos verdadeiros', fontsize=15)\n",
    "plt.legend()\n",
    "plt.show()\n",
    "\n",
    "\n",
    "display(classification_report_ocsvm.style.set_caption('Classification Report One Class SVM'))"
   ]
  },
  {
   "cell_type": "markdown",
   "id": "697869d1-c8f4-43a4-9a75-354610c4cbca",
   "metadata": {},
   "source": [
    "### Análise da matriz de confusão"
   ]
  },
  {
   "cell_type": "code",
   "execution_count": 90,
   "id": "3c67e07a-ec58-4d3c-b527-7f044fdb3b9d",
   "metadata": {},
   "outputs": [
    {
     "data": {
      "text/plain": [
       "array([[ 7606,  6545],\n",
       "       [   49, 41039]])"
      ]
     },
     "execution_count": 90,
     "metadata": {},
     "output_type": "execute_result"
    }
   ],
   "source": [
    "cnf_matrix_if = confusion_matrix(y_validacao, y_predito)\n",
    "cnf_matrix_if\n"
   ]
  },
  {
   "cell_type": "code",
   "execution_count": 91,
   "id": "3bf81608-743a-4a01-8be4-b76c6d5a3717",
   "metadata": {},
   "outputs": [
    {
     "data": {
      "image/png": "[encoded data removed]",
      "text/plain": [
       "<Figure size 576x432 with 2 Axes>"
      ]
     },
     "metadata": {
      "needs_background": "light"
     },
     "output_type": "display_data"
    }
   ],
   "source": [
    "cnf_matrix_if = confusion_matrix(y_validacao, y_predito, normalize='true')\n",
    "plt.figure(figsize=(8,6))\n",
    "plt.title('Matriz confusão', fontsize=20, pad=20)\n",
    "ax = sns.heatmap(cnf_matrix_if, annot=True, fmt='.4f')\n",
    "ax.set_ylabel('Verdadeiro')\n",
    "ax.set_xlabel('Predito')\n",
    "#ax.set_yticklabels(labels=['Neg','Pos'])\n",
    "#ax.set_xticklabels(labels=['Neg','Pos'])\n",
    "ax;"
   ]
  },
  {
   "cell_type": "markdown",
   "id": "38a3c330-f1ee-4f94-b807-a42c35e2ea9c",
   "metadata": {},
   "source": [
    "**Comentário Matriz de confusão**\n",
    "> Este grafico se lê das linhas em relação às colunas, isso porque a matriz, novamente, esta normalizada pela linha e nelas estão indicados os valores reais e nas colunas os valores preditos. De todos os rótulos que não são fraudes (primeira linha) o modelo estimou corretamente 53.75%, mas 46.25% disse que eram fraudes quando não eram, neste caso podemos enviar algum tipo de notificação perguntando se é mesmo a pessoa fazendo a transação. Já de todas as fraudes o modelo classificou erroneamente 0.12%, isto é, transações que eram falsas e ele classificou como legítimas e das transações que eram realmente fraudes ele classificou corretamente 99.88%\n",
    "\n",
    "\n",
    "Tendo em vista que a **consequencia comercial de uma predição falso positiva, tem um impacto muito maior do que uma predição falsa negativa, podemos dizer que o modelo não supervisionado `One Class SVM` tem um desempenho muito melhor se comparado com o modelo `Isolation Forest`**."
   ]
  },
  {
   "cell_type": "code",
   "execution_count": null,
   "id": "5220d286-8c01-4be4-8c7f-1a98f5dca1cb",
   "metadata": {},
   "outputs": [],
   "source": [
    "\n"
   ]
  },
  {
   "cell_type": "code",
   "execution_count": null,
   "id": "db3cbd5f-a3e2-457a-80ab-176f8678bcf1",
   "metadata": {},
   "outputs": [],
   "source": []
  }
 ],
 "metadata": {
  "kernelspec": {
   "display_name": "Python 3",
   "language": "python",
   "name": "python3"
  },
  "language_info": {
   "codemirror_mode": {
    "name": "ipython",
    "version": 3
   },
   "file_extension": ".py",
   "mimetype": "text/x-python",
   "name": "python",
   "nbconvert_exporter": "python",
   "pygments_lexer": "ipython3",
   "version": "3.7.9"
  },
  "toc-autonumbering": true
 },
 "nbformat": 4,
 "nbformat_minor": 5
}
