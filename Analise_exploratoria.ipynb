{
 "cells": [
  {
   "cell_type": "markdown",
   "id": "7955c665-f576-4318-a859-685cb9e4e06b",
   "metadata": {},
   "source": [
    "# Introdução\n",
    "\n",
    "Bom no notebook [Análise Exploratória](https://github.com/ConradBitt/Deteccao_Fraudes/blob/master/Analise_Exploratoria.ipynb) realizamos uma análise exploratória e alguns pré processamentos nos dados, a fim de identificar a região de cada IP em cada transação financeira. Com certeza esse passo foi importante para uma análise mais descritiva e categórica, entretanto não é o único. Agora vamos aos próximos passos, dado que temos dados de transações e seus países vamos definir algumas hipótesesa para serem testadas."
   ]
  },
  {
   "cell_type": "code",
   "execution_count": 1,
   "id": "0de4a559-9415-41cc-bcf6-6b510f98141d",
   "metadata": {},
   "outputs": [],
   "source": [
    "import numpy as np \n",
    "import pandas as pd \n",
    "import seaborn as sns \n",
    "import matplotlib as mpl\n",
    "import scipy \n",
    "import itertools\n",
    "import datetime\n",
    "\n",
    "\n",
    "from matplotlib import pyplot as plt\n",
    "from scipy import special\n",
    "from datetime import timedelta"
   ]
  },
  {
   "cell_type": "code",
   "execution_count": 2,
   "id": "fc5b8738-f5bf-41c8-912a-736c55a59bab",
   "metadata": {},
   "outputs": [
    {
     "name": "stdout",
     "output_type": "stream",
     "text": [
      "~~ Versão Python ~~\n",
      "Python 3.7.9\n",
      "\n",
      "\n",
      "~~ Versões Módulos ~~\n",
      "numpy: 1.20.1\n",
      "pandas: 1.2.4\n",
      "seaborn: 0.11.1\n",
      "matplotlib: 3.3.4\n",
      "scipy: 1.6.2\n"
     ]
    }
   ],
   "source": [
    "print('~~ Versão Python ~~')\n",
    "!python --version\n",
    "\n",
    "print('\\n\\n~~ Versões Módulos ~~')\n",
    "\n",
    "print(f'numpy: {np.__version__}')\n",
    "print(f'pandas: {pd.__version__}')\n",
    "print(f'seaborn: {sns.__version__}')\n",
    "print(f'matplotlib: {mpl.__version__}')\n",
    "print(f'scipy: {scipy.__version__}')"
   ]
  },
  {
   "cell_type": "code",
   "execution_count": 3,
   "id": "4595d896-7917-41c3-927e-613e3b1761a0",
   "metadata": {},
   "outputs": [],
   "source": [
    "plt.style.use('bmh')\n",
    "sns.set_context('talk')"
   ]
  },
  {
   "cell_type": "markdown",
   "id": "1c6eeb45-300d-4091-8738-15ca9088e00e",
   "metadata": {},
   "source": [
    "# Importando os dados"
   ]
  },
  {
   "cell_type": "code",
   "execution_count": 4,
   "id": "2f036fb2-7429-448e-b2d5-44ecace9eb40",
   "metadata": {},
   "outputs": [],
   "source": [
    "transacoes = pd.read_csv('./dados/Transacoes_Fraudes.csv', header = 0)"
   ]
  },
  {
   "cell_type": "code",
   "execution_count": 5,
   "id": "a8e49c8f-6e4e-4d44-9dac-05410100580a",
   "metadata": {},
   "outputs": [
    {
     "data": {
      "text/html": [
       "<div>\n",
       "<style scoped>\n",
       "    .dataframe tbody tr th:only-of-type {\n",
       "        vertical-align: middle;\n",
       "    }\n",
       "\n",
       "    .dataframe tbody tr th {\n",
       "        vertical-align: top;\n",
       "    }\n",
       "\n",
       "    .dataframe thead th {\n",
       "        text-align: right;\n",
       "    }\n",
       "</style>\n",
       "<table border=\"1\" class=\"dataframe\">\n",
       "  <thead>\n",
       "    <tr style=\"text-align: right;\">\n",
       "      <th></th>\n",
       "      <th>id</th>\n",
       "      <th>cadastro</th>\n",
       "      <th>compra</th>\n",
       "      <th>valor</th>\n",
       "      <th>id_dispositivo</th>\n",
       "      <th>fonte</th>\n",
       "      <th>browser</th>\n",
       "      <th>genero</th>\n",
       "      <th>idade</th>\n",
       "      <th>ip</th>\n",
       "      <th>fraude</th>\n",
       "      <th>pais</th>\n",
       "    </tr>\n",
       "  </thead>\n",
       "  <tbody>\n",
       "    <tr>\n",
       "      <th>0</th>\n",
       "      <td>22058</td>\n",
       "      <td>2015-02-24 22:55:49</td>\n",
       "      <td>2015-04-18 02:47:11</td>\n",
       "      <td>34</td>\n",
       "      <td>QVPSPJUOCKZAR</td>\n",
       "      <td>SEO</td>\n",
       "      <td>Chrome</td>\n",
       "      <td>M</td>\n",
       "      <td>39</td>\n",
       "      <td>7.327584e+08</td>\n",
       "      <td>0</td>\n",
       "      <td>Japan</td>\n",
       "    </tr>\n",
       "    <tr>\n",
       "      <th>1</th>\n",
       "      <td>333320</td>\n",
       "      <td>2015-06-07 20:39:50</td>\n",
       "      <td>2015-06-08 01:38:54</td>\n",
       "      <td>16</td>\n",
       "      <td>EOGFQPIZPYXFZ</td>\n",
       "      <td>Ads</td>\n",
       "      <td>Chrome</td>\n",
       "      <td>F</td>\n",
       "      <td>53</td>\n",
       "      <td>3.503114e+08</td>\n",
       "      <td>0</td>\n",
       "      <td>United States</td>\n",
       "    </tr>\n",
       "    <tr>\n",
       "      <th>2</th>\n",
       "      <td>1359</td>\n",
       "      <td>2015-01-01 18:52:44</td>\n",
       "      <td>2015-01-01 18:52:45</td>\n",
       "      <td>15</td>\n",
       "      <td>YSSKYOSJHPPLJ</td>\n",
       "      <td>SEO</td>\n",
       "      <td>Opera</td>\n",
       "      <td>M</td>\n",
       "      <td>53</td>\n",
       "      <td>2.621474e+09</td>\n",
       "      <td>1</td>\n",
       "      <td>United States</td>\n",
       "    </tr>\n",
       "    <tr>\n",
       "      <th>3</th>\n",
       "      <td>150084</td>\n",
       "      <td>2015-04-28 21:13:25</td>\n",
       "      <td>2015-05-04 13:54:50</td>\n",
       "      <td>44</td>\n",
       "      <td>ATGTXKYKUDUQN</td>\n",
       "      <td>SEO</td>\n",
       "      <td>Safari</td>\n",
       "      <td>M</td>\n",
       "      <td>41</td>\n",
       "      <td>3.840542e+09</td>\n",
       "      <td>0</td>\n",
       "      <td>missing_country</td>\n",
       "    </tr>\n",
       "    <tr>\n",
       "      <th>4</th>\n",
       "      <td>221365</td>\n",
       "      <td>2015-07-21 07:09:52</td>\n",
       "      <td>2015-09-09 18:40:53</td>\n",
       "      <td>39</td>\n",
       "      <td>NAUITBZFJKHWW</td>\n",
       "      <td>Ads</td>\n",
       "      <td>Safari</td>\n",
       "      <td>M</td>\n",
       "      <td>45</td>\n",
       "      <td>4.155831e+08</td>\n",
       "      <td>0</td>\n",
       "      <td>United States</td>\n",
       "    </tr>\n",
       "    <tr>\n",
       "      <th>5</th>\n",
       "      <td>159135</td>\n",
       "      <td>2015-05-21 06:03:03</td>\n",
       "      <td>2015-07-09 08:05:14</td>\n",
       "      <td>42</td>\n",
       "      <td>ALEYXFXINSXLZ</td>\n",
       "      <td>Ads</td>\n",
       "      <td>Chrome</td>\n",
       "      <td>M</td>\n",
       "      <td>18</td>\n",
       "      <td>2.809315e+09</td>\n",
       "      <td>0</td>\n",
       "      <td>Canada</td>\n",
       "    </tr>\n",
       "    <tr>\n",
       "      <th>6</th>\n",
       "      <td>50116</td>\n",
       "      <td>2015-08-01 22:40:52</td>\n",
       "      <td>2015-08-27 03:37:57</td>\n",
       "      <td>11</td>\n",
       "      <td>IWKVZHJOCLPUR</td>\n",
       "      <td>Ads</td>\n",
       "      <td>Chrome</td>\n",
       "      <td>F</td>\n",
       "      <td>19</td>\n",
       "      <td>3.987484e+09</td>\n",
       "      <td>0</td>\n",
       "      <td>missing_country</td>\n",
       "    </tr>\n",
       "    <tr>\n",
       "      <th>7</th>\n",
       "      <td>360585</td>\n",
       "      <td>2015-04-06 07:35:45</td>\n",
       "      <td>2015-05-25 17:21:14</td>\n",
       "      <td>27</td>\n",
       "      <td>HPUCUYLMJBYFW</td>\n",
       "      <td>Ads</td>\n",
       "      <td>Opera</td>\n",
       "      <td>M</td>\n",
       "      <td>34</td>\n",
       "      <td>1.692459e+09</td>\n",
       "      <td>0</td>\n",
       "      <td>United States</td>\n",
       "    </tr>\n",
       "    <tr>\n",
       "      <th>8</th>\n",
       "      <td>159045</td>\n",
       "      <td>2015-04-21 23:38:34</td>\n",
       "      <td>2015-06-02 14:01:54</td>\n",
       "      <td>30</td>\n",
       "      <td>ILXYDOZIHOOHT</td>\n",
       "      <td>SEO</td>\n",
       "      <td>IE</td>\n",
       "      <td>F</td>\n",
       "      <td>43</td>\n",
       "      <td>3.719094e+09</td>\n",
       "      <td>0</td>\n",
       "      <td>China</td>\n",
       "    </tr>\n",
       "    <tr>\n",
       "      <th>9</th>\n",
       "      <td>182338</td>\n",
       "      <td>2015-01-25 17:49:49</td>\n",
       "      <td>2015-03-23 23:05:42</td>\n",
       "      <td>62</td>\n",
       "      <td>NRFFPPHZYFUVC</td>\n",
       "      <td>Ads</td>\n",
       "      <td>IE</td>\n",
       "      <td>M</td>\n",
       "      <td>31</td>\n",
       "      <td>3.416747e+08</td>\n",
       "      <td>0</td>\n",
       "      <td>United States</td>\n",
       "    </tr>\n",
       "  </tbody>\n",
       "</table>\n",
       "</div>"
      ],
      "text/plain": [
       "       id             cadastro               compra  valor id_dispositivo  \\\n",
       "0   22058  2015-02-24 22:55:49  2015-04-18 02:47:11     34  QVPSPJUOCKZAR   \n",
       "1  333320  2015-06-07 20:39:50  2015-06-08 01:38:54     16  EOGFQPIZPYXFZ   \n",
       "2    1359  2015-01-01 18:52:44  2015-01-01 18:52:45     15  YSSKYOSJHPPLJ   \n",
       "3  150084  2015-04-28 21:13:25  2015-05-04 13:54:50     44  ATGTXKYKUDUQN   \n",
       "4  221365  2015-07-21 07:09:52  2015-09-09 18:40:53     39  NAUITBZFJKHWW   \n",
       "5  159135  2015-05-21 06:03:03  2015-07-09 08:05:14     42  ALEYXFXINSXLZ   \n",
       "6   50116  2015-08-01 22:40:52  2015-08-27 03:37:57     11  IWKVZHJOCLPUR   \n",
       "7  360585  2015-04-06 07:35:45  2015-05-25 17:21:14     27  HPUCUYLMJBYFW   \n",
       "8  159045  2015-04-21 23:38:34  2015-06-02 14:01:54     30  ILXYDOZIHOOHT   \n",
       "9  182338  2015-01-25 17:49:49  2015-03-23 23:05:42     62  NRFFPPHZYFUVC   \n",
       "\n",
       "  fonte browser genero  idade            ip  fraude             pais  \n",
       "0   SEO  Chrome      M     39  7.327584e+08       0            Japan  \n",
       "1   Ads  Chrome      F     53  3.503114e+08       0    United States  \n",
       "2   SEO   Opera      M     53  2.621474e+09       1    United States  \n",
       "3   SEO  Safari      M     41  3.840542e+09       0  missing_country  \n",
       "4   Ads  Safari      M     45  4.155831e+08       0    United States  \n",
       "5   Ads  Chrome      M     18  2.809315e+09       0           Canada  \n",
       "6   Ads  Chrome      F     19  3.987484e+09       0  missing_country  \n",
       "7   Ads   Opera      M     34  1.692459e+09       0    United States  \n",
       "8   SEO      IE      F     43  3.719094e+09       0            China  \n",
       "9   Ads      IE      M     31  3.416747e+08       0    United States  "
      ]
     },
     "execution_count": 5,
     "metadata": {},
     "output_type": "execute_result"
    }
   ],
   "source": [
    "transacoes.head(10)"
   ]
  },
  {
   "cell_type": "markdown",
   "id": "e9477b7c-33ed-41fd-9654-ce0e96447b97",
   "metadata": {},
   "source": [
    "# Análise exploratória"
   ]
  },
  {
   "cell_type": "markdown",
   "id": "0192ebe8-7fa2-4c27-8a17-65535e26e580",
   "metadata": {},
   "source": [
    "Podemos verificar que as variáveis são:"
   ]
  },
  {
   "cell_type": "code",
   "execution_count": 6,
   "id": "babb7507-987f-4433-bd53-3d8d7b0878e4",
   "metadata": {},
   "outputs": [
    {
     "data": {
      "text/plain": [
       "Index(['id', 'cadastro', 'compra', 'valor', 'id_dispositivo', 'fonte',\n",
       "       'browser', 'genero', 'idade', 'ip', 'fraude', 'pais'],\n",
       "      dtype='object')"
      ]
     },
     "execution_count": 6,
     "metadata": {},
     "output_type": "execute_result"
    }
   ],
   "source": [
    "transacoes.columns"
   ]
  },
  {
   "cell_type": "markdown",
   "id": "2b692a8b-4776-4297-8fa9-34c765710289",
   "metadata": {},
   "source": [
    "Um ponto importante é que temos uma variável chamada `id`, que provavelmente é um identificador. Outras delas são qualitativas, oustras quantitativas, existem até variáveis pessoais como por exemplo `sexo` e `idade`. Então tendo em vista esses dados, vou analisar algumas caracteristicas de cada uma dessas variáveis.\n"
   ]
  },
  {
   "cell_type": "markdown",
   "id": "6154688d-51ab-4831-a21c-4ff8d81bc81c",
   "metadata": {},
   "source": [
    "## Mudando tipo do da variavel cadastro"
   ]
  },
  {
   "cell_type": "code",
   "execution_count": 7,
   "id": "606eb948-e5eb-47f4-bcac-ddf59b17a172",
   "metadata": {},
   "outputs": [
    {
     "name": "stdout",
     "output_type": "stream",
     "text": [
      "<class 'pandas.core.frame.DataFrame'>\n",
      "RangeIndex: 151112 entries, 0 to 151111\n",
      "Data columns (total 12 columns):\n",
      " #   Column          Non-Null Count   Dtype         \n",
      "---  ------          --------------   -----         \n",
      " 0   id              151112 non-null  int64         \n",
      " 1   cadastro        151112 non-null  datetime64[ns]\n",
      " 2   compra          151112 non-null  object        \n",
      " 3   valor           151112 non-null  int64         \n",
      " 4   id_dispositivo  151112 non-null  object        \n",
      " 5   fonte           151112 non-null  object        \n",
      " 6   browser         151112 non-null  object        \n",
      " 7   genero          151112 non-null  object        \n",
      " 8   idade           151112 non-null  int64         \n",
      " 9   ip              151112 non-null  float64       \n",
      " 10  fraude          151112 non-null  int64         \n",
      " 11  pais            151112 non-null  object        \n",
      "dtypes: datetime64[ns](1), float64(1), int64(4), object(6)\n",
      "memory usage: 13.8+ MB\n"
     ]
    }
   ],
   "source": [
    "transacoes.cadastro = pd.to_datetime(transacoes.cadastro)\n",
    "transacoes.info()"
   ]
  },
  {
   "cell_type": "markdown",
   "id": "9e5263c2-a7da-4ed8-a324-d9f29fa80f36",
   "metadata": {},
   "source": [
    "## Mudando tipo do da variavel compra"
   ]
  },
  {
   "cell_type": "code",
   "execution_count": 8,
   "id": "913518a9-f4c5-47fa-b36c-0dbf455fbc05",
   "metadata": {},
   "outputs": [
    {
     "name": "stdout",
     "output_type": "stream",
     "text": [
      "<class 'pandas.core.frame.DataFrame'>\n",
      "RangeIndex: 151112 entries, 0 to 151111\n",
      "Data columns (total 12 columns):\n",
      " #   Column          Non-Null Count   Dtype         \n",
      "---  ------          --------------   -----         \n",
      " 0   id              151112 non-null  int64         \n",
      " 1   cadastro        151112 non-null  datetime64[ns]\n",
      " 2   compra          151112 non-null  datetime64[ns]\n",
      " 3   valor           151112 non-null  int64         \n",
      " 4   id_dispositivo  151112 non-null  object        \n",
      " 5   fonte           151112 non-null  object        \n",
      " 6   browser         151112 non-null  object        \n",
      " 7   genero          151112 non-null  object        \n",
      " 8   idade           151112 non-null  int64         \n",
      " 9   ip              151112 non-null  float64       \n",
      " 10  fraude          151112 non-null  int64         \n",
      " 11  pais            151112 non-null  object        \n",
      "dtypes: datetime64[ns](2), float64(1), int64(4), object(5)\n",
      "memory usage: 13.8+ MB\n"
     ]
    }
   ],
   "source": [
    "transacoes.compra = pd.to_datetime(transacoes.compra)\n",
    "transacoes.info()"
   ]
  },
  {
   "cell_type": "markdown",
   "id": "870ae747-4663-4b87-ac88-62146d495f11",
   "metadata": {},
   "source": [
    "## Analisando valores das transações\n",
    "\n",
    "### Distribuição dos valores "
   ]
  },
  {
   "cell_type": "code",
   "execution_count": 9,
   "id": "64a483df-e62b-4f61-b609-98973ee30784",
   "metadata": {},
   "outputs": [
    {
     "data": {
      "image/png": "[encoded data removed]",
      "text/plain": [
       "<Figure size 720x432 with 1 Axes>"
      ]
     },
     "metadata": {
      "needs_background": "light"
     },
     "output_type": "display_data"
    }
   ],
   "source": [
    "plt.figure(figsize=(10,6))\n",
    "plt.title('Distribuição dos valores das transações', fontsize=20, pad=20)\n",
    "ax = sns.histplot(x = 'valor', data=transacoes, kde=True);"
   ]
  },
  {
   "cell_type": "markdown",
   "id": "4e9f088e-6cc1-4c4b-a04c-dc16aebe6d5a",
   "metadata": {},
   "source": [
    "> É possível verificar que a distribuição dos valores gastos não é uma distribuição conhecida."
   ]
  },
  {
   "cell_type": "markdown",
   "id": "b698608f-7a3d-47ae-a648-9bb68633c4b8",
   "metadata": {},
   "source": [
    "### Distribuição dos valores por fraude"
   ]
  },
  {
   "cell_type": "code",
   "execution_count": 10,
   "id": "1f5bb91b-a801-4da3-80a6-d8f29b111bb1",
   "metadata": {},
   "outputs": [
    {
     "data": {
      "image/png": "[encoded data removed]",
      "text/plain": [
       "<Figure size 720x432 with 1 Axes>"
      ]
     },
     "metadata": {
      "needs_background": "light"
     },
     "output_type": "display_data"
    }
   ],
   "source": [
    "plt.figure(figsize=(10,6))\n",
    "plt.title('Distribuição dos valores das transações', fontsize=20, pad=20)\n",
    "ax = sns.histplot(x = 'valor', hue='fraude', data=transacoes, kde=True);"
   ]
  },
  {
   "cell_type": "markdown",
   "id": "95e7e95e-60bf-4fc8-a494-c3e62961196d",
   "metadata": {},
   "source": [
    "> Note que a proporção de fraudes perante perante a quantidade de transações reais é muito menor."
   ]
  },
  {
   "cell_type": "code",
   "execution_count": 11,
   "id": "5e981cd4-474b-4267-a1ef-285fb4b60a5e",
   "metadata": {},
   "outputs": [
    {
     "data": {
      "image/png": "[encoded data removed]",
      "text/plain": [
       "<Figure size 576x360 with 1 Axes>"
      ]
     },
     "metadata": {
      "needs_background": "light"
     },
     "output_type": "display_data"
    }
   ],
   "source": [
    "plt.figure(figsize=(8,5))\n",
    "plt.title('Comparação entre valor médio de compra', fontsize=20, pad=20)\n",
    "ax = sns.pointplot(x='fraude', y='valor', data=transacoes)\n",
    "plt.ylabel('Mediana das transações')\n",
    "plt.xlabel('')\n",
    "\n",
    "ax.set_xticklabels(['Não fraude', 'Fraude'])\n",
    "ax.grid()\n",
    "ax;"
   ]
  },
  {
   "cell_type": "markdown",
   "id": "f35dba89-7677-460f-8251-180b70bc424e",
   "metadata": {},
   "source": [
    "> Note que a dispersão dos valores de transações fraudulentas são muito maiores do que a dispersão das transações reais, entretanto a mediano dos valores de compra das transações é relativamente proximo, não varia nem R$0,10."
   ]
  },
  {
   "cell_type": "markdown",
   "id": "064b8d2b-0e42-4914-88f1-df9a9b57b94b",
   "metadata": {},
   "source": [
    "## Histograma da variável `fonte`"
   ]
  },
  {
   "cell_type": "code",
   "execution_count": 12,
   "id": "29db21ff-4372-490a-a7cb-c9eb6cc6206d",
   "metadata": {},
   "outputs": [
    {
     "data": {
      "image/png": "[encoded data removed]",
      "text/plain": [
       "<Figure size 576x360 with 1 Axes>"
      ]
     },
     "metadata": {
      "needs_background": "light"
     },
     "output_type": "display_data"
    },
    {
     "name": "stdout",
     "output_type": "stream",
     "text": [
      "Tabela cruzada Fraude de\n",
      "acordo com fonte da transação (%)\n",
      "\n"
     ]
    },
    {
     "data": {
      "text/html": [
       "<div>\n",
       "<style scoped>\n",
       "    .dataframe tbody tr th:only-of-type {\n",
       "        vertical-align: middle;\n",
       "    }\n",
       "\n",
       "    .dataframe tbody tr th {\n",
       "        vertical-align: top;\n",
       "    }\n",
       "\n",
       "    .dataframe thead th {\n",
       "        text-align: right;\n",
       "    }\n",
       "</style>\n",
       "<table border=\"1\" class=\"dataframe\">\n",
       "  <thead>\n",
       "    <tr style=\"text-align: right;\">\n",
       "      <th>fonte</th>\n",
       "      <th>Ads</th>\n",
       "      <th>Direct</th>\n",
       "      <th>SEO</th>\n",
       "    </tr>\n",
       "    <tr>\n",
       "      <th>fraude</th>\n",
       "      <th></th>\n",
       "      <th></th>\n",
       "      <th></th>\n",
       "    </tr>\n",
       "  </thead>\n",
       "  <tbody>\n",
       "    <tr>\n",
       "      <th>0</th>\n",
       "      <td>90.79</td>\n",
       "      <td>89.46</td>\n",
       "      <td>91.07</td>\n",
       "    </tr>\n",
       "    <tr>\n",
       "      <th>1</th>\n",
       "      <td>9.21</td>\n",
       "      <td>10.54</td>\n",
       "      <td>8.93</td>\n",
       "    </tr>\n",
       "  </tbody>\n",
       "</table>\n",
       "</div>"
      ],
      "text/plain": [
       "fonte     Ads  Direct    SEO\n",
       "fraude                      \n",
       "0       90.79   89.46  91.07\n",
       "1        9.21   10.54   8.93"
      ]
     },
     "metadata": {},
     "output_type": "display_data"
    },
    {
     "name": "stdout",
     "output_type": "stream",
     "text": [
      "*Normalizado pela fonte.\n",
      "\n"
     ]
    }
   ],
   "source": [
    "plt.figure(figsize=(8,5))\n",
    "plt.title('Fonte da transação', fontsize=20, pad=20)\n",
    "ax = sns.countplot(y='fonte', hue='fraude', data=transacoes)\n",
    "ax.set_ylabel('Fonte')\n",
    "ax.set_xlabel('Transações')\n",
    "plt.xticks(rotation=40)\n",
    "plt.show()\n",
    "\n",
    "\n",
    "print('Tabela cruzada Fraude de\\nacordo com fonte da transação (%)\\n')\n",
    "display((pd.crosstab(transacoes.fraude, transacoes.fonte, normalize='columns') * 100).round(2))\n",
    "print('*Normalizado pela fonte.\\n')\n"
   ]
  },
  {
   "cell_type": "markdown",
   "id": "50770c9f-92f7-433e-ae93-d1d5bde0ea13",
   "metadata": {},
   "source": [
    "> Podemos inferir que visualmente não faz diferença a fonte da transação real ou fraudulenta. Abaixo coloquei uma tabela indicando a fonte da transação e a proporção de transações reais e falsas. É possível verificar que das transações cuja fonte é `Direct` 89.46% é real e 10.54% é falsa."
   ]
  },
  {
   "cell_type": "markdown",
   "id": "a356c5fb-57f2-479d-b93d-2bfe42e2561e",
   "metadata": {},
   "source": [
    "## Histrograma dos `browsers`"
   ]
  },
  {
   "cell_type": "code",
   "execution_count": 13,
   "id": "0bb23cf7-9587-45bb-aeaa-bbc663863c55",
   "metadata": {},
   "outputs": [
    {
     "data": {
      "image/png": "[encoded data removed]",
      "text/plain": [
       "<Figure size 576x360 with 1 Axes>"
      ]
     },
     "metadata": {
      "needs_background": "light"
     },
     "output_type": "display_data"
    },
    {
     "name": "stdout",
     "output_type": "stream",
     "text": [
      "Tabela cruzada Fraude de\n",
      "acordo com o browser (%)\n",
      "\n"
     ]
    },
    {
     "data": {
      "text/html": [
       "<div>\n",
       "<style scoped>\n",
       "    .dataframe tbody tr th:only-of-type {\n",
       "        vertical-align: middle;\n",
       "    }\n",
       "\n",
       "    .dataframe tbody tr th {\n",
       "        vertical-align: top;\n",
       "    }\n",
       "\n",
       "    .dataframe thead th {\n",
       "        text-align: right;\n",
       "    }\n",
       "</style>\n",
       "<table border=\"1\" class=\"dataframe\">\n",
       "  <thead>\n",
       "    <tr style=\"text-align: right;\">\n",
       "      <th>browser</th>\n",
       "      <th>Chrome</th>\n",
       "      <th>FireFox</th>\n",
       "      <th>IE</th>\n",
       "      <th>Opera</th>\n",
       "      <th>Safari</th>\n",
       "    </tr>\n",
       "    <tr>\n",
       "      <th>fraude</th>\n",
       "      <th></th>\n",
       "      <th></th>\n",
       "      <th></th>\n",
       "      <th></th>\n",
       "      <th></th>\n",
       "    </tr>\n",
       "  </thead>\n",
       "  <tbody>\n",
       "    <tr>\n",
       "      <th>0</th>\n",
       "      <td>90.12</td>\n",
       "      <td>90.48</td>\n",
       "      <td>91.32</td>\n",
       "      <td>91.08</td>\n",
       "      <td>90.98</td>\n",
       "    </tr>\n",
       "    <tr>\n",
       "      <th>1</th>\n",
       "      <td>9.88</td>\n",
       "      <td>9.52</td>\n",
       "      <td>8.68</td>\n",
       "      <td>8.92</td>\n",
       "      <td>9.02</td>\n",
       "    </tr>\n",
       "  </tbody>\n",
       "</table>\n",
       "</div>"
      ],
      "text/plain": [
       "browser  Chrome  FireFox     IE  Opera  Safari\n",
       "fraude                                        \n",
       "0         90.12    90.48  91.32  91.08   90.98\n",
       "1          9.88     9.52   8.68   8.92    9.02"
      ]
     },
     "metadata": {},
     "output_type": "display_data"
    },
    {
     "name": "stdout",
     "output_type": "stream",
     "text": [
      "*Normalizado pelo tipo do browser\n"
     ]
    }
   ],
   "source": [
    "plt.figure(figsize=(8,5))\n",
    "plt.title('Browser da transação', fontsize=20, pad=20)\n",
    "ax = sns.countplot(y='browser', hue='fraude', data=transacoes)\n",
    "ax.set_ylabel('Browser')\n",
    "ax.set_xlabel('Transações')\n",
    "plt.xticks(rotation=40)\n",
    "plt.grid()\n",
    "plt.show()\n",
    "\n",
    "print('Tabela cruzada Fraude de\\nacordo com o browser (%)\\n')\n",
    "display((pd.crosstab(transacoes.fraude, transacoes.browser, normalize='columns') * 100).round(2))\n",
    "print('*Normalizado pelo tipo do browser')\n"
   ]
  },
  {
   "cell_type": "markdown",
   "id": "26708116-d086-4c3d-ab38-6ea04cc5f80d",
   "metadata": {},
   "source": [
    "> Novamente, a proporção entre fraude e transações reais se mantém. Geralmente 10% das transações são falsas e outro 90% são transações reais, independente do navegador (browser) utilizado."
   ]
  },
  {
   "cell_type": "markdown",
   "id": "e1823716-f5bc-4dcc-b922-a0272fed8c2d",
   "metadata": {},
   "source": [
    "## Fraudes por gênero "
   ]
  },
  {
   "cell_type": "code",
   "execution_count": 14,
   "id": "b70291c5-e828-4762-a2bf-2cbc00ebb1d1",
   "metadata": {},
   "outputs": [
    {
     "data": {
      "image/png": "[encoded data removed]",
      "text/plain": [
       "<Figure size 576x360 with 1 Axes>"
      ]
     },
     "metadata": {
      "needs_background": "light"
     },
     "output_type": "display_data"
    },
    {
     "name": "stdout",
     "output_type": "stream",
     "text": [
      "Tabela cruzada Fraude de\n",
      "acordo com gênero informado (%)\n",
      "\n"
     ]
    },
    {
     "data": {
      "text/html": [
       "<div>\n",
       "<style scoped>\n",
       "    .dataframe tbody tr th:only-of-type {\n",
       "        vertical-align: middle;\n",
       "    }\n",
       "\n",
       "    .dataframe tbody tr th {\n",
       "        vertical-align: top;\n",
       "    }\n",
       "\n",
       "    .dataframe thead th {\n",
       "        text-align: right;\n",
       "    }\n",
       "</style>\n",
       "<table border=\"1\" class=\"dataframe\">\n",
       "  <thead>\n",
       "    <tr style=\"text-align: right;\">\n",
       "      <th>genero</th>\n",
       "      <th>F</th>\n",
       "      <th>M</th>\n",
       "    </tr>\n",
       "    <tr>\n",
       "      <th>fraude</th>\n",
       "      <th></th>\n",
       "      <th></th>\n",
       "    </tr>\n",
       "  </thead>\n",
       "  <tbody>\n",
       "    <tr>\n",
       "      <th>0</th>\n",
       "      <td>90.9</td>\n",
       "      <td>90.45</td>\n",
       "    </tr>\n",
       "    <tr>\n",
       "      <th>1</th>\n",
       "      <td>9.1</td>\n",
       "      <td>9.55</td>\n",
       "    </tr>\n",
       "  </tbody>\n",
       "</table>\n",
       "</div>"
      ],
      "text/plain": [
       "genero     F      M\n",
       "fraude             \n",
       "0       90.9  90.45\n",
       "1        9.1   9.55"
      ]
     },
     "metadata": {},
     "output_type": "display_data"
    },
    {
     "name": "stdout",
     "output_type": "stream",
     "text": [
      "*Normalizado pelo gênero informado\n"
     ]
    }
   ],
   "source": [
    "plt.figure(figsize=(8,5))\n",
    "plt.title('Fraudes nas transações de acordo com o gênero informado', fontsize=18, pad=20)\n",
    "ax = sns.countplot(x='genero', hue='fraude', data=transacoes)\n",
    "ax.legend(['Não', 'Sim'])\n",
    "plt.show()\n",
    "\n",
    "print('Tabela cruzada Fraude de\\nacordo com gênero informado (%)\\n')\n",
    "display((pd.crosstab(transacoes.fraude, transacoes.genero, normalize='columns') * 100).round(2))\n",
    "print('*Normalizado pelo gênero informado')"
   ]
  },
  {
   "cell_type": "markdown",
   "id": "d2c12074-127d-473e-94a1-8a65b972f6a0",
   "metadata": {},
   "source": [
    "> Podemos ver que a quantidade de trnsações realizada por homens é maior do que a realizada por mulheres, entretanto de forma visual parece que a quantidade de fraudes não depende do sexo.\n",
    "\n",
    "> Por isso fiz uma tabela cruzada, entre genero e fraude, onde é possível concluir que, do gênero F 90.9% das transações são reais e 9.1% são fraudes, já no gênero M 90.45% das transações são reais e 9.55% são fraudes. \n",
    "\n",
    "> Logo, aproximadamente de 9% de todas as transações são fraudes."
   ]
  },
  {
   "cell_type": "markdown",
   "id": "4933638d-aebb-4347-85d4-bf8bd7484fb3",
   "metadata": {},
   "source": [
    "## Transações por país\n"
   ]
  },
  {
   "cell_type": "code",
   "execution_count": 15,
   "id": "2c168af8-08e2-434d-90c3-854589451672",
   "metadata": {},
   "outputs": [
    {
     "data": {
      "image/png": "[encoded data removed]",
      "text/plain": [
       "<Figure size 720x576 with 1 Axes>"
      ]
     },
     "metadata": {
      "needs_background": "light"
     },
     "output_type": "display_data"
    }
   ],
   "source": [
    "from matplotlib import ticker\n",
    "\n",
    "paises_10_maiores_transacoes = transacoes.pais.value_counts(ascending=False, \n",
    "                                                            normalize=True).drop('missing_country',\n",
    "                                                                                 axis=0).to_frame()[:10]*100\n",
    "\n",
    "plt.figure(figsize=(10,8))\n",
    "plt.title('Top 10 países com mais transações', fontsize=20, pad=20)\n",
    "ax = sns.barplot(x='pais', y = paises_10_maiores_transacoes.index,  data=paises_10_maiores_transacoes, palette='tab10')\n",
    "ax.set_xlabel('Transações',)\n",
    "ax.xaxis.set_major_formatter(ticker.PercentFormatter())\n",
    "ax;"
   ]
  },
  {
   "cell_type": "markdown",
   "id": "36607acf-dcf5-412e-8e7f-163ead6accfa",
   "metadata": {},
   "source": [
    "> É possível verificar que mais de 35% das transações acontecem nos Estados Unidos. Entretanto, **não podemos utilizar isso como um fator determinante para classificar se uma transação é fraude ou não**, precisamos dar um jeito de \"padronizar\" para que as variáveis fiquem proporcionais."
   ]
  },
  {
   "cell_type": "markdown",
   "id": "a256b2db-26f7-4356-8269-b2b4f2d7b47a",
   "metadata": {},
   "source": [
    "# Analises entre variáveis\n",
    "## Análise de ID e IP \n",
    "\n",
    "Agora que fizemos algumas visualizações e consideraçoes nos dados sem altera-los propriamente dito, vamos fazer algumas manipulações para correlacionar variaveis. \n",
    "\n",
    "Primeiramente vou avaliar os usuários que estão relacionados à apena um endereço de IP\n",
    "\n",
    "> **objetivo**: contar o número fraudes para cada dispositivo e ip"
   ]
  },
  {
   "cell_type": "code",
   "execution_count": 16,
   "id": "c9a56a17-dbaf-4fee-b16f-9dab839f20c1",
   "metadata": {},
   "outputs": [],
   "source": [
    "fraude_por_dispositivo_ip = pd.DataFrame(columns=['fraude','id_por_dispositivo','id_por_ip'])"
   ]
  },
  {
   "cell_type": "markdown",
   "id": "a751194d-665f-4c52-887a-4d9c16b32b6c",
   "metadata": {},
   "source": [
    "Para o número de fraudes temos:"
   ]
  },
  {
   "cell_type": "code",
   "execution_count": 17,
   "id": "e1f9011b-8b3a-4812-93c0-2ef48c8c09f2",
   "metadata": {},
   "outputs": [
    {
     "data": {
      "text/html": [
       "<div>\n",
       "<style scoped>\n",
       "    .dataframe tbody tr th:only-of-type {\n",
       "        vertical-align: middle;\n",
       "    }\n",
       "\n",
       "    .dataframe tbody tr th {\n",
       "        vertical-align: top;\n",
       "    }\n",
       "\n",
       "    .dataframe thead th {\n",
       "        text-align: right;\n",
       "    }\n",
       "</style>\n",
       "<table border=\"1\" class=\"dataframe\">\n",
       "  <thead>\n",
       "    <tr style=\"text-align: right;\">\n",
       "      <th></th>\n",
       "      <th>fraude</th>\n",
       "      <th>id_por_dispositivo</th>\n",
       "      <th>id_por_ip</th>\n",
       "    </tr>\n",
       "  </thead>\n",
       "  <tbody>\n",
       "    <tr>\n",
       "      <th>0</th>\n",
       "      <td>0</td>\n",
       "      <td>NaN</td>\n",
       "      <td>NaN</td>\n",
       "    </tr>\n",
       "    <tr>\n",
       "      <th>1</th>\n",
       "      <td>0</td>\n",
       "      <td>NaN</td>\n",
       "      <td>NaN</td>\n",
       "    </tr>\n",
       "    <tr>\n",
       "      <th>2</th>\n",
       "      <td>1</td>\n",
       "      <td>NaN</td>\n",
       "      <td>NaN</td>\n",
       "    </tr>\n",
       "    <tr>\n",
       "      <th>3</th>\n",
       "      <td>0</td>\n",
       "      <td>NaN</td>\n",
       "      <td>NaN</td>\n",
       "    </tr>\n",
       "    <tr>\n",
       "      <th>4</th>\n",
       "      <td>0</td>\n",
       "      <td>NaN</td>\n",
       "      <td>NaN</td>\n",
       "    </tr>\n",
       "  </tbody>\n",
       "</table>\n",
       "</div>"
      ],
      "text/plain": [
       "   fraude id_por_dispositivo id_por_ip\n",
       "0       0                NaN       NaN\n",
       "1       0                NaN       NaN\n",
       "2       1                NaN       NaN\n",
       "3       0                NaN       NaN\n",
       "4       0                NaN       NaN"
      ]
     },
     "execution_count": 17,
     "metadata": {},
     "output_type": "execute_result"
    }
   ],
   "source": [
    "fraude_por_dispositivo_ip['fraude'] = transacoes['fraude']\n",
    "fraude_por_dispositivo_ip.head()"
   ]
  },
  {
   "cell_type": "markdown",
   "id": "390ac13d-c3ec-4953-b833-0e27099b8130",
   "metadata": {},
   "source": [
    "Para o numero de dispositivos por id temos:"
   ]
  },
  {
   "cell_type": "code",
   "execution_count": 18,
   "id": "e01d7927-d446-4885-b962-4d21123e87ec",
   "metadata": {},
   "outputs": [
    {
     "data": {
      "text/plain": [
       "id_dispositivo\n",
       "AAALBGNHHVMKG     1\n",
       "AAAWIHVCQELTP     1\n",
       "AAAXJHWCLISKY     1\n",
       "AAAXXOZJRZRAO    11\n",
       "AABFGRPBQHWFQ     1\n",
       "Name: id, dtype: int64"
      ]
     },
     "execution_count": 18,
     "metadata": {},
     "output_type": "execute_result"
    }
   ],
   "source": [
    "# Agrupa por dispositivos e count() na variável id\n",
    "id_por_dispositivos = transacoes.groupby('id_dispositivo').id.count()\n",
    "id_por_dispositivos.head()"
   ]
  },
  {
   "cell_type": "markdown",
   "id": "dcaf2fb4-2eba-46a5-b390-88250484371a",
   "metadata": {},
   "source": [
    "Veja que um único dispositivo tem 11 `id`. Então agora para cada dispositivo em `transações` vamos adicionar a quantidade de `id` que esse dispositivo tem no dataframe `fraude_por_dispositivo_ip`:"
   ]
  },
  {
   "cell_type": "code",
   "execution_count": 19,
   "id": "ad1dd043-25f0-496a-988c-922798557592",
   "metadata": {},
   "outputs": [
    {
     "data": {
      "text/plain": [
       "11"
      ]
     },
     "execution_count": 19,
     "metadata": {},
     "output_type": "execute_result"
    }
   ],
   "source": [
    "def retorta_id_por_dispositivo(id_dispositivo):\n",
    "    quantidade_id = id_por_dispositivos.loc[id_dispositivo]\n",
    "    return quantidade_id\n",
    "\n",
    "# testando\n",
    "retorta_id_por_dispositivo('AAAXXOZJRZRAO')"
   ]
  },
  {
   "cell_type": "markdown",
   "id": "f5e5f62a-3565-4133-a010-97cca1b51235",
   "metadata": {},
   "source": [
    "Deu certo, agora vamos aplicar definitivamente"
   ]
  },
  {
   "cell_type": "code",
   "execution_count": 20,
   "id": "66a16c1f-1370-47c9-b5d1-e2a9045dd5b3",
   "metadata": {},
   "outputs": [
    {
     "data": {
      "text/html": [
       "<div>\n",
       "<style scoped>\n",
       "    .dataframe tbody tr th:only-of-type {\n",
       "        vertical-align: middle;\n",
       "    }\n",
       "\n",
       "    .dataframe tbody tr th {\n",
       "        vertical-align: top;\n",
       "    }\n",
       "\n",
       "    .dataframe thead th {\n",
       "        text-align: right;\n",
       "    }\n",
       "</style>\n",
       "<table border=\"1\" class=\"dataframe\">\n",
       "  <thead>\n",
       "    <tr style=\"text-align: right;\">\n",
       "      <th></th>\n",
       "      <th>fraude</th>\n",
       "      <th>id_por_dispositivo</th>\n",
       "      <th>id_por_ip</th>\n",
       "    </tr>\n",
       "  </thead>\n",
       "  <tbody>\n",
       "    <tr>\n",
       "      <th>0</th>\n",
       "      <td>0</td>\n",
       "      <td>1</td>\n",
       "      <td>NaN</td>\n",
       "    </tr>\n",
       "    <tr>\n",
       "      <th>1</th>\n",
       "      <td>0</td>\n",
       "      <td>1</td>\n",
       "      <td>NaN</td>\n",
       "    </tr>\n",
       "    <tr>\n",
       "      <th>2</th>\n",
       "      <td>1</td>\n",
       "      <td>12</td>\n",
       "      <td>NaN</td>\n",
       "    </tr>\n",
       "    <tr>\n",
       "      <th>3</th>\n",
       "      <td>0</td>\n",
       "      <td>1</td>\n",
       "      <td>NaN</td>\n",
       "    </tr>\n",
       "    <tr>\n",
       "      <th>4</th>\n",
       "      <td>0</td>\n",
       "      <td>1</td>\n",
       "      <td>NaN</td>\n",
       "    </tr>\n",
       "  </tbody>\n",
       "</table>\n",
       "</div>"
      ],
      "text/plain": [
       "   fraude  id_por_dispositivo id_por_ip\n",
       "0       0                   1       NaN\n",
       "1       0                   1       NaN\n",
       "2       1                  12       NaN\n",
       "3       0                   1       NaN\n",
       "4       0                   1       NaN"
      ]
     },
     "execution_count": 20,
     "metadata": {},
     "output_type": "execute_result"
    }
   ],
   "source": [
    "fraude_por_dispositivo_ip['id_por_dispositivo'] = transacoes.id_dispositivo.apply(retorta_id_por_dispositivo)\n",
    "fraude_por_dispositivo_ip.head()"
   ]
  },
  {
   "cell_type": "markdown",
   "id": "7bd19e0f-57b8-4759-a58e-025287d082a2",
   "metadata": {},
   "source": [
    "Veja que deu certo, um único dispositivo tem 12 `id` e a classificação dele é de fraude. \n",
    "\n",
    "Agora vamos contar quantos `id` tem cada `ip` agrupando pelo numero de `ip` e contando quandos `id` estão associados a ele:"
   ]
  },
  {
   "cell_type": "code",
   "execution_count": 21,
   "id": "ea519413-82a8-4889-9d3b-394260af636a",
   "metadata": {},
   "outputs": [
    {
     "data": {
      "text/plain": [
       "ip\n",
       "5.209350e+04    1\n",
       "9.344714e+04    1\n",
       "1.058185e+05    1\n",
       "1.175667e+05    1\n",
       "1.314238e+05    1\n",
       "               ..\n",
       "4.294674e+09    1\n",
       "4.294715e+09    1\n",
       "4.294720e+09    1\n",
       "4.294822e+09    1\n",
       "4.294850e+09    1\n",
       "Name: id, Length: 143512, dtype: int64"
      ]
     },
     "execution_count": 21,
     "metadata": {},
     "output_type": "execute_result"
    }
   ],
   "source": [
    "id_por_ips = transacoes.groupby('ip').id.count()\n",
    "id_por_ips"
   ]
  },
  {
   "cell_type": "code",
   "execution_count": 22,
   "id": "005715d3-d56e-4fa1-a7fa-86a7379a72b6",
   "metadata": {},
   "outputs": [
    {
     "data": {
      "text/plain": [
       "1"
      ]
     },
     "execution_count": 22,
     "metadata": {},
     "output_type": "execute_result"
    }
   ],
   "source": [
    "def retorna_id_por_ip(ip):\n",
    "    quantidade_id = id_por_ips[ip]\n",
    "    return quantidade_id\n",
    "\n",
    "# testando\n",
    "retorna_id_por_ip(transacoes.ip.iloc[50])"
   ]
  },
  {
   "cell_type": "markdown",
   "id": "7b97f11d-fa2d-4aef-af72-ee7a747ff717",
   "metadata": {},
   "source": [
    ">**observação**: O fato do IP ser um int pode dificultar ao chamar ele através do índex de uma `Series` ou `DataFrame`.\n",
    "\n",
    "\n",
    "Agora vamos aplicar para cada `ip` em `transacoes` ver quantos `id` estão associados:"
   ]
  },
  {
   "cell_type": "code",
   "execution_count": 23,
   "id": "42432613-956f-42fa-ae99-8d96ebb96312",
   "metadata": {},
   "outputs": [
    {
     "data": {
      "text/html": [
       "<div>\n",
       "<style scoped>\n",
       "    .dataframe tbody tr th:only-of-type {\n",
       "        vertical-align: middle;\n",
       "    }\n",
       "\n",
       "    .dataframe tbody tr th {\n",
       "        vertical-align: top;\n",
       "    }\n",
       "\n",
       "    .dataframe thead th {\n",
       "        text-align: right;\n",
       "    }\n",
       "</style>\n",
       "<table border=\"1\" class=\"dataframe\">\n",
       "  <thead>\n",
       "    <tr style=\"text-align: right;\">\n",
       "      <th></th>\n",
       "      <th>fraude</th>\n",
       "      <th>id_por_dispositivo</th>\n",
       "      <th>id_por_ip</th>\n",
       "    </tr>\n",
       "  </thead>\n",
       "  <tbody>\n",
       "    <tr>\n",
       "      <th>0</th>\n",
       "      <td>0</td>\n",
       "      <td>1</td>\n",
       "      <td>1</td>\n",
       "    </tr>\n",
       "    <tr>\n",
       "      <th>1</th>\n",
       "      <td>0</td>\n",
       "      <td>1</td>\n",
       "      <td>1</td>\n",
       "    </tr>\n",
       "    <tr>\n",
       "      <th>2</th>\n",
       "      <td>1</td>\n",
       "      <td>12</td>\n",
       "      <td>12</td>\n",
       "    </tr>\n",
       "    <tr>\n",
       "      <th>3</th>\n",
       "      <td>0</td>\n",
       "      <td>1</td>\n",
       "      <td>1</td>\n",
       "    </tr>\n",
       "    <tr>\n",
       "      <th>4</th>\n",
       "      <td>0</td>\n",
       "      <td>1</td>\n",
       "      <td>1</td>\n",
       "    </tr>\n",
       "    <tr>\n",
       "      <th>...</th>\n",
       "      <td>...</td>\n",
       "      <td>...</td>\n",
       "      <td>...</td>\n",
       "    </tr>\n",
       "    <tr>\n",
       "      <th>151107</th>\n",
       "      <td>1</td>\n",
       "      <td>2</td>\n",
       "      <td>1</td>\n",
       "    </tr>\n",
       "    <tr>\n",
       "      <th>151108</th>\n",
       "      <td>0</td>\n",
       "      <td>1</td>\n",
       "      <td>1</td>\n",
       "    </tr>\n",
       "    <tr>\n",
       "      <th>151109</th>\n",
       "      <td>0</td>\n",
       "      <td>1</td>\n",
       "      <td>1</td>\n",
       "    </tr>\n",
       "    <tr>\n",
       "      <th>151110</th>\n",
       "      <td>0</td>\n",
       "      <td>2</td>\n",
       "      <td>1</td>\n",
       "    </tr>\n",
       "    <tr>\n",
       "      <th>151111</th>\n",
       "      <td>0</td>\n",
       "      <td>1</td>\n",
       "      <td>1</td>\n",
       "    </tr>\n",
       "  </tbody>\n",
       "</table>\n",
       "<p>151112 rows × 3 columns</p>\n",
       "</div>"
      ],
      "text/plain": [
       "        fraude  id_por_dispositivo  id_por_ip\n",
       "0            0                   1          1\n",
       "1            0                   1          1\n",
       "2            1                  12         12\n",
       "3            0                   1          1\n",
       "4            0                   1          1\n",
       "...        ...                 ...        ...\n",
       "151107       1                   2          1\n",
       "151108       0                   1          1\n",
       "151109       0                   1          1\n",
       "151110       0                   2          1\n",
       "151111       0                   1          1\n",
       "\n",
       "[151112 rows x 3 columns]"
      ]
     },
     "execution_count": 23,
     "metadata": {},
     "output_type": "execute_result"
    }
   ],
   "source": [
    "fraude_por_dispositivo_ip['id_por_ip'] = transacoes.ip.apply(retorna_id_por_ip)\n",
    "fraude_por_dispositivo_ip"
   ]
  },
  {
   "cell_type": "code",
   "execution_count": 24,
   "id": "c4d5d681-26cd-49c6-a905-7c8b63ad4ac5",
   "metadata": {},
   "outputs": [
    {
     "data": {
      "image/png": "[encoded data removed]",
      "text/plain": [
       "<Figure size 1080x432 with 2 Axes>"
      ]
     },
     "metadata": {
      "needs_background": "light"
     },
     "output_type": "display_data"
    }
   ],
   "source": [
    "plt.figure(figsize=(15,6))\n",
    "plt.subplot(121)\n",
    "plt.title('ID por dispositivo', fontsize=20, pad=20)\n",
    "ax1 = sns.pointplot(data = fraude_por_dispositivo_ip, x = 'fraude', y = 'id_por_dispositivo')\n",
    "ax1.set_xticklabels(['Não fraude', 'Fraude'])\n",
    "ax1.set_xlabel('')\n",
    "ax1.set_ylabel('ID médio por dispositivo', fontsize=14)\n",
    "\n",
    "\n",
    "plt.subplot(122)\n",
    "plt.title('ID por endereço IP', fontsize=20, pad=20)\n",
    "ax2 = sns.pointplot(data = fraude_por_dispositivo_ip, x = 'fraude', y = 'id_por_ip')\n",
    "ax2.set_xlabel('')\n",
    "ax2.set_xticklabels(['Não fraude', 'Fraude'])\n",
    "ax2.set_ylabel('ID médio por endereço IP', fontsize=14)\n",
    "\n",
    "plt.show()"
   ]
  },
  {
   "cell_type": "markdown",
   "id": "8a42a994-a098-4c98-9f1b-655e75f01a52",
   "metadata": {},
   "source": [
    "### Comentário sobre análise de ID e IP por dispositivo\n",
    "\n",
    "> É possivel verificar que **a média de ID por dispositivo é um** na primeira imagem onde indica transações reais, acontece que para **transações classificadas como fraude a média é de 7 id por dispositivos**. Ou seja, a quantidade de `id_por_dispositivo` é importante para decidir se as transações são fraudes ou não.\n",
    "\n",
    "> Para o caso de ID por endereços de IP acontece algo parecido, em geral **transações reais tem em média um IP por IP** já as **transações fraudulentas tem em média 7 ID's por endereços IP**. Portanto, a quantidade de IP por dispositivo também é um indicador de fraude nestes dados."
   ]
  },
  {
   "cell_type": "markdown",
   "id": "7ca77920-d1a2-42d2-b8b4-e1ee25edfe9c",
   "metadata": {},
   "source": [
    "## Análise de inscrição e tempo de compra\n",
    "\n",
    "Dado que temos disponíveis informações sobre cadastro e hora de transação, podemos fazer algumas análises referênte a essa variação entre cadastro e compra.\n",
    "\n",
    "A nova variável sera a diferença entre o tempo de compra e o cadastro:"
   ]
  },
  {
   "cell_type": "code",
   "execution_count": 25,
   "id": "112b9d7f-0fa7-44b2-ba6f-7443d9ba0e4a",
   "metadata": {},
   "outputs": [
    {
     "data": {
      "text/plain": [
       "0        52 days 03:51:22\n",
       "1         0 days 04:59:04\n",
       "2         0 days 00:00:01\n",
       "3         5 days 16:41:25\n",
       "4        50 days 11:31:01\n",
       "               ...       \n",
       "151107   60 days 21:27:13\n",
       "151108   10 days 18:41:10\n",
       "151109   77 days 08:00:16\n",
       "151110   59 days 13:28:39\n",
       "151111   40 days 19:01:33\n",
       "Length: 151112, dtype: timedelta64[ns]"
      ]
     },
     "execution_count": 25,
     "metadata": {},
     "output_type": "execute_result"
    }
   ],
   "source": [
    "transacoes['compra'] - transacoes['cadastro']"
   ]
  },
  {
   "cell_type": "markdown",
   "id": "69b7618c-c905-494d-86cb-b309201aabd6",
   "metadata": {},
   "source": [
    "Note que essa diferença é dada em dias, podemos converte-la em segundos através do atributo `datetime.seconds` de cada elemento do objeto `datetime`:"
   ]
  },
  {
   "cell_type": "code",
   "execution_count": 26,
   "id": "f77782c7-787b-410c-8282-26eba9921a6c",
   "metadata": {},
   "outputs": [
    {
     "data": {
      "text/plain": [
       "0         13882\n",
       "1         17944\n",
       "2             1\n",
       "3         60085\n",
       "4         41461\n",
       "          ...  \n",
       "151107    77233\n",
       "151108    67270\n",
       "151109    28816\n",
       "151110    48519\n",
       "151111    68493\n",
       "Name: tempo, Length: 151112, dtype: int64"
      ]
     },
     "execution_count": 26,
     "metadata": {},
     "output_type": "execute_result"
    }
   ],
   "source": [
    "transacoes['tempo'] = (transacoes['compra'] - transacoes['cadastro']).apply(lambda delta_tempo: delta_tempo.seconds)\n",
    "transacoes['tempo']"
   ]
  },
  {
   "cell_type": "markdown",
   "id": "687eb214-4193-47e3-916e-7a57e402d869",
   "metadata": {},
   "source": [
    "Agora temos a quantidade em segundos e podemos verificar se este valor tem alguma correlação entre as fraudes:"
   ]
  },
  {
   "cell_type": "code",
   "execution_count": 27,
   "id": "4516c2ae-3671-49da-9f45-2fb53a6469c5",
   "metadata": {},
   "outputs": [
    {
     "data": {
      "image/png": "[encoded data removed]",
      "text/plain": [
       "<Figure size 576x360 with 1 Axes>"
      ]
     },
     "metadata": {
      "needs_background": "light"
     },
     "output_type": "display_data"
    }
   ],
   "source": [
    "plt.title('Tempo de compra')\n",
    "ax = sns.pointplot(data = transacoes, x = 'fraude', y = 'tempo')\n",
    "ax.figure.set_size_inches(8,5)\n",
    "ax.set_ylabel('Tempo médio até primeira compra', fontsize=15)\n",
    "ax.set_xlabel('')\n",
    "ax.set_xticklabels(['Não fraude','Faude'], fontsize=18)\n",
    "ax.yaxis.set_major_formatter(lambda x, pos: f'{(x / 10000)}x10⁴s')\n",
    "ax;"
   ]
  },
  {
   "cell_type": "markdown",
   "id": "eeb3d049-50b4-405a-ae66-4702c1eb648f",
   "metadata": {},
   "source": [
    "### Comentário sobre o tempo de compra\n",
    "\n",
    "> Note que as **transações reais geralmente demoram algum tempo para que seja feita alguma compra**, diferente das **transações fraudulentas que geralmente tem um tempo menor**. Portanto, pode ser o caso de existir uma correlação inversa: Quanto maior o tempo até a primeira compra, menor a chance de ser uma fraude.\n",
    "\n",
    "É possível analisar também em que horas as fraudes costumam à acontecer:"
   ]
  },
  {
   "cell_type": "code",
   "execution_count": 28,
   "id": "20b10682-1659-43cd-86bb-b16a69b63c82",
   "metadata": {},
   "outputs": [
    {
     "data": {
      "image/png": "[encoded data removed]",
      "text/plain": [
       "<Figure size 1080x432 with 2 Axes>"
      ]
     },
     "metadata": {
      "needs_background": "light"
     },
     "output_type": "display_data"
    }
   ],
   "source": [
    "\n",
    "plt.figure(figsize=(15,6))\n",
    "ax1 = plt.subplot(121)\n",
    "ax1.set_title('Hora de cadastro das\\ntransações fraudulentas')\n",
    "ax1 = transacoes[transacoes.fraude == 1 ].cadastro.apply(lambda x: x.hour).hist()\n",
    "ax1.set_xlabel('Hora cadastro')\n",
    "\n",
    "ax2 = plt.subplot(122)\n",
    "ax2.set_title('Dia da semana dos cadastros\\ndas transações fraudulentas')\n",
    "ax2 = transacoes[transacoes.fraude == 1 ].cadastro.apply(lambda x: x.dayofweek).hist()\n",
    "ax2.set_xlabel('Dia da Semana')\n",
    "\n",
    "plt.show()"
   ]
  },
  {
   "cell_type": "markdown",
   "id": "41ab028e-5ab6-420f-bcf4-a8cadafd2edb",
   "metadata": {},
   "source": [
    "Podemos verificar também se ocorrem fraudes ao longo das semanas do ano, uma hipotese:\n",
    "\n",
    "> **Aumentam as fraudes em semanas de eventos festivos/liquidações**"
   ]
  },
  {
   "cell_type": "code",
   "execution_count": 29,
   "id": "830c68c5-1cb6-4606-9b9d-5e9bc2e21ef5",
   "metadata": {},
   "outputs": [
    {
     "data": {
      "image/png": "[encoded data removed]",
      "text/plain": [
       "<Figure size 720x432 with 1 Axes>"
      ]
     },
     "metadata": {
      "needs_background": "light"
     },
     "output_type": "display_data"
    }
   ],
   "source": [
    "plt.figure(figsize=(10,6))\n",
    "ax = transacoes[transacoes.fraude == 1 ].cadastro.apply(lambda x: x.week).hist()\n",
    "ax.set_xlabel('Semanas do ano')\n",
    "\n",
    "ax;"
   ]
  },
  {
   "cell_type": "markdown",
   "id": "1c44ef12-76cd-4adf-b742-978d5a23bbf1",
   "metadata": {},
   "source": [
    "### Comentário sobre as fraudes em função das semanas do ano\n",
    "\n",
    "> Note que a quantidade de fraudes nas três primeiras semanas do ano são bem maiores do que as outras, ou seja, as semanas de cadastros de contas podem ser um indicador de fraudes, entretanto não sabemos se é um critério definitivo, porque é possível que mais pessoas criem contas neste período por causa de \"sobras de natal e ano novo\". Então o melhor a se fazer é indicar ao setor de segurança quê **durante o primeiro mês do ano, mais precisamente durante as três primeiras semanas, a quantidade de fraudes aumenta vertiginosamente, logo é importante reforçar o atendimento ao cliente e sistemas de segurança neste periogo**"
   ]
  },
  {
   "cell_type": "markdown",
   "id": "d7023ec8-e3b1-4149-9824-f538273bbe5d",
   "metadata": {},
   "source": [
    "# Engenhearia de recursos/variáveis\n",
    "\n",
    "Depois de verificar quais variáveis são mais importantes do que outras, em alguns casos é provável que tenha que se criar variáveis a partir das informações que a gente tem. Por exemplo, criamos duas variáveis, a quantidade de ID por dispositivos e a quantidade de IP por ID, em que essas são bons indicadores de fraude, entretanto são dados que estão correlacionados.\n",
    "\n",
    "Para evitar multicolinearidade vou produzir apenas um recurso que vai ser a média do número de ID por dispositivos ou a média de ID por IP "
   ]
  },
  {
   "cell_type": "code",
   "execution_count": 30,
   "id": "243aa563-633d-4096-8136-c0fc3110f44d",
   "metadata": {},
   "outputs": [],
   "source": [
    "def retorta_id_por_dispositivo(id_dispositivo):\n",
    "    quantidade_id = id_por_dispositivos.loc[id_dispositivo]\n",
    "    return quantidade_id\n",
    "\n",
    "def retorta_id_por_ip(ip):\n",
    "    quantidade_id = id_por_ip.loc[ip]\n",
    "    return quantidade_id\n",
    "\n",
    "id_por_dispositivos = transacoes.groupby('id_dispositivo').id.count()\n",
    "id_por_ip = transacoes.groupby('ip').id.count()\n",
    "\n",
    "\n",
    "transacoes['id_por_dispositivo'] = transacoes.id_dispositivo.apply(retorta_id_por_dispositivo)\n",
    "transacoes['id_por_ip'] = transacoes.ip.apply(retorta_id_por_ip)"
   ]
  },
  {
   "cell_type": "code",
   "execution_count": 31,
   "id": "d545fa8d-59e4-43c5-960d-5b36851fa5b0",
   "metadata": {},
   "outputs": [
    {
     "data": {
      "text/html": [
       "<div>\n",
       "<style scoped>\n",
       "    .dataframe tbody tr th:only-of-type {\n",
       "        vertical-align: middle;\n",
       "    }\n",
       "\n",
       "    .dataframe tbody tr th {\n",
       "        vertical-align: top;\n",
       "    }\n",
       "\n",
       "    .dataframe thead th {\n",
       "        text-align: right;\n",
       "    }\n",
       "</style>\n",
       "<table border=\"1\" class=\"dataframe\">\n",
       "  <thead>\n",
       "    <tr style=\"text-align: right;\">\n",
       "      <th></th>\n",
       "      <th>id</th>\n",
       "      <th>cadastro</th>\n",
       "      <th>compra</th>\n",
       "      <th>valor</th>\n",
       "      <th>id_dispositivo</th>\n",
       "      <th>fonte</th>\n",
       "      <th>browser</th>\n",
       "      <th>genero</th>\n",
       "      <th>idade</th>\n",
       "      <th>ip</th>\n",
       "      <th>fraude</th>\n",
       "      <th>pais</th>\n",
       "      <th>tempo</th>\n",
       "      <th>id_por_dispositivo</th>\n",
       "      <th>id_por_ip</th>\n",
       "    </tr>\n",
       "  </thead>\n",
       "  <tbody>\n",
       "    <tr>\n",
       "      <th>0</th>\n",
       "      <td>22058</td>\n",
       "      <td>2015-02-24 22:55:49</td>\n",
       "      <td>2015-04-18 02:47:11</td>\n",
       "      <td>34</td>\n",
       "      <td>QVPSPJUOCKZAR</td>\n",
       "      <td>SEO</td>\n",
       "      <td>Chrome</td>\n",
       "      <td>M</td>\n",
       "      <td>39</td>\n",
       "      <td>7.327584e+08</td>\n",
       "      <td>0</td>\n",
       "      <td>Japan</td>\n",
       "      <td>13882</td>\n",
       "      <td>1</td>\n",
       "      <td>1</td>\n",
       "    </tr>\n",
       "    <tr>\n",
       "      <th>1</th>\n",
       "      <td>333320</td>\n",
       "      <td>2015-06-07 20:39:50</td>\n",
       "      <td>2015-06-08 01:38:54</td>\n",
       "      <td>16</td>\n",
       "      <td>EOGFQPIZPYXFZ</td>\n",
       "      <td>Ads</td>\n",
       "      <td>Chrome</td>\n",
       "      <td>F</td>\n",
       "      <td>53</td>\n",
       "      <td>3.503114e+08</td>\n",
       "      <td>0</td>\n",
       "      <td>United States</td>\n",
       "      <td>17944</td>\n",
       "      <td>1</td>\n",
       "      <td>1</td>\n",
       "    </tr>\n",
       "    <tr>\n",
       "      <th>2</th>\n",
       "      <td>1359</td>\n",
       "      <td>2015-01-01 18:52:44</td>\n",
       "      <td>2015-01-01 18:52:45</td>\n",
       "      <td>15</td>\n",
       "      <td>YSSKYOSJHPPLJ</td>\n",
       "      <td>SEO</td>\n",
       "      <td>Opera</td>\n",
       "      <td>M</td>\n",
       "      <td>53</td>\n",
       "      <td>2.621474e+09</td>\n",
       "      <td>1</td>\n",
       "      <td>United States</td>\n",
       "      <td>1</td>\n",
       "      <td>12</td>\n",
       "      <td>12</td>\n",
       "    </tr>\n",
       "    <tr>\n",
       "      <th>3</th>\n",
       "      <td>150084</td>\n",
       "      <td>2015-04-28 21:13:25</td>\n",
       "      <td>2015-05-04 13:54:50</td>\n",
       "      <td>44</td>\n",
       "      <td>ATGTXKYKUDUQN</td>\n",
       "      <td>SEO</td>\n",
       "      <td>Safari</td>\n",
       "      <td>M</td>\n",
       "      <td>41</td>\n",
       "      <td>3.840542e+09</td>\n",
       "      <td>0</td>\n",
       "      <td>missing_country</td>\n",
       "      <td>60085</td>\n",
       "      <td>1</td>\n",
       "      <td>1</td>\n",
       "    </tr>\n",
       "    <tr>\n",
       "      <th>4</th>\n",
       "      <td>221365</td>\n",
       "      <td>2015-07-21 07:09:52</td>\n",
       "      <td>2015-09-09 18:40:53</td>\n",
       "      <td>39</td>\n",
       "      <td>NAUITBZFJKHWW</td>\n",
       "      <td>Ads</td>\n",
       "      <td>Safari</td>\n",
       "      <td>M</td>\n",
       "      <td>45</td>\n",
       "      <td>4.155831e+08</td>\n",
       "      <td>0</td>\n",
       "      <td>United States</td>\n",
       "      <td>41461</td>\n",
       "      <td>1</td>\n",
       "      <td>1</td>\n",
       "    </tr>\n",
       "    <tr>\n",
       "      <th>...</th>\n",
       "      <td>...</td>\n",
       "      <td>...</td>\n",
       "      <td>...</td>\n",
       "      <td>...</td>\n",
       "      <td>...</td>\n",
       "      <td>...</td>\n",
       "      <td>...</td>\n",
       "      <td>...</td>\n",
       "      <td>...</td>\n",
       "      <td>...</td>\n",
       "      <td>...</td>\n",
       "      <td>...</td>\n",
       "      <td>...</td>\n",
       "      <td>...</td>\n",
       "      <td>...</td>\n",
       "    </tr>\n",
       "    <tr>\n",
       "      <th>151107</th>\n",
       "      <td>345170</td>\n",
       "      <td>2015-01-27 03:03:34</td>\n",
       "      <td>2015-03-29 00:30:47</td>\n",
       "      <td>43</td>\n",
       "      <td>XPSKTWGPWINLR</td>\n",
       "      <td>SEO</td>\n",
       "      <td>Chrome</td>\n",
       "      <td>M</td>\n",
       "      <td>28</td>\n",
       "      <td>3.451155e+09</td>\n",
       "      <td>1</td>\n",
       "      <td>United States</td>\n",
       "      <td>77233</td>\n",
       "      <td>2</td>\n",
       "      <td>1</td>\n",
       "    </tr>\n",
       "    <tr>\n",
       "      <th>151108</th>\n",
       "      <td>274471</td>\n",
       "      <td>2015-05-15 17:43:29</td>\n",
       "      <td>2015-05-26 12:24:39</td>\n",
       "      <td>35</td>\n",
       "      <td>LYSFABUCPCGBA</td>\n",
       "      <td>SEO</td>\n",
       "      <td>Safari</td>\n",
       "      <td>M</td>\n",
       "      <td>32</td>\n",
       "      <td>2.439047e+09</td>\n",
       "      <td>0</td>\n",
       "      <td>Netherlands</td>\n",
       "      <td>67270</td>\n",
       "      <td>1</td>\n",
       "      <td>1</td>\n",
       "    </tr>\n",
       "    <tr>\n",
       "      <th>151109</th>\n",
       "      <td>368416</td>\n",
       "      <td>2015-03-03 23:07:31</td>\n",
       "      <td>2015-05-20 07:07:47</td>\n",
       "      <td>40</td>\n",
       "      <td>MEQHCSJUBRBFE</td>\n",
       "      <td>SEO</td>\n",
       "      <td>IE</td>\n",
       "      <td>F</td>\n",
       "      <td>26</td>\n",
       "      <td>2.748471e+09</td>\n",
       "      <td>0</td>\n",
       "      <td>Japan</td>\n",
       "      <td>28816</td>\n",
       "      <td>1</td>\n",
       "      <td>1</td>\n",
       "    </tr>\n",
       "    <tr>\n",
       "      <th>151110</th>\n",
       "      <td>207709</td>\n",
       "      <td>2015-07-09 20:06:07</td>\n",
       "      <td>2015-09-07 09:34:46</td>\n",
       "      <td>46</td>\n",
       "      <td>CMCXFGRHYSTVJ</td>\n",
       "      <td>SEO</td>\n",
       "      <td>Chrome</td>\n",
       "      <td>M</td>\n",
       "      <td>37</td>\n",
       "      <td>3.601175e+09</td>\n",
       "      <td>0</td>\n",
       "      <td>United States</td>\n",
       "      <td>48519</td>\n",
       "      <td>2</td>\n",
       "      <td>1</td>\n",
       "    </tr>\n",
       "    <tr>\n",
       "      <th>151111</th>\n",
       "      <td>138208</td>\n",
       "      <td>2015-06-10 07:02:20</td>\n",
       "      <td>2015-07-21 02:03:53</td>\n",
       "      <td>20</td>\n",
       "      <td>ZINIADFCLHYPG</td>\n",
       "      <td>Direct</td>\n",
       "      <td>IE</td>\n",
       "      <td>M</td>\n",
       "      <td>38</td>\n",
       "      <td>4.103825e+09</td>\n",
       "      <td>0</td>\n",
       "      <td>missing_country</td>\n",
       "      <td>68493</td>\n",
       "      <td>1</td>\n",
       "      <td>1</td>\n",
       "    </tr>\n",
       "  </tbody>\n",
       "</table>\n",
       "<p>151112 rows × 15 columns</p>\n",
       "</div>"
      ],
      "text/plain": [
       "            id            cadastro              compra  valor id_dispositivo  \\\n",
       "0        22058 2015-02-24 22:55:49 2015-04-18 02:47:11     34  QVPSPJUOCKZAR   \n",
       "1       333320 2015-06-07 20:39:50 2015-06-08 01:38:54     16  EOGFQPIZPYXFZ   \n",
       "2         1359 2015-01-01 18:52:44 2015-01-01 18:52:45     15  YSSKYOSJHPPLJ   \n",
       "3       150084 2015-04-28 21:13:25 2015-05-04 13:54:50     44  ATGTXKYKUDUQN   \n",
       "4       221365 2015-07-21 07:09:52 2015-09-09 18:40:53     39  NAUITBZFJKHWW   \n",
       "...        ...                 ...                 ...    ...            ...   \n",
       "151107  345170 2015-01-27 03:03:34 2015-03-29 00:30:47     43  XPSKTWGPWINLR   \n",
       "151108  274471 2015-05-15 17:43:29 2015-05-26 12:24:39     35  LYSFABUCPCGBA   \n",
       "151109  368416 2015-03-03 23:07:31 2015-05-20 07:07:47     40  MEQHCSJUBRBFE   \n",
       "151110  207709 2015-07-09 20:06:07 2015-09-07 09:34:46     46  CMCXFGRHYSTVJ   \n",
       "151111  138208 2015-06-10 07:02:20 2015-07-21 02:03:53     20  ZINIADFCLHYPG   \n",
       "\n",
       "         fonte browser genero  idade            ip  fraude             pais  \\\n",
       "0          SEO  Chrome      M     39  7.327584e+08       0            Japan   \n",
       "1          Ads  Chrome      F     53  3.503114e+08       0    United States   \n",
       "2          SEO   Opera      M     53  2.621474e+09       1    United States   \n",
       "3          SEO  Safari      M     41  3.840542e+09       0  missing_country   \n",
       "4          Ads  Safari      M     45  4.155831e+08       0    United States   \n",
       "...        ...     ...    ...    ...           ...     ...              ...   \n",
       "151107     SEO  Chrome      M     28  3.451155e+09       1    United States   \n",
       "151108     SEO  Safari      M     32  2.439047e+09       0      Netherlands   \n",
       "151109     SEO      IE      F     26  2.748471e+09       0            Japan   \n",
       "151110     SEO  Chrome      M     37  3.601175e+09       0    United States   \n",
       "151111  Direct      IE      M     38  4.103825e+09       0  missing_country   \n",
       "\n",
       "        tempo  id_por_dispositivo  id_por_ip  \n",
       "0       13882                   1          1  \n",
       "1       17944                   1          1  \n",
       "2           1                  12         12  \n",
       "3       60085                   1          1  \n",
       "4       41461                   1          1  \n",
       "...       ...                 ...        ...  \n",
       "151107  77233                   2          1  \n",
       "151108  67270                   1          1  \n",
       "151109  28816                   1          1  \n",
       "151110  48519                   2          1  \n",
       "151111  68493                   1          1  \n",
       "\n",
       "[151112 rows x 15 columns]"
      ]
     },
     "execution_count": 31,
     "metadata": {},
     "output_type": "execute_result"
    }
   ],
   "source": [
    "transacoes"
   ]
  },
  {
   "cell_type": "markdown",
   "id": "e35bbfba-7ca7-4123-b744-dfa2b269114b",
   "metadata": {},
   "source": [
    "Agora que temos as duas variáveis no dataframe `transacoes` vou criar outra variável:\n",
    "\n",
    "$$\\text{media id} = \\frac{\\text{id por dispositivo }+\\text{ id por IP}}{2}$$"
   ]
  },
  {
   "cell_type": "code",
   "execution_count": 32,
   "id": "048783a7-9b9b-4402-be79-1599f126fada",
   "metadata": {},
   "outputs": [],
   "source": [
    "transacoes['media_id'] = (transacoes['id_por_dispositivo'] + transacoes['id_por_ip']) / 2"
   ]
  },
  {
   "cell_type": "code",
   "execution_count": 33,
   "id": "e3e59abe-4565-400c-a788-3544ed148c25",
   "metadata": {},
   "outputs": [
    {
     "data": {
      "text/html": [
       "<div>\n",
       "<style scoped>\n",
       "    .dataframe tbody tr th:only-of-type {\n",
       "        vertical-align: middle;\n",
       "    }\n",
       "\n",
       "    .dataframe tbody tr th {\n",
       "        vertical-align: top;\n",
       "    }\n",
       "\n",
       "    .dataframe thead th {\n",
       "        text-align: right;\n",
       "    }\n",
       "</style>\n",
       "<table border=\"1\" class=\"dataframe\">\n",
       "  <thead>\n",
       "    <tr style=\"text-align: right;\">\n",
       "      <th></th>\n",
       "      <th>id</th>\n",
       "      <th>cadastro</th>\n",
       "      <th>compra</th>\n",
       "      <th>valor</th>\n",
       "      <th>id_dispositivo</th>\n",
       "      <th>fonte</th>\n",
       "      <th>browser</th>\n",
       "      <th>genero</th>\n",
       "      <th>idade</th>\n",
       "      <th>ip</th>\n",
       "      <th>fraude</th>\n",
       "      <th>pais</th>\n",
       "      <th>tempo</th>\n",
       "      <th>id_por_dispositivo</th>\n",
       "      <th>id_por_ip</th>\n",
       "      <th>media_id</th>\n",
       "    </tr>\n",
       "  </thead>\n",
       "  <tbody>\n",
       "    <tr>\n",
       "      <th>0</th>\n",
       "      <td>22058</td>\n",
       "      <td>2015-02-24 22:55:49</td>\n",
       "      <td>2015-04-18 02:47:11</td>\n",
       "      <td>34</td>\n",
       "      <td>QVPSPJUOCKZAR</td>\n",
       "      <td>SEO</td>\n",
       "      <td>Chrome</td>\n",
       "      <td>M</td>\n",
       "      <td>39</td>\n",
       "      <td>7.327584e+08</td>\n",
       "      <td>0</td>\n",
       "      <td>Japan</td>\n",
       "      <td>13882</td>\n",
       "      <td>1</td>\n",
       "      <td>1</td>\n",
       "      <td>1.0</td>\n",
       "    </tr>\n",
       "    <tr>\n",
       "      <th>1</th>\n",
       "      <td>333320</td>\n",
       "      <td>2015-06-07 20:39:50</td>\n",
       "      <td>2015-06-08 01:38:54</td>\n",
       "      <td>16</td>\n",
       "      <td>EOGFQPIZPYXFZ</td>\n",
       "      <td>Ads</td>\n",
       "      <td>Chrome</td>\n",
       "      <td>F</td>\n",
       "      <td>53</td>\n",
       "      <td>3.503114e+08</td>\n",
       "      <td>0</td>\n",
       "      <td>United States</td>\n",
       "      <td>17944</td>\n",
       "      <td>1</td>\n",
       "      <td>1</td>\n",
       "      <td>1.0</td>\n",
       "    </tr>\n",
       "    <tr>\n",
       "      <th>2</th>\n",
       "      <td>1359</td>\n",
       "      <td>2015-01-01 18:52:44</td>\n",
       "      <td>2015-01-01 18:52:45</td>\n",
       "      <td>15</td>\n",
       "      <td>YSSKYOSJHPPLJ</td>\n",
       "      <td>SEO</td>\n",
       "      <td>Opera</td>\n",
       "      <td>M</td>\n",
       "      <td>53</td>\n",
       "      <td>2.621474e+09</td>\n",
       "      <td>1</td>\n",
       "      <td>United States</td>\n",
       "      <td>1</td>\n",
       "      <td>12</td>\n",
       "      <td>12</td>\n",
       "      <td>12.0</td>\n",
       "    </tr>\n",
       "    <tr>\n",
       "      <th>3</th>\n",
       "      <td>150084</td>\n",
       "      <td>2015-04-28 21:13:25</td>\n",
       "      <td>2015-05-04 13:54:50</td>\n",
       "      <td>44</td>\n",
       "      <td>ATGTXKYKUDUQN</td>\n",
       "      <td>SEO</td>\n",
       "      <td>Safari</td>\n",
       "      <td>M</td>\n",
       "      <td>41</td>\n",
       "      <td>3.840542e+09</td>\n",
       "      <td>0</td>\n",
       "      <td>missing_country</td>\n",
       "      <td>60085</td>\n",
       "      <td>1</td>\n",
       "      <td>1</td>\n",
       "      <td>1.0</td>\n",
       "    </tr>\n",
       "    <tr>\n",
       "      <th>4</th>\n",
       "      <td>221365</td>\n",
       "      <td>2015-07-21 07:09:52</td>\n",
       "      <td>2015-09-09 18:40:53</td>\n",
       "      <td>39</td>\n",
       "      <td>NAUITBZFJKHWW</td>\n",
       "      <td>Ads</td>\n",
       "      <td>Safari</td>\n",
       "      <td>M</td>\n",
       "      <td>45</td>\n",
       "      <td>4.155831e+08</td>\n",
       "      <td>0</td>\n",
       "      <td>United States</td>\n",
       "      <td>41461</td>\n",
       "      <td>1</td>\n",
       "      <td>1</td>\n",
       "      <td>1.0</td>\n",
       "    </tr>\n",
       "    <tr>\n",
       "      <th>...</th>\n",
       "      <td>...</td>\n",
       "      <td>...</td>\n",
       "      <td>...</td>\n",
       "      <td>...</td>\n",
       "      <td>...</td>\n",
       "      <td>...</td>\n",
       "      <td>...</td>\n",
       "      <td>...</td>\n",
       "      <td>...</td>\n",
       "      <td>...</td>\n",
       "      <td>...</td>\n",
       "      <td>...</td>\n",
       "      <td>...</td>\n",
       "      <td>...</td>\n",
       "      <td>...</td>\n",
       "      <td>...</td>\n",
       "    </tr>\n",
       "    <tr>\n",
       "      <th>151107</th>\n",
       "      <td>345170</td>\n",
       "      <td>2015-01-27 03:03:34</td>\n",
       "      <td>2015-03-29 00:30:47</td>\n",
       "      <td>43</td>\n",
       "      <td>XPSKTWGPWINLR</td>\n",
       "      <td>SEO</td>\n",
       "      <td>Chrome</td>\n",
       "      <td>M</td>\n",
       "      <td>28</td>\n",
       "      <td>3.451155e+09</td>\n",
       "      <td>1</td>\n",
       "      <td>United States</td>\n",
       "      <td>77233</td>\n",
       "      <td>2</td>\n",
       "      <td>1</td>\n",
       "      <td>1.5</td>\n",
       "    </tr>\n",
       "    <tr>\n",
       "      <th>151108</th>\n",
       "      <td>274471</td>\n",
       "      <td>2015-05-15 17:43:29</td>\n",
       "      <td>2015-05-26 12:24:39</td>\n",
       "      <td>35</td>\n",
       "      <td>LYSFABUCPCGBA</td>\n",
       "      <td>SEO</td>\n",
       "      <td>Safari</td>\n",
       "      <td>M</td>\n",
       "      <td>32</td>\n",
       "      <td>2.439047e+09</td>\n",
       "      <td>0</td>\n",
       "      <td>Netherlands</td>\n",
       "      <td>67270</td>\n",
       "      <td>1</td>\n",
       "      <td>1</td>\n",
       "      <td>1.0</td>\n",
       "    </tr>\n",
       "    <tr>\n",
       "      <th>151109</th>\n",
       "      <td>368416</td>\n",
       "      <td>2015-03-03 23:07:31</td>\n",
       "      <td>2015-05-20 07:07:47</td>\n",
       "      <td>40</td>\n",
       "      <td>MEQHCSJUBRBFE</td>\n",
       "      <td>SEO</td>\n",
       "      <td>IE</td>\n",
       "      <td>F</td>\n",
       "      <td>26</td>\n",
       "      <td>2.748471e+09</td>\n",
       "      <td>0</td>\n",
       "      <td>Japan</td>\n",
       "      <td>28816</td>\n",
       "      <td>1</td>\n",
       "      <td>1</td>\n",
       "      <td>1.0</td>\n",
       "    </tr>\n",
       "    <tr>\n",
       "      <th>151110</th>\n",
       "      <td>207709</td>\n",
       "      <td>2015-07-09 20:06:07</td>\n",
       "      <td>2015-09-07 09:34:46</td>\n",
       "      <td>46</td>\n",
       "      <td>CMCXFGRHYSTVJ</td>\n",
       "      <td>SEO</td>\n",
       "      <td>Chrome</td>\n",
       "      <td>M</td>\n",
       "      <td>37</td>\n",
       "      <td>3.601175e+09</td>\n",
       "      <td>0</td>\n",
       "      <td>United States</td>\n",
       "      <td>48519</td>\n",
       "      <td>2</td>\n",
       "      <td>1</td>\n",
       "      <td>1.5</td>\n",
       "    </tr>\n",
       "    <tr>\n",
       "      <th>151111</th>\n",
       "      <td>138208</td>\n",
       "      <td>2015-06-10 07:02:20</td>\n",
       "      <td>2015-07-21 02:03:53</td>\n",
       "      <td>20</td>\n",
       "      <td>ZINIADFCLHYPG</td>\n",
       "      <td>Direct</td>\n",
       "      <td>IE</td>\n",
       "      <td>M</td>\n",
       "      <td>38</td>\n",
       "      <td>4.103825e+09</td>\n",
       "      <td>0</td>\n",
       "      <td>missing_country</td>\n",
       "      <td>68493</td>\n",
       "      <td>1</td>\n",
       "      <td>1</td>\n",
       "      <td>1.0</td>\n",
       "    </tr>\n",
       "  </tbody>\n",
       "</table>\n",
       "<p>151112 rows × 16 columns</p>\n",
       "</div>"
      ],
      "text/plain": [
       "            id            cadastro              compra  valor id_dispositivo  \\\n",
       "0        22058 2015-02-24 22:55:49 2015-04-18 02:47:11     34  QVPSPJUOCKZAR   \n",
       "1       333320 2015-06-07 20:39:50 2015-06-08 01:38:54     16  EOGFQPIZPYXFZ   \n",
       "2         1359 2015-01-01 18:52:44 2015-01-01 18:52:45     15  YSSKYOSJHPPLJ   \n",
       "3       150084 2015-04-28 21:13:25 2015-05-04 13:54:50     44  ATGTXKYKUDUQN   \n",
       "4       221365 2015-07-21 07:09:52 2015-09-09 18:40:53     39  NAUITBZFJKHWW   \n",
       "...        ...                 ...                 ...    ...            ...   \n",
       "151107  345170 2015-01-27 03:03:34 2015-03-29 00:30:47     43  XPSKTWGPWINLR   \n",
       "151108  274471 2015-05-15 17:43:29 2015-05-26 12:24:39     35  LYSFABUCPCGBA   \n",
       "151109  368416 2015-03-03 23:07:31 2015-05-20 07:07:47     40  MEQHCSJUBRBFE   \n",
       "151110  207709 2015-07-09 20:06:07 2015-09-07 09:34:46     46  CMCXFGRHYSTVJ   \n",
       "151111  138208 2015-06-10 07:02:20 2015-07-21 02:03:53     20  ZINIADFCLHYPG   \n",
       "\n",
       "         fonte browser genero  idade            ip  fraude             pais  \\\n",
       "0          SEO  Chrome      M     39  7.327584e+08       0            Japan   \n",
       "1          Ads  Chrome      F     53  3.503114e+08       0    United States   \n",
       "2          SEO   Opera      M     53  2.621474e+09       1    United States   \n",
       "3          SEO  Safari      M     41  3.840542e+09       0  missing_country   \n",
       "4          Ads  Safari      M     45  4.155831e+08       0    United States   \n",
       "...        ...     ...    ...    ...           ...     ...              ...   \n",
       "151107     SEO  Chrome      M     28  3.451155e+09       1    United States   \n",
       "151108     SEO  Safari      M     32  2.439047e+09       0      Netherlands   \n",
       "151109     SEO      IE      F     26  2.748471e+09       0            Japan   \n",
       "151110     SEO  Chrome      M     37  3.601175e+09       0    United States   \n",
       "151111  Direct      IE      M     38  4.103825e+09       0  missing_country   \n",
       "\n",
       "        tempo  id_por_dispositivo  id_por_ip  media_id  \n",
       "0       13882                   1          1       1.0  \n",
       "1       17944                   1          1       1.0  \n",
       "2           1                  12         12      12.0  \n",
       "3       60085                   1          1       1.0  \n",
       "4       41461                   1          1       1.0  \n",
       "...       ...                 ...        ...       ...  \n",
       "151107  77233                   2          1       1.5  \n",
       "151108  67270                   1          1       1.0  \n",
       "151109  28816                   1          1       1.0  \n",
       "151110  48519                   2          1       1.5  \n",
       "151111  68493                   1          1       1.0  \n",
       "\n",
       "[151112 rows x 16 columns]"
      ]
     },
     "execution_count": 33,
     "metadata": {},
     "output_type": "execute_result"
    }
   ],
   "source": [
    "transacoes"
   ]
  },
  {
   "cell_type": "markdown",
   "id": "f6c50202-91ea-4937-8dc7-7cd8186941b0",
   "metadata": {},
   "source": [
    "## Quebrar a variável `pais` em varias variaveis\n",
    "\n",
    "Precisamos fazer um processo de \"pivot\" na variável `pais` ou o processo *dummies*, que é basicamente transformar cada uma das categorias (paises) em uma variável, isso irá gerar uma matriz esparsa, veja, vou transformar países em uma variável:"
   ]
  },
  {
   "cell_type": "code",
   "execution_count": 34,
   "id": "392fcde7-ca29-43a1-8b8a-09e4ed89947d",
   "metadata": {},
   "outputs": [
    {
     "data": {
      "text/html": [
       "<div>\n",
       "<style scoped>\n",
       "    .dataframe tbody tr th:only-of-type {\n",
       "        vertical-align: middle;\n",
       "    }\n",
       "\n",
       "    .dataframe tbody tr th {\n",
       "        vertical-align: top;\n",
       "    }\n",
       "\n",
       "    .dataframe thead th {\n",
       "        text-align: right;\n",
       "    }\n",
       "</style>\n",
       "<table border=\"1\" class=\"dataframe\">\n",
       "  <thead>\n",
       "    <tr style=\"text-align: right;\">\n",
       "      <th></th>\n",
       "      <th>pais_Afghanistan</th>\n",
       "      <th>pais_Albania</th>\n",
       "      <th>pais_Algeria</th>\n",
       "      <th>pais_Angola</th>\n",
       "      <th>pais_Antigua and Barbuda</th>\n",
       "      <th>pais_Argentina</th>\n",
       "      <th>pais_Armenia</th>\n",
       "      <th>pais_Australia</th>\n",
       "      <th>pais_Austria</th>\n",
       "      <th>pais_Azerbaijan</th>\n",
       "      <th>...</th>\n",
       "      <th>pais_Uruguay</th>\n",
       "      <th>pais_Uzbekistan</th>\n",
       "      <th>pais_Vanuatu</th>\n",
       "      <th>pais_Venezuela</th>\n",
       "      <th>pais_Viet Nam</th>\n",
       "      <th>pais_Virgin Islands (U.S.)</th>\n",
       "      <th>pais_Yemen</th>\n",
       "      <th>pais_Zambia</th>\n",
       "      <th>pais_Zimbabwe</th>\n",
       "      <th>pais_missing_country</th>\n",
       "    </tr>\n",
       "  </thead>\n",
       "  <tbody>\n",
       "    <tr>\n",
       "      <th>0</th>\n",
       "      <td>0</td>\n",
       "      <td>0</td>\n",
       "      <td>0</td>\n",
       "      <td>0</td>\n",
       "      <td>0</td>\n",
       "      <td>0</td>\n",
       "      <td>0</td>\n",
       "      <td>0</td>\n",
       "      <td>0</td>\n",
       "      <td>0</td>\n",
       "      <td>...</td>\n",
       "      <td>0</td>\n",
       "      <td>0</td>\n",
       "      <td>0</td>\n",
       "      <td>0</td>\n",
       "      <td>0</td>\n",
       "      <td>0</td>\n",
       "      <td>0</td>\n",
       "      <td>0</td>\n",
       "      <td>0</td>\n",
       "      <td>0</td>\n",
       "    </tr>\n",
       "    <tr>\n",
       "      <th>1</th>\n",
       "      <td>0</td>\n",
       "      <td>0</td>\n",
       "      <td>0</td>\n",
       "      <td>0</td>\n",
       "      <td>0</td>\n",
       "      <td>0</td>\n",
       "      <td>0</td>\n",
       "      <td>0</td>\n",
       "      <td>0</td>\n",
       "      <td>0</td>\n",
       "      <td>...</td>\n",
       "      <td>0</td>\n",
       "      <td>0</td>\n",
       "      <td>0</td>\n",
       "      <td>0</td>\n",
       "      <td>0</td>\n",
       "      <td>0</td>\n",
       "      <td>0</td>\n",
       "      <td>0</td>\n",
       "      <td>0</td>\n",
       "      <td>0</td>\n",
       "    </tr>\n",
       "    <tr>\n",
       "      <th>2</th>\n",
       "      <td>0</td>\n",
       "      <td>0</td>\n",
       "      <td>0</td>\n",
       "      <td>0</td>\n",
       "      <td>0</td>\n",
       "      <td>0</td>\n",
       "      <td>0</td>\n",
       "      <td>0</td>\n",
       "      <td>0</td>\n",
       "      <td>0</td>\n",
       "      <td>...</td>\n",
       "      <td>0</td>\n",
       "      <td>0</td>\n",
       "      <td>0</td>\n",
       "      <td>0</td>\n",
       "      <td>0</td>\n",
       "      <td>0</td>\n",
       "      <td>0</td>\n",
       "      <td>0</td>\n",
       "      <td>0</td>\n",
       "      <td>0</td>\n",
       "    </tr>\n",
       "    <tr>\n",
       "      <th>3</th>\n",
       "      <td>0</td>\n",
       "      <td>0</td>\n",
       "      <td>0</td>\n",
       "      <td>0</td>\n",
       "      <td>0</td>\n",
       "      <td>0</td>\n",
       "      <td>0</td>\n",
       "      <td>0</td>\n",
       "      <td>0</td>\n",
       "      <td>0</td>\n",
       "      <td>...</td>\n",
       "      <td>0</td>\n",
       "      <td>0</td>\n",
       "      <td>0</td>\n",
       "      <td>0</td>\n",
       "      <td>0</td>\n",
       "      <td>0</td>\n",
       "      <td>0</td>\n",
       "      <td>0</td>\n",
       "      <td>0</td>\n",
       "      <td>1</td>\n",
       "    </tr>\n",
       "    <tr>\n",
       "      <th>4</th>\n",
       "      <td>0</td>\n",
       "      <td>0</td>\n",
       "      <td>0</td>\n",
       "      <td>0</td>\n",
       "      <td>0</td>\n",
       "      <td>0</td>\n",
       "      <td>0</td>\n",
       "      <td>0</td>\n",
       "      <td>0</td>\n",
       "      <td>0</td>\n",
       "      <td>...</td>\n",
       "      <td>0</td>\n",
       "      <td>0</td>\n",
       "      <td>0</td>\n",
       "      <td>0</td>\n",
       "      <td>0</td>\n",
       "      <td>0</td>\n",
       "      <td>0</td>\n",
       "      <td>0</td>\n",
       "      <td>0</td>\n",
       "      <td>0</td>\n",
       "    </tr>\n",
       "    <tr>\n",
       "      <th>...</th>\n",
       "      <td>...</td>\n",
       "      <td>...</td>\n",
       "      <td>...</td>\n",
       "      <td>...</td>\n",
       "      <td>...</td>\n",
       "      <td>...</td>\n",
       "      <td>...</td>\n",
       "      <td>...</td>\n",
       "      <td>...</td>\n",
       "      <td>...</td>\n",
       "      <td>...</td>\n",
       "      <td>...</td>\n",
       "      <td>...</td>\n",
       "      <td>...</td>\n",
       "      <td>...</td>\n",
       "      <td>...</td>\n",
       "      <td>...</td>\n",
       "      <td>...</td>\n",
       "      <td>...</td>\n",
       "      <td>...</td>\n",
       "      <td>...</td>\n",
       "    </tr>\n",
       "    <tr>\n",
       "      <th>151107</th>\n",
       "      <td>0</td>\n",
       "      <td>0</td>\n",
       "      <td>0</td>\n",
       "      <td>0</td>\n",
       "      <td>0</td>\n",
       "      <td>0</td>\n",
       "      <td>0</td>\n",
       "      <td>0</td>\n",
       "      <td>0</td>\n",
       "      <td>0</td>\n",
       "      <td>...</td>\n",
       "      <td>0</td>\n",
       "      <td>0</td>\n",
       "      <td>0</td>\n",
       "      <td>0</td>\n",
       "      <td>0</td>\n",
       "      <td>0</td>\n",
       "      <td>0</td>\n",
       "      <td>0</td>\n",
       "      <td>0</td>\n",
       "      <td>0</td>\n",
       "    </tr>\n",
       "    <tr>\n",
       "      <th>151108</th>\n",
       "      <td>0</td>\n",
       "      <td>0</td>\n",
       "      <td>0</td>\n",
       "      <td>0</td>\n",
       "      <td>0</td>\n",
       "      <td>0</td>\n",
       "      <td>0</td>\n",
       "      <td>0</td>\n",
       "      <td>0</td>\n",
       "      <td>0</td>\n",
       "      <td>...</td>\n",
       "      <td>0</td>\n",
       "      <td>0</td>\n",
       "      <td>0</td>\n",
       "      <td>0</td>\n",
       "      <td>0</td>\n",
       "      <td>0</td>\n",
       "      <td>0</td>\n",
       "      <td>0</td>\n",
       "      <td>0</td>\n",
       "      <td>0</td>\n",
       "    </tr>\n",
       "    <tr>\n",
       "      <th>151109</th>\n",
       "      <td>0</td>\n",
       "      <td>0</td>\n",
       "      <td>0</td>\n",
       "      <td>0</td>\n",
       "      <td>0</td>\n",
       "      <td>0</td>\n",
       "      <td>0</td>\n",
       "      <td>0</td>\n",
       "      <td>0</td>\n",
       "      <td>0</td>\n",
       "      <td>...</td>\n",
       "      <td>0</td>\n",
       "      <td>0</td>\n",
       "      <td>0</td>\n",
       "      <td>0</td>\n",
       "      <td>0</td>\n",
       "      <td>0</td>\n",
       "      <td>0</td>\n",
       "      <td>0</td>\n",
       "      <td>0</td>\n",
       "      <td>0</td>\n",
       "    </tr>\n",
       "    <tr>\n",
       "      <th>151110</th>\n",
       "      <td>0</td>\n",
       "      <td>0</td>\n",
       "      <td>0</td>\n",
       "      <td>0</td>\n",
       "      <td>0</td>\n",
       "      <td>0</td>\n",
       "      <td>0</td>\n",
       "      <td>0</td>\n",
       "      <td>0</td>\n",
       "      <td>0</td>\n",
       "      <td>...</td>\n",
       "      <td>0</td>\n",
       "      <td>0</td>\n",
       "      <td>0</td>\n",
       "      <td>0</td>\n",
       "      <td>0</td>\n",
       "      <td>0</td>\n",
       "      <td>0</td>\n",
       "      <td>0</td>\n",
       "      <td>0</td>\n",
       "      <td>0</td>\n",
       "    </tr>\n",
       "    <tr>\n",
       "      <th>151111</th>\n",
       "      <td>0</td>\n",
       "      <td>0</td>\n",
       "      <td>0</td>\n",
       "      <td>0</td>\n",
       "      <td>0</td>\n",
       "      <td>0</td>\n",
       "      <td>0</td>\n",
       "      <td>0</td>\n",
       "      <td>0</td>\n",
       "      <td>0</td>\n",
       "      <td>...</td>\n",
       "      <td>0</td>\n",
       "      <td>0</td>\n",
       "      <td>0</td>\n",
       "      <td>0</td>\n",
       "      <td>0</td>\n",
       "      <td>0</td>\n",
       "      <td>0</td>\n",
       "      <td>0</td>\n",
       "      <td>0</td>\n",
       "      <td>1</td>\n",
       "    </tr>\n",
       "  </tbody>\n",
       "</table>\n",
       "<p>151112 rows × 182 columns</p>\n",
       "</div>"
      ],
      "text/plain": [
       "        pais_Afghanistan  pais_Albania  pais_Algeria  pais_Angola  \\\n",
       "0                      0             0             0            0   \n",
       "1                      0             0             0            0   \n",
       "2                      0             0             0            0   \n",
       "3                      0             0             0            0   \n",
       "4                      0             0             0            0   \n",
       "...                  ...           ...           ...          ...   \n",
       "151107                 0             0             0            0   \n",
       "151108                 0             0             0            0   \n",
       "151109                 0             0             0            0   \n",
       "151110                 0             0             0            0   \n",
       "151111                 0             0             0            0   \n",
       "\n",
       "        pais_Antigua and Barbuda  pais_Argentina  pais_Armenia  \\\n",
       "0                              0               0             0   \n",
       "1                              0               0             0   \n",
       "2                              0               0             0   \n",
       "3                              0               0             0   \n",
       "4                              0               0             0   \n",
       "...                          ...             ...           ...   \n",
       "151107                         0               0             0   \n",
       "151108                         0               0             0   \n",
       "151109                         0               0             0   \n",
       "151110                         0               0             0   \n",
       "151111                         0               0             0   \n",
       "\n",
       "        pais_Australia  pais_Austria  pais_Azerbaijan  ...  pais_Uruguay  \\\n",
       "0                    0             0                0  ...             0   \n",
       "1                    0             0                0  ...             0   \n",
       "2                    0             0                0  ...             0   \n",
       "3                    0             0                0  ...             0   \n",
       "4                    0             0                0  ...             0   \n",
       "...                ...           ...              ...  ...           ...   \n",
       "151107               0             0                0  ...             0   \n",
       "151108               0             0                0  ...             0   \n",
       "151109               0             0                0  ...             0   \n",
       "151110               0             0                0  ...             0   \n",
       "151111               0             0                0  ...             0   \n",
       "\n",
       "        pais_Uzbekistan  pais_Vanuatu  pais_Venezuela  pais_Viet Nam  \\\n",
       "0                     0             0               0              0   \n",
       "1                     0             0               0              0   \n",
       "2                     0             0               0              0   \n",
       "3                     0             0               0              0   \n",
       "4                     0             0               0              0   \n",
       "...                 ...           ...             ...            ...   \n",
       "151107                0             0               0              0   \n",
       "151108                0             0               0              0   \n",
       "151109                0             0               0              0   \n",
       "151110                0             0               0              0   \n",
       "151111                0             0               0              0   \n",
       "\n",
       "        pais_Virgin Islands (U.S.)  pais_Yemen  pais_Zambia  pais_Zimbabwe  \\\n",
       "0                                0           0            0              0   \n",
       "1                                0           0            0              0   \n",
       "2                                0           0            0              0   \n",
       "3                                0           0            0              0   \n",
       "4                                0           0            0              0   \n",
       "...                            ...         ...          ...            ...   \n",
       "151107                           0           0            0              0   \n",
       "151108                           0           0            0              0   \n",
       "151109                           0           0            0              0   \n",
       "151110                           0           0            0              0   \n",
       "151111                           0           0            0              0   \n",
       "\n",
       "        pais_missing_country  \n",
       "0                          0  \n",
       "1                          0  \n",
       "2                          0  \n",
       "3                          1  \n",
       "4                          0  \n",
       "...                      ...  \n",
       "151107                     0  \n",
       "151108                     0  \n",
       "151109                     0  \n",
       "151110                     0  \n",
       "151111                     1  \n",
       "\n",
       "[151112 rows x 182 columns]"
      ]
     },
     "execution_count": 34,
     "metadata": {},
     "output_type": "execute_result"
    }
   ],
   "source": [
    "paises = pd.get_dummies(transacoes.pais, prefix='pais')\n",
    "paises"
   ]
  },
  {
   "cell_type": "markdown",
   "id": "9f6c3b4a-098d-41c2-8a33-95b12d467073",
   "metadata": {},
   "source": [
    "Agora o que é preciso fazer é concatenar as variaveis `paises` com as `transacoes`:"
   ]
  },
  {
   "cell_type": "code",
   "execution_count": 35,
   "id": "73ecca0f-f15e-4e62-8520-0d9ef6adf8cb",
   "metadata": {},
   "outputs": [],
   "source": [
    "transacoes = pd.concat([transacoes, paises], axis=1)"
   ]
  },
  {
   "cell_type": "code",
   "execution_count": 36,
   "id": "8988cce7-b602-4459-b8cb-f27c68b8ade6",
   "metadata": {},
   "outputs": [
    {
     "data": {
      "text/html": [
       "<div>\n",
       "<style scoped>\n",
       "    .dataframe tbody tr th:only-of-type {\n",
       "        vertical-align: middle;\n",
       "    }\n",
       "\n",
       "    .dataframe tbody tr th {\n",
       "        vertical-align: top;\n",
       "    }\n",
       "\n",
       "    .dataframe thead th {\n",
       "        text-align: right;\n",
       "    }\n",
       "</style>\n",
       "<table border=\"1\" class=\"dataframe\">\n",
       "  <thead>\n",
       "    <tr style=\"text-align: right;\">\n",
       "      <th></th>\n",
       "      <th>id</th>\n",
       "      <th>cadastro</th>\n",
       "      <th>compra</th>\n",
       "      <th>valor</th>\n",
       "      <th>id_dispositivo</th>\n",
       "      <th>fonte</th>\n",
       "      <th>browser</th>\n",
       "      <th>genero</th>\n",
       "      <th>idade</th>\n",
       "      <th>ip</th>\n",
       "      <th>...</th>\n",
       "      <th>pais_Uruguay</th>\n",
       "      <th>pais_Uzbekistan</th>\n",
       "      <th>pais_Vanuatu</th>\n",
       "      <th>pais_Venezuela</th>\n",
       "      <th>pais_Viet Nam</th>\n",
       "      <th>pais_Virgin Islands (U.S.)</th>\n",
       "      <th>pais_Yemen</th>\n",
       "      <th>pais_Zambia</th>\n",
       "      <th>pais_Zimbabwe</th>\n",
       "      <th>pais_missing_country</th>\n",
       "    </tr>\n",
       "  </thead>\n",
       "  <tbody>\n",
       "    <tr>\n",
       "      <th>0</th>\n",
       "      <td>22058</td>\n",
       "      <td>2015-02-24 22:55:49</td>\n",
       "      <td>2015-04-18 02:47:11</td>\n",
       "      <td>34</td>\n",
       "      <td>QVPSPJUOCKZAR</td>\n",
       "      <td>SEO</td>\n",
       "      <td>Chrome</td>\n",
       "      <td>M</td>\n",
       "      <td>39</td>\n",
       "      <td>7.327584e+08</td>\n",
       "      <td>...</td>\n",
       "      <td>0</td>\n",
       "      <td>0</td>\n",
       "      <td>0</td>\n",
       "      <td>0</td>\n",
       "      <td>0</td>\n",
       "      <td>0</td>\n",
       "      <td>0</td>\n",
       "      <td>0</td>\n",
       "      <td>0</td>\n",
       "      <td>0</td>\n",
       "    </tr>\n",
       "    <tr>\n",
       "      <th>1</th>\n",
       "      <td>333320</td>\n",
       "      <td>2015-06-07 20:39:50</td>\n",
       "      <td>2015-06-08 01:38:54</td>\n",
       "      <td>16</td>\n",
       "      <td>EOGFQPIZPYXFZ</td>\n",
       "      <td>Ads</td>\n",
       "      <td>Chrome</td>\n",
       "      <td>F</td>\n",
       "      <td>53</td>\n",
       "      <td>3.503114e+08</td>\n",
       "      <td>...</td>\n",
       "      <td>0</td>\n",
       "      <td>0</td>\n",
       "      <td>0</td>\n",
       "      <td>0</td>\n",
       "      <td>0</td>\n",
       "      <td>0</td>\n",
       "      <td>0</td>\n",
       "      <td>0</td>\n",
       "      <td>0</td>\n",
       "      <td>0</td>\n",
       "    </tr>\n",
       "    <tr>\n",
       "      <th>2</th>\n",
       "      <td>1359</td>\n",
       "      <td>2015-01-01 18:52:44</td>\n",
       "      <td>2015-01-01 18:52:45</td>\n",
       "      <td>15</td>\n",
       "      <td>YSSKYOSJHPPLJ</td>\n",
       "      <td>SEO</td>\n",
       "      <td>Opera</td>\n",
       "      <td>M</td>\n",
       "      <td>53</td>\n",
       "      <td>2.621474e+09</td>\n",
       "      <td>...</td>\n",
       "      <td>0</td>\n",
       "      <td>0</td>\n",
       "      <td>0</td>\n",
       "      <td>0</td>\n",
       "      <td>0</td>\n",
       "      <td>0</td>\n",
       "      <td>0</td>\n",
       "      <td>0</td>\n",
       "      <td>0</td>\n",
       "      <td>0</td>\n",
       "    </tr>\n",
       "    <tr>\n",
       "      <th>3</th>\n",
       "      <td>150084</td>\n",
       "      <td>2015-04-28 21:13:25</td>\n",
       "      <td>2015-05-04 13:54:50</td>\n",
       "      <td>44</td>\n",
       "      <td>ATGTXKYKUDUQN</td>\n",
       "      <td>SEO</td>\n",
       "      <td>Safari</td>\n",
       "      <td>M</td>\n",
       "      <td>41</td>\n",
       "      <td>3.840542e+09</td>\n",
       "      <td>...</td>\n",
       "      <td>0</td>\n",
       "      <td>0</td>\n",
       "      <td>0</td>\n",
       "      <td>0</td>\n",
       "      <td>0</td>\n",
       "      <td>0</td>\n",
       "      <td>0</td>\n",
       "      <td>0</td>\n",
       "      <td>0</td>\n",
       "      <td>1</td>\n",
       "    </tr>\n",
       "    <tr>\n",
       "      <th>4</th>\n",
       "      <td>221365</td>\n",
       "      <td>2015-07-21 07:09:52</td>\n",
       "      <td>2015-09-09 18:40:53</td>\n",
       "      <td>39</td>\n",
       "      <td>NAUITBZFJKHWW</td>\n",
       "      <td>Ads</td>\n",
       "      <td>Safari</td>\n",
       "      <td>M</td>\n",
       "      <td>45</td>\n",
       "      <td>4.155831e+08</td>\n",
       "      <td>...</td>\n",
       "      <td>0</td>\n",
       "      <td>0</td>\n",
       "      <td>0</td>\n",
       "      <td>0</td>\n",
       "      <td>0</td>\n",
       "      <td>0</td>\n",
       "      <td>0</td>\n",
       "      <td>0</td>\n",
       "      <td>0</td>\n",
       "      <td>0</td>\n",
       "    </tr>\n",
       "  </tbody>\n",
       "</table>\n",
       "<p>5 rows × 198 columns</p>\n",
       "</div>"
      ],
      "text/plain": [
       "       id            cadastro              compra  valor id_dispositivo fonte  \\\n",
       "0   22058 2015-02-24 22:55:49 2015-04-18 02:47:11     34  QVPSPJUOCKZAR   SEO   \n",
       "1  333320 2015-06-07 20:39:50 2015-06-08 01:38:54     16  EOGFQPIZPYXFZ   Ads   \n",
       "2    1359 2015-01-01 18:52:44 2015-01-01 18:52:45     15  YSSKYOSJHPPLJ   SEO   \n",
       "3  150084 2015-04-28 21:13:25 2015-05-04 13:54:50     44  ATGTXKYKUDUQN   SEO   \n",
       "4  221365 2015-07-21 07:09:52 2015-09-09 18:40:53     39  NAUITBZFJKHWW   Ads   \n",
       "\n",
       "  browser genero  idade            ip  ...  pais_Uruguay pais_Uzbekistan  \\\n",
       "0  Chrome      M     39  7.327584e+08  ...             0               0   \n",
       "1  Chrome      F     53  3.503114e+08  ...             0               0   \n",
       "2   Opera      M     53  2.621474e+09  ...             0               0   \n",
       "3  Safari      M     41  3.840542e+09  ...             0               0   \n",
       "4  Safari      M     45  4.155831e+08  ...             0               0   \n",
       "\n",
       "   pais_Vanuatu  pais_Venezuela  pais_Viet Nam  pais_Virgin Islands (U.S.)  \\\n",
       "0             0               0              0                           0   \n",
       "1             0               0              0                           0   \n",
       "2             0               0              0                           0   \n",
       "3             0               0              0                           0   \n",
       "4             0               0              0                           0   \n",
       "\n",
       "   pais_Yemen  pais_Zambia  pais_Zimbabwe  pais_missing_country  \n",
       "0           0            0              0                     0  \n",
       "1           0            0              0                     0  \n",
       "2           0            0              0                     0  \n",
       "3           0            0              0                     1  \n",
       "4           0            0              0                     0  \n",
       "\n",
       "[5 rows x 198 columns]"
      ]
     },
     "execution_count": 36,
     "metadata": {},
     "output_type": "execute_result"
    }
   ],
   "source": [
    "transacoes.head()"
   ]
  },
  {
   "cell_type": "markdown",
   "id": "40c931b9-1cb9-427d-be3f-0ffe79f6244f",
   "metadata": {},
   "source": [
    "Note que agora temos 198 colunas... E diferente do problema anterior precisamos de alguma forma condensar ou remover algumas counas.\n",
    "\n",
    "A principo vou utilizar a função drop para remover algumas variáveis, por exemplo a `pais`. As variáveis a serem removidas são todas as analisadas na Análise exploratória exceto `media_id` que construimos:\n",
    "\n",
    "\n"
   ]
  },
  {
   "cell_type": "code",
   "execution_count": 37,
   "id": "29b61b5f-828d-4e50-8203-9e1bdcc4929c",
   "metadata": {},
   "outputs": [
    {
     "data": {
      "text/html": [
       "<div>\n",
       "<style scoped>\n",
       "    .dataframe tbody tr th:only-of-type {\n",
       "        vertical-align: middle;\n",
       "    }\n",
       "\n",
       "    .dataframe tbody tr th {\n",
       "        vertical-align: top;\n",
       "    }\n",
       "\n",
       "    .dataframe thead th {\n",
       "        text-align: right;\n",
       "    }\n",
       "</style>\n",
       "<table border=\"1\" class=\"dataframe\">\n",
       "  <thead>\n",
       "    <tr style=\"text-align: right;\">\n",
       "      <th></th>\n",
       "      <th>fraude</th>\n",
       "      <th>tempo</th>\n",
       "      <th>media_id</th>\n",
       "      <th>pais_Afghanistan</th>\n",
       "      <th>pais_Albania</th>\n",
       "      <th>pais_Algeria</th>\n",
       "      <th>pais_Angola</th>\n",
       "      <th>pais_Antigua and Barbuda</th>\n",
       "      <th>pais_Argentina</th>\n",
       "      <th>pais_Armenia</th>\n",
       "      <th>...</th>\n",
       "      <th>pais_Uruguay</th>\n",
       "      <th>pais_Uzbekistan</th>\n",
       "      <th>pais_Vanuatu</th>\n",
       "      <th>pais_Venezuela</th>\n",
       "      <th>pais_Viet Nam</th>\n",
       "      <th>pais_Virgin Islands (U.S.)</th>\n",
       "      <th>pais_Yemen</th>\n",
       "      <th>pais_Zambia</th>\n",
       "      <th>pais_Zimbabwe</th>\n",
       "      <th>pais_missing_country</th>\n",
       "    </tr>\n",
       "  </thead>\n",
       "  <tbody>\n",
       "    <tr>\n",
       "      <th>0</th>\n",
       "      <td>0</td>\n",
       "      <td>13882</td>\n",
       "      <td>1.0</td>\n",
       "      <td>0</td>\n",
       "      <td>0</td>\n",
       "      <td>0</td>\n",
       "      <td>0</td>\n",
       "      <td>0</td>\n",
       "      <td>0</td>\n",
       "      <td>0</td>\n",
       "      <td>...</td>\n",
       "      <td>0</td>\n",
       "      <td>0</td>\n",
       "      <td>0</td>\n",
       "      <td>0</td>\n",
       "      <td>0</td>\n",
       "      <td>0</td>\n",
       "      <td>0</td>\n",
       "      <td>0</td>\n",
       "      <td>0</td>\n",
       "      <td>0</td>\n",
       "    </tr>\n",
       "    <tr>\n",
       "      <th>1</th>\n",
       "      <td>0</td>\n",
       "      <td>17944</td>\n",
       "      <td>1.0</td>\n",
       "      <td>0</td>\n",
       "      <td>0</td>\n",
       "      <td>0</td>\n",
       "      <td>0</td>\n",
       "      <td>0</td>\n",
       "      <td>0</td>\n",
       "      <td>0</td>\n",
       "      <td>...</td>\n",
       "      <td>0</td>\n",
       "      <td>0</td>\n",
       "      <td>0</td>\n",
       "      <td>0</td>\n",
       "      <td>0</td>\n",
       "      <td>0</td>\n",
       "      <td>0</td>\n",
       "      <td>0</td>\n",
       "      <td>0</td>\n",
       "      <td>0</td>\n",
       "    </tr>\n",
       "    <tr>\n",
       "      <th>2</th>\n",
       "      <td>1</td>\n",
       "      <td>1</td>\n",
       "      <td>12.0</td>\n",
       "      <td>0</td>\n",
       "      <td>0</td>\n",
       "      <td>0</td>\n",
       "      <td>0</td>\n",
       "      <td>0</td>\n",
       "      <td>0</td>\n",
       "      <td>0</td>\n",
       "      <td>...</td>\n",
       "      <td>0</td>\n",
       "      <td>0</td>\n",
       "      <td>0</td>\n",
       "      <td>0</td>\n",
       "      <td>0</td>\n",
       "      <td>0</td>\n",
       "      <td>0</td>\n",
       "      <td>0</td>\n",
       "      <td>0</td>\n",
       "      <td>0</td>\n",
       "    </tr>\n",
       "    <tr>\n",
       "      <th>3</th>\n",
       "      <td>0</td>\n",
       "      <td>60085</td>\n",
       "      <td>1.0</td>\n",
       "      <td>0</td>\n",
       "      <td>0</td>\n",
       "      <td>0</td>\n",
       "      <td>0</td>\n",
       "      <td>0</td>\n",
       "      <td>0</td>\n",
       "      <td>0</td>\n",
       "      <td>...</td>\n",
       "      <td>0</td>\n",
       "      <td>0</td>\n",
       "      <td>0</td>\n",
       "      <td>0</td>\n",
       "      <td>0</td>\n",
       "      <td>0</td>\n",
       "      <td>0</td>\n",
       "      <td>0</td>\n",
       "      <td>0</td>\n",
       "      <td>1</td>\n",
       "    </tr>\n",
       "    <tr>\n",
       "      <th>4</th>\n",
       "      <td>0</td>\n",
       "      <td>41461</td>\n",
       "      <td>1.0</td>\n",
       "      <td>0</td>\n",
       "      <td>0</td>\n",
       "      <td>0</td>\n",
       "      <td>0</td>\n",
       "      <td>0</td>\n",
       "      <td>0</td>\n",
       "      <td>0</td>\n",
       "      <td>...</td>\n",
       "      <td>0</td>\n",
       "      <td>0</td>\n",
       "      <td>0</td>\n",
       "      <td>0</td>\n",
       "      <td>0</td>\n",
       "      <td>0</td>\n",
       "      <td>0</td>\n",
       "      <td>0</td>\n",
       "      <td>0</td>\n",
       "      <td>0</td>\n",
       "    </tr>\n",
       "  </tbody>\n",
       "</table>\n",
       "<p>5 rows × 185 columns</p>\n",
       "</div>"
      ],
      "text/plain": [
       "   fraude  tempo  media_id  pais_Afghanistan  pais_Albania  pais_Algeria  \\\n",
       "0       0  13882       1.0                 0             0             0   \n",
       "1       0  17944       1.0                 0             0             0   \n",
       "2       1      1      12.0                 0             0             0   \n",
       "3       0  60085       1.0                 0             0             0   \n",
       "4       0  41461       1.0                 0             0             0   \n",
       "\n",
       "   pais_Angola  pais_Antigua and Barbuda  pais_Argentina  pais_Armenia  ...  \\\n",
       "0            0                         0               0             0  ...   \n",
       "1            0                         0               0             0  ...   \n",
       "2            0                         0               0             0  ...   \n",
       "3            0                         0               0             0  ...   \n",
       "4            0                         0               0             0  ...   \n",
       "\n",
       "   pais_Uruguay  pais_Uzbekistan  pais_Vanuatu  pais_Venezuela  pais_Viet Nam  \\\n",
       "0             0                0             0               0              0   \n",
       "1             0                0             0               0              0   \n",
       "2             0                0             0               0              0   \n",
       "3             0                0             0               0              0   \n",
       "4             0                0             0               0              0   \n",
       "\n",
       "   pais_Virgin Islands (U.S.)  pais_Yemen  pais_Zambia  pais_Zimbabwe  \\\n",
       "0                           0           0            0              0   \n",
       "1                           0           0            0              0   \n",
       "2                           0           0            0              0   \n",
       "3                           0           0            0              0   \n",
       "4                           0           0            0              0   \n",
       "\n",
       "   pais_missing_country  \n",
       "0                     0  \n",
       "1                     0  \n",
       "2                     0  \n",
       "3                     1  \n",
       "4                     0  \n",
       "\n",
       "[5 rows x 185 columns]"
      ]
     },
     "execution_count": 37,
     "metadata": {},
     "output_type": "execute_result"
    }
   ],
   "source": [
    "transacoes = transacoes.drop(['id','cadastro','compra','valor','fonte',\n",
    "                             'browser', 'genero','idade', 'id_dispositivo','ip','id_por_dispositivo',\n",
    "                             'id_por_ip', 'pais'], axis=1)\n",
    "transacoes.head()"
   ]
  },
  {
   "cell_type": "markdown",
   "id": "670d887b-4d1c-451d-bfff-294b4d3d298d",
   "metadata": {},
   "source": [
    "## Distribuições de variáveis gaussianas\n",
    "### Analise de fraudes e transações reais"
   ]
  },
  {
   "cell_type": "markdown",
   "id": "66534d36-8155-4585-a0f7-d61d4adcb148",
   "metadata": {},
   "source": [
    "Os modelos geralmente se ajustam melhor a variáveis que se distribuiem normalmente, podemos verificar que algumas das variáveis são bimodais, por exemplo a `media_id`, isso porque tem uma média associada aos valores de fraude e outra média associada aos valores reais."
   ]
  },
  {
   "cell_type": "code",
   "execution_count": 38,
   "id": "163ab432-305a-4557-aec9-0aa2ed93699f",
   "metadata": {},
   "outputs": [
    {
     "name": "stdout",
     "output_type": "stream",
     "text": [
      "Media Fraude:\t\t 1.0865757405392775\n",
      "Media Transações reais:  7.034167196664547\n"
     ]
    }
   ],
   "source": [
    "transacoes_reais = transacoes.query('fraude == 0')\n",
    "transacoes_fraude = transacoes.query('fraude == 1')\n",
    "\n",
    "print('Media Fraude:\\t\\t',transacoes_reais['media_id'].mean())\n",
    "print('Media Transações reais: ',transacoes_fraude['media_id'].mean())"
   ]
  },
  {
   "cell_type": "markdown",
   "id": "79dd18c0-6936-4b64-91f8-61c27b544059",
   "metadata": {},
   "source": [
    "Isso pode ser visualizado mais facilmente com dois histogramas:"
   ]
  },
  {
   "cell_type": "code",
   "execution_count": 39,
   "id": "95570c16-e6e8-4334-973e-8b1d2cc20c6c",
   "metadata": {},
   "outputs": [
    {
     "data": {
      "image/png": "[encoded data removed]",
      "text/plain": [
       "<Figure size 1080x432 with 2 Axes>"
      ]
     },
     "metadata": {
      "needs_background": "light"
     },
     "output_type": "display_data"
    }
   ],
   "source": [
    "plt.figure(figsize=(15,6))\n",
    "plt.subplot(121)\n",
    "plt.title('Fraudes', fontsize=20, pad=20)\n",
    "ax = sns.histplot(data = transacoes_fraude, x='media_id', kde=True, stat='probability')\n",
    "ax.set_xlabel('Média ID', fontsize=18)\n",
    "ax.set_ylabel('Probabilidade')\n",
    "\n",
    "plt.subplot(122)\n",
    "plt.title('Transações Reais', fontsize=20, pad=20)\n",
    "ax = sns.histplot(data = transacoes_reais, x='media_id', kde=True, stat='probability')\n",
    "ax.set_xlabel('Média ID', fontsize=18)\n",
    "ax.set_ylabel('Probabilidade')\n",
    "\n",
    "\n",
    "plt.show()"
   ]
  },
  {
   "cell_type": "markdown",
   "id": "4b25fd75-bbd3-4000-8b54-d5c720c5c1a2",
   "metadata": {},
   "source": [
    "> Note que a diferença entre as distribuições é bem diferente. Aliás, a distribuição da média dos ID em casos de fraude é nitidamente bimodal. Não tem muito o que se possa fazer a respeito disso a não ser normalizar esta variável."
   ]
  },
  {
   "cell_type": "markdown",
   "id": "bf6ddd2c-489b-4a16-8391-9fe1ebe1fb10",
   "metadata": {},
   "source": [
    "### Analise do `tempo`"
   ]
  },
  {
   "cell_type": "markdown",
   "id": "659f0208-9b76-48c0-bc89-2894c957815b",
   "metadata": {},
   "source": [
    "O que podemos fazer também é analisar o tempo que é a diferença entre o momento de compra e o momento de cadastro"
   ]
  },
  {
   "cell_type": "code",
   "execution_count": 40,
   "id": "8a14f80a-c64d-4c85-a84f-6667431cea8b",
   "metadata": {},
   "outputs": [
    {
     "data": {
      "image/png": "[encoded data removed]",
      "text/plain": [
       "<Figure size 720x432 with 1 Axes>"
      ]
     },
     "metadata": {
      "needs_background": "light"
     },
     "output_type": "display_data"
    }
   ],
   "source": [
    "plt.figure(figsize=(10,6))\n",
    "plt.title('Tempo de compra desde a inscrição', fontsize=20, pad=20 )\n",
    "ax = sns.histplot(data = transacoes, x='tempo', stat='density', kde=True, color='orange', alpha=0.9)\n",
    "ax.set_ylabel('Densidade Probabilidade')\n",
    "ax.set_xlabel(r'$\\Delta t$')\n",
    "\n",
    "ax;"
   ]
  },
  {
   "cell_type": "markdown",
   "id": "ced32bd2-a114-4a6d-8363-5ea68b80e4e1",
   "metadata": {},
   "source": [
    "> Note que o tempo é igualmente distribuido ao longo do tempo, pode-se dizer até que o tempo é uma variável aleatória pois é igualmente provavel para qualquer transação descartando-se as transações onde houve fraude."
   ]
  },
  {
   "cell_type": "markdown",
   "id": "ef6e9dc7-9c31-4139-8957-63efd276950d",
   "metadata": {},
   "source": [
    "### Transformando a variável tempo"
   ]
  },
  {
   "cell_type": "markdown",
   "id": "c8f70e70-112e-42d2-b0d4-609473270fa4",
   "metadata": {},
   "source": [
    "Dado que temos uma variável alteatória, isto é distribuida uniformamente, queremos transforma-la em uma distribuição normal de probabilidades. Como fazer isso? \n",
    "\n",
    "Bom, existem várias transformações aplicada a variáveis para transformalas em distribuições normais, a mais comum é a: \n",
    "\n",
    "$$X = \\sqrt{2} \\text{erf}^{-1} (2\\Phi -1),$$\n",
    "\n",
    "onde $X$ é a variável aleatória que desejamos tal que $X \\sim N(\\mu, \\sigma^2)$ (se distribui normalmente), $\\text{erf}^{-1}$ a função inversa do erro e $\\Phi$ a variável original que deve estar no intervalo $[0,1]$, no nosso caso $\\Phi$ é o $\\Delta t$. Essa transformação pode ser encontrada nos artigos: \n",
    "\n",
    "> [ROSENBLATT, Murray. Remarks on a multivariate transformation. The annals of mathematical statistics, 1952, 23.3: 470-472.](https://www.jstor.org/stable/2236692?seq=1)\n",
    "\n",
    "> [VAN ALBADA, Sacha Jennifer; ROBINSON, Peter A. Transformation of arbitrary distributions to the normal distribution with application to EEG test–retest reliability. Journal of neuroscience methods, v. 161, n. 2, p. 205-211, 2007.](http://dx.doi.org/10.1016/j.jneumeth.2006.11.004)\n",
    "\n",
    "\n",
    "**Esta etapa não é obrigatória**, entretanto os modelos se tornam mais fáceis, mais rapidos e diminuem o erro, portanto, é sempre bom fazer."
   ]
  },
  {
   "cell_type": "code",
   "execution_count": 41,
   "id": "c8cef081-d39b-4872-8b27-4bc80ecc79ea",
   "metadata": {},
   "outputs": [],
   "source": [
    "def min_max_scale(series):\n",
    "    # 1e-5 é pra dar uma margem de erro ao min_max_scaler\n",
    "    min_series = series.min() - 1e-5\n",
    "    max_series = series.max() + 1e-5\n",
    "    new_series = (series - min_series) / (max_series - min_series)\n",
    "    return new_series\n",
    "\n",
    "\n",
    "def rescale_series(serie): \n",
    "    serie_MinMax_Scaler = min_max_scale(serie)\n",
    "    nova_serie = serie_MinMax_Scaler.apply(lambda phi: np.sqrt(2) * special.erfinv( 2 * phi - 1))\n",
    "    return nova_serie"
   ]
  },
  {
   "cell_type": "markdown",
   "id": "cf9c433b-6d4b-4983-975c-5eb3feced572",
   "metadata": {},
   "source": [
    "Esse processo de deixar a variável $\\Phi$ entre $[0,1]$ através dos valores mínimos e máximos é chamado de *Min Max Scaler* e da para ser feito através do Sci-kit Learn\n",
    "\n",
    "> https://scikit-learn.org/stable/modules/generated/sklearn.preprocessing.MinMaxScaler.html\n",
    "\n",
    "Vamos ao processo de normalização gaussiano e reexibir o histograma:"
   ]
  },
  {
   "cell_type": "code",
   "execution_count": 42,
   "id": "55a09847-b343-47f5-b172-29a9a92be170",
   "metadata": {},
   "outputs": [],
   "source": [
    "transacoes.tempo = rescale_series(transacoes.tempo)"
   ]
  },
  {
   "cell_type": "code",
   "execution_count": 43,
   "id": "93386b73-6f11-49d2-a84c-6bf546664eaf",
   "metadata": {},
   "outputs": [
    {
     "data": {
      "image/png": "[encoded data removed]",
      "text/plain": [
       "<Figure size 720x432 with 1 Axes>"
      ]
     },
     "metadata": {
      "needs_background": "light"
     },
     "output_type": "display_data"
    }
   ],
   "source": [
    "plt.figure(figsize=(10,6))\n",
    "plt.title('Tempo de compra desde a inscrição', fontsize=20, pad=20 )\n",
    "ax = sns.histplot(data = transacoes, x='tempo', stat='density', kde=True, color='orange', alpha=0.9)\n",
    "ax.set_ylabel('Densidade Probabilidade')\n",
    "ax.set_xlabel(r'$\\Delta t$')\n",
    "\n",
    "ax;"
   ]
  },
  {
   "cell_type": "markdown",
   "id": "c55a46b2-7050-41b8-b9f8-586b1142a795",
   "metadata": {},
   "source": [
    "Agora vamos selecionar todas as variáveis que não são `pais` e `fraude`:\n"
   ]
  },
  {
   "cell_type": "code",
   "execution_count": 44,
   "id": "1ef9793f-b6ea-46d8-a1b4-2984bbce643d",
   "metadata": {},
   "outputs": [
    {
     "data": {
      "text/plain": [
       "['tempo', 'media_id']"
      ]
     },
     "execution_count": 44,
     "metadata": {},
     "output_type": "execute_result"
    }
   ],
   "source": [
    "one_hot_encoded = [feature for feature in transacoes.columns if 'pais' not in feature and feature != 'fraude']\n",
    "one_hot_encoded\n"
   ]
  },
  {
   "cell_type": "code",
   "execution_count": 45,
   "id": "07504589-ce9c-4ac7-bcf1-a2bd3c5b05f1",
   "metadata": {},
   "outputs": [],
   "source": [
    "for variavel in one_hot_encoded:\n",
    "    transacoes[variavel] = min_max_scale(transacoes[variavel])\n",
    "    "
   ]
  },
  {
   "cell_type": "markdown",
   "id": "d65a810e-8d56-4d55-b284-16a5d2e5a7a0",
   "metadata": {},
   "source": [
    "Definindo variaveis de interesse:"
   ]
  },
  {
   "cell_type": "code",
   "execution_count": 46,
   "id": "e9b1cda0-d417-47e5-84a7-766144bf480c",
   "metadata": {},
   "outputs": [],
   "source": [
    "x = transacoes[[variavel for variavel in transacoes.columns if variavel != 'fraude']]\n",
    "y = transacoes['fraude']"
   ]
  },
  {
   "cell_type": "code",
   "execution_count": 47,
   "id": "e4e7d448-6a53-4d06-b490-d8bc3b6315bf",
   "metadata": {},
   "outputs": [],
   "source": [
    "x.to_csv('./dados/features.csv', index=False)\n",
    "y.to_csv('./dados/target.csv', index=False)"
   ]
  },
  {
   "cell_type": "markdown",
   "id": "caf88cc6-79d0-4232-9243-8af917f1fda7",
   "metadata": {},
   "source": [
    "# Feature importance \n",
    "\n",
    "Agora vou fazer uma seleção através de um algorítmo de extração de variáveis do Sci-kit Learn chamada `ExtraTressClassifier`\n",
    "\n",
    "```python\n",
    "sklearn.ensemble.ExtraTreesClassifier(n_estimators=100, *, criterion='gini', max_depth=None, min_samples_split=2, min_samples_leaf=1, min_weight_fraction_leaf=0.0, max_features='auto', max_leaf_nodes=None, min_impurity_decrease=0.0, min_impurity_split=None, bootstrap=False, oob_score=False, n_jobs=None, random_state=None, verbose=0, warm_start=False, class_weight=None, ccp_alpha=0.0, max_samples=None)\n",
    "```\n",
    "\n",
    "> An extra-trees classifier. This class implements a meta estimator that fits a number of randomized decision trees (a.k.a. extra-trees) on various sub-samples of the dataset and uses averaging to improve the predictive accuracy and control over-fitting."
   ]
  },
  {
   "cell_type": "code",
   "execution_count": 48,
   "id": "d59a85b0-aca4-4e76-8383-b9c3f273de0b",
   "metadata": {},
   "outputs": [],
   "source": [
    "from sklearn.ensemble import ExtraTreesClassifier"
   ]
  },
  {
   "cell_type": "code",
   "execution_count": 49,
   "id": "16bbbdb3-c05e-4afa-9a42-2dcdbcb37392",
   "metadata": {},
   "outputs": [
    {
     "name": "stdout",
     "output_type": "stream",
     "text": [
      "CPU times: user 1min 17s, sys: 223 ms, total: 1min 17s\n",
      "Wall time: 1min 17s\n"
     ]
    }
   ],
   "source": [
    "%%time\n",
    "\n",
    "# isntancia o estimador\n",
    "extra_trees_classifier = ExtraTreesClassifier()\n",
    "\n",
    "# ajusta o estimador\n",
    "_ = extra_trees_classifier.fit(x,y)\n",
    "\n",
    "resultados_extra_trees_classifier = pd.DataFrame()\n",
    "\n",
    "# Adicionando os resultados num dataframe\n",
    "resultados_extra_trees_classifier['features'] = x.columns\n",
    "resultados_extra_trees_classifier['importancia'] = extra_trees_classifier.feature_importances_\n",
    "\n"
   ]
  },
  {
   "cell_type": "code",
   "execution_count": 50,
   "id": "9597707a-07a3-40e2-b94a-36394a6b0abe",
   "metadata": {},
   "outputs": [
    {
     "data": {
      "text/html": [
       "<div>\n",
       "<style scoped>\n",
       "    .dataframe tbody tr th:only-of-type {\n",
       "        vertical-align: middle;\n",
       "    }\n",
       "\n",
       "    .dataframe tbody tr th {\n",
       "        vertical-align: top;\n",
       "    }\n",
       "\n",
       "    .dataframe thead th {\n",
       "        text-align: right;\n",
       "    }\n",
       "</style>\n",
       "<table border=\"1\" class=\"dataframe\">\n",
       "  <thead>\n",
       "    <tr style=\"text-align: right;\">\n",
       "      <th></th>\n",
       "      <th>features</th>\n",
       "      <th>importancia</th>\n",
       "    </tr>\n",
       "  </thead>\n",
       "  <tbody>\n",
       "    <tr>\n",
       "      <th>0</th>\n",
       "      <td>tempo</td>\n",
       "      <td>0.660819</td>\n",
       "    </tr>\n",
       "    <tr>\n",
       "      <th>1</th>\n",
       "      <td>media_id</td>\n",
       "      <td>0.333621</td>\n",
       "    </tr>\n",
       "  </tbody>\n",
       "</table>\n",
       "</div>"
      ],
      "text/plain": [
       "   features  importancia\n",
       "0     tempo     0.660819\n",
       "1  media_id     0.333621"
      ]
     },
     "execution_count": 50,
     "metadata": {},
     "output_type": "execute_result"
    }
   ],
   "source": [
    "# Aqui será selecionadas as variaveis cuja importancia é acima da média\n",
    "resultados_extra_trees_classifier[\n",
    "    resultados_extra_trees_classifier.importancia > np.mean(resultados_extra_trees_classifier.importancia)\n",
    "].sort_values(by='importancia', ascending=False)"
   ]
  },
  {
   "cell_type": "markdown",
   "id": "031098ce-19cc-4087-937f-95f77b9c4374",
   "metadata": {},
   "source": [
    "Dessa forma podemos concluir que numericamente as features mais importantes sãa `tempo` e `media_id`."
   ]
  },
  {
   "cell_type": "markdown",
   "id": "3367e9b3-0018-4012-9f40-ef5ad37a5b5b",
   "metadata": {},
   "source": [
    "# Métricas de avaliação\n",
    "\n",
    "## Matriz de Confusão\n",
    "\n",
    "Existem 4 métricas importantes de avaliação, *precisão ou valor preditivo positivo, revocação (recall) ou sensibilidade, F1 e acurácia*. Esses conceitos são mais fáceis de entender utilizando uma matriz chamada **matriz de confusão**, ela tem a seguinte forma:\n",
    "\n",
    "$$\\begin{bmatrix}\n",
    "    a_{00} & a_{01} \\\\\n",
    "    a_{10} & a_{11} \\\\\n",
    "\\end{bmatrix} = \n",
    "\\begin{bmatrix}\n",
    "    \\color{blue}{TN} & \\color{darkorange}{FN} \\\\\n",
    "    \\color{darkorange}{FP} & \\color{blue}{TP} \\\\\n",
    "\\end{bmatrix}\n",
    "$$\n",
    "\n",
    "Quando falamos de precisão e revocação existem alguns termos que precisam ser definidos:\n",
    "\n",
    "> **Verdadeiro Negativo** ($\\color{blue}{TN}$): Predição correta, dado que o valor verdadeiro é negativo. (elemento $a_{00}$)\n",
    "\n",
    "> **Verdadeiro Positivo** ($\\color{blue}{TP}$): Predição correta, dado que o valor verdadeiro é positivo. (elemento $a_{11}$)\n",
    "\n",
    "> **Falso positivo** ($\\color{darkorange}{FP}$): Predição errada, dado o valor verdadeiro que é positivo. (elemento $a_{10}$)\n",
    "\n",
    "> **Falso Negativo** ($\\color{darkorange}{FN}$): Predição errada, dado o valor verdadeiro que é negativo. (elemento $a_{01}$)\n",
    "\n",
    "A métrica mais conhecida é a acurrácia, **indica dentre todas amostras quantas o modelo fez uma predição correta**, pode ser calculada através da expreção: \n",
    "\n",
    "$$\\text{Acurácia } = \\frac{\\color{blue}{\\text{Verdadeiro Positivo} + \\text{Verdadeiro Negativo}}}{\\color{blue}{\\text{Verdadeiro Positivo}} +\\color{darkorange}{\\text{Falso Positivo}} + \\color{blue}{\\text{Verdadeiro Negativo}} +\\color{darkorange}{\\text{Falso Negativo}}},$$\n",
    "\n",
    "não se preocupe em decorar a formula, o ponto chave é entender de forma ampla o quanto o modelo se saiu bem, pois geralmente quando a acurácia de um modelo já esta ruim é um forte indicador de que as outras métricas estão falhando.\n",
    "\n",
    "A **precisão é um indicador da capacidade do modelo acertar, ou seja, de não rotular um como positivo algo que é negativo** e para calcular a precisão usamos a relação:\n",
    "\n",
    "$$\\text{Precisão} = \\frac{\\color{blue}{\\text{Verdadeiro Positivo}}}{\\color{blue}{\\text{Verdadeiro Positivo}}+\\color{darkorange}{\\text{Falso Positivo}}}$$\n",
    "\n",
    "**Ja o Recall ou sensiblidade é um indicador da capacidade do modelo não rotular como falso algo que é positivo** e pode ser calculado através da relação:\n",
    "\n",
    "$$\\text{Sensiblidade} = \\frac{\\color{blue}{\\text{Verdadeiro Positivo}}}{\\color{blue}{\\text{Verdadeiro Positivo}}+\\color{darkorange}{\\text{Falso Negativo}}}$$\n",
    "\n",
    "\n",
    "**A métrica chamada de $F1$-Score é uma média harmônica entre a precisão e a sensbilidade do modelo**. A vantagem dela é que consegue ponderar quando as duas métricas estão boas e tende a ser deslocada pra baixo quando a precisão ou a sensiblidade estão ruins. Pode ser calculada através da expressão:\n",
    "\n",
    "$$\\text{F1-Score} = 2\\Big(\\frac{\\text{Precisão }\\times\\text{ Sensiblidade}}{\\text{ Precisão } + \\text{ Sensiblidade}}\\Big)$$\n",
    "\n",
    "## Curva ROC e área AUC\n",
    "\n",
    "A curva ROC (*Receiver operating characteristic*) ou curva característica é representação da razão TPR(True Positive Rate) em função da razão TNR (True Negative Rate), para vários valores do limiar de classificação. As expressões são:\n",
    "\n",
    "$$ TPR = \\frac{TP}{TP+FN} $$\n",
    "\n",
    "$$TNR = \\frac{TN}{TN+FP}$$\n",
    " \n",
    "O TPR é também conhecido como sensibilidade (ou taxa de verdadeiros positivos), e TNR a especificidade ou taxa de falsos positivos.\n",
    "\n",
    "Como foi dito ROC é uma curva, e geralmente não é intuitivo trabalhar com linhas, então surje a área sob uma curva chadama de AUC (*Area Under Curve*) que é um valor escalar e mede o desempenho geral de um classificador binário segundo [Hanley e McNeil (1982)](https://doi.org/10.1148/radiology.143.1.7063747).\n",
    "\n",
    "**O valor de AUC está dentro do intervalo $[0.5,1.0]$, onde o valor mínimo representa o desempenho de um classificador aleatório e o valor máximo corresponderia a um classificador perfeito (por exemplo, com uma taxa de erro de classificação equivalente a zero).**\n",
    "\n",
    "O AUC é uma medida geral bem robusta para avaliar o desempenho dos classificadores de pontuação porque seu cálculo se baseia na curva ROC completa e, portanto, envolve todos os limites de classificação possíveis. A AUC é normalmente calculada adicionando áreas trapezoidais sucessivas abaixo da curva ROC. A abaixo mostra as curvas ROC para dois classificadores de pontuação A e B. Neste exemplo, o classificador A tem um valor de AUC maior do que o classificador B, justamente porque a curva se aproxima do eixo *True Positive Rate* logo ela  tem uma sensibilidade maior das quantidades de falsos positivos e falsos negativos:\n",
    "\n",
    "<img src='https://media.springernature.com/lw785/springer-static/image/prt%3A978-1-4419-9863-7%2F1/MediaObjects/978-1-4419-9863-7_1_Part_Fig1-209_HTML.gif'>\n",
    "\n",
    "> Referência da imagem: https://link.springer.com/referenceworkentry/10.1007%2F978-1-4419-9863-7_209\n",
    "\n",
    "Ou seja, **a métrica AUC seŕa o nosso indicador de qualidade e quanto maior o AUC mais capaz de identificar os falsos positivos e falsos negativos o modelo será**. A métrica ROC é equivalente a aplicar o teste não paramétrico de Mann-Whitney-U às probabilidades de classificar os eventos que realmente ocorreram com aqueles que não ocorreram, como demonstram os pesquisadores S. J. Mason e N. E. Graham em [*Areas beneath the relative operating characteristics (ROC) and relative operating levels (ROL) curves: Statistical significance and interpretation*](https://doi.org/10.1256/003590002320603584)\n",
    "\n",
    "\n",
    "## Forma de obter as métricas e gráficos \n",
    "\n",
    "\n",
    "O módulo `SKlearn` tem uma função que executa uma rotina para o cálculo a curva ROC e consequentemente o cálculo da área AUC e também tem uma função chamada [classification_report()](https://scikit-learn.org/stable/modules/generated/sklearn.metrics.classification_report.html?highlight=classification_report#sklearn.metrics.classification_report) que retornar a precisão e a revocação, além de algumas informações extras como [F1-score](https://en.wikipedia.org/wiki/F-score). \n",
    "\n",
    "Caso você esteja interessado em alguma métrica específica pode consultar o módulo metrics do Sci-kit Learn:\n",
    "\n",
    "> `sklearn.metrics`: https://scikit-learn.org/stable/modules/classes.html#module-sklearn.metrics"
   ]
  },
  {
   "cell_type": "markdown",
   "id": "41dbc5f3-4230-400e-b1c3-0e456ec18f30",
   "metadata": {},
   "source": [
    "# Algortímos de detecção de anomalias\n",
    "\n",
    "Existem duas formas de abordar a **detecção de anomalias**, a primeira é a forma supervisionada e a segunda é a não supervisionada. Mas antes de usar o algorítmo vou importar alguns módulos importantesm. O `RobustScaler` que faz uma seleção robusta de amostras descartando alguns outliers, `train_test_split` para fazer a seleção entre dados de treino e teste, `GridSearchCV` é uma tecnica de variar hiperparâmetros de um modelo através de uma grade com o objetivo de encontrar o modelo mais ajustado ao problema. As métricas de avaliação são `classification_report` que indica precisão, revocação e f1-score, `roc_auc_score` e a `roc_curve` metricas já explicadas anteriormente.\n"
   ]
  },
  {
   "cell_type": "code",
   "execution_count": 51,
   "id": "bb8af158-ebcb-47f6-92a4-597dceed5145",
   "metadata": {},
   "outputs": [],
   "source": [
    "from sklearn.preprocessing import RobustScaler\n",
    "from sklearn.model_selection import train_test_split\n",
    "from sklearn.model_selection import GridSearchCV\n",
    "from sklearn.metrics import classification_report, roc_auc_score, roc_curve \n",
    "from sklearn.metrics import f1_score"
   ]
  },
  {
   "cell_type": "markdown",
   "id": "7a826c1f-5cb1-470a-bba5-0a25a9a55eb7",
   "metadata": {},
   "source": [
    "## Definindo semente aleatória\n",
    "```python\n",
    ">>> np.random.randint(0, 2**32)\n",
    "613844336\n",
    "```"
   ]
  },
  {
   "cell_type": "code",
   "execution_count": 52,
   "id": "3d40cee8-5ef4-4948-816c-b2a02d378835",
   "metadata": {},
   "outputs": [],
   "source": [
    "semente = 613844336"
   ]
  },
  {
   "cell_type": "markdown",
   "id": "e2596f5c-2b1c-48fb-a013-43d630e4ec81",
   "metadata": {},
   "source": [
    "## Dividindo dados em treito e teste"
   ]
  },
  {
   "cell_type": "code",
   "execution_count": 53,
   "id": "14a9d477-8484-4b03-841b-95b3865cd730",
   "metadata": {},
   "outputs": [],
   "source": [
    "x_treino, x_teste, y_treino, y_teste = train_test_split(x, y, train_size = 0.75, random_state = semente)"
   ]
  },
  {
   "cell_type": "markdown",
   "id": "edb1f1c7-d68f-43fe-a609-18a4b6dbee12",
   "metadata": {},
   "source": [
    "## Algorítmo supervisionado\n",
    "\n",
    "O algorítmo supervisionado é o `IsolationForest`, ele basicamente vai criar um conjunto de 100 estimadores onde irá isolar algumas observações e selecionaraá aleatoriamente uma variável e, em seguida, selecionar aleatoriamente um valor de divisão entre os valores máximo e mínimo da variável selecionado. Este algorítmo retorna $1$ quando a operação é considerada normal e $-1$ quando é considerada anômala, então precisamos transformar nossos targets onde $0$ é uma transação normal e $1$ uma transação fraudulenta.\n",
    "\n",
    "\n"
   ]
  },
  {
   "cell_type": "code",
   "execution_count": 54,
   "id": "84490235-4be9-490d-87c0-53c4519fdfd3",
   "metadata": {},
   "outputs": [
    {
     "name": "stdout",
     "output_type": "stream",
     "text": [
      "Antes da mudança de target:  [0 1]\n",
      "Depois da mudança de target:  [ 1 -1]\n"
     ]
    }
   ],
   "source": [
    "print('Antes da mudança de target: ',y_treino.unique())\n",
    "y_treino = y_treino.apply(lambda x: 1 if x == 0 else -1)\n",
    "print('Depois da mudança de target: ',y_treino.unique())"
   ]
  },
  {
   "cell_type": "code",
   "execution_count": 55,
   "id": "0ca3c3bc-79b2-4967-aff4-2520541fd257",
   "metadata": {},
   "outputs": [
    {
     "name": "stdout",
     "output_type": "stream",
     "text": [
      "Antes da mudança de target:  [1 0]\n",
      "Depois da mudança de target:  [-1  1]\n"
     ]
    }
   ],
   "source": [
    "print('Antes da mudança de target: ',y_teste.unique())\n",
    "y_teste = y_teste.apply(lambda x: 1 if x == 0 else -1)\n",
    "print('Depois da mudança de target: ',y_teste.unique())"
   ]
  },
  {
   "cell_type": "markdown",
   "id": "6fd334e1-18da-4ed4-b66e-3a3785d38fd3",
   "metadata": {},
   "source": [
    "Agora vamos instanciar o modelo "
   ]
  },
  {
   "cell_type": "code",
   "execution_count": 56,
   "id": "2b25c6c6-1b2a-47d3-805d-bc46915fb0cf",
   "metadata": {},
   "outputs": [],
   "source": [
    "from sklearn.ensemble import IsolationForest"
   ]
  },
  {
   "cell_type": "code",
   "execution_count": 57,
   "id": "28b7e2c9-61cd-4736-88a7-5f66d999fe2a",
   "metadata": {},
   "outputs": [],
   "source": [
    "isolation_forest = IsolationForest(max_samples='auto', contamination= 0.095, random_state = semente)"
   ]
  },
  {
   "cell_type": "markdown",
   "id": "1cdad882-6c6e-4a4b-921c-4592cba3bb5b",
   "metadata": {},
   "source": [
    "Como eu já disse anteriormente será definido uma grade de hiperparâmetros para ser fornecida ao `GridSearchCV`:"
   ]
  },
  {
   "cell_type": "code",
   "execution_count": 58,
   "id": "0ec2daca-f527-4168-8fd3-a9080d4ae9d9",
   "metadata": {},
   "outputs": [],
   "source": [
    "params_grid = {\n",
    "    'n_estimators' : [100, 150, 200, 250, 300, 350, 400, 450, 500]\n",
    "}"
   ]
  },
  {
   "cell_type": "markdown",
   "id": "98e53172-3e03-4e87-865a-8cc9e0127400",
   "metadata": {},
   "source": [
    "Agora vamos utilizar o GridSearchCV efetivamente:"
   ]
  },
  {
   "cell_type": "code",
   "execution_count": 59,
   "id": "12fc64ce-822d-4a4d-b3dd-451326acdf6e",
   "metadata": {},
   "outputs": [],
   "source": [
    "classificador = GridSearchCV(isolation_forest, param_grid = params_grid,\n",
    "                             cv = 5, n_jobs = 10, scoring='f1', verbose=10)"
   ]
  },
  {
   "cell_type": "markdown",
   "id": "44065c31-625b-47d9-a718-bf5e08896f96",
   "metadata": {},
   "source": [
    "Agora vamos ajustar o modelo aos dados de treino e teste, **esse processo pode demorar**:"
   ]
  },
  {
   "cell_type": "code",
   "execution_count": null,
   "id": "3d2d7f25-6e42-4611-8952-9e56c0293ca3",
   "metadata": {},
   "outputs": [
    {
     "name": "stdout",
     "output_type": "stream",
     "text": [
      "Fitting 5 folds for each of 9 candidates, totalling 45 fits\n"
     ]
    }
   ],
   "source": [
    "%%time\n",
    "_ = classificador.fit(x_treino, y_treino)"
   ]
  },
  {
   "cell_type": "code",
   "execution_count": null,
   "id": "514d234c-e3a6-4b66-9d39-037e3b0a67d9",
   "metadata": {},
   "outputs": [],
   "source": []
  }
 ],
 "metadata": {
  "kernelspec": {
   "display_name": "Python 3",
   "language": "python",
   "name": "python3"
  },
  "language_info": {
   "codemirror_mode": {
    "name": "ipython",
    "version": 3
   },
   "file_extension": ".py",
   "mimetype": "text/x-python",
   "name": "python",
   "nbconvert_exporter": "python",
   "pygments_lexer": "ipython3",
   "version": "3.7.9"
  },
  "toc-autonumbering": true
 },
 "nbformat": 4,
 "nbformat_minor": 5
}
