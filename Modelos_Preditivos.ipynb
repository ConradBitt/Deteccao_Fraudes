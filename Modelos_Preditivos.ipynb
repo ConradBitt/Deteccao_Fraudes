{
 "cells": [
  {
   "cell_type": "markdown",
   "id": "e3591340-e159-4559-af5c-4cd1d5bad9ad",
   "metadata": {},
   "source": [
    "# Introdução do problema\n",
    "\n",
    "Neste notebook o objetivo é identificar alguns casos de fraude em uma loja de um comércio eletronico. É importante ressaltar que vou utilizar alguns algorítmos supervisionados e outros não-supervisionados buscando identificar a maior quantidade de fraudes possível. Porém já adianto, **nenhum algorítmo é capaz de produzir identificações 100% corretas**. Além disso, existem outras tecnicas que podem ser utilizadas na tentativa de resolver o mesmo problema.\n",
    "\n",
    "**Aqui irei trabalhar com um conjunto de dados reais para tentar detectar fraudes**. A primeira etapa vai consistir em produzir hipóteses pra solução do problema através de análise exploratória dos dados, quantidativos e qualitativos, precedidos de uma limpeza caso necessário. Em seguida vou tentar propor um modelo  de previsão com base em dois algorítmos com técnicas já citadas. Por fim, gerar uma conclusão desse relatório e sugerir possíveis propostas de alterações ou apenas recomendações de novos relatórios ou implementação de ferramentas."
   ]
  },
  {
   "cell_type": "markdown",
   "id": "2421b9cd-f99d-446a-9bec-b56c5c28ad74",
   "metadata": {},
   "source": [
    "# Importações \n"
   ]
  },
  {
   "cell_type": "code",
   "execution_count": 1,
   "id": "eb021068-1810-4e61-b954-4ab463f21616",
   "metadata": {},
   "outputs": [],
   "source": [
    "import numpy as np \n",
    "import pandas as pd \n",
    "import seaborn as sns \n",
    "import matplotlib as mpl\n",
    "import scipy \n",
    "import itertools\n",
    "import datetime\n",
    "\n",
    "\n",
    "from matplotlib import pyplot as plt\n",
    "from scipy import special\n",
    "from datetime import timedelta"
   ]
  },
  {
   "cell_type": "code",
   "execution_count": 2,
   "id": "183fdb43-d545-425d-ac31-7b225bd006a8",
   "metadata": {},
   "outputs": [
    {
     "name": "stdout",
     "output_type": "stream",
     "text": [
      "~~ Versão Python ~~\n",
      "Python 3.7.9\n",
      "\n",
      "\n",
      "~~ Versões Módulos ~~\n",
      "numpy: 1.20.1\n",
      "pandas: 1.2.4\n",
      "seaborn: 0.11.1\n",
      "matplotlib: 3.3.4\n",
      "scipy: 1.6.2\n"
     ]
    }
   ],
   "source": [
    "print('~~ Versão Python ~~')\n",
    "!python --version\n",
    "\n",
    "print('\\n\\n~~ Versões Módulos ~~')\n",
    "\n",
    "print(f'numpy: {np.__version__}')\n",
    "print(f'pandas: {pd.__version__}')\n",
    "print(f'seaborn: {sns.__version__}')\n",
    "print(f'matplotlib: {mpl.__version__}')\n",
    "print(f'scipy: {scipy.__version__}')"
   ]
  },
  {
   "cell_type": "markdown",
   "id": "2016a577-5bce-4bf9-86a2-4e1ecd150eb3",
   "metadata": {},
   "source": [
    "# Importando os dados\n",
    "\n",
    "Aqui vamos importar os dados das transações, é um arquivo CSV e basicamente são dois conjuntos de dados. Um banco de dados contém todas as informações com transações e a flag se foi ou não fraude e outro banco de dados com endereçamento de IP e o alcance de cada um presente em cada país."
   ]
  },
  {
   "cell_type": "code",
   "execution_count": null,
   "id": "27bb9aa2-396b-4aab-98cb-8cf586444d3f",
   "metadata": {},
   "outputs": [],
   "source": [
    "fraude = pd.Dat"
   ]
  }
 ],
 "metadata": {
  "kernelspec": {
   "display_name": "Python 3",
   "language": "python",
   "name": "python3"
  },
  "language_info": {
   "codemirror_mode": {
    "name": "ipython",
    "version": 3
   },
   "file_extension": ".py",
   "mimetype": "text/x-python",
   "name": "python",
   "nbconvert_exporter": "python",
   "pygments_lexer": "ipython3",
   "version": "3.7.9"
  }
 },
 "nbformat": 4,
 "nbformat_minor": 5
}
