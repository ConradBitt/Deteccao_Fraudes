{
 "cells": [
  {
   "cell_type": "markdown",
   "id": "e3591340-e159-4559-af5c-4cd1d5bad9ad",
   "metadata": {},
   "source": [
    "# Introdução do problema\n",
    "\n",
    "Neste notebook o objetivo é identificar alguns casos de fraude em uma loja de um comércio eletronico. É importante ressaltar que vou utilizar alguns algorítmos supervisionados e outros não-supervisionados buscando identificar a maior quantidade de fraudes possível. Porém já adianto, **nenhum algorítmo é capaz de produzir identificações 100% corretas**. Além disso, existem outras tecnicas que podem ser utilizadas na tentativa de resolver o mesmo problema.\n",
    "\n",
    "**Aqui irei trabalhar com um conjunto de dados reais para tentar detectar fraudes**. A primeira etapa vai consistir em produzir hipóteses pra solução do problema através de análise exploratória dos dados, quantidativos e qualitativos, precedidos de uma limpeza caso necessário. Em seguida vou tentar propor um modelo  de previsão com base em dois algorítmos com técnicas já citadas. Por fim, gerar uma conclusão desse relatório e sugerir possíveis propostas de alterações ou apenas recomendações de novos relatórios ou implementação de ferramentas."
   ]
  },
  {
   "cell_type": "markdown",
   "id": "2421b9cd-f99d-446a-9bec-b56c5c28ad74",
   "metadata": {},
   "source": [
    "# Importações \n"
   ]
  },
  {
   "cell_type": "code",
   "execution_count": 1,
   "id": "eb021068-1810-4e61-b954-4ab463f21616",
   "metadata": {},
   "outputs": [],
   "source": [
    "import numpy as np \n",
    "import pandas as pd \n",
    "import seaborn as sns \n",
    "import matplotlib as mpl\n",
    "import scipy \n",
    "import itertools\n",
    "import datetime\n",
    "\n",
    "\n",
    "from matplotlib import pyplot as plt\n",
    "from scipy import special\n",
    "from datetime import timedelta"
   ]
  },
  {
   "cell_type": "code",
   "execution_count": 2,
   "id": "183fdb43-d545-425d-ac31-7b225bd006a8",
   "metadata": {},
   "outputs": [
    {
     "name": "stdout",
     "output_type": "stream",
     "text": [
      "~~ Versão Python ~~\n",
      "Python 3.7.9\n",
      "\n",
      "\n",
      "~~ Versões Módulos ~~\n",
      "numpy: 1.20.1\n",
      "pandas: 1.2.4\n",
      "seaborn: 0.11.1\n",
      "matplotlib: 3.3.4\n",
      "scipy: 1.6.2\n"
     ]
    }
   ],
   "source": [
    "print('~~ Versão Python ~~')\n",
    "!python --version\n",
    "\n",
    "print('\\n\\n~~ Versões Módulos ~~')\n",
    "\n",
    "print(f'numpy: {np.__version__}')\n",
    "print(f'pandas: {pd.__version__}')\n",
    "print(f'seaborn: {sns.__version__}')\n",
    "print(f'matplotlib: {mpl.__version__}')\n",
    "print(f'scipy: {scipy.__version__}')"
   ]
  },
  {
   "cell_type": "markdown",
   "id": "2016a577-5bce-4bf9-86a2-4e1ecd150eb3",
   "metadata": {},
   "source": [
    "# Importando os dados\n",
    "\n",
    "Aqui vamos importar os dados das transações, é um arquivo CSV e basicamente são dois conjuntos de dados. Um banco de dados contém todas as informações com transações e a flag se foi ou não fraude e outro banco de dados com endereçamento de IP e o alcance de cada um presente em cada país."
   ]
  },
  {
   "cell_type": "code",
   "execution_count": 8,
   "id": "27bb9aa2-396b-4aab-98cb-8cf586444d3f",
   "metadata": {},
   "outputs": [],
   "source": [
    "transacoes = pd.read_csv('./dados/Fraud_Data.csv', header = 0)\n",
    "enderecos_ip = pd.read_csv('./dados/IpAddress_to_Country.csv', header = 0)"
   ]
  },
  {
   "cell_type": "markdown",
   "id": "784b07ff-6a45-4bab-aaf9-d0dab0e5d0c1",
   "metadata": {},
   "source": [
    "## Exibindo informações"
   ]
  },
  {
   "cell_type": "code",
   "execution_count": 10,
   "id": "cd94b450-1fbd-46be-9bf4-259958ed9caf",
   "metadata": {},
   "outputs": [
    {
     "data": {
      "text/html": [
       "<div>\n",
       "<style scoped>\n",
       "    .dataframe tbody tr th:only-of-type {\n",
       "        vertical-align: middle;\n",
       "    }\n",
       "\n",
       "    .dataframe tbody tr th {\n",
       "        vertical-align: top;\n",
       "    }\n",
       "\n",
       "    .dataframe thead th {\n",
       "        text-align: right;\n",
       "    }\n",
       "</style>\n",
       "<table border=\"1\" class=\"dataframe\">\n",
       "  <thead>\n",
       "    <tr style=\"text-align: right;\">\n",
       "      <th></th>\n",
       "      <th>id</th>\n",
       "      <th>cadastro</th>\n",
       "      <th>compra</th>\n",
       "      <th>valor</th>\n",
       "      <th>id_dispositivo</th>\n",
       "      <th>fonte</th>\n",
       "      <th>browser</th>\n",
       "      <th>genero</th>\n",
       "      <th>idade</th>\n",
       "      <th>ip</th>\n",
       "      <th>fraude</th>\n",
       "    </tr>\n",
       "  </thead>\n",
       "  <tbody>\n",
       "    <tr>\n",
       "      <th>0</th>\n",
       "      <td>22058</td>\n",
       "      <td>2015-02-24 22:55:49</td>\n",
       "      <td>2015-04-18 02:47:11</td>\n",
       "      <td>34</td>\n",
       "      <td>QVPSPJUOCKZAR</td>\n",
       "      <td>SEO</td>\n",
       "      <td>Chrome</td>\n",
       "      <td>M</td>\n",
       "      <td>39</td>\n",
       "      <td>7.327584e+08</td>\n",
       "      <td>0</td>\n",
       "    </tr>\n",
       "    <tr>\n",
       "      <th>1</th>\n",
       "      <td>333320</td>\n",
       "      <td>2015-06-07 20:39:50</td>\n",
       "      <td>2015-06-08 01:38:54</td>\n",
       "      <td>16</td>\n",
       "      <td>EOGFQPIZPYXFZ</td>\n",
       "      <td>Ads</td>\n",
       "      <td>Chrome</td>\n",
       "      <td>F</td>\n",
       "      <td>53</td>\n",
       "      <td>3.503114e+08</td>\n",
       "      <td>0</td>\n",
       "    </tr>\n",
       "    <tr>\n",
       "      <th>2</th>\n",
       "      <td>1359</td>\n",
       "      <td>2015-01-01 18:52:44</td>\n",
       "      <td>2015-01-01 18:52:45</td>\n",
       "      <td>15</td>\n",
       "      <td>YSSKYOSJHPPLJ</td>\n",
       "      <td>SEO</td>\n",
       "      <td>Opera</td>\n",
       "      <td>M</td>\n",
       "      <td>53</td>\n",
       "      <td>2.621474e+09</td>\n",
       "      <td>1</td>\n",
       "    </tr>\n",
       "    <tr>\n",
       "      <th>3</th>\n",
       "      <td>150084</td>\n",
       "      <td>2015-04-28 21:13:25</td>\n",
       "      <td>2015-05-04 13:54:50</td>\n",
       "      <td>44</td>\n",
       "      <td>ATGTXKYKUDUQN</td>\n",
       "      <td>SEO</td>\n",
       "      <td>Safari</td>\n",
       "      <td>M</td>\n",
       "      <td>41</td>\n",
       "      <td>3.840542e+09</td>\n",
       "      <td>0</td>\n",
       "    </tr>\n",
       "    <tr>\n",
       "      <th>4</th>\n",
       "      <td>221365</td>\n",
       "      <td>2015-07-21 07:09:52</td>\n",
       "      <td>2015-09-09 18:40:53</td>\n",
       "      <td>39</td>\n",
       "      <td>NAUITBZFJKHWW</td>\n",
       "      <td>Ads</td>\n",
       "      <td>Safari</td>\n",
       "      <td>M</td>\n",
       "      <td>45</td>\n",
       "      <td>4.155831e+08</td>\n",
       "      <td>0</td>\n",
       "    </tr>\n",
       "  </tbody>\n",
       "</table>\n",
       "</div>"
      ],
      "text/plain": [
       "       id             cadastro               compra  valor id_dispositivo  \\\n",
       "0   22058  2015-02-24 22:55:49  2015-04-18 02:47:11     34  QVPSPJUOCKZAR   \n",
       "1  333320  2015-06-07 20:39:50  2015-06-08 01:38:54     16  EOGFQPIZPYXFZ   \n",
       "2    1359  2015-01-01 18:52:44  2015-01-01 18:52:45     15  YSSKYOSJHPPLJ   \n",
       "3  150084  2015-04-28 21:13:25  2015-05-04 13:54:50     44  ATGTXKYKUDUQN   \n",
       "4  221365  2015-07-21 07:09:52  2015-09-09 18:40:53     39  NAUITBZFJKHWW   \n",
       "\n",
       "  fonte browser genero  idade            ip  fraude  \n",
       "0   SEO  Chrome      M     39  7.327584e+08       0  \n",
       "1   Ads  Chrome      F     53  3.503114e+08       0  \n",
       "2   SEO   Opera      M     53  2.621474e+09       1  \n",
       "3   SEO  Safari      M     41  3.840542e+09       0  \n",
       "4   Ads  Safari      M     45  4.155831e+08       0  "
      ]
     },
     "metadata": {},
     "output_type": "display_data"
    },
    {
     "name": "stdout",
     "output_type": "stream",
     "text": [
      "<class 'pandas.core.frame.DataFrame'>\n",
      "RangeIndex: 151112 entries, 0 to 151111\n",
      "Data columns (total 11 columns):\n",
      " #   Column          Non-Null Count   Dtype  \n",
      "---  ------          --------------   -----  \n",
      " 0   id              151112 non-null  int64  \n",
      " 1   cadastro        151112 non-null  object \n",
      " 2   compra          151112 non-null  object \n",
      " 3   valor           151112 non-null  int64  \n",
      " 4   id_dispositivo  151112 non-null  object \n",
      " 5   fonte           151112 non-null  object \n",
      " 6   browser         151112 non-null  object \n",
      " 7   genero          151112 non-null  object \n",
      " 8   idade           151112 non-null  int64  \n",
      " 9   ip              151112 non-null  float64\n",
      " 10  fraude          151112 non-null  int64  \n",
      "dtypes: float64(1), int64(4), object(6)\n",
      "memory usage: 12.7+ MB\n"
     ]
    },
    {
     "data": {
      "text/plain": [
       "None"
      ]
     },
     "metadata": {},
     "output_type": "display_data"
    }
   ],
   "source": [
    "display(transacoes.head())\n",
    "display(transacoes.info())"
   ]
  },
  {
   "cell_type": "markdown",
   "id": "63d6148a-aab3-43e0-a02e-b48acccf5d85",
   "metadata": {},
   "source": [
    "Para as informações sobre as transacoes temos um total de 11 variáveis, apenas uma `float`, quatro do tipo `int` e seis do tipo `object` ocupando um espaço de `12.7 MB` totalizando `151112` amostras, onde nenhuma delas é nula."
   ]
  },
  {
   "cell_type": "code",
   "execution_count": 11,
   "id": "c4d61886-0cc5-4d5d-8e39-82b49b13cd90",
   "metadata": {},
   "outputs": [
    {
     "data": {
      "text/html": [
       "<div>\n",
       "<style scoped>\n",
       "    .dataframe tbody tr th:only-of-type {\n",
       "        vertical-align: middle;\n",
       "    }\n",
       "\n",
       "    .dataframe tbody tr th {\n",
       "        vertical-align: top;\n",
       "    }\n",
       "\n",
       "    .dataframe thead th {\n",
       "        text-align: right;\n",
       "    }\n",
       "</style>\n",
       "<table border=\"1\" class=\"dataframe\">\n",
       "  <thead>\n",
       "    <tr style=\"text-align: right;\">\n",
       "      <th></th>\n",
       "      <th>limite_inferior_ip</th>\n",
       "      <th>limite_superior_ip</th>\n",
       "      <th>pais</th>\n",
       "    </tr>\n",
       "  </thead>\n",
       "  <tbody>\n",
       "    <tr>\n",
       "      <th>0</th>\n",
       "      <td>16777216.0</td>\n",
       "      <td>16777471</td>\n",
       "      <td>Australia</td>\n",
       "    </tr>\n",
       "    <tr>\n",
       "      <th>1</th>\n",
       "      <td>16777472.0</td>\n",
       "      <td>16777727</td>\n",
       "      <td>China</td>\n",
       "    </tr>\n",
       "    <tr>\n",
       "      <th>2</th>\n",
       "      <td>16777728.0</td>\n",
       "      <td>16778239</td>\n",
       "      <td>China</td>\n",
       "    </tr>\n",
       "    <tr>\n",
       "      <th>3</th>\n",
       "      <td>16778240.0</td>\n",
       "      <td>16779263</td>\n",
       "      <td>Australia</td>\n",
       "    </tr>\n",
       "    <tr>\n",
       "      <th>4</th>\n",
       "      <td>16779264.0</td>\n",
       "      <td>16781311</td>\n",
       "      <td>China</td>\n",
       "    </tr>\n",
       "  </tbody>\n",
       "</table>\n",
       "</div>"
      ],
      "text/plain": [
       "   limite_inferior_ip  limite_superior_ip       pais\n",
       "0          16777216.0            16777471  Australia\n",
       "1          16777472.0            16777727      China\n",
       "2          16777728.0            16778239      China\n",
       "3          16778240.0            16779263  Australia\n",
       "4          16779264.0            16781311      China"
      ]
     },
     "metadata": {},
     "output_type": "display_data"
    },
    {
     "name": "stdout",
     "output_type": "stream",
     "text": [
      "<class 'pandas.core.frame.DataFrame'>\n",
      "RangeIndex: 138846 entries, 0 to 138845\n",
      "Data columns (total 3 columns):\n",
      " #   Column              Non-Null Count   Dtype  \n",
      "---  ------              --------------   -----  \n",
      " 0   limite_inferior_ip  138846 non-null  float64\n",
      " 1   limite_superior_ip  138846 non-null  int64  \n",
      " 2   pais                138846 non-null  object \n",
      "dtypes: float64(1), int64(1), object(1)\n",
      "memory usage: 3.2+ MB\n"
     ]
    },
    {
     "data": {
      "text/plain": [
       "None"
      ]
     },
     "metadata": {},
     "output_type": "display_data"
    }
   ],
   "source": [
    "display(enderecos_ip.head())\n",
    "display(enderecos_ip.info())"
   ]
  },
  {
   "cell_type": "markdown",
   "id": "09ae66a1-55ed-43f8-8cf2-14ba43a62ab5",
   "metadata": {},
   "source": [
    "Para os dados de endereçamento de IP, temos um total de 138846 amostras, sendo um total de 3 variáveis, do tipo `float`, `int` e `object`, onde também nenhum registro é nulo. **Note que o limite inferior é um número `float` e o superior `int`, o que não faz muito sentido pois o endereço de IP é um numero inteiro.** Precisamos de alguma maneira verificar se o ponto flutuante desses endereços tem signigicado ou se é a mandissa é inteira, isso será feito posteriormente.\n"
   ]
  },
  {
   "cell_type": "markdown",
   "id": "40a49bc2-4eca-43eb-9f01-f2135332f38d",
   "metadata": {},
   "source": [
    "Podemos tirar a prova real através do método `isnull()` que retorna um dataframe booleano para a pergunta e como `False = 0 `e `True = 1` é possível somar e ver quantos valores nulos tem por variável:"
   ]
  },
  {
   "cell_type": "code",
   "execution_count": 14,
   "id": "c0b885f2-9e11-40f9-b58e-62e5c337e75e",
   "metadata": {},
   "outputs": [
    {
     "data": {
      "text/plain": [
       "id                0\n",
       "cadastro          0\n",
       "compra            0\n",
       "valor             0\n",
       "id_dispositivo    0\n",
       "fonte             0\n",
       "browser           0\n",
       "genero            0\n",
       "idade             0\n",
       "ip                0\n",
       "fraude            0\n",
       "dtype: int64"
      ]
     },
     "execution_count": 14,
     "metadata": {},
     "output_type": "execute_result"
    }
   ],
   "source": [
    "transacoes.isnull().sum()"
   ]
  },
  {
   "cell_type": "code",
   "execution_count": 29,
   "id": "a2190434-5590-412b-be20-535cc93dcc43",
   "metadata": {},
   "outputs": [
    {
     "data": {
      "text/plain": [
       "limite_inferior_ip    0\n",
       "limite_superior_ip    0\n",
       "pais                  0\n",
       "dtype: int64"
      ]
     },
     "execution_count": 29,
     "metadata": {},
     "output_type": "execute_result"
    }
   ],
   "source": [
    "enderecos_ip.isnull().sum()"
   ]
  },
  {
   "cell_type": "markdown",
   "id": "41a9ae88-3294-4e73-b20c-c381f8abc227",
   "metadata": {},
   "source": [
    "Note que não tem nenhum valor nulo. "
   ]
  },
  {
   "cell_type": "markdown",
   "id": "bc2ed8af-3812-4b7d-b565-6dc633c3a7a5",
   "metadata": {},
   "source": [
    "## Estatisticas descritivas\n",
    "\n",
    "Aqui temos as estatisticas descritivas dos valores numéricos das transações"
   ]
  },
  {
   "cell_type": "code",
   "execution_count": 22,
   "id": "f641f0f3-63b0-4bc6-973c-8d20387f497e",
   "metadata": {},
   "outputs": [
    {
     "data": {
      "text/html": [
       "<div>\n",
       "<style scoped>\n",
       "    .dataframe tbody tr th:only-of-type {\n",
       "        vertical-align: middle;\n",
       "    }\n",
       "\n",
       "    .dataframe tbody tr th {\n",
       "        vertical-align: top;\n",
       "    }\n",
       "\n",
       "    .dataframe thead th {\n",
       "        text-align: right;\n",
       "    }\n",
       "</style>\n",
       "<table border=\"1\" class=\"dataframe\">\n",
       "  <thead>\n",
       "    <tr style=\"text-align: right;\">\n",
       "      <th></th>\n",
       "      <th>id</th>\n",
       "      <th>valor</th>\n",
       "      <th>idade</th>\n",
       "      <th>ip</th>\n",
       "      <th>fraude</th>\n",
       "    </tr>\n",
       "  </thead>\n",
       "  <tbody>\n",
       "    <tr>\n",
       "      <th>count</th>\n",
       "      <td>151112.000000</td>\n",
       "      <td>151112.000000</td>\n",
       "      <td>151112.000000</td>\n",
       "      <td>1.511120e+05</td>\n",
       "      <td>151112.000000</td>\n",
       "    </tr>\n",
       "    <tr>\n",
       "      <th>mean</th>\n",
       "      <td>200171.040970</td>\n",
       "      <td>36.935372</td>\n",
       "      <td>33.140704</td>\n",
       "      <td>2.152145e+09</td>\n",
       "      <td>0.093646</td>\n",
       "    </tr>\n",
       "    <tr>\n",
       "      <th>std</th>\n",
       "      <td>115369.285024</td>\n",
       "      <td>18.322762</td>\n",
       "      <td>8.617733</td>\n",
       "      <td>1.248497e+09</td>\n",
       "      <td>0.291336</td>\n",
       "    </tr>\n",
       "    <tr>\n",
       "      <th>min</th>\n",
       "      <td>2.000000</td>\n",
       "      <td>9.000000</td>\n",
       "      <td>18.000000</td>\n",
       "      <td>5.209350e+04</td>\n",
       "      <td>0.000000</td>\n",
       "    </tr>\n",
       "    <tr>\n",
       "      <th>25%</th>\n",
       "      <td>100642.500000</td>\n",
       "      <td>22.000000</td>\n",
       "      <td>27.000000</td>\n",
       "      <td>1.085934e+09</td>\n",
       "      <td>0.000000</td>\n",
       "    </tr>\n",
       "    <tr>\n",
       "      <th>50%</th>\n",
       "      <td>199958.000000</td>\n",
       "      <td>35.000000</td>\n",
       "      <td>33.000000</td>\n",
       "      <td>2.154770e+09</td>\n",
       "      <td>0.000000</td>\n",
       "    </tr>\n",
       "    <tr>\n",
       "      <th>75%</th>\n",
       "      <td>300054.000000</td>\n",
       "      <td>49.000000</td>\n",
       "      <td>39.000000</td>\n",
       "      <td>3.243258e+09</td>\n",
       "      <td>0.000000</td>\n",
       "    </tr>\n",
       "    <tr>\n",
       "      <th>max</th>\n",
       "      <td>400000.000000</td>\n",
       "      <td>154.000000</td>\n",
       "      <td>76.000000</td>\n",
       "      <td>4.294850e+09</td>\n",
       "      <td>1.000000</td>\n",
       "    </tr>\n",
       "  </tbody>\n",
       "</table>\n",
       "</div>"
      ],
      "text/plain": [
       "                  id          valor          idade            ip  \\\n",
       "count  151112.000000  151112.000000  151112.000000  1.511120e+05   \n",
       "mean   200171.040970      36.935372      33.140704  2.152145e+09   \n",
       "std    115369.285024      18.322762       8.617733  1.248497e+09   \n",
       "min         2.000000       9.000000      18.000000  5.209350e+04   \n",
       "25%    100642.500000      22.000000      27.000000  1.085934e+09   \n",
       "50%    199958.000000      35.000000      33.000000  2.154770e+09   \n",
       "75%    300054.000000      49.000000      39.000000  3.243258e+09   \n",
       "max    400000.000000     154.000000      76.000000  4.294850e+09   \n",
       "\n",
       "              fraude  \n",
       "count  151112.000000  \n",
       "mean        0.093646  \n",
       "std         0.291336  \n",
       "min         0.000000  \n",
       "25%         0.000000  \n",
       "50%         0.000000  \n",
       "75%         0.000000  \n",
       "max         1.000000  "
      ]
     },
     "execution_count": 22,
     "metadata": {},
     "output_type": "execute_result"
    }
   ],
   "source": [
    "transacoes.describe()"
   ]
  },
  {
   "cell_type": "markdown",
   "id": "3568d25e-60f7-4f06-bf6d-1e4cdcbe9914",
   "metadata": {},
   "source": [
    "Nesta tabela, temos informações sobre média e desvio padrão amostral, e também os intervalos interquartis. Podemos fazer o mesmo pocesso para os endereços de ip:"
   ]
  },
  {
   "cell_type": "code",
   "execution_count": 27,
   "id": "2b190d9c-027a-4a34-88bb-92958049061d",
   "metadata": {},
   "outputs": [
    {
     "data": {
      "text/html": [
       "<div>\n",
       "<style scoped>\n",
       "    .dataframe tbody tr th:only-of-type {\n",
       "        vertical-align: middle;\n",
       "    }\n",
       "\n",
       "    .dataframe tbody tr th {\n",
       "        vertical-align: top;\n",
       "    }\n",
       "\n",
       "    .dataframe thead th {\n",
       "        text-align: right;\n",
       "    }\n",
       "</style>\n",
       "<table border=\"1\" class=\"dataframe\">\n",
       "  <thead>\n",
       "    <tr style=\"text-align: right;\">\n",
       "      <th></th>\n",
       "      <th>limite_inferior_ip</th>\n",
       "      <th>limite_superior_ip</th>\n",
       "    </tr>\n",
       "  </thead>\n",
       "  <tbody>\n",
       "    <tr>\n",
       "      <th>count</th>\n",
       "      <td>1.388460e+05</td>\n",
       "      <td>1.388460e+05</td>\n",
       "    </tr>\n",
       "    <tr>\n",
       "      <th>mean</th>\n",
       "      <td>2.724532e+09</td>\n",
       "      <td>2.724557e+09</td>\n",
       "    </tr>\n",
       "    <tr>\n",
       "      <th>std</th>\n",
       "      <td>8.975215e+08</td>\n",
       "      <td>8.974979e+08</td>\n",
       "    </tr>\n",
       "    <tr>\n",
       "      <th>min</th>\n",
       "      <td>1.677722e+07</td>\n",
       "      <td>1.677747e+07</td>\n",
       "    </tr>\n",
       "    <tr>\n",
       "      <th>25%</th>\n",
       "      <td>1.919930e+09</td>\n",
       "      <td>1.920008e+09</td>\n",
       "    </tr>\n",
       "    <tr>\n",
       "      <th>50%</th>\n",
       "      <td>3.230887e+09</td>\n",
       "      <td>3.230888e+09</td>\n",
       "    </tr>\n",
       "    <tr>\n",
       "      <th>75%</th>\n",
       "      <td>3.350465e+09</td>\n",
       "      <td>3.350466e+09</td>\n",
       "    </tr>\n",
       "    <tr>\n",
       "      <th>max</th>\n",
       "      <td>3.758096e+09</td>\n",
       "      <td>3.758096e+09</td>\n",
       "    </tr>\n",
       "  </tbody>\n",
       "</table>\n",
       "</div>"
      ],
      "text/plain": [
       "       limite_inferior_ip  limite_superior_ip\n",
       "count        1.388460e+05        1.388460e+05\n",
       "mean         2.724532e+09        2.724557e+09\n",
       "std          8.975215e+08        8.974979e+08\n",
       "min          1.677722e+07        1.677747e+07\n",
       "25%          1.919930e+09        1.920008e+09\n",
       "50%          3.230887e+09        3.230888e+09\n",
       "75%          3.350465e+09        3.350466e+09\n",
       "max          3.758096e+09        3.758096e+09"
      ]
     },
     "execution_count": 27,
     "metadata": {},
     "output_type": "execute_result"
    }
   ],
   "source": [
    "enderecos_ip.describe()"
   ]
  },
  {
   "cell_type": "markdown",
   "id": "6423a5a8-92f2-495f-bc48-8fe0a53d506b",
   "metadata": {},
   "source": [
    "## Tratando o endereçamento de ip float"
   ]
  },
  {
   "cell_type": "code",
   "execution_count": 54,
   "id": "557133b8-bab8-47a0-b138-0cbe63425a1c",
   "metadata": {},
   "outputs": [
    {
     "name": "stdout",
     "output_type": "stream",
     "text": [
      "[0.  0.1 0.2 0.3 0.4 0.5 0.6 0.7 0.8 0.9 1. ]\n",
      "False,True,True,True,True,True,True,True,True,True,False,"
     ]
    }
   ],
   "source": [
    "ip_is_float = lambda ip: not ip.is_integer()\n",
    "\n",
    "vetor_teste = np.arange(0,1.1,0.1)\n",
    "\n",
    "print(vetor_teste)\n",
    "for elemento in vetor_teste:\n",
    "    print(ip_is_float(elemento), end=',')"
   ]
  },
  {
   "cell_type": "markdown",
   "id": "0ed71487-eb6b-4897-8c56-a0211256c389",
   "metadata": {},
   "source": [
    "Note que apenas os valores inteiros são considerados `False`, todos os decimais são `True`, então vamos aplicar esta função `ip_is_float` em todos os limites inferiores para verificar se tem algum valor cujo o numero depois da vírgula não é zero:"
   ]
  },
  {
   "cell_type": "code",
   "execution_count": 57,
   "id": "1b85eb39-4284-4e62-9c0f-9b05b9b059df",
   "metadata": {},
   "outputs": [
    {
     "data": {
      "text/plain": [
       "0"
      ]
     },
     "execution_count": 57,
     "metadata": {},
     "output_type": "execute_result"
    }
   ],
   "source": [
    "enderecos_ip.limite_inferior_ip.apply(ip_is_float).sum()"
   ]
  },
  {
   "cell_type": "markdown",
   "id": "eb61d1cb-2cea-4682-8f42-dab1180bd08e",
   "metadata": {},
   "source": [
    "Como podemos ver através da célula acima, nenhum dos valores tem algum numero com mantissa decimal significativa, então podemos transformar toda a linha em inteiro sem perder informação:"
   ]
  },
  {
   "cell_type": "code",
   "execution_count": 60,
   "id": "37734270-4db8-442d-abc3-925325a40326",
   "metadata": {},
   "outputs": [
    {
     "data": {
      "text/plain": [
       "0           16777216\n",
       "1           16777472\n",
       "2           16777728\n",
       "3           16778240\n",
       "4           16779264\n",
       "             ...    \n",
       "138841    3758092288\n",
       "138842    3758093312\n",
       "138843    3758095360\n",
       "138844    3758095872\n",
       "138845    3758096128\n",
       "Name: limite_inferior_ip, Length: 138846, dtype: int64"
      ]
     },
     "execution_count": 60,
     "metadata": {},
     "output_type": "execute_result"
    }
   ],
   "source": [
    "enderecos_ip.limite_inferior_ip = enderecos_ip.limite_inferior_ip.astype(int)\n",
    "enderecos_ip.limite_inferior_ip"
   ]
  },
  {
   "cell_type": "markdown",
   "id": "c52c1f2f-0e78-4c98-9ba9-9a4394e91bc4",
   "metadata": {},
   "source": [
    "> **Observação**: Note que eu converti pra `int` que no fundo é `int64` e não pra `int32`. Caso a conversão seja feita pra `int32` pode acontecer distorções no endereçamento."
   ]
  },
  {
   "cell_type": "code",
   "execution_count": 61,
   "id": "42ec79c6-bd95-4299-a029-aa7d7e5ee7e5",
   "metadata": {},
   "outputs": [
    {
     "data": {
      "text/html": [
       "<div>\n",
       "<style scoped>\n",
       "    .dataframe tbody tr th:only-of-type {\n",
       "        vertical-align: middle;\n",
       "    }\n",
       "\n",
       "    .dataframe tbody tr th {\n",
       "        vertical-align: top;\n",
       "    }\n",
       "\n",
       "    .dataframe thead th {\n",
       "        text-align: right;\n",
       "    }\n",
       "</style>\n",
       "<table border=\"1\" class=\"dataframe\">\n",
       "  <thead>\n",
       "    <tr style=\"text-align: right;\">\n",
       "      <th></th>\n",
       "      <th>limite_inferior_ip</th>\n",
       "      <th>limite_superior_ip</th>\n",
       "    </tr>\n",
       "  </thead>\n",
       "  <tbody>\n",
       "    <tr>\n",
       "      <th>count</th>\n",
       "      <td>1.388460e+05</td>\n",
       "      <td>1.388460e+05</td>\n",
       "    </tr>\n",
       "    <tr>\n",
       "      <th>mean</th>\n",
       "      <td>2.724532e+09</td>\n",
       "      <td>2.724557e+09</td>\n",
       "    </tr>\n",
       "    <tr>\n",
       "      <th>std</th>\n",
       "      <td>8.975215e+08</td>\n",
       "      <td>8.974979e+08</td>\n",
       "    </tr>\n",
       "    <tr>\n",
       "      <th>min</th>\n",
       "      <td>1.677722e+07</td>\n",
       "      <td>1.677747e+07</td>\n",
       "    </tr>\n",
       "    <tr>\n",
       "      <th>25%</th>\n",
       "      <td>1.919930e+09</td>\n",
       "      <td>1.920008e+09</td>\n",
       "    </tr>\n",
       "    <tr>\n",
       "      <th>50%</th>\n",
       "      <td>3.230887e+09</td>\n",
       "      <td>3.230888e+09</td>\n",
       "    </tr>\n",
       "    <tr>\n",
       "      <th>75%</th>\n",
       "      <td>3.350465e+09</td>\n",
       "      <td>3.350466e+09</td>\n",
       "    </tr>\n",
       "    <tr>\n",
       "      <th>max</th>\n",
       "      <td>3.758096e+09</td>\n",
       "      <td>3.758096e+09</td>\n",
       "    </tr>\n",
       "  </tbody>\n",
       "</table>\n",
       "</div>"
      ],
      "text/plain": [
       "       limite_inferior_ip  limite_superior_ip\n",
       "count        1.388460e+05        1.388460e+05\n",
       "mean         2.724532e+09        2.724557e+09\n",
       "std          8.975215e+08        8.974979e+08\n",
       "min          1.677722e+07        1.677747e+07\n",
       "25%          1.919930e+09        1.920008e+09\n",
       "50%          3.230887e+09        3.230888e+09\n",
       "75%          3.350465e+09        3.350466e+09\n",
       "max          3.758096e+09        3.758096e+09"
      ]
     },
     "execution_count": 61,
     "metadata": {},
     "output_type": "execute_result"
    }
   ],
   "source": [
    "enderecos_ip.describe()"
   ]
  },
  {
   "cell_type": "markdown",
   "id": "f7adfdcb-42ed-4877-9fd3-07712ba65596",
   "metadata": {},
   "source": [
    "Percepa ainda que os valores `max` são iguais, é preciso verificar se esse valor é um problema de visualização ou se são iguais mesmo:"
   ]
  },
  {
   "cell_type": "code",
   "execution_count": 63,
   "id": "ab2e435e-1732-4c64-a755-9d46e613d873",
   "metadata": {},
   "outputs": [
    {
     "data": {
      "text/html": [
       "<div>\n",
       "<style scoped>\n",
       "    .dataframe tbody tr th:only-of-type {\n",
       "        vertical-align: middle;\n",
       "    }\n",
       "\n",
       "    .dataframe tbody tr th {\n",
       "        vertical-align: top;\n",
       "    }\n",
       "\n",
       "    .dataframe thead th {\n",
       "        text-align: right;\n",
       "    }\n",
       "</style>\n",
       "<table border=\"1\" class=\"dataframe\">\n",
       "  <thead>\n",
       "    <tr style=\"text-align: right;\">\n",
       "      <th></th>\n",
       "      <th>limite_inferior_ip</th>\n",
       "      <th>limite_superior_ip</th>\n",
       "      <th>pais</th>\n",
       "    </tr>\n",
       "  </thead>\n",
       "  <tbody>\n",
       "    <tr>\n",
       "      <th>138845</th>\n",
       "      <td>3758096128</td>\n",
       "      <td>3758096383</td>\n",
       "      <td>Australia</td>\n",
       "    </tr>\n",
       "  </tbody>\n",
       "</table>\n",
       "</div>"
      ],
      "text/plain": [
       "        limite_inferior_ip  limite_superior_ip       pais\n",
       "138845          3758096128          3758096383  Australia"
      ]
     },
     "metadata": {},
     "output_type": "display_data"
    },
    {
     "data": {
      "text/html": [
       "<div>\n",
       "<style scoped>\n",
       "    .dataframe tbody tr th:only-of-type {\n",
       "        vertical-align: middle;\n",
       "    }\n",
       "\n",
       "    .dataframe tbody tr th {\n",
       "        vertical-align: top;\n",
       "    }\n",
       "\n",
       "    .dataframe thead th {\n",
       "        text-align: right;\n",
       "    }\n",
       "</style>\n",
       "<table border=\"1\" class=\"dataframe\">\n",
       "  <thead>\n",
       "    <tr style=\"text-align: right;\">\n",
       "      <th></th>\n",
       "      <th>limite_inferior_ip</th>\n",
       "      <th>limite_superior_ip</th>\n",
       "      <th>pais</th>\n",
       "    </tr>\n",
       "  </thead>\n",
       "  <tbody>\n",
       "    <tr>\n",
       "      <th>138845</th>\n",
       "      <td>3758096128</td>\n",
       "      <td>3758096383</td>\n",
       "      <td>Australia</td>\n",
       "    </tr>\n",
       "  </tbody>\n",
       "</table>\n",
       "</div>"
      ],
      "text/plain": [
       "        limite_inferior_ip  limite_superior_ip       pais\n",
       "138845          3758096128          3758096383  Australia"
      ]
     },
     "metadata": {},
     "output_type": "display_data"
    }
   ],
   "source": [
    "display(enderecos_ip[enderecos_ip.limite_inferior_ip == enderecos_ip.limite_inferior_ip.max()])\n",
    "display(enderecos_ip[enderecos_ip.limite_superior_ip == enderecos_ip.limite_superior_ip.max()])"
   ]
  },
  {
   "cell_type": "markdown",
   "id": "beb0fd02-95e2-4cb1-9d73-476c9d6ecf90",
   "metadata": {},
   "source": [
    "Perceba que os valores dos limites superiores e inferiores são diferentes, então realmente os valores são diferente e o problema é o tipo de visualização do método `describe()`"
   ]
  },
  {
   "cell_type": "markdown",
   "id": "b7c9b17d-3477-4545-b5fb-9e0ae22d049c",
   "metadata": {},
   "source": [
    "## Cruzando dados de transações com os endereços de IP\n",
    "\n",
    "Analisando as estatisticas descritivas temos uma informação muito importante, note os valores mínimos dos dados de endereçamento de ip e os valores minimos da variável `ip`  na base de dados de transações:"
   ]
  },
  {
   "cell_type": "code",
   "execution_count": 82,
   "id": "5df20c52-329f-42d9-9c2f-eec9e738d397",
   "metadata": {},
   "outputs": [
    {
     "data": {
      "text/plain": [
       "52093.4968949854"
      ]
     },
     "execution_count": 82,
     "metadata": {},
     "output_type": "execute_result"
    }
   ],
   "source": [
    "transacoes.describe().ip.loc['min']"
   ]
  },
  {
   "cell_type": "code",
   "execution_count": 77,
   "id": "a6aeaf83-8448-4f77-99ec-b7a950800b94",
   "metadata": {},
   "outputs": [
    {
     "data": {
      "text/plain": [
       "limite_inferior_ip    16777216.0\n",
       "limite_superior_ip    16777471.0\n",
       "Name: min, dtype: float64"
      ]
     },
     "execution_count": 77,
     "metadata": {},
     "output_type": "execute_result"
    }
   ],
   "source": [
    "enderecos_ip.describe().loc['min']"
   ]
  },
  {
   "cell_type": "markdown",
   "id": "269f3b1e-a6bf-4236-ae98-a28879336213",
   "metadata": {},
   "source": [
    "Note que os valores são diferentes, isso indica que os ip's nos dados de transações não estão nos dados de endereçamento e vice-versa. Logo, este tipo de discrepancia entre as bases de dados pode gerar distorções. Então para ter um ponto em comum vamos associar as duas bases de dados."
   ]
  },
  {
   "cell_type": "code",
   "execution_count": 116,
   "id": "ca0913a8-6afe-4b15-9cab-26a5710c3665",
   "metadata": {},
   "outputs": [],
   "source": [
    "def ip_counts(ip):\n",
    "    '''\n",
    "    Esta função vai receber um ip e verificar se ele é único\n",
    "    se ele pertence a varios países\n",
    "    e caso não faça parte de nenhum verifica o motivo:\n",
    "        Se for maior que o range,\n",
    "        Se for menor que o range\n",
    "        ou se não esta na base de dados.\n",
    "    '''\n",
    "    # seleção de range de ip de um país\n",
    "    selecao = (enderecos_ip.limite_inferior_ip <= ip) & (ip <= enderecos_ip.limite_superior_ip)\n",
    "    pais = enderecos_ip[selecao].pais\n",
    "    \n",
    "    if pais.shape[0] == 1:\n",
    "        return 'Único'\n",
    "    elif pais.shape[0] > 1:\n",
    "        return 'Vários países'\n",
    "    elif pais.shape[0] == 0:\n",
    "        if ip > enderecos_ip.limite_superior_ip.max():\n",
    "            return 'Maior que o range do país'\n",
    "        elif ip < enderecos_ip.limite_inferior_ip.min():\n",
    "            return 'Menor que o range do país'\n",
    "        else:\n",
    "            return 'Não consta na base de dados'"
   ]
  },
  {
   "cell_type": "markdown",
   "id": "5e53164e-de47-49ee-b75f-c6fe8e3237f5",
   "metadata": {},
   "source": [
    "O fato de termos que aplicar esta função em 151 mil amostras pode levar algum tempo, vamos estimar este tempo:"
   ]
  },
  {
   "cell_type": "code",
   "execution_count": 127,
   "id": "939be0ba-fcc1-49b7-a01a-43cd3ed79909",
   "metadata": {},
   "outputs": [
    {
     "name": "stdout",
     "output_type": "stream",
     "text": [
      "CPU times: user 2.67 s, sys: 150 ms, total: 2.82 s\n",
      "Wall time: 2.11 s\n"
     ]
    }
   ],
   "source": [
    "%%time\n",
    "teste_1000 = transacoes[:1000].ip.apply(ip_counts)"
   ]
  },
  {
   "cell_type": "code",
   "execution_count": 129,
   "id": "3c7664c0-e116-4db0-a27c-82ae9d9eacfc",
   "metadata": {},
   "outputs": [
    {
     "name": "stdout",
     "output_type": "stream",
     "text": [
      "Tempo estimado: 7.10 minutos\n"
     ]
    }
   ],
   "source": [
    "tempo_estimado = ((2.82 / 1000) * len(transacoes.ip)) / 60\n",
    "print(f'Tempo estimado: {tempo_estimado:.2f} minutos')"
   ]
  },
  {
   "cell_type": "markdown",
   "id": "aa812f18-5640-4085-8c0f-91b7cc1436d6",
   "metadata": {},
   "source": [
    "Logo para passar por todos esses dados o tempo estimado é em 7 minutos:"
   ]
  },
  {
   "cell_type": "code",
   "execution_count": 117,
   "id": "1b977bb5-3954-4601-9132-46d6ed446b7f",
   "metadata": {},
   "outputs": [
    {
     "name": "stdout",
     "output_type": "stream",
     "text": [
      "CPU times: user 6min 43s, sys: 32.1 s, total: 7min 15s\n",
      "Wall time: 5min 7s\n"
     ]
    },
    {
     "data": {
      "text/plain": [
       "Único                          129146\n",
       "Maior que o range do país       19383\n",
       "Não consta na base de dados      1949\n",
       "Menor que o range do país         634\n",
       "Name: ip, dtype: int64"
      ]
     },
     "execution_count": 117,
     "metadata": {},
     "output_type": "execute_result"
    }
   ],
   "source": [
    "%%time\n",
    "ips_counts = transacoes.ip.apply(ip_counts)\n",
    "ips_counts.value_counts()"
   ]
  },
  {
   "cell_type": "markdown",
   "id": "5749a4e3-4908-4d3e-b87a-dabbeebacc57",
   "metadata": {},
   "source": [
    "Como visto levou 7 minutos e 15 segundos. temos então a quantidade de IP que são unicos, IP maiores que o range do pais ou menores, e também temos a quantidade de IP's que não constam.\n",
    "\n",
    "Agora vamos fazer uma nova função que dado o IP retorna o país:"
   ]
  },
  {
   "cell_type": "code",
   "execution_count": 153,
   "id": "80920cbc-626e-477b-91e5-d7498e9bdba2",
   "metadata": {},
   "outputs": [],
   "source": [
    "def ip_do_pais(ip):\n",
    "    selecao = (enderecos_ip.limite_inferior_ip <= ip) & (ip <= enderecos_ip.limite_superior_ip)\n",
    "    ip_do_pais_selecionado = enderecos_ip[selecao].pais\n",
    "    \n",
    "    if ip_do_pais_selecionado.shape[0] == 1:\n",
    "        return ip_do_pais_selecionado.iloc[0]\n",
    "    elif ip_do_pais_selecionado.shape[0] < 1:\n",
    "        return 'missing_country'\n",
    "    elif ip_do_pais_selecionado.shape[0] > 1:\n",
    "        return 'out_range'"
   ]
  },
  {
   "cell_type": "markdown",
   "id": "53a98bb6-9f9a-40fd-87cc-2b0dda5061aa",
   "metadata": {},
   "source": [
    "Vamos fazer um teste novamente com 1000 amostra para estimar o tempo de retornar o país de cada ip no dataframe de `transações`:"
   ]
  },
  {
   "cell_type": "code",
   "execution_count": 157,
   "id": "48f11533-fa42-4455-ae19-5a8b7141de9d",
   "metadata": {},
   "outputs": [
    {
     "name": "stdout",
     "output_type": "stream",
     "text": [
      "CPU times: user 2.63 s, sys: 252 ms, total: 2.89 s\n",
      "Wall time: 2.05 s\n"
     ]
    },
    {
     "data": {
      "text/plain": [
       "0                                Japan\n",
       "1                        United States\n",
       "2                        United States\n",
       "3                      missing_country\n",
       "4                        United States\n",
       "                    ...               \n",
       "995    Taiwan; Republic of China (ROC)\n",
       "996                    missing_country\n",
       "997                        Netherlands\n",
       "998                    missing_country\n",
       "999    Taiwan; Republic of China (ROC)\n",
       "Name: ip, Length: 1000, dtype: object"
      ]
     },
     "execution_count": 157,
     "metadata": {},
     "output_type": "execute_result"
    }
   ],
   "source": [
    "%%time\n",
    "transacoes[:1000].ip.apply(ip_do_pais)"
   ]
  },
  {
   "cell_type": "code",
   "execution_count": 158,
   "id": "cff56709-3a89-4a94-99d1-1ade86b1dfd0",
   "metadata": {},
   "outputs": [
    {
     "name": "stdout",
     "output_type": "stream",
     "text": [
      "Tempo estimado: 7.28 minutos\n"
     ]
    }
   ],
   "source": [
    "tempo_estimado = ((2.89 / 1000) * len(transacoes.ip)) / 60\n",
    "print(f'Tempo estimado: {tempo_estimado:.2f} minutos')"
   ]
  },
  {
   "cell_type": "markdown",
   "id": "2bb15118-aac3-4532-b56d-c51322e305e0",
   "metadata": {},
   "source": [
    "Bom, então vamos criar uma variável `pais` no dataframe `transacoes` com o país dos ips tratados: "
   ]
  },
  {
   "cell_type": "code",
   "execution_count": 159,
   "id": "2535fdee-82c1-42e8-bd36-6a30a1c201b4",
   "metadata": {},
   "outputs": [
    {
     "name": "stdout",
     "output_type": "stream",
     "text": [
      "CPU times: user 6min 32s, sys: 29.9 s, total: 7min 1s\n",
      "Wall time: 5min 3s\n"
     ]
    }
   ],
   "source": [
    "%%time\n",
    "transacoes['pais'] = transacoes.ip.apply(ip_do_pais)"
   ]
  },
  {
   "cell_type": "markdown",
   "id": "dbd38778-5959-4329-9ff2-a566dc8bf366",
   "metadata": {},
   "source": [
    "Exibindo o dataframe com a nova coluna `pais`:"
   ]
  },
  {
   "cell_type": "code",
   "execution_count": 166,
   "id": "b3e063db-a28b-4956-a4ff-5855b3d106e5",
   "metadata": {},
   "outputs": [
    {
     "data": {
      "text/html": [
       "<div>\n",
       "<style scoped>\n",
       "    .dataframe tbody tr th:only-of-type {\n",
       "        vertical-align: middle;\n",
       "    }\n",
       "\n",
       "    .dataframe tbody tr th {\n",
       "        vertical-align: top;\n",
       "    }\n",
       "\n",
       "    .dataframe thead th {\n",
       "        text-align: right;\n",
       "    }\n",
       "</style>\n",
       "<table border=\"1\" class=\"dataframe\">\n",
       "  <thead>\n",
       "    <tr style=\"text-align: right;\">\n",
       "      <th></th>\n",
       "      <th>id</th>\n",
       "      <th>cadastro</th>\n",
       "      <th>compra</th>\n",
       "      <th>valor</th>\n",
       "      <th>id_dispositivo</th>\n",
       "      <th>fonte</th>\n",
       "      <th>browser</th>\n",
       "      <th>genero</th>\n",
       "      <th>idade</th>\n",
       "      <th>ip</th>\n",
       "      <th>fraude</th>\n",
       "      <th>pais</th>\n",
       "    </tr>\n",
       "  </thead>\n",
       "  <tbody>\n",
       "    <tr>\n",
       "      <th>0</th>\n",
       "      <td>22058</td>\n",
       "      <td>2015-02-24 22:55:49</td>\n",
       "      <td>2015-04-18 02:47:11</td>\n",
       "      <td>34</td>\n",
       "      <td>QVPSPJUOCKZAR</td>\n",
       "      <td>SEO</td>\n",
       "      <td>Chrome</td>\n",
       "      <td>M</td>\n",
       "      <td>39</td>\n",
       "      <td>7.327584e+08</td>\n",
       "      <td>0</td>\n",
       "      <td>Japan</td>\n",
       "    </tr>\n",
       "    <tr>\n",
       "      <th>1</th>\n",
       "      <td>333320</td>\n",
       "      <td>2015-06-07 20:39:50</td>\n",
       "      <td>2015-06-08 01:38:54</td>\n",
       "      <td>16</td>\n",
       "      <td>EOGFQPIZPYXFZ</td>\n",
       "      <td>Ads</td>\n",
       "      <td>Chrome</td>\n",
       "      <td>F</td>\n",
       "      <td>53</td>\n",
       "      <td>3.503114e+08</td>\n",
       "      <td>0</td>\n",
       "      <td>United States</td>\n",
       "    </tr>\n",
       "    <tr>\n",
       "      <th>2</th>\n",
       "      <td>1359</td>\n",
       "      <td>2015-01-01 18:52:44</td>\n",
       "      <td>2015-01-01 18:52:45</td>\n",
       "      <td>15</td>\n",
       "      <td>YSSKYOSJHPPLJ</td>\n",
       "      <td>SEO</td>\n",
       "      <td>Opera</td>\n",
       "      <td>M</td>\n",
       "      <td>53</td>\n",
       "      <td>2.621474e+09</td>\n",
       "      <td>1</td>\n",
       "      <td>United States</td>\n",
       "    </tr>\n",
       "    <tr>\n",
       "      <th>3</th>\n",
       "      <td>150084</td>\n",
       "      <td>2015-04-28 21:13:25</td>\n",
       "      <td>2015-05-04 13:54:50</td>\n",
       "      <td>44</td>\n",
       "      <td>ATGTXKYKUDUQN</td>\n",
       "      <td>SEO</td>\n",
       "      <td>Safari</td>\n",
       "      <td>M</td>\n",
       "      <td>41</td>\n",
       "      <td>3.840542e+09</td>\n",
       "      <td>0</td>\n",
       "      <td>missing_country</td>\n",
       "    </tr>\n",
       "    <tr>\n",
       "      <th>4</th>\n",
       "      <td>221365</td>\n",
       "      <td>2015-07-21 07:09:52</td>\n",
       "      <td>2015-09-09 18:40:53</td>\n",
       "      <td>39</td>\n",
       "      <td>NAUITBZFJKHWW</td>\n",
       "      <td>Ads</td>\n",
       "      <td>Safari</td>\n",
       "      <td>M</td>\n",
       "      <td>45</td>\n",
       "      <td>4.155831e+08</td>\n",
       "      <td>0</td>\n",
       "      <td>United States</td>\n",
       "    </tr>\n",
       "    <tr>\n",
       "      <th>5</th>\n",
       "      <td>159135</td>\n",
       "      <td>2015-05-21 06:03:03</td>\n",
       "      <td>2015-07-09 08:05:14</td>\n",
       "      <td>42</td>\n",
       "      <td>ALEYXFXINSXLZ</td>\n",
       "      <td>Ads</td>\n",
       "      <td>Chrome</td>\n",
       "      <td>M</td>\n",
       "      <td>18</td>\n",
       "      <td>2.809315e+09</td>\n",
       "      <td>0</td>\n",
       "      <td>Canada</td>\n",
       "    </tr>\n",
       "    <tr>\n",
       "      <th>6</th>\n",
       "      <td>50116</td>\n",
       "      <td>2015-08-01 22:40:52</td>\n",
       "      <td>2015-08-27 03:37:57</td>\n",
       "      <td>11</td>\n",
       "      <td>IWKVZHJOCLPUR</td>\n",
       "      <td>Ads</td>\n",
       "      <td>Chrome</td>\n",
       "      <td>F</td>\n",
       "      <td>19</td>\n",
       "      <td>3.987484e+09</td>\n",
       "      <td>0</td>\n",
       "      <td>missing_country</td>\n",
       "    </tr>\n",
       "    <tr>\n",
       "      <th>7</th>\n",
       "      <td>360585</td>\n",
       "      <td>2015-04-06 07:35:45</td>\n",
       "      <td>2015-05-25 17:21:14</td>\n",
       "      <td>27</td>\n",
       "      <td>HPUCUYLMJBYFW</td>\n",
       "      <td>Ads</td>\n",
       "      <td>Opera</td>\n",
       "      <td>M</td>\n",
       "      <td>34</td>\n",
       "      <td>1.692459e+09</td>\n",
       "      <td>0</td>\n",
       "      <td>United States</td>\n",
       "    </tr>\n",
       "    <tr>\n",
       "      <th>8</th>\n",
       "      <td>159045</td>\n",
       "      <td>2015-04-21 23:38:34</td>\n",
       "      <td>2015-06-02 14:01:54</td>\n",
       "      <td>30</td>\n",
       "      <td>ILXYDOZIHOOHT</td>\n",
       "      <td>SEO</td>\n",
       "      <td>IE</td>\n",
       "      <td>F</td>\n",
       "      <td>43</td>\n",
       "      <td>3.719094e+09</td>\n",
       "      <td>0</td>\n",
       "      <td>China</td>\n",
       "    </tr>\n",
       "    <tr>\n",
       "      <th>9</th>\n",
       "      <td>182338</td>\n",
       "      <td>2015-01-25 17:49:49</td>\n",
       "      <td>2015-03-23 23:05:42</td>\n",
       "      <td>62</td>\n",
       "      <td>NRFFPPHZYFUVC</td>\n",
       "      <td>Ads</td>\n",
       "      <td>IE</td>\n",
       "      <td>M</td>\n",
       "      <td>31</td>\n",
       "      <td>3.416747e+08</td>\n",
       "      <td>0</td>\n",
       "      <td>United States</td>\n",
       "    </tr>\n",
       "  </tbody>\n",
       "</table>\n",
       "</div>"
      ],
      "text/plain": [
       "       id             cadastro               compra  valor id_dispositivo  \\\n",
       "0   22058  2015-02-24 22:55:49  2015-04-18 02:47:11     34  QVPSPJUOCKZAR   \n",
       "1  333320  2015-06-07 20:39:50  2015-06-08 01:38:54     16  EOGFQPIZPYXFZ   \n",
       "2    1359  2015-01-01 18:52:44  2015-01-01 18:52:45     15  YSSKYOSJHPPLJ   \n",
       "3  150084  2015-04-28 21:13:25  2015-05-04 13:54:50     44  ATGTXKYKUDUQN   \n",
       "4  221365  2015-07-21 07:09:52  2015-09-09 18:40:53     39  NAUITBZFJKHWW   \n",
       "5  159135  2015-05-21 06:03:03  2015-07-09 08:05:14     42  ALEYXFXINSXLZ   \n",
       "6   50116  2015-08-01 22:40:52  2015-08-27 03:37:57     11  IWKVZHJOCLPUR   \n",
       "7  360585  2015-04-06 07:35:45  2015-05-25 17:21:14     27  HPUCUYLMJBYFW   \n",
       "8  159045  2015-04-21 23:38:34  2015-06-02 14:01:54     30  ILXYDOZIHOOHT   \n",
       "9  182338  2015-01-25 17:49:49  2015-03-23 23:05:42     62  NRFFPPHZYFUVC   \n",
       "\n",
       "  fonte browser genero  idade            ip  fraude             pais  \n",
       "0   SEO  Chrome      M     39  7.327584e+08       0            Japan  \n",
       "1   Ads  Chrome      F     53  3.503114e+08       0    United States  \n",
       "2   SEO   Opera      M     53  2.621474e+09       1    United States  \n",
       "3   SEO  Safari      M     41  3.840542e+09       0  missing_country  \n",
       "4   Ads  Safari      M     45  4.155831e+08       0    United States  \n",
       "5   Ads  Chrome      M     18  2.809315e+09       0           Canada  \n",
       "6   Ads  Chrome      F     19  3.987484e+09       0  missing_country  \n",
       "7   Ads   Opera      M     34  1.692459e+09       0    United States  \n",
       "8   SEO      IE      F     43  3.719094e+09       0            China  \n",
       "9   Ads      IE      M     31  3.416747e+08       0    United States  "
      ]
     },
     "execution_count": 166,
     "metadata": {},
     "output_type": "execute_result"
    }
   ],
   "source": [
    "transacoes.head(10)"
   ]
  },
  {
   "cell_type": "markdown",
   "id": "05989d2c-34cd-40ce-a916-c76404ad2c25",
   "metadata": {},
   "source": [
    "Vou salvar esse dataframe porque ele é bem grande e para não precisar demorar quase 20 minutos toda vez:"
   ]
  },
  {
   "cell_type": "code",
   "execution_count": 168,
   "id": "97af1ca9-a209-48db-8697-22df6141e098",
   "metadata": {},
   "outputs": [],
   "source": [
    "transacoes.to_csv('./dados/Transacoes_Fraudes.csv', index=False)"
   ]
  },
  {
   "cell_type": "markdown",
   "id": "2d43d29d-2ee4-436e-941b-e6bb16628b96",
   "metadata": {},
   "source": [
    "Agora vou testar a leitura deste arquivo:"
   ]
  },
  {
   "cell_type": "code",
   "execution_count": 169,
   "id": "1c9cba29-b2e9-4944-a98a-3864e9f1f99b",
   "metadata": {},
   "outputs": [
    {
     "data": {
      "text/html": [
       "<div>\n",
       "<style scoped>\n",
       "    .dataframe tbody tr th:only-of-type {\n",
       "        vertical-align: middle;\n",
       "    }\n",
       "\n",
       "    .dataframe tbody tr th {\n",
       "        vertical-align: top;\n",
       "    }\n",
       "\n",
       "    .dataframe thead th {\n",
       "        text-align: right;\n",
       "    }\n",
       "</style>\n",
       "<table border=\"1\" class=\"dataframe\">\n",
       "  <thead>\n",
       "    <tr style=\"text-align: right;\">\n",
       "      <th></th>\n",
       "      <th>id</th>\n",
       "      <th>cadastro</th>\n",
       "      <th>compra</th>\n",
       "      <th>valor</th>\n",
       "      <th>id_dispositivo</th>\n",
       "      <th>fonte</th>\n",
       "      <th>browser</th>\n",
       "      <th>genero</th>\n",
       "      <th>idade</th>\n",
       "      <th>ip</th>\n",
       "      <th>fraude</th>\n",
       "      <th>pais</th>\n",
       "    </tr>\n",
       "  </thead>\n",
       "  <tbody>\n",
       "    <tr>\n",
       "      <th>0</th>\n",
       "      <td>22058</td>\n",
       "      <td>2015-02-24 22:55:49</td>\n",
       "      <td>2015-04-18 02:47:11</td>\n",
       "      <td>34</td>\n",
       "      <td>QVPSPJUOCKZAR</td>\n",
       "      <td>SEO</td>\n",
       "      <td>Chrome</td>\n",
       "      <td>M</td>\n",
       "      <td>39</td>\n",
       "      <td>7.327584e+08</td>\n",
       "      <td>0</td>\n",
       "      <td>Japan</td>\n",
       "    </tr>\n",
       "    <tr>\n",
       "      <th>1</th>\n",
       "      <td>333320</td>\n",
       "      <td>2015-06-07 20:39:50</td>\n",
       "      <td>2015-06-08 01:38:54</td>\n",
       "      <td>16</td>\n",
       "      <td>EOGFQPIZPYXFZ</td>\n",
       "      <td>Ads</td>\n",
       "      <td>Chrome</td>\n",
       "      <td>F</td>\n",
       "      <td>53</td>\n",
       "      <td>3.503114e+08</td>\n",
       "      <td>0</td>\n",
       "      <td>United States</td>\n",
       "    </tr>\n",
       "    <tr>\n",
       "      <th>2</th>\n",
       "      <td>1359</td>\n",
       "      <td>2015-01-01 18:52:44</td>\n",
       "      <td>2015-01-01 18:52:45</td>\n",
       "      <td>15</td>\n",
       "      <td>YSSKYOSJHPPLJ</td>\n",
       "      <td>SEO</td>\n",
       "      <td>Opera</td>\n",
       "      <td>M</td>\n",
       "      <td>53</td>\n",
       "      <td>2.621474e+09</td>\n",
       "      <td>1</td>\n",
       "      <td>United States</td>\n",
       "    </tr>\n",
       "    <tr>\n",
       "      <th>3</th>\n",
       "      <td>150084</td>\n",
       "      <td>2015-04-28 21:13:25</td>\n",
       "      <td>2015-05-04 13:54:50</td>\n",
       "      <td>44</td>\n",
       "      <td>ATGTXKYKUDUQN</td>\n",
       "      <td>SEO</td>\n",
       "      <td>Safari</td>\n",
       "      <td>M</td>\n",
       "      <td>41</td>\n",
       "      <td>3.840542e+09</td>\n",
       "      <td>0</td>\n",
       "      <td>missing_country</td>\n",
       "    </tr>\n",
       "    <tr>\n",
       "      <th>4</th>\n",
       "      <td>221365</td>\n",
       "      <td>2015-07-21 07:09:52</td>\n",
       "      <td>2015-09-09 18:40:53</td>\n",
       "      <td>39</td>\n",
       "      <td>NAUITBZFJKHWW</td>\n",
       "      <td>Ads</td>\n",
       "      <td>Safari</td>\n",
       "      <td>M</td>\n",
       "      <td>45</td>\n",
       "      <td>4.155831e+08</td>\n",
       "      <td>0</td>\n",
       "      <td>United States</td>\n",
       "    </tr>\n",
       "    <tr>\n",
       "      <th>5</th>\n",
       "      <td>159135</td>\n",
       "      <td>2015-05-21 06:03:03</td>\n",
       "      <td>2015-07-09 08:05:14</td>\n",
       "      <td>42</td>\n",
       "      <td>ALEYXFXINSXLZ</td>\n",
       "      <td>Ads</td>\n",
       "      <td>Chrome</td>\n",
       "      <td>M</td>\n",
       "      <td>18</td>\n",
       "      <td>2.809315e+09</td>\n",
       "      <td>0</td>\n",
       "      <td>Canada</td>\n",
       "    </tr>\n",
       "    <tr>\n",
       "      <th>6</th>\n",
       "      <td>50116</td>\n",
       "      <td>2015-08-01 22:40:52</td>\n",
       "      <td>2015-08-27 03:37:57</td>\n",
       "      <td>11</td>\n",
       "      <td>IWKVZHJOCLPUR</td>\n",
       "      <td>Ads</td>\n",
       "      <td>Chrome</td>\n",
       "      <td>F</td>\n",
       "      <td>19</td>\n",
       "      <td>3.987484e+09</td>\n",
       "      <td>0</td>\n",
       "      <td>missing_country</td>\n",
       "    </tr>\n",
       "    <tr>\n",
       "      <th>7</th>\n",
       "      <td>360585</td>\n",
       "      <td>2015-04-06 07:35:45</td>\n",
       "      <td>2015-05-25 17:21:14</td>\n",
       "      <td>27</td>\n",
       "      <td>HPUCUYLMJBYFW</td>\n",
       "      <td>Ads</td>\n",
       "      <td>Opera</td>\n",
       "      <td>M</td>\n",
       "      <td>34</td>\n",
       "      <td>1.692459e+09</td>\n",
       "      <td>0</td>\n",
       "      <td>United States</td>\n",
       "    </tr>\n",
       "    <tr>\n",
       "      <th>8</th>\n",
       "      <td>159045</td>\n",
       "      <td>2015-04-21 23:38:34</td>\n",
       "      <td>2015-06-02 14:01:54</td>\n",
       "      <td>30</td>\n",
       "      <td>ILXYDOZIHOOHT</td>\n",
       "      <td>SEO</td>\n",
       "      <td>IE</td>\n",
       "      <td>F</td>\n",
       "      <td>43</td>\n",
       "      <td>3.719094e+09</td>\n",
       "      <td>0</td>\n",
       "      <td>China</td>\n",
       "    </tr>\n",
       "    <tr>\n",
       "      <th>9</th>\n",
       "      <td>182338</td>\n",
       "      <td>2015-01-25 17:49:49</td>\n",
       "      <td>2015-03-23 23:05:42</td>\n",
       "      <td>62</td>\n",
       "      <td>NRFFPPHZYFUVC</td>\n",
       "      <td>Ads</td>\n",
       "      <td>IE</td>\n",
       "      <td>M</td>\n",
       "      <td>31</td>\n",
       "      <td>3.416747e+08</td>\n",
       "      <td>0</td>\n",
       "      <td>United States</td>\n",
       "    </tr>\n",
       "  </tbody>\n",
       "</table>\n",
       "</div>"
      ],
      "text/plain": [
       "       id             cadastro               compra  valor id_dispositivo  \\\n",
       "0   22058  2015-02-24 22:55:49  2015-04-18 02:47:11     34  QVPSPJUOCKZAR   \n",
       "1  333320  2015-06-07 20:39:50  2015-06-08 01:38:54     16  EOGFQPIZPYXFZ   \n",
       "2    1359  2015-01-01 18:52:44  2015-01-01 18:52:45     15  YSSKYOSJHPPLJ   \n",
       "3  150084  2015-04-28 21:13:25  2015-05-04 13:54:50     44  ATGTXKYKUDUQN   \n",
       "4  221365  2015-07-21 07:09:52  2015-09-09 18:40:53     39  NAUITBZFJKHWW   \n",
       "5  159135  2015-05-21 06:03:03  2015-07-09 08:05:14     42  ALEYXFXINSXLZ   \n",
       "6   50116  2015-08-01 22:40:52  2015-08-27 03:37:57     11  IWKVZHJOCLPUR   \n",
       "7  360585  2015-04-06 07:35:45  2015-05-25 17:21:14     27  HPUCUYLMJBYFW   \n",
       "8  159045  2015-04-21 23:38:34  2015-06-02 14:01:54     30  ILXYDOZIHOOHT   \n",
       "9  182338  2015-01-25 17:49:49  2015-03-23 23:05:42     62  NRFFPPHZYFUVC   \n",
       "\n",
       "  fonte browser genero  idade            ip  fraude             pais  \n",
       "0   SEO  Chrome      M     39  7.327584e+08       0            Japan  \n",
       "1   Ads  Chrome      F     53  3.503114e+08       0    United States  \n",
       "2   SEO   Opera      M     53  2.621474e+09       1    United States  \n",
       "3   SEO  Safari      M     41  3.840542e+09       0  missing_country  \n",
       "4   Ads  Safari      M     45  4.155831e+08       0    United States  \n",
       "5   Ads  Chrome      M     18  2.809315e+09       0           Canada  \n",
       "6   Ads  Chrome      F     19  3.987484e+09       0  missing_country  \n",
       "7   Ads   Opera      M     34  1.692459e+09       0    United States  \n",
       "8   SEO      IE      F     43  3.719094e+09       0            China  \n",
       "9   Ads      IE      M     31  3.416747e+08       0    United States  "
      ]
     },
     "execution_count": 169,
     "metadata": {},
     "output_type": "execute_result"
    }
   ],
   "source": [
    "transacoes = pd.read_csv('./dados/Transacoes_Fraudes.csv', header = 0)\n",
    "transacoes.head(10)"
   ]
  },
  {
   "cell_type": "markdown",
   "id": "6e61cba3-f75b-4e52-a820-d5ed424cdf27",
   "metadata": {},
   "source": [
    "Bom deu certo até aqui. Agora vou criar outro notebook para realizar análise em cima dos dados das transacoes."
   ]
  },
  {
   "cell_type": "code",
   "execution_count": null,
   "id": "a48bf83c-a3f7-4b2f-8db7-077125c168d7",
   "metadata": {},
   "outputs": [],
   "source": []
  }
 ],
 "metadata": {
  "kernelspec": {
   "display_name": "Python 3",
   "language": "python",
   "name": "python3"
  },
  "language_info": {
   "codemirror_mode": {
    "name": "ipython",
    "version": 3
   },
   "file_extension": ".py",
   "mimetype": "text/x-python",
   "name": "python",
   "nbconvert_exporter": "python",
   "pygments_lexer": "ipython3",
   "version": "3.7.9"
  }
 },
 "nbformat": 4,
 "nbformat_minor": 5
}
